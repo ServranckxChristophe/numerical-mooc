{
 "cells": [
  {
   "cell_type": "markdown",
   "metadata": {},
   "source": [
    "## Travail Personnel 2 : \" Traffic flow \".\n",
    "\n",
    "---\n",
    "\n",
    "\n",
    "L'objectif de ce nouveau travail personnel est de réussir à modéliser et à décrire le système qu'est le flux de la circulation sur une route à une seule voie.\n",
    "\n",
    "Pour se faire, nous nous plaçerons ici dans le cas d'un trafic instable pour lequel nous pouvons utiliser l'équation de convection non-linéaire de la densité de voiture. En outre, nous procèderons à 2 simulations distingues afin de mieux comprendre l'évolution de notre système sous différente conditions initiales (CI) et aux bords/limites (CL) pour la densité de trafic. Nous aurons ainsi les 2 ensemble de conditions suivant :\n",
    "\n",
    "Première simulation :\n",
    "\n",
    "$$\n",
    "\\left.\n",
    "    \\begin{array}{ll}\n",
    "         & x = numpy.linspace(0,L,nx)\\\\\n",
    "         & rho0  = numpy.ones(nx).10\\\\\n",
    "         & rho0[10:20]  = 50\\\\\n",
    "    \\end{array}\n",
    "\\right \\} \\text{  (CI) }\n",
    "$$\n",
    "\n",
    "\n",
    "$$\n",
    "\\left.\n",
    "    \\begin{array}{ll}\n",
    "         & \\rho(0,t) = 10\n",
    "    \\end{array}\n",
    "\\right \\} \\text{  (CL)}\n",
    "$$\n",
    "\n",
    "Seconde simulation :\n",
    "\n",
    "$$\n",
    "\\left.\n",
    "    \\begin{array}{ll}\n",
    "         & x = numpy.linspace(0,L,nx)\\\\\n",
    "         & rho0  = numpy.ones(nx).20\\\\\n",
    "         & rho0[10:20]  = 50\\\\\n",
    "    \\end{array}\n",
    "\\right \\} \\text{  (CI) }\n",
    "$$\n",
    "\n",
    "\n",
    "$$\n",
    "\\left.\n",
    "    \\begin{array}{ll}\n",
    "         & \\rho(0,t) = 20\n",
    "    \\end{array}\n",
    "\\right \\} \\text{  (CL)}\n",
    "$$\n",
    "\n",
    "Commençons sans plus tarder par le traitement de nos équations."
   ]
  },
  {
   "cell_type": "markdown",
   "metadata": {},
   "source": [
    "##### 1. Réécriture de l'équation de convection non-linéaire de la densité de voiture.\n",
    "---\n",
    "\n",
    "Dans la partie théorique de l'énoncé de ce travail, nous avons vu que le flux, instable, de trafic peut-être modélisé comme la convection non-linéaire de la densité de voiture. Il en découllait donc pour notre problème:\n",
    "\n",
    "\\begin{align}\n",
    "\\frac{\\partial \\rho}{\\partial t} + \\frac{\\partial F}{\\partial \\rho} \\frac{\\partial \\rho}{\\partial x} = 0\\\\\n",
    "\\end{align}\n",
    "\n",
    "\n",
    "où\n",
    "\n",
    "\\begin{align}\n",
    "F = V(\\rho) \\rho = V_{max} \\rho (1- \\frac{\\rho}{\\rho_{max}})\n",
    "\\end{align}\n",
    "\n",
    "Avec,\n",
    "\n",
    "$$\n",
    "\\left\\{\n",
    "    \\begin{array}{ll}\n",
    "        &.V  \\text{, la vitesse de circulation (en km/h)} \\\\\n",
    "        &.V_{max}  \\text{, vitesse maximale que peuvent atteindre les}\\\\\n",
    "        &\\hspace{0.9cm}  \\text{voiture lorsque $\\rho→0$}\\\\\n",
    "        &.\\rho \\text{, la densité de trafic, c'est à dire le nombre de voiture}\\\\\n",
    "        &\\hspace{0.9cm}  \\text{par unité de longueur de la route (en voiture/km)}\\\\\n",
    "        &. \\rho_{max},  \\text{la densité maximale atteinte lorsque les voiture}\\\\\n",
    "        &\\hspace{0.9cm}  \\text{sont \"pare-chocs contre pare-chocs\", et à laquelle}\\\\\n",
    "        &\\hspace{0.9cm}  \\text{correspond une vitesse nulle}\n",
    "    \\end{array}\n",
    "\\right.\n",
    "$$\n",
    "\n",
    "En appliquant la $règle\\ de\\ la\\ chaîne^{1}$ sur l'équation (1), nous obtenons alors: \n",
    "\n",
    "\\begin{align}\n",
    "\\frac{\\partial \\rho}{\\partial t} + \\frac{\\partial F}{\\partial x} = 0\\\\\n",
    "\\end{align}\n",
    "\n",
    "\n",
    "---\n",
    "###### [1]. La règle de dérivation des fonctions composées ou \"règle de la chaîne\" s'énonce comme suit : Soit f une fonction dérivable en a et g dérivable en f(a). Alors la composition g o f est dérivable en a et on a : $(g◦f)'(a) = g'(f(a)) f'(a)$ ou dans la notation de Leibniz si $y=f(x)$ et $u=g(y)$ alors : $\\frac{du}{dx}=\\frac{du}{dy} \\frac{dy}{dx}$\n"
   ]
  },
  {
   "cell_type": "markdown",
   "metadata": {},
   "source": [
    "Passons à présent à la discrétisation de l'équation (1). Calculons tout dabord la dérivée $\\frac{\\partial F}{\\partial \\rho}$. Pour se faire nous allons utiliser l'une des fonctionnalités proposées par $sympy^{2}$ à savoir le calcul d'une dérivée partielle. \n",
    "\n",
    "Commençons donc par importer la librairie sympy.\n",
    "\n",
    "---\n",
    "###### [2] . Sympy est une librairie pour python qui propose de nombreuse fonctionnalités similaires à celle proposée par Mathematica tel que le calcul de dérivée, d'integrale, etc."
   ]
  },
  {
   "cell_type": "code",
   "execution_count": 15,
   "metadata": {
    "collapsed": true
   },
   "outputs": [],
   "source": [
    "# Import de la libraire.\n",
    "import sympy\n",
    "\n",
    "# Permet le renvois des résultats dans le style \"LaTeX\".\n",
    "from sympy import init_printing\n",
    "init_printing()"
   ]
  },
  {
   "cell_type": "markdown",
   "metadata": {},
   "source": [
    "Définissons à présent nos variables, l'expression de F (donnée par l'équation (2) ) et calculons enfin sa dérivée par rapport à $\\rho$."
   ]
  },
  {
   "cell_type": "code",
   "execution_count": 16,
   "metadata": {
    "collapsed": false
   },
   "outputs": [
    {
     "data": {
      "image/png": "[encoded data removed]",
      "text/latex": [
       "$$- \\frac{\\rho v_{max}}{\\rho_{max}} + v_{max} \\left(- \\frac{\\rho}{\\rho_{max}} + 1\\right)$$"
      ],
      "text/plain": [
       "  ρ⋅vₘₐₓ        ⎛   ρ      ⎞\n",
       "- ────── + vₘₐₓ⋅⎜- ──── + 1⎟\n",
       "   ρₘₐₓ         ⎝  ρₘₐₓ    ⎠"
      ]
     },
     "execution_count": 16,
     "metadata": {},
     "output_type": "execute_result"
    }
   ],
   "source": [
    "# On définit nos variables.\n",
    "v_max, rho, rho_max = sympy.symbols('v_max rho rho_max')\n",
    "\n",
    "# Expression de F.\n",
    "F = v_max*rho*(-(rho/rho_max)+1)\n",
    "\n",
    "# Calcul de la dérivée.\n",
    "Fprime = F.diff(rho)\n",
    "\n",
    "# Affichage du résultat.\n",
    "Fprime"
   ]
  },
  {
   "cell_type": "markdown",
   "metadata": {},
   "source": [
    "Nous pouvons réexprimer ceci en mettant $v_{max}$ en évidence et en simplifiant quelque peu les sommes:\n",
    "\n",
    "\n",
    "$\\hspace{2.5cm}\\frac{- \\rho v_{max}}{\\rho_{max}}+ v_{max}(- \\frac{\\rho}{\\rho_{max}}+1)$ → $v_{max}(1- \\frac{2 \\rho}{\\rho_{max}})$\n",
    "\n",
    "Ainsi, nous avons obtenu grâce à sympy :\n",
    "\n",
    "\\begin{equation}\n",
    "\\frac{\\partial F}{\\partial \\rho} = v_{max}(1- \\frac{2 \\rho}{\\rho_{max}}) \n",
    "\\end{equation}\n",
    "\n",
    "Et l'équation (1) devient alors :\n",
    "\n",
    "\\begin{equation}\n",
    "\\frac{\\partial \\rho}{\\partial t} + v_{max}(1- \\frac{2 \\rho}{\\rho_{max}})  \\frac{\\partial \\rho}{\\partial x} = 0\\\\\n",
    "\\end{equation}\n",
    "\n",
    "Nous pouvons à présent passer à la discrétisation de notre equation de convection et ceci afin de pouvoir résoudre numériquement notre problème. Pour se faire, nous utilisons comme demandé dans l'énoncé de ce travail personnel, la \"forward-difference\" pour la dérivée par rapport au temps et la \"backward-difference\" pour la dérivée par rapport à l'espace (ici, par rapport à x comme nous travaillons avec une équation à 1 dimension).\n",
    "\n",
    "Pour rappel, les discrétisations \"forward-difference\" et \"backward-difference\" de la dérivée partielle $\\partial u/ \\partial x$ (par exemple) sont données par :\n",
    "\n",
    "* Forward-difference: si on utilise les points $x_i$ et $x_i + \\Delta x$ alors la dérivée devient : $\\frac{\\partial u}{\\partial x} \\approx \\frac{u(x_{i+1})-u(x_i)}{\\Delta x}$.\n",
    "* Backward-difference: si on utilise les points $x_i$ et $x_i- \\Delta x$ alors la dérivée devient : $\\frac{\\partial u}{\\partial x} \\approx \\frac{u(x_i)-u(x_{i-1})}{\\Delta x}$.\n",
    "\n",
    "Donc en appliquant ces deux discrétisations à l'équation (5) il en découle l'équation suivante:\n",
    "\n",
    "\\begin{equation}\\frac{\\rho_i^{n+1}-\\rho_i^n}{\\Delta t} + v_{max}(1- \\frac{2 \\rho_i^{n}}{\\rho_{max}}) \\frac{\\rho_i^n - \\rho_{i-1}^n}{\\Delta x} = 0, \\end{equation}\n",
    "\n",
    "Où la seule inconnue est $\\rho_i^{n+1}$ étant donné nos conditions initiales. En isolant cette inconnue nous obtenons :\n",
    "\n",
    "\\begin{equation}\n",
    "\\rho_i^{n+1}= \\rho_i^{n}-\\frac{\\Delta t}{\\Delta x} v_{max}(1- \\frac{2 \\rho_i^{n}}{\\rho_{max}}) (\\rho_i^n - \\rho_{i-1}^n)\n",
    "\\end{equation}\n",
    "\n",
    "Que nous pouvons maintenant traiter numériquement."
   ]
  },
  {
   "cell_type": "markdown",
   "metadata": {},
   "source": [
    "---\n",
    "\n",
    "##### 2.  PARTIE A\n",
    "---"
   ]
  },
  {
   "cell_type": "code",
   "execution_count": 3,
   "metadata": {
    "collapsed": false
   },
   "outputs": [
    {
     "name": "stdout",
     "output_type": "stream",
     "text": [
      "-rho*v_max/rho_max + v_max*(-rho/rho_max + 1)\n"
     ]
    }
   ],
   "source": [
    "print(Fprime)"
   ]
  },
  {
   "cell_type": "code",
   "execution_count": 4,
   "metadata": {
    "collapsed": true
   },
   "outputs": [],
   "source": [
    "import numpy\n",
    "from matplotlib import pyplot\n",
    "%matplotlib inline\n",
    "from matplotlib import rcParams\n",
    "rcParams['font.family'] = 'serif'\n",
    "rcParams['font.size'] = 16"
   ]
  },
  {
   "cell_type": "markdown",
   "metadata": {
    "collapsed": true
   },
   "source": [
    "Après conversion des données dans les unités du Système International:"
   ]
  },
  {
   "cell_type": "code",
   "execution_count": 5,
   "metadata": {
    "collapsed": false
   },
   "outputs": [
    {
     "name": "stdout",
     "output_type": "stream",
     "text": [
      "0.04\n"
     ]
    }
   ],
   "source": [
    "# Déclaration des variables\n",
    "\n",
    "v_max = 80  # en m/s\n",
    "L     = 11       # en m\n",
    "rho_max = 250     # en voitures/m\n",
    "nx    = 51\n",
    "nt    = 101\n",
    "dt    = .001     # en s\n",
    "dx= 2/(nx-1)\n",
    "\n",
    "print(dx)"
   ]
  },
  {
   "cell_type": "markdown",
   "metadata": {},
   "source": [
    "affichage de la vague"
   ]
  },
  {
   "cell_type": "code",
   "execution_count": 6,
   "metadata": {
    "collapsed": false,
    "scrolled": false
   },
   "outputs": [
    {
     "name": "stdout",
     "output_type": "stream",
     "text": [
      "[ 10.  10.  10.  10.  10.  10.  10.  10.  10.  10.  50.  50.  50.  50.  50.\n",
      "  50.  50.  50.  50.  50.  10.  10.  10.  10.  10.  10.  10.  10.  10.  10.\n",
      "  10.  10.  10.  10.  10.  10.  10.  10.  10.  10.  10.  10.  10.  10.  10.\n",
      "  10.  10.  10.  10.  10.  10.]\n"
     ]
    }
   ],
   "source": [
    "# Conditions initiales pour la densité de trafic:\n",
    "\n",
    "x = numpy.linspace(0,L,nx)\n",
    "rho0 = numpy.ones(nx)*10\n",
    "rho0[10:20] = 50\n",
    "print(rho0)"
   ]
  },
  {
   "cell_type": "code",
   "execution_count": 7,
   "metadata": {
    "collapsed": false
   },
   "outputs": [
    {
     "data": {
      "image/png": "[encoded data removed]",
      "text/plain": [
       "<matplotlib.figure.Figure at 0x7f52b3e343c8>"
      ]
     },
     "metadata": {},
     "output_type": "display_data"
    }
   ],
   "source": [
    "pyplot.ylabel('$densité$'' ''$m^{-1}$', fontsize=24) # nom de l'axe x & taille de la police\n",
    "pyplot.xlabel('$Position$'' ''$x(km)$', fontsize=24) # nom de l'axe y & taille de la police\n",
    "pyplot.plot(x, rho0, color='#003366', ls='--', lw=3)\n",
    "pyplot.ylim(0,55);"
   ]
  },
  {
   "cell_type": "code",
   "execution_count": 8,
   "metadata": {
    "collapsed": false
   },
   "outputs": [],
   "source": [
    "def v(rho):\n",
    "\n",
    "    return v_max*(1-(rho0/rho_max))"
   ]
  },
  {
   "cell_type": "code",
   "execution_count": 9,
   "metadata": {
    "collapsed": false
   },
   "outputs": [
    {
     "name": "stdout",
     "output_type": "stream",
     "text": [
      "[ 76.8  76.8  76.8  76.8  76.8  76.8  76.8  76.8  76.8  76.8  64.   64.\n",
      "  64.   64.   64.   64.   64.   64.   64.   64.   76.8  76.8  76.8  76.8\n",
      "  76.8  76.8  76.8  76.8  76.8  76.8  76.8  76.8  76.8  76.8  76.8  76.8\n",
      "  76.8  76.8  76.8  76.8  76.8  76.8  76.8  76.8  76.8  76.8  76.8  76.8\n",
      "  76.8  76.8  76.8]\n"
     ]
    }
   ],
   "source": [
    "print (v(rho0))"
   ]
  },
  {
   "cell_type": "code",
   "execution_count": 10,
   "metadata": {
    "collapsed": false
   },
   "outputs": [
    {
     "name": "stdout",
     "output_type": "stream",
     "text": [
      "17.77777777777778\n"
     ]
    }
   ],
   "source": [
    "s= 64*10/36\n",
    "print(s)\n"
   ]
  },
  {
   "cell_type": "code",
   "execution_count": 11,
   "metadata": {
    "collapsed": false
   },
   "outputs": [],
   "source": [
    "#for n in range(1,nt):           # boucle temporelle \n",
    "#    rho_n = rho0.copy()  \n",
    "   \n",
    "#    for i in range(1,nx):       # boucle spatiale \n",
    "#        rho0[i] = rho_n[i]-dt/dx*v_max*(1-((2/rho_max)*rho_n[i]))*(rho_n[i]-rho_n[i-1])"
   ]
  },
  {
   "cell_type": "code",
   "execution_count": 12,
   "metadata": {
    "collapsed": false
   },
   "outputs": [
    {
     "name": "stderr",
     "output_type": "stream",
     "text": [
      "/serveur/logiciels/anaconda3/lib/python3.4/site-packages/ipykernel/__main__.py:3: RuntimeWarning: overflow encountered in multiply\n",
      "  app.launch_new_instance()\n",
      "/serveur/logiciels/anaconda3/lib/python3.4/site-packages/ipykernel/__main__.py:3: RuntimeWarning: invalid value encountered in subtract\n",
      "  app.launch_new_instance()\n"
     ]
    }
   ],
   "source": [
    "for n in range(1, nt):  \n",
    "    rhon = rho0.copy() \n",
    "    rho0[1:] = rhon[1:]-((dt/dx)*v_max*(1-((2/rho_max)*rhon[1:]))*(rhon[1:]-rhon[0:-1]))\n",
    "    rho0[0]=10    # Notre condition au bord"
   ]
  },
  {
   "cell_type": "code",
   "execution_count": 13,
   "metadata": {
    "collapsed": false
   },
   "outputs": [
    {
     "data": {
      "image/png": "[encoded data removed]",
      "text/plain": [
       "<matplotlib.figure.Figure at 0x7f52b38e8fd0>"
      ]
     },
     "metadata": {},
     "output_type": "display_data"
    }
   ],
   "source": [
    "pyplot.plot(x, rho0, color='#003366', ls='--', lw=3)\n",
    "pyplot.ylim(0,100);"
   ]
  },
  {
   "cell_type": "markdown",
   "metadata": {},
   "source": [
    "##### Source:\n",
    "\n",
    "\n",
    "[1] Cours de MATH-F-101 (Calcul Différentiel et Intégral 1) présenté par M. Joel Fine et M. Denis Bonheure à l'ULB."
   ]
  },
  {
   "cell_type": "markdown",
   "metadata": {},
   "source": [
    "---\n",
    "\n",
    "###### The cell below loads the style of the notebook."
   ]
  },
  {
   "cell_type": "code",
   "execution_count": 14,
   "metadata": {
    "collapsed": false
   },
   "outputs": [
    {
     "data": {
      "text/html": [
       "<link href='http://fonts.googleapis.com/css?family=Alegreya+Sans:100,300,400,500,700,800,900,100italic,300italic,400italic,500italic,700italic,800italic,900italic' rel='stylesheet' type='text/css'>\n",
       "<link href='http://fonts.googleapis.com/css?family=Arvo:400,700,400italic' rel='stylesheet' type='text/css'>\n",
       "<link href='http://fonts.googleapis.com/css?family=PT+Mono' rel='stylesheet' type='text/css'>\n",
       "<link href='http://fonts.googleapis.com/css?family=Shadows+Into+Light' rel='stylesheet' type='text/css'>\n",
       "<link href='http://fonts.googleapis.com/css?family=Nixie+One' rel='stylesheet' type='text/css'>\n",
       "<link href='https://fonts.googleapis.com/css?family=Source+Code+Pro' rel='stylesheet' type='text/css'>\n",
       "<style>\n",
       "\n",
       "@font-face {\n",
       "    font-family: \"Computer Modern\";\n",
       "    src: url('http://mirrors.ctan.org/fonts/cm-unicode/fonts/otf/cmunss.otf');\n",
       "}\n",
       "\n",
       "#notebook_panel { /* main background */\n",
       "    background: rgb(245,245,245);\n",
       "}\n",
       "\n",
       "div.cell { /* set cell width */\n",
       "    width: 750px;\n",
       "}\n",
       "\n",
       "div #notebook { /* centre the content */\n",
       "    background: #fff; /* white background for content */\n",
       "    width: 1000px;\n",
       "    margin: auto;\n",
       "    padding-left: 0em;\n",
       "}\n",
       "\n",
       "#notebook li { /* More space between bullet points */\n",
       "    margin-top:0.8em;\n",
       "}\n",
       "\n",
       "/* draw border around running cells */\n",
       "div.cell.border-box-sizing.code_cell.running { \n",
       "    border: 1px solid #111;\n",
       "}\n",
       "\n",
       "/* Put a solid color box around each cell and its output, visually linking them*/\n",
       "div.cell.code_cell {\n",
       "    background-color: rgb(256,256,256); \n",
       "    border-radius: 0px; \n",
       "    padding: 0.5em;\n",
       "    margin-left:1em;\n",
       "    margin-top: 1em;\n",
       "}\n",
       "\n",
       "div.text_cell_render{\n",
       "    font-family: 'Alegreya Sans' sans-serif;\n",
       "    line-height: 140%;\n",
       "    font-size: 125%;\n",
       "    font-weight: 400;\n",
       "    width:600px;\n",
       "    margin-left:auto;\n",
       "    margin-right:auto;\n",
       "}\n",
       "\n",
       "\n",
       "/* Formatting for header cells */\n",
       ".text_cell_render h1 {\n",
       "    font-family: 'Nixie One', serif;\n",
       "    font-style:regular;\n",
       "    font-weight: 400;    \n",
       "    font-size: 45pt;\n",
       "    line-height: 100%;\n",
       "    color: rgb(0,51,102);\n",
       "    margin-bottom: 0.5em;\n",
       "    margin-top: 0.5em;\n",
       "    display: block;\n",
       "}\n",
       "\n",
       ".text_cell_render h2 {\n",
       "    font-family: 'Nixie One', serif;\n",
       "    font-weight: 400;\n",
       "    font-size: 30pt;\n",
       "    line-height: 100%;\n",
       "    color: rgb(0,51,102);\n",
       "    margin-bottom: 0.1em;\n",
       "    margin-top: 0.3em;\n",
       "    display: block;\n",
       "}\t\n",
       "\n",
       ".text_cell_render h3 {\n",
       "    font-family: 'Nixie One', serif;\n",
       "    margin-top:16px;\n",
       "    font-size: 22pt;\n",
       "    font-weight: 600;\n",
       "    margin-bottom: 3px;\n",
       "    font-style: regular;\n",
       "    color: rgb(102,102,0);\n",
       "}\n",
       "\n",
       ".text_cell_render h4 {    /*Use this for captions*/\n",
       "    font-family: 'Nixie One', serif;\n",
       "    font-size: 14pt;\n",
       "    text-align: center;\n",
       "    margin-top: 0em;\n",
       "    margin-bottom: 2em;\n",
       "    font-style: regular;\n",
       "}\n",
       "\n",
       ".text_cell_render h5 {  /*Use this for small titles*/\n",
       "    font-family: 'Nixie One', sans-serif;\n",
       "    font-weight: 400;\n",
       "    font-size: 16pt;\n",
       "    color: rgb(163,0,0);\n",
       "    font-style: italic;\n",
       "    margin-bottom: .1em;\n",
       "    margin-top: 0.8em;\n",
       "    display: block;\n",
       "}\n",
       "\n",
       ".text_cell_render h6 { /*use this for copyright note*/\n",
       "    font-family: 'PT Mono', sans-serif;\n",
       "    font-weight: 300;\n",
       "    font-size: 9pt;\n",
       "    line-height: 100%;\n",
       "    color: grey;\n",
       "    margin-bottom: 1px;\n",
       "    margin-top: 1px;\n",
       "}\n",
       "\n",
       ".CodeMirror{\n",
       "    font-family: \"Source Code Pro\";\n",
       "    font-size: 90%;\n",
       "}\n",
       "\n",
       ".alert-box {\n",
       "    padding:10px 10px 10px 36px;\n",
       "    margin:5px;\n",
       "}\n",
       "\n",
       ".success {\n",
       "    color:#666600;\n",
       "    background:rgb(240,242,229);\n",
       "}\n",
       "</style>\n",
       "<script>\n",
       "    MathJax.Hub.Config({\n",
       "                        TeX: {\n",
       "                           extensions: [\"AMSmath.js\"],\n",
       "                           equationNumbers: { autoNumber: \"AMS\", useLabelIds: true}\n",
       "                           },\n",
       "                tex2jax: {\n",
       "                    inlineMath: [ ['$','$'], [\"\\\\(\",\"\\\\)\"] ],\n",
       "                    displayMath: [ ['$$','$$'], [\"\\\\[\",\"\\\\]\"] ]\n",
       "                },\n",
       "                displayAlign: 'center', // Change this to 'center' to center equations.\n",
       "                \"HTML-CSS\": {\n",
       "                    styles: {'.MathJax_Display': {\"margin\": 4}}\n",
       "                }\n",
       "        });\n",
       "</script>\n"
      ],
      "text/plain": [
       "<IPython.core.display.HTML object>"
      ]
     },
     "execution_count": 14,
     "metadata": {},
     "output_type": "execute_result"
    }
   ],
   "source": [
    "from IPython.core.display import HTML\n",
    "css_file = '../styles/numericalmoocstyle.css'\n",
    "HTML(open(css_file, \"r\").read())"
   ]
  },
  {
   "cell_type": "code",
   "execution_count": null,
   "metadata": {
    "collapsed": true
   },
   "outputs": [],
   "source": []
  }
 ],
 "metadata": {
  "anaconda-cloud": {},
  "kernelspec": {
   "display_name": "Python [Root]",
   "language": "python",
   "name": "Python [Root]"
  },
  "language_info": {
   "codemirror_mode": {
    "name": "ipython",
    "version": 3
   },
   "file_extension": ".py",
   "mimetype": "text/x-python",
   "name": "python",
   "nbconvert_exporter": "python",
   "pygments_lexer": "ipython3",
   "version": "3.4.5"
  }
 },
 "nbformat": 4,
 "nbformat_minor": 0
}
