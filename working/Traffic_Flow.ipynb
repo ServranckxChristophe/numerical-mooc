{
 "cells": [
  {
   "cell_type": "markdown",
   "metadata": {},
   "source": [
    "## Travail Personnel 2 : \" Traffic flow \".\n",
    "\n",
    "---\n",
    "\n",
    "\n",
    "L'objectif de ce nouveau travail personnel est de réussir à modéliser et à décrire le système qu'est le flux de la circulation sur une route à une seule voie.\n",
    "\n",
    "Pour se faire, nous nous plaçerons ici dans le cas d'un trafic instable pour lequel nous pouvons utiliser l'équation de convection non-linéaire de la densité de voiture. En outre, nous procèderons à 2 simulations distinctes afin de mieux comprendre l'évolution de notre système sous différente conditions initiales (CI) et aux bords/limites (CL) pour la densité de trafic. Nous aurons ainsi les 2 ensemble de conditions suivant :\n",
    "\n",
    "Première simulation :\n",
    "\n",
    "$$\n",
    "\\left.\n",
    "    \\begin{array}{ll}\n",
    "         & x = numpy.linspace(0,L,nx)\\\\\n",
    "         & rho0  = numpy.ones(nx).10\\\\\n",
    "         & rho0[10:20]  = 50\\\\\n",
    "    \\end{array}\n",
    "\\right \\} \\text{  (CI) }\n",
    "$$\n",
    "\n",
    "\n",
    "$$\n",
    "\\left.\n",
    "    \\begin{array}{ll}\n",
    "         & \\rho(0,t) = 10\n",
    "    \\end{array}\n",
    "\\right \\} \\text{  (CL)}\n",
    "$$\n",
    "\n",
    "Seconde simulation :\n",
    "\n",
    "$$\n",
    "\\left.\n",
    "    \\begin{array}{ll}\n",
    "         & x = numpy.linspace(0,L,nx)\\\\\n",
    "         & rho0  = numpy.ones(nx).20\\\\\n",
    "         & rho0[10:20]  = 50\\\\\n",
    "    \\end{array}\n",
    "\\right \\} \\text{  (CI) }\n",
    "$$\n",
    "\n",
    "\n",
    "$$\n",
    "\\left.\n",
    "    \\begin{array}{ll}\n",
    "         & \\rho(0,t) = 20\n",
    "    \\end{array}\n",
    "\\right \\} \\text{  (CL)}\n",
    "$$\n",
    "\n",
    "Commençons sans plus tarder par le traitement de nos équations."
   ]
  },
  {
   "cell_type": "markdown",
   "metadata": {},
   "source": [
    "##### 1. Réécriture de l'équation de convection non-linéaire de la densité de voiture & discrétisation. \n",
    "---\n",
    "\n",
    "**1.1 Un bref rappel théorique.**\n",
    "\n",
    "---\n",
    "\n",
    "Dans la partie théorique de l'énoncé de ce travail, nous avons vu que le flux, instable, de trafic peut-être modélisé comme la convection non-linéaire de la densité de voiture. Il en découllait donc pour notre problème:\n",
    "\n",
    "\\begin{align}\n",
    "\\frac{\\partial \\rho}{\\partial t} + \\frac{\\partial F}{\\partial \\rho} \\frac{\\partial \\rho}{\\partial x} = 0\\\\\n",
    "\\end{align}\n",
    "\n",
    "\n",
    "où\n",
    "\n",
    "\\begin{align}\n",
    "F = V(\\rho) \\rho = V_{max} \\rho \\left( 1- \\frac{\\rho}{\\rho_{max}} \\right)\n",
    "\\end{align}\n",
    "\n",
    "Avec,\n",
    "\n",
    "$$\n",
    "\\left\\{\n",
    "    \\begin{array}{ll}\n",
    "        &.V  \\text{, la vitesse de circulation (en km/h)} \\\\\n",
    "        &.V_{max}  \\text{, vitesse maximale que peuvent atteindre les}\\\\\n",
    "        &\\hspace{0.9cm}  \\text{voiture lorsque $\\rho→0$}\\\\\n",
    "        &.\\rho \\text{, la densité de trafic, c'est à dire le nombre de voiture}\\\\\n",
    "        &\\hspace{0.9cm}  \\text{par unité de longueur de la route (en voiture/km)}\\\\\n",
    "        &. \\rho_{max},  \\text{la densité maximale atteinte lorsque les voiture}\\\\\n",
    "        &\\hspace{0.9cm}  \\text{sont \"pare-chocs contre pare-chocs\", et à laquelle}\\\\\n",
    "        &\\hspace{0.9cm}  \\text{correspond une vitesse nulle}\n",
    "    \\end{array}\n",
    "\\right.\n",
    "$$\n",
    "\n",
    "En appliquant la $règle\\ de\\ la\\ chaîne^{1}$ sur l'équation (1), nous obtenons alors: \n",
    "\n",
    "\\begin{align}\n",
    "\\frac{\\partial \\rho}{\\partial t} + \\frac{\\partial F}{\\partial x} = 0\\\\\n",
    "\\end{align}\n",
    "\n",
    "\n",
    "Nous allons maintenant passé à la discrétisation (afin de pouvoir résoudre numériquement notre problème) de nos équations. En effet, nous n'allons pas uniquement discrétisé l'équation (3) mais nous allons également discrétisé l'équation (1) et ce dans le but de comparé les résultats obtenu par ces deux discrétisations différentes et d'en tirer d'éventuelles conclusions.\n",
    "\n",
    "---\n",
    "###### [1]. La règle de dérivation des fonctions composées ou \"règle de la chaîne\" s'énonce comme suit : Soit f une fonction dérivable en a et g dérivable en f(a). Alors la composition g o f est dérivable en a et on a : $(g◦f)'(a) = g'(f(a)) f'(a)$ ou dans la notation de Leibniz si $y=f(x)$ et $u=g(y)$ alors : $\\frac{du}{dx}=\\frac{du}{dy} \\frac{dy}{dx}$\n"
   ]
  },
  {
   "cell_type": "markdown",
   "metadata": {},
   "source": [
    "** 1.2 Discrétisations. **\n",
    "\n",
    "---\n",
    "\n",
    "Passons à présent à la discrétisation de nos équation et commençons par l'équation (1). \n",
    "\n",
    "Pour se faire, nous calculons tout d'abord la dérivée $\\frac{\\partial F}{\\partial \\rho}$. Nous pourrions calculer cette dérivée à la main mais nous nous proposons d'utiliser ce que nous avons appris au cours du dernier notebook de la série *Space and Time — Introduction to Finite-difference solutions of PDEs*, e.g. l'emplois de l'une des fonctionnalités proposées par $sympy^{2}$ : le calcul d'une dérivée partielle. \n",
    "\n",
    "---\n",
    "###### [2] . Sympy est une librairie pour python qui propose de nombreuse fonctionnalités similaires à celle proposée par Mathematica tel que le calcul de dérivée, d'integrale, etc."
   ]
  },
  {
   "cell_type": "markdown",
   "metadata": {},
   "source": [
    "Commençons donc par importer la librairie sympy."
   ]
  },
  {
   "cell_type": "code",
   "execution_count": 1,
   "metadata": {
    "collapsed": true
   },
   "outputs": [],
   "source": [
    "# Import de la libraire.\n",
    "import sympy\n",
    "\n",
    "# Permet le renvois des résultats dans le style \"LaTeX\".\n",
    "from sympy import init_printing\n",
    "init_printing()"
   ]
  },
  {
   "cell_type": "markdown",
   "metadata": {},
   "source": [
    "Définissons à présent nos variables, l'expression de F (donnée par l'équation (2) ) et calculons enfin sa dérivée par rapport à $\\rho$."
   ]
  },
  {
   "cell_type": "code",
   "execution_count": 2,
   "metadata": {
    "collapsed": false
   },
   "outputs": [
    {
     "data": {
      "image/png": "[encoded data removed]",
      "text/latex": [
       "$$- \\frac{\\rho v_{max}}{\\rho_{max}} + v_{max} \\left(- \\frac{\\rho}{\\rho_{max}} + 1\\right)$$"
      ],
      "text/plain": [
       "  ρ⋅vₘₐₓ        ⎛   ρ      ⎞\n",
       "- ────── + vₘₐₓ⋅⎜- ──── + 1⎟\n",
       "   ρₘₐₓ         ⎝  ρₘₐₓ    ⎠"
      ]
     },
     "execution_count": 2,
     "metadata": {},
     "output_type": "execute_result"
    }
   ],
   "source": [
    "# On définit nos variables.\n",
    "v_max, rho, rho_max = sympy.symbols('v_max, rho, rho_max')\n",
    "\n",
    "# Expression de F.\n",
    "F = v_max*rho*(-(rho/rho_max)+1)\n",
    "\n",
    "# Calcul de la dérivée.\n",
    "Fprime = F.diff(rho)\n",
    "\n",
    "# Affichage du résultat.\n",
    "Fprime"
   ]
  },
  {
   "cell_type": "markdown",
   "metadata": {},
   "source": [
    "Ce qui est le même résultat que celui obtenu à la main si nous réexprimons ceci en mettant $v_{max}$ en évidence et en simplifiant quelque peu l'expression:\n",
    "\n",
    "\n",
    "$\\hspace{2.5cm}\\frac{- \\rho v_{max}}{\\rho_{max}}+ v_{max} \\left( - \\frac{\\rho}{\\rho_{max}}+1 \\right)$ → $v_{max} \\left( 1- \\frac{2 \\rho}{\\rho_{max}} \\right)$\n",
    "\n",
    "Ainsi, nous avons obtenu grâce à sympy :\n",
    "\n",
    "\\begin{equation}\n",
    "\\frac{\\partial F}{\\partial \\rho} = v_{max} \\left( 1- \\frac{2 \\rho}{\\rho_{max}} \\right) \n",
    "\\end{equation}\n",
    "\n",
    "Et l'équation (1) devient alors :\n",
    "\n",
    "\\begin{equation}\n",
    "\\frac{\\partial \\rho}{\\partial t} + v_{max} \\left( 1- \\frac{2 \\rho}{\\rho_{max}} \\right)  \\frac{\\partial \\rho}{\\partial x} = 0\\\\\n",
    "\\end{equation}\n",
    "\n",
    "Nous pouvons à présent passer à la discrétisation de notre equation de convection. Pour se faire, nous utilisons comme demandé dans l'énoncé de ce travail personnel, la *forward-difference* pour la dérivée par rapport au temps et la *backward-difference* pour la dérivée par rapport à l'espace (ici, par rapport à x comme nous travaillons avec une équation à 1 dimension).\n",
    "\n",
    "Pour rappel, les discrétisations *forward-difference* et *backward-difference* de la dérivée partielle $\\frac{\\partial u}{\\partial x}$ (par exemple) sont données par :\n",
    "\n",
    "* Forward-difference: si on utilise les points $x_i$ et $x_i + \\Delta x$ alors la dérivée devient : $\\frac{\\partial u}{\\partial x} \\approx \\frac{u(x_{i+1})-u(x_i)}{\\Delta x}$.\n",
    "* Backward-difference: si on utilise les points $x_i$ et $x_i- \\Delta x$ alors la dérivée devient : $\\frac{\\partial u}{\\partial x} \\approx \\frac{u(x_i)-u(x_{i-1})}{\\Delta x}$.\n",
    "\n",
    "Donc en appliquant ces deux discrétisations à l'équation (5) il en découle l'équation suivante:\n",
    "\n",
    "\\begin{equation}\\frac{\\rho_i^{n+1}-\\rho_i^n}{\\Delta t} + v_{max} \\left( 1- \\frac{2 \\rho_i^{n}}{\\rho_{max}} \\right) \\frac{\\rho_i^n - \\rho_{i-1}^n}{\\Delta x} = 0, \\end{equation}\n",
    "\n",
    "Où la seule inconnue est $\\rho_i^{n+1}$ étant donné nos conditions initiales. En isolant cette inconnue nous obtenons :\n",
    "\n",
    "\\begin{equation}\n",
    "\\rho_{i}^{n+1}= \\rho_{i}^{n} - v_{max} \\frac{\\Delta t}{\\Delta x} \\left( 1- \\frac{2 \\rho_{i}^{n}}{\\rho_{max}} \\right) \\left( \\rho_{i}^n - \\rho_{i-1}^n \\right)\n",
    "\\end{equation}\n",
    "\n",
    "Que nous pouvons maintenant traiter numériquement.\n",
    "\n",
    "\n",
    "Procédons maintenant à la discrétisation de notre seconde équation, l'équation (3). À nouveau, nous utilisons les deux discrétisation demandées. Nous obtenons ainsi :\n",
    "\n",
    "$$\n",
    "\\left\\{\n",
    "    \\begin{array}{}\n",
    "        \\frac{\\partial F}{\\partial x}  \\approx \\frac{F_{i}^{n}-F_{i-1}^{n}}{\\Delta x}\\\\\n",
    "        \\frac{\\partial \\rho}{\\partial t}  \\approx \\frac{\\rho_{i}^{n+1}-\\rho_{i}^{n}}{\\Delta x}\n",
    "    \\end{array}{}\n",
    "\\right.\n",
    "$$\n",
    "\n",
    "où\n",
    "$$\n",
    "\\left\\{\n",
    "    \\begin{array}{}\n",
    "        F_{i}^{n} & = v_{max} \\rho_{i}^{n} \\left( 1- \\frac{\\rho_{i}^{n}}{\\rho_{max}} \\right)\\\\\n",
    "        F_{i-1}^{n} & = v_{max} \\rho_{i-1}^{n} \\left( 1- \\frac{\\rho_{i-1}^{n}}{\\rho_{max}} \\right)\n",
    "    \\end{array}{}\n",
    "\\right.\n",
    "$$\n",
    "\n",
    "Ainsi si on réintroduit ceci dans l'équation (3) et qu'on isole la seule inconnue $\\rho_i^{n+1}$, nous obtenons alors l'équation discrétisée :\n",
    "\n",
    "\\begin{equation}\n",
    "\\rho_{i}^{n+1}= \\rho_{i}^{n} - v_{max} \\frac{\\Delta t}{\\Delta x} \\left[\\rho_{i}^{n} \\left( 1- \\frac{ \\rho_{i}^{n}}{\\rho_{max}} \\right) - \\rho_{i-1}^n\\left( 1 - \\frac{ \\rho_{i-1}^{n}}{\\rho_{max}} \\right) \\right]\n",
    "\\end{equation}"
   ]
  },
  {
   "cell_type": "markdown",
   "metadata": {},
   "source": [
    "---\n",
    "##### 2. Résolution du problème suivant la discrétisation de l'équation (1).\n",
    "\n",
    "---\n",
    "\n",
    "#### PARTIE A .\n",
    "---"
   ]
  },
  {
   "cell_type": "markdown",
   "metadata": {},
   "source": [
    "Comme à notre habitude, nous commençons par importer les librairies \"numpy\", matplotlib et JSAnimation. Ce dernier sera utile pour \"animer nos graphes\"."
   ]
  },
  {
   "cell_type": "code",
   "execution_count": 3,
   "metadata": {
    "collapsed": true
   },
   "outputs": [],
   "source": [
    "import numpy\n",
    "from matplotlib import pyplot\n",
    "%matplotlib inline\n",
    "from JSAnimation.IPython_display import display_animation\n",
    "from matplotlib import animation\n",
    "from matplotlib import rcParams\n",
    "rcParams['font.family'] = 'serif'\n",
    "rcParams['font.size'] = 16"
   ]
  },
  {
   "cell_type": "markdown",
   "metadata": {},
   "source": [
    "Nous déclarons ensuite nos données pour cette première partie à savoir la vitesse maximale du trafic,la longueur de la route,..."
   ]
  },
  {
   "cell_type": "code",
   "execution_count": 4,
   "metadata": {
    "collapsed": false
   },
   "outputs": [],
   "source": [
    "# Déclaration des variables\n",
    "v_max = 80       # en km/h\n",
    "L     = 11       # en km\n",
    "rho_max = 250    # en voitures/km\n",
    "nx    = 51\n",
    "dx    = L/(nx-1)\n",
    "dt    = 0.001    # h"
   ]
  },
  {
   "cell_type": "markdown",
   "metadata": {},
   "source": [
    "Et nos conditions initiales, e.g. une densité de voiture décrite de la manière suivante:"
   ]
  },
  {
   "cell_type": "code",
   "execution_count": 5,
   "metadata": {
    "collapsed": false
   },
   "outputs": [],
   "source": [
    "# Conditions initiales pour la densité de trafic:\n",
    "\n",
    "x = numpy.linspace(0,L,nx)\n",
    "rho0 = numpy.ones(nx)*10\n",
    "rho0[10:20] = 50"
   ]
  },
  {
   "cell_type": "markdown",
   "metadata": {},
   "source": [
    "Vérifions à présent que nos conditions initiales ont été correctement initialisée en réalisant le graphique de la densité en fonction de la position."
   ]
  },
  {
   "cell_type": "code",
   "execution_count": 6,
   "metadata": {
    "collapsed": false
   },
   "outputs": [
    {
     "data": {
      "image/png": "[encoded data removed]",
      "text/plain": [
       "<matplotlib.figure.Figure at 0x7f6a57279dd8>"
      ]
     },
     "metadata": {},
     "output_type": "display_data"
    }
   ],
   "source": [
    "pyplot.ylabel('densité'' ''$m^{-1}$', fontsize=24) # nom de l'axe x & taille de la police\n",
    "pyplot.xlabel('Position'' ''$x(km)$', fontsize=24) # nom de l'axe y & taille de la police\n",
    "pyplot.plot(x, rho0, color='#003366', ls='--', lw=3)\n",
    "pyplot.ylim(0,55);"
   ]
  },
  {
   "cell_type": "markdown",
   "metadata": {},
   "source": [
    "Comme attendus, la densité de voiture au temps t = 0s est bien fixé à 50 voitures par km tandis que cette dernière est de 10 voitures par km partout ailleurs.\n",
    "\n",
    "Nos conditions intiales étant fixées, nous pouvons commencer à répondre aux questions qui nous ont été posées."
   ]
  },
  {
   "cell_type": "markdown",
   "metadata": {},
   "source": [
    "---\n",
    "1) Quelle est la vitesse minimale au temps t = 0s en m/s (arrondir à 2 décimales).\n",
    "\n",
    "---"
   ]
  },
  {
   "cell_type": "markdown",
   "metadata": {},
   "source": [
    "Commençons ici par définir une fonction pour la vitesse du trafic qui reprend simplement l'expression de l'équation (2) (que l'on a divisé par $\\rho$ pour n'obtenir que l'expression recherchée de la vitesse). Cette fonction nous permettra de ressortir la vitesse du trafic pour un temps donné compte tenu de la densité à ce même moment."
   ]
  },
  {
   "cell_type": "code",
   "execution_count": 7,
   "metadata": {
    "collapsed": true
   },
   "outputs": [],
   "source": [
    "def v(rho):\n",
    "\n",
    "    return v_max*(1-(rho/rho_max))"
   ]
  },
  {
   "cell_type": "markdown",
   "metadata": {},
   "source": [
    "Dès lors, nous pouvons utiliser cette fonction ainsi que l'une des fonctions de numpy, la fonction min(), pour calculer la vitesse minimale à l'instant inital t = 0 s. \n",
    "\n",
    "\n",
    "Remarque : Pour obtenir le résultat recherché dans les bonnes unités nous procédons à une simple convertion de nos résultats. Ceci explique la présence du facteur multiplicatif \" 10/36 \" ci-dessous."
   ]
  },
  {
   "cell_type": "markdown",
   "metadata": {},
   "source": [
    "Pour la suite de la résolution des questions posée nous allons définir une nouvelle fonction qui nous permettra d'évité la répétitions de lignes de codes comme l'initialisation de certain paramètre fixe, la boucle qui nous permet de calculer la densité de voiture inconnue $\\rho_i^{n+1}$, etc.\n",
    "\n",
    "Nous n'aurons ainsi plus qu'a initialisé les paramètres qui vont changer d'une similation à une autre et à rappeler notre fonction pour obtenir le résultat désiré.\n",
    "\n",
    "Spécifions tout d'abord comment les résultats recherchés seront obtenus.\n",
    "* Vitesse moyenne : celle-ci sera obtenue en prenant la moyenne des densités de la dernière étape de calcul et en "
   ]
  },
  {
   "cell_type": "markdown",
   "metadata": {},
   "source": [
    "A présent, nous pouvons calculer la vitesse moyenne à t=3min à l'aide de \"numpy.mean()\" appliqué à la fonction qui représente la vitesse du trafic que nous avons définit plus haut."
   ]
  },
  {
   "cell_type": "code",
   "execution_count": 8,
   "metadata": {
    "collapsed": false
   },
   "outputs": [],
   "source": [
    "def evo(CL,t_sim,v_max,v):\n",
    "\n",
    "    \"\"\"\n",
    "    \n",
    "    \n",
    "    \n",
    "    \"\"\"\n",
    "    # On pose l'ensemble des paramètres qui reste fixes d'une simulation à une autre\n",
    "    dt=0.001 \n",
    "    nt=int(t_sim/(dt*60))+1   # Nombre de point requis dans la grille pour la simulation\n",
    "    L=11                      # en km\n",
    "    rho_max=250               # en voitures/km\n",
    "    nx=51                     # Nombre de point de la grille d'espace\n",
    "    dx=L/(nx-1)\n",
    "\n",
    "    #On pose nos conditions intiales \n",
    "    x = numpy.linspace(0,L,nx)\n",
    "    rho0 = numpy.ones(nx)*CL\n",
    "    rho0[10:20] = 50\n",
    "    \n",
    "    # Définition de notre matrice densité pour tout temps et toute position\n",
    "    \n",
    "    rho=numpy.empty((nt,nx))\n",
    "    rho[0]=rho0         \n",
    "\n",
    "    #On calcul notre densité inconnue pour tout temps\n",
    "    for n in range(0, nt-1):  \n",
    "        rho[n+1][1:] = rho[n][1:]- dt/dx* v_max *(1-2*rho[n][1:]/rho_max)*(rho[n][1:]-rho[n][0:-1])\n",
    "        rho[n+1][0]=CL   # Notre condition au bord\n",
    "\n",
    "    #Réalise un graphe des densités finales en fonction de la position\n",
    "    pyplot.plot(x, rho[nt-1], color='#003366', ls='--', lw=3)\n",
    "    pyplot.ylim(0,55);\n",
    "    \n",
    "    #Calcul des valeurs recherché et stockage de celles-ci    \n",
    "    vmoyF = v(numpy.mean(rho[nt-1]))\n",
    "    vminI = min(v(rho[0,:]))\n",
    "    vminF = min(v(rho[nt-1,:]))\n",
    "    \n",
    "    \n",
    "    u[0]=vminI\n",
    "    u[1]=vminF\n",
    "    u[2]=vmoyF"
   ]
  },
  {
   "cell_type": "code",
   "execution_count": 9,
   "metadata": {
    "collapsed": true
   },
   "outputs": [],
   "source": [
    "CL=10\n",
    "u=numpy.empty(3)"
   ]
  },
  {
   "cell_type": "code",
   "execution_count": 10,
   "metadata": {
    "collapsed": false
   },
   "outputs": [
    {
     "name": "stdout",
     "output_type": "stream",
     "text": [
      "→ Vitesse minimale du trafic à l'instant t = 0s : v = 17.78 m/s\n"
     ]
    },
    {
     "data": {
      "image/png": "[encoded data removed]",
      "text/plain": [
       "<matplotlib.figure.Figure at 0x7f6a4a7c7dd8>"
      ]
     },
     "metadata": {},
     "output_type": "display_data"
    }
   ],
   "source": [
    "t_sim=0\n",
    "evo(CL,t_sim,v_max,v)\n",
    "print (\"→ Vitesse minimale du trafic à l'instant t = 0s : v =\",round(u[0]*10/36,2),\"m/s\")"
   ]
  },
  {
   "cell_type": "markdown",
   "metadata": {},
   "source": [
    "---\n",
    "2) Quelle est la vitesse moyenne au temps t = 180s en m/s (arrondir à 2 décimales).\n",
    "\n",
    "---"
   ]
  },
  {
   "cell_type": "markdown",
   "metadata": {},
   "source": [
    "Pour répondre à cette 2e question, il nous faut spécifier un temps de simulation (de 3 min pour cette première partie). De là, nous pourrons calculer le nt (le nombre de point de notre \"grille temporelle\") nécessaire à la détermination de la densité au temps associé. Nous avons donc le code suivant:"
   ]
  },
  {
   "cell_type": "code",
   "execution_count": 11,
   "metadata": {
    "collapsed": false
   },
   "outputs": [
    {
     "name": "stdout",
     "output_type": "stream",
     "text": [
      "→ Vitesse moyenne du trafic à l'instant t = 180s : v = 20.56 m/s\n"
     ]
    },
    {
     "data": {
      "image/png": "[encoded data removed]",
      "text/plain": [
       "<matplotlib.figure.Figure at 0x7f6a4a7d29e8>"
      ]
     },
     "metadata": {},
     "output_type": "display_data"
    }
   ],
   "source": [
    "t_sim=3\n",
    "evo(CL,t_sim,v_max,v)\n",
    "print (\"→ Vitesse moyenne du trafic à l'instant t = 180s : v =\",round(u[2]*10/36,2),\"m/s\")"
   ]
  },
  {
   "cell_type": "markdown",
   "metadata": {},
   "source": [
    "En esquissant le graphe de la densité en fonction de la distance, nous observons que le signal carré de départ est devenu un signal plus courbé (comme vu dans les leçons) #discussion à suivre\n",
    "\n",
    "Pour bien visualiser la solution, nous pouvons annimer le graphe afin de voir que la densité varie au cours du temps.\n"
   ]
  },
  {
   "cell_type": "markdown",
   "metadata": {},
   "source": [
    "ANIM"
   ]
  },
  {
   "cell_type": "code",
   "execution_count": 12,
   "metadata": {
    "collapsed": false
   },
   "outputs": [],
   "source": [
    "#fig = pyplot.figure(figsize=(8,5))\n",
    "#ax = pyplot.axes(xlim=(0,20), ylim=(0,60))\n",
    "#line = ax.plot([], [], color='#003366', ls='--', lw=3)[0]\n",
    "\n",
    "#def trafic(i):\n",
    "    #line.set_data(x,rho0)\n",
    "    \n",
    "    #rhon = rho0.copy() \n",
    "    #rho0[1:] = rhon[1:]-((dt/dx) * v_max*(1-((2/rho_max)*rhon[1:]))*(rhon[1:]-rhon[0:-1]))\n",
    "    #rho0[0]=10\n",
    "\n",
    "#animation.FuncAnimation(fig, trafic,\n",
    "                        #frames=nt, interval=10)"
   ]
  },
  {
   "cell_type": "markdown",
   "metadata": {},
   "source": [
    "---\n",
    "3) Quelle est la vitesse minimale au temps t = 360s en m/s (arrondir à 2 décimales).\n",
    "\n",
    "---"
   ]
  },
  {
   "cell_type": "code",
   "execution_count": 13,
   "metadata": {
    "collapsed": false
   },
   "outputs": [
    {
     "name": "stdout",
     "output_type": "stream",
     "text": [
      "→ Vitesse minimale du trafic à l'instant t = 180s : v = 18.58 m/s\n"
     ]
    },
    {
     "data": {
      "image/png": "[encoded data removed]",
      "text/plain": [
       "<matplotlib.figure.Figure at 0x7f6a42c41048>"
      ]
     },
     "metadata": {},
     "output_type": "display_data"
    }
   ],
   "source": [
    "t_sim=6\n",
    "evo(CL,t_sim,v_max,v)\n",
    "print (\"→ Vitesse minimale du trafic à l'instant t = 180s : v =\",round(u[1]*10/36,2),\"m/s\")"
   ]
  },
  {
   "cell_type": "markdown",
   "metadata": {},
   "source": [
    "---\n",
    "\n",
    "#### PARTIE B.\n",
    "---"
   ]
  },
  {
   "cell_type": "code",
   "execution_count": 14,
   "metadata": {
    "collapsed": true
   },
   "outputs": [],
   "source": [
    "# Déclaration des variables\n",
    "\n",
    "v_max = 136       # en km/h\n",
    "L     = 11       # en km\n",
    "rho_max = 250    # en voitures/m\n",
    "nx    = 51      # Nombre de point de la grille d'espace\n",
    "CL    = 20\n",
    "v_max = 136\n"
   ]
  },
  {
   "cell_type": "code",
   "execution_count": 15,
   "metadata": {
    "collapsed": true
   },
   "outputs": [],
   "source": [
    "x = numpy.linspace(0,L,nx)\n",
    "rho02 = numpy.ones(nx)*20 \n",
    "rho02[10:20] = 50"
   ]
  },
  {
   "cell_type": "code",
   "execution_count": 16,
   "metadata": {
    "collapsed": false
   },
   "outputs": [
    {
     "data": {
      "image/png": "[encoded data removed]",
      "text/plain": [
       "<matplotlib.figure.Figure at 0x7f6a42bfc550>"
      ]
     },
     "metadata": {},
     "output_type": "display_data"
    }
   ],
   "source": [
    "pyplot.plot(x, rho02, color='#003366', ls='--', lw=3)\n",
    "pyplot.ylim(0,60);"
   ]
  },
  {
   "cell_type": "markdown",
   "metadata": {},
   "source": [
    "---\n",
    "4) Quelle est la vitesse minimale au temps t = 0s en m/s (arrondir à 2 décimales).\n",
    "\n",
    "---"
   ]
  },
  {
   "cell_type": "code",
   "execution_count": 17,
   "metadata": {
    "collapsed": false
   },
   "outputs": [
    {
     "name": "stdout",
     "output_type": "stream",
     "text": [
      "→ Vitesse minimale du trafic à l'instant t = 0s : v = 30.22 m/s\n"
     ]
    },
    {
     "data": {
      "image/png": "[encoded data removed]",
      "text/plain": [
       "<matplotlib.figure.Figure at 0x7f6a42c44c18>"
      ]
     },
     "metadata": {},
     "output_type": "display_data"
    }
   ],
   "source": [
    "t_sim=0\n",
    "evo(CL,t_sim,v_max,v)\n",
    "print (\"→ Vitesse minimale du trafic à l'instant t = 0s : v =\",round(u[0]*10/36,2),\"m/s\")"
   ]
  },
  {
   "cell_type": "markdown",
   "metadata": {},
   "source": [
    "---\n",
    "5) Quelle est la vitesse moyenne au temps t = 180s en m/s (arrondir à 2 décimales).\n",
    "\n",
    "---"
   ]
  },
  {
   "cell_type": "code",
   "execution_count": 18,
   "metadata": {
    "collapsed": false
   },
   "outputs": [
    {
     "name": "stdout",
     "output_type": "stream",
     "text": [
      "→ Vitesse minimale du trafic à l'instant t = 180s : v = 33.77 m/s\n"
     ]
    },
    {
     "data": {
      "image/png": "[encoded data removed]",
      "text/plain": [
       "<matplotlib.figure.Figure at 0x7f6a5726f9e8>"
      ]
     },
     "metadata": {},
     "output_type": "display_data"
    }
   ],
   "source": [
    "t_sim=3\n",
    "evo(CL,t_sim,v_max,v)\n",
    "print (\"→ Vitesse minimale du trafic à l'instant t = 180s : v =\",round(u[2]*10/36,2),\"m/s\")"
   ]
  },
  {
   "cell_type": "markdown",
   "metadata": {},
   "source": [
    "---\n",
    "6) Quelle est la vitesse minimale au temps t = 180s en m/s (arrondir à 2 décimales).\n",
    "\n",
    "---"
   ]
  },
  {
   "cell_type": "code",
   "execution_count": 19,
   "metadata": {
    "collapsed": false
   },
   "outputs": [
    {
     "name": "stdout",
     "output_type": "stream",
     "text": [
      "→ Vitesse minimale du trafic à l'instant t = 180s : v = 30.79 m/s\n"
     ]
    }
   ],
   "source": [
    "t_sim=3\n",
    "print (\"→ Vitesse minimale du trafic à l'instant t = 180s : v =\",round(u[1]*10/36,2),\"m/s\")"
   ]
  },
  {
   "cell_type": "markdown",
   "metadata": {},
   "source": [
    "---\n",
    "##### 3. Résolution du problème suivant la discrétisation de l'équation (3).\n",
    "\n",
    "---"
   ]
  },
  {
   "cell_type": "markdown",
   "metadata": {},
   "source": [
    "#### PARTIE A .\n",
    "---"
   ]
  },
  {
   "cell_type": "markdown",
   "metadata": {},
   "source": [
    "Pour rappel, dans la partie A nous avons les conditions suivantes:"
   ]
  },
  {
   "cell_type": "code",
   "execution_count": 40,
   "metadata": {
    "collapsed": true
   },
   "outputs": [],
   "source": [
    "# Déclaration des variables\n",
    "\n",
    "v_max = 80       # en km/h\n",
    "L     = 11       # en km\n",
    "rho_max = 250    # en voitures/m\n",
    "nx    = 51      # Nombre de point de la grille d'espace\n",
    "CL    = 10      #condition limite\n",
    "\n",
    "# Déclaration d'un tableau qui va contenir les vitesses \n",
    "w=numpy.empty(3)"
   ]
  },
  {
   "cell_type": "markdown",
   "metadata": {},
   "source": [
    "On définit une nouvelle fonction pour notre nouvelle discrétisation"
   ]
  },
  {
   "cell_type": "code",
   "execution_count": 41,
   "metadata": {
    "collapsed": true
   },
   "outputs": [],
   "source": [
    "def evo2(CL,t_sim,v_max,v):\n",
    "\n",
    "    \"\"\"\n",
    "    \n",
    "    \n",
    "    \n",
    "    \"\"\"\n",
    "    # On pose l'ensemble des paramètres qui reste fixes d'une simulation à une autre\n",
    "    dt=0.001 \n",
    "    nt=int(t_sim/(dt*60))+1   # Nombre de point requis dans la grille pour la simulation\n",
    "    L=11                      # en km\n",
    "    rho_max=250               # en voitures/km\n",
    "    nx=51                     # Nombre de point de la grille d'espace\n",
    "    dx=L/(nx-1)\n",
    "\n",
    "    #On pose nos conditions intiales \n",
    "    x = numpy.linspace(0,L,nx)\n",
    "    rho0 = numpy.ones(nx)*CL\n",
    "    rho0[10:20] = 50\n",
    "    \n",
    "    # Définition de notre matrice densité pour tout temps et toute position\n",
    "    \n",
    "    rho=numpy.empty((nt,nx))\n",
    "    rho[0]=rho0         \n",
    "\n",
    "    #On calcul notre densité inconnue pour tout temps\n",
    "    for n in range(0, nt-1):  \n",
    "        rho[n+1][1:] = rho[n][1:]-((dt/dx)*v_max*((rho[n][1:]*(1-(rho[n][1:]/rho_max)))-(rho[n][0:-1]*(1 - (rho[n][0:-1]/rho_max)))))\n",
    "        rho[n+1][0]=CL   # Notre condition au bord\n",
    "\n",
    "    #Réalise un graphe des densités finales en fonction de la position\n",
    "    pyplot.plot(x, rho[nt-1], color='#003366', ls='--', lw=3)\n",
    "    pyplot.ylim(0,55);\n",
    "    \n",
    "    #Calcul des valeurs recherché et stockage de celles-ci    \n",
    "    vmoyF = v(numpy.mean(rho[nt-1]))\n",
    "    vminI = min(v(rho[0,:]))\n",
    "    vminF = min(v(rho[nt-1,:]))\n",
    "    \n",
    "    \n",
    "    w[0]=vminI\n",
    "    w[1]=vminF\n",
    "    w[2]=vmoyF"
   ]
  },
  {
   "cell_type": "markdown",
   "metadata": {},
   "source": [
    "---\n",
    "1) Quelle est la vitesse minimale au temps t = 0s en m/s (arrondir à 2 décimales).\n",
    "\n",
    "---"
   ]
  },
  {
   "cell_type": "code",
   "execution_count": 42,
   "metadata": {
    "collapsed": false
   },
   "outputs": [
    {
     "name": "stdout",
     "output_type": "stream",
     "text": [
      "→ Vitesse minimale du trafic à l'instant t = 0s : v = 17.78 m/s\n"
     ]
    },
    {
     "data": {
      "image/png": "[encoded data removed]",
      "text/plain": [
       "<matplotlib.figure.Figure at 0x7f6a42af5160>"
      ]
     },
     "metadata": {},
     "output_type": "display_data"
    }
   ],
   "source": [
    "t_sim=0\n",
    "evo2(CL,t_sim,v_max,v)\n",
    "print (\"→ Vitesse minimale du trafic à l'instant t = 0s : v =\",round(w[0]*10/36,2),\"m/s\")"
   ]
  },
  {
   "cell_type": "markdown",
   "metadata": {},
   "source": [
    "---\n",
    "2) Quelle est la vitesse moyenne au temps t = 180s en m/s (arrondir à 2 décimales).\n",
    "\n",
    "---"
   ]
  },
  {
   "cell_type": "code",
   "execution_count": 37,
   "metadata": {
    "collapsed": false
   },
   "outputs": [
    {
     "name": "stdout",
     "output_type": "stream",
     "text": [
      "→ Vitesse moyenne du trafic à l'instant t = 180s : v = 20.64 m/s\n"
     ]
    },
    {
     "data": {
      "image/png": "[encoded data removed]",
      "text/plain": [
       "<matplotlib.figure.Figure at 0x7f6a429934e0>"
      ]
     },
     "metadata": {},
     "output_type": "display_data"
    }
   ],
   "source": [
    "t_sim=3\n",
    "evo2(CL,t_sim,v_max,v)\n",
    "print (\"→ Vitesse moyenne du trafic à l'instant t = 180s : v =\",round(w[2]*10/36,2),\"m/s\")"
   ]
  },
  {
   "cell_type": "markdown",
   "metadata": {},
   "source": [
    "---\n",
    "3) Quelle est la vitesse minimale au temps t = 360s en m/s (arrondir à 2 décimales).\n",
    "\n",
    "---"
   ]
  },
  {
   "cell_type": "code",
   "execution_count": 38,
   "metadata": {
    "collapsed": false
   },
   "outputs": [
    {
     "name": "stdout",
     "output_type": "stream",
     "text": [
      "→ Vitesse minimale du trafic à l'instant t = 360s : v = 18.78 m/s\n"
     ]
    },
    {
     "data": {
      "image/png": "[encoded data removed]",
      "text/plain": [
       "<matplotlib.figure.Figure at 0x7f6a429f36d8>"
      ]
     },
     "metadata": {},
     "output_type": "display_data"
    }
   ],
   "source": [
    "t_sim=6\n",
    "evo2(CL,t_sim,v_max,v)\n",
    "print (\"→ Vitesse minimale du trafic à l'instant t = 360s : v =\",round(w[1]*10/36,2),\"m/s\")"
   ]
  },
  {
   "cell_type": "markdown",
   "metadata": {},
   "source": [
    "---\n",
    "\n",
    "#### Partie B\n",
    "---"
   ]
  },
  {
   "cell_type": "markdown",
   "metadata": {},
   "source": [
    "Comme nous l'avions fait dans la partie sur la résolution avec notre première discrétisation, nous rappelons les conditions du problème dans la partie B de l'exercice."
   ]
  },
  {
   "cell_type": "code",
   "execution_count": 45,
   "metadata": {
    "collapsed": true
   },
   "outputs": [],
   "source": [
    "# Déclaration des variables\n",
    "\n",
    "v_max = 136       # en km/h\n",
    "L     = 11       # en km\n",
    "rho_max = 250    # en voitures/m\n",
    "nx    = 51      # Nombre de point de la grille d'espace\n",
    "CL    = 20\n",
    "\n",
    "# Déclaration d'un tableau qui va contenir les vitesses \n",
    "w=numpy.empty(3)"
   ]
  },
  {
   "cell_type": "markdown",
   "metadata": {},
   "source": [
    "---\n",
    "4) Quelle est la vitesse minimale au temps t = 0s en m/s (arrondir à 2 décimales).\n",
    "\n",
    "---"
   ]
  },
  {
   "cell_type": "code",
   "execution_count": 46,
   "metadata": {
    "collapsed": false
   },
   "outputs": [
    {
     "name": "stdout",
     "output_type": "stream",
     "text": [
      "→ Vitesse minimale du trafic à l'instant t = 0s : v = 30.22 m/s\n"
     ]
    },
    {
     "data": {
      "image/png": "[encoded data removed]",
      "text/plain": [
       "<matplotlib.figure.Figure at 0x7f6a42a41470>"
      ]
     },
     "metadata": {},
     "output_type": "display_data"
    }
   ],
   "source": [
    "t_sim=0\n",
    "evo2(CL,t_sim,v_max,v)\n",
    "print (\"→ Vitesse minimale du trafic à l'instant t = 0s : v =\",round(w[0]*10/36,2),\"m/s\")"
   ]
  },
  {
   "cell_type": "markdown",
   "metadata": {},
   "source": [
    "---\n",
    "5) Quelle est la vitesse moyenne au temps t = 180s en m/s (arrondir à 2 décimales).\n",
    "\n",
    "---"
   ]
  },
  {
   "cell_type": "code",
   "execution_count": 47,
   "metadata": {
    "collapsed": false
   },
   "outputs": [
    {
     "name": "stdout",
     "output_type": "stream",
     "text": [
      "→ Vitesse moyenne du trafic à l'instant t = 180s : v = 33.87 m/s\n"
     ]
    },
    {
     "data": {
      "image/png": "[encoded data removed]",
      "text/plain": [
       "<matplotlib.figure.Figure at 0x7f6a42988710>"
      ]
     },
     "metadata": {},
     "output_type": "display_data"
    }
   ],
   "source": [
    "t_sim = 3\n",
    "evo2(CL,t_sim,v_max,v)\n",
    "print (\"→ Vitesse moyenne du trafic à l'instant t = 180s : v =\",round(w[2]*10/36,2),\"m/s\")"
   ]
  },
  {
   "cell_type": "markdown",
   "metadata": {},
   "source": [
    "---\n",
    "6) Quelle est la vitesse minimale au temps t = 180s en m/s (arrondir à 2 décimales).\n",
    "\n",
    "---"
   ]
  },
  {
   "cell_type": "code",
   "execution_count": 48,
   "metadata": {
    "collapsed": false
   },
   "outputs": [
    {
     "name": "stdout",
     "output_type": "stream",
     "text": [
      "→ Vitesse minimale du trafic à l'instant t = 180s : v = 30.99 m/s\n"
     ]
    }
   ],
   "source": [
    "t_simu = 3\n",
    "print (\"→ Vitesse minimale du trafic à l'instant t = 180s : v =\",round(w[1]*10/36,2),\"m/s\")"
   ]
  },
  {
   "cell_type": "markdown",
   "metadata": {},
   "source": [
    "---\n",
    "\n",
    "##### 4. Analyse et comparaisons des résultats:\n",
    "---"
   ]
  },
  {
   "cell_type": "markdown",
   "metadata": {},
   "source": [
    "Nous allons tout d'abord comparer les résultats obtenus dans chaque partie (A et B) pour une discrétisation donné puis pour chaque discrétisations. Nous verrons par la suite ce que nous pouvons en déduire. "
   ]
  },
  {
   "cell_type": "markdown",
   "metadata": {},
   "source": [
    "$\\rightarrow$ Comparaisons des résultats entre la partie A et B pour les deux discrétisations :\n",
    "\n",
    "On constate que le changement des conditions aux bords (passage de 10 à 20 voiture/$km$) et une augmentation de la vitesse maximale du trafic implique une augmentation des valeurs pour les vitesses demandées.\n"
   ]
  },
  {
   "cell_type": "markdown",
   "metadata": {},
   "source": [
    "$\\rightarrow$ Comparaisons des résultats obtenus à partir de deux discrétisations différentes :"
   ]
  },
  {
   "cell_type": "code",
   "execution_count": null,
   "metadata": {
    "collapsed": true
   },
   "outputs": [],
   "source": []
  },
  {
   "cell_type": "markdown",
   "metadata": {},
   "source": [
    "---\n",
    "\n",
    "##### 5. Source:\n",
    "---\n",
    "\n",
    "\n",
    "[1] Cours de MATH-F-101 (Calcul Différentiel et Intégral 1) présenté par M. Joel Fine et M. Denis Bonheure à l'ULB.\n",
    "\n",
    "[2] Notebook *02.04 - 1D Burgers* de la série *Space and Time — Introduction to Finite-difference solutions of PDEs*"
   ]
  },
  {
   "cell_type": "markdown",
   "metadata": {},
   "source": [
    "---\n",
    "\n",
    "###### The cell below loads the style of the notebook."
   ]
  },
  {
   "cell_type": "code",
   "execution_count": 29,
   "metadata": {
    "collapsed": false
   },
   "outputs": [
    {
     "data": {
      "text/html": [
       "<link href='http://fonts.googleapis.com/css?family=Alegreya+Sans:100,300,400,500,700,800,900,100italic,300italic,400italic,500italic,700italic,800italic,900italic' rel='stylesheet' type='text/css'>\n",
       "<link href='http://fonts.googleapis.com/css?family=Arvo:400,700,400italic' rel='stylesheet' type='text/css'>\n",
       "<link href='http://fonts.googleapis.com/css?family=PT+Mono' rel='stylesheet' type='text/css'>\n",
       "<link href='http://fonts.googleapis.com/css?family=Shadows+Into+Light' rel='stylesheet' type='text/css'>\n",
       "<link href='http://fonts.googleapis.com/css?family=Nixie+One' rel='stylesheet' type='text/css'>\n",
       "<link href='https://fonts.googleapis.com/css?family=Source+Code+Pro' rel='stylesheet' type='text/css'>\n",
       "<style>\n",
       "\n",
       "@font-face {\n",
       "    font-family: \"Computer Modern\";\n",
       "    src: url('http://mirrors.ctan.org/fonts/cm-unicode/fonts/otf/cmunss.otf');\n",
       "}\n",
       "\n",
       "#notebook_panel { /* main background */\n",
       "    background: rgb(245,245,245);\n",
       "}\n",
       "\n",
       "div.cell { /* set cell width */\n",
       "    width: 750px;\n",
       "}\n",
       "\n",
       "div #notebook { /* centre the content */\n",
       "    background: #fff; /* white background for content */\n",
       "    width: 1000px;\n",
       "    margin: auto;\n",
       "    padding-left: 0em;\n",
       "}\n",
       "\n",
       "#notebook li { /* More space between bullet points */\n",
       "    margin-top:0.8em;\n",
       "}\n",
       "\n",
       "/* draw border around running cells */\n",
       "div.cell.border-box-sizing.code_cell.running { \n",
       "    border: 1px solid #111;\n",
       "}\n",
       "\n",
       "/* Put a solid color box around each cell and its output, visually linking them*/\n",
       "div.cell.code_cell {\n",
       "    background-color: rgb(256,256,256); \n",
       "    border-radius: 0px; \n",
       "    padding: 0.5em;\n",
       "    margin-left:1em;\n",
       "    margin-top: 1em;\n",
       "}\n",
       "\n",
       "div.text_cell_render{\n",
       "    font-family: 'Alegreya Sans' sans-serif;\n",
       "    line-height: 140%;\n",
       "    font-size: 125%;\n",
       "    font-weight: 400;\n",
       "    width:600px;\n",
       "    margin-left:auto;\n",
       "    margin-right:auto;\n",
       "}\n",
       "\n",
       "\n",
       "/* Formatting for header cells */\n",
       ".text_cell_render h1 {\n",
       "    font-family: 'Nixie One', serif;\n",
       "    font-style:regular;\n",
       "    font-weight: 400;    \n",
       "    font-size: 45pt;\n",
       "    line-height: 100%;\n",
       "    color: rgb(0,51,102);\n",
       "    margin-bottom: 0.5em;\n",
       "    margin-top: 0.5em;\n",
       "    display: block;\n",
       "}\n",
       "\n",
       ".text_cell_render h2 {\n",
       "    font-family: 'Nixie One', serif;\n",
       "    font-weight: 400;\n",
       "    font-size: 30pt;\n",
       "    line-height: 100%;\n",
       "    color: rgb(0,51,102);\n",
       "    margin-bottom: 0.1em;\n",
       "    margin-top: 0.3em;\n",
       "    display: block;\n",
       "}\t\n",
       "\n",
       ".text_cell_render h3 {\n",
       "    font-family: 'Nixie One', serif;\n",
       "    margin-top:16px;\n",
       "    font-size: 22pt;\n",
       "    font-weight: 600;\n",
       "    margin-bottom: 3px;\n",
       "    font-style: regular;\n",
       "    color: rgb(102,102,0);\n",
       "}\n",
       "\n",
       ".text_cell_render h4 {    /*Use this for captions*/\n",
       "    font-family: 'Nixie One', serif;\n",
       "    font-size: 14pt;\n",
       "    text-align: center;\n",
       "    margin-top: 0em;\n",
       "    margin-bottom: 2em;\n",
       "    font-style: regular;\n",
       "}\n",
       "\n",
       ".text_cell_render h5 {  /*Use this for small titles*/\n",
       "    font-family: 'Nixie One', sans-serif;\n",
       "    font-weight: 400;\n",
       "    font-size: 16pt;\n",
       "    color: rgb(163,0,0);\n",
       "    font-style: italic;\n",
       "    margin-bottom: .1em;\n",
       "    margin-top: 0.8em;\n",
       "    display: block;\n",
       "}\n",
       "\n",
       ".text_cell_render h6 { /*use this for copyright note*/\n",
       "    font-family: 'PT Mono', sans-serif;\n",
       "    font-weight: 300;\n",
       "    font-size: 9pt;\n",
       "    line-height: 100%;\n",
       "    color: grey;\n",
       "    margin-bottom: 1px;\n",
       "    margin-top: 1px;\n",
       "}\n",
       "\n",
       ".CodeMirror{\n",
       "    font-family: \"Source Code Pro\";\n",
       "    font-size: 90%;\n",
       "}\n",
       "\n",
       ".alert-box {\n",
       "    padding:10px 10px 10px 36px;\n",
       "    margin:5px;\n",
       "}\n",
       "\n",
       ".success {\n",
       "    color:#666600;\n",
       "    background:rgb(240,242,229);\n",
       "}\n",
       "</style>\n",
       "<script>\n",
       "    MathJax.Hub.Config({\n",
       "                        TeX: {\n",
       "                           extensions: [\"AMSmath.js\"],\n",
       "                           equationNumbers: { autoNumber: \"AMS\", useLabelIds: true}\n",
       "                           },\n",
       "                tex2jax: {\n",
       "                    inlineMath: [ ['$','$'], [\"\\\\(\",\"\\\\)\"] ],\n",
       "                    displayMath: [ ['$$','$$'], [\"\\\\[\",\"\\\\]\"] ]\n",
       "                },\n",
       "                displayAlign: 'center', // Change this to 'center' to center equations.\n",
       "                \"HTML-CSS\": {\n",
       "                    styles: {'.MathJax_Display': {\"margin\": 4}}\n",
       "                }\n",
       "        });\n",
       "</script>\n"
      ],
      "text/plain": [
       "<IPython.core.display.HTML object>"
      ]
     },
     "execution_count": 29,
     "metadata": {},
     "output_type": "execute_result"
    }
   ],
   "source": [
    "from IPython.core.display import HTML\n",
    "css_file = '../styles/numericalmoocstyle.css'\n",
    "HTML(open(css_file, \"r\").read())"
   ]
  },
  {
   "cell_type": "code",
   "execution_count": null,
   "metadata": {
    "collapsed": true
   },
   "outputs": [],
   "source": []
  }
 ],
 "metadata": {
  "anaconda-cloud": {},
  "kernelspec": {
   "display_name": "Python [Root]",
   "language": "python",
   "name": "Python [Root]"
  },
  "language_info": {
   "codemirror_mode": {
    "name": "ipython",
    "version": 3
   },
   "file_extension": ".py",
   "mimetype": "text/x-python",
   "name": "python",
   "nbconvert_exporter": "python",
   "pygments_lexer": "ipython3",
   "version": "3.4.5"
  }
 },
 "nbformat": 4,
 "nbformat_minor": 0
}
