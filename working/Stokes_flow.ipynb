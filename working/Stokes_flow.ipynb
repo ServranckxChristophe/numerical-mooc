{
 "cells": [
  {
   "cell_type": "markdown",
   "metadata": {},
   "source": [
    "## TP 5 : \" Stokes Flow \".\n",
    "\n",
    "---\n",
    "Binôme : Khaled Ibrahim & Servranckx Christophe.\n",
    "\n",
    "---\n",
    "\n",
    "Le but de ce 5ème TP est de résoudre l'écoulement de Stokes dans une cavité carrée à couvercle en utilisant la formulation de la fonction de vorticité-flux introduite dans l'introduction de ce challenge.\n",
    "\n",
    "Pour se faire, nous utiliserons quelques méthode de résolution numérique tel que la méthode de Jacobi, sa version compilée, etc. qui nous permettrons en outre, de nous rendre compte de l'efficacité de ces dernières tout comme nous avons put nous en rendre compte tout au long des notebooks de ce 5ème module. \n",
    "\n",
    "Finalement, nous nous intéresserons à la convergences de ces méthodes et à leur comportement qui, comme nous le verrons, est intimement lié à la physique du problème."
   ]
  },
  {
   "cell_type": "markdown",
   "metadata": {},
   "source": [
    "---\n",
    "\n",
    "##### 1. Rappels et développement théorique.\n",
    "---\n",
    "\n",
    "L'écoulement de Stokes (également appelé \"écoulement glissant) et son hypothèse nous offres un excellent moyen de simplifier les équations de Navier-Stokes régissant le mouvement d'un fluide dans l'approximation d'un milieu continu.\n",
    "\n",
    "Notons tout de même que cette hypothèse consistant à supposer que l'on ai un nombre de reynolds $Re^{1}$ proche de 0 n'est pas incontournable pour résoudre le problème \"Stokes flow\". En effet, ce dernier peut-être résolu (par des méthodes qui ne seront pas abordées ici) pour des nombres de Reynolds de l'ordre de 100, 400 voir 1000.\n",
    "\n",
    "\n",
    "---\n",
    "###### [1] Le nombre de Reynolds $Re$ est donné par le rapport du terme associé à un transport convectif de quantité de mouvement $(\\vec{v} . \\vec{\\nabla}) \\vec{v}$  et du terme de transport par diffusion visqueuse $\\nu \\nabla ^2 \\vec{v}$ des équations de Navier-Stokes :  $Re = \\frac{vL}{ \\nu }$ où $\\nu$ est donc la viscosité du fluide, $v$ une vitesse caractéristique de l'écoulement et $L$ est une longueur caractéristique.\n",
    "---"
   ]
  },
  {
   "cell_type": "code",
   "execution_count": 1,
   "metadata": {
    "collapsed": false
   },
   "outputs": [
    {
     "data": {
      "image/jpeg": "[encoded data removed]",
      "text/html": [
       "\n",
       "        <iframe\n",
       "            width=\"400\"\n",
       "            height=\"300\"\n",
       "            src=\"https://www.youtube.com/embed/VFwK2BsWcOc\"\n",
       "            frameborder=\"0\"\n",
       "            allowfullscreen\n",
       "        ></iframe>\n",
       "        "
      ],
      "text/plain": [
       "<IPython.lib.display.YouTubeVideo at 0x7fc6ac174668>"
      ]
     },
     "execution_count": 1,
     "metadata": {},
     "output_type": "execute_result"
    }
   ],
   "source": [
    "from IPython.display import YouTubeVideo\n",
    "YouTubeVideo('VFwK2BsWcOc')"
   ]
  },
  {
   "cell_type": "markdown",
   "metadata": {},
   "source": [
    "###### Figure 1. Video du problème Stokes flow (Lid Driven Cavity problem) résolu pour une valeur du nombre de Reynolds de $Re = 400$ par la méthode SPH (Smoothed Particle Hydrodynamics) détaillé dans le lien [2] fournit dans les sources.\n",
    "\n",
    "---"
   ]
  },
  {
   "cell_type": "markdown",
   "metadata": {},
   "source": [
    "A présent, redérivons succintement les fonctions de vorticité-flux comme nous l'avons vu dans l'introduction théorique de ce TP. \n",
    "\n",
    "Débutons pour cela par les équations de Navier-Stokes pour un écoulement incompressible\n",
    "\n",
    "\\begin{equation}\n",
    "\\frac{\\partial u}{\\partial t} + u \\cdot \\nabla u = -\\frac{1}{\\rho}\\nabla p + \\nu\\nabla^2 u\n",
    "\\end{equation}\n",
    "\n",
    "et procédons à une mise à l'échelle de cette équation,\n",
    "\n",
    "\\begin{equation}→\n",
    "Re \\left(\\frac{\\partial u^*}{\\partial t} + u^* \\cdot \\nabla u^* \\right) = -\\nabla p^* + \\nabla^2 u^*\n",
    "\\end{equation}\n",
    "\n",
    "L'équation de transport de vorticité pour l'écoulement de Stokes est alors obtenue en utilisant l'hypothèse Stokes d'un nombre de Reynolds proche de 0 permettant de se débarasser des termes non-linéaire tout en procédant au remaniement de certain termes. Nous obtenons donc\n",
    "\n",
    "\\begin{equation}\n",
    "\\nabla ^2 \\omega = 0\n",
    "\\end{equation}\n",
    "\n",
    "$$\n",
    "{}\n",
    "$$\n",
    "\n",
    "L'équation pour la fonction de courant \n",
    "\n",
    "$$\n",
    "\\begin{array}{}\n",
    "\\nabla ^2 \\psi = -\\omega  \\hspace{2.0cm} (* *)\n",
    "\\end{array}\n",
    "$$\n",
    "\n",
    "est quant à elle obtenue par une simple manipulation des relations qui définissent la fonction de courant, à savoir :\n",
    "\n",
    "\\begin{equation}\n",
    "u = \\frac{\\partial \\psi}{\\partial y} \\hspace{1.0cm} \\text{   et   } \\hspace{1.0cm} v = - \\frac{\\partial \\psi}{\\partial x}\n",
    "\\end{equation}\n",
    "\n",
    " et de la vorticité exprimée en 2d par :\n",
    " \n",
    "\\begin{equation}\n",
    "\\omega = \\frac{\\partial v}{\\partial x} - \\frac{\\partial u}{\\partial y}\n",
    "\\end{equation}\n",
    "\n",
    "Nous obtenons donc le système suivant de deux équations couplées qui nous permet de décrire l'écoulement du fluide dans notre problème\n",
    "\n",
    "$$\n",
    "\\left\\{\n",
    "\\begin{array}{}\n",
    "\\Delta \\omega = 0 \\hspace{2.5cm} (*)\\\\\n",
    "\\Delta \\psi = - \\omega \\hspace{2.0cm} (* *)\n",
    "\\end{array}\n",
    "\\right.\n",
    "$$\n",
    "\n",
    "Passons maintenant à la discrétisation de ces équations."
   ]
  },
  {
   "cell_type": "markdown",
   "metadata": {},
   "source": [
    "---\n",
    "\n",
    "##### 2. Discrétisation des équations courant-vorticité et des conditions aux bords.\n",
    "\n",
    "---\n",
    "\n",
    "#### 2.1 Discrétisation des équations :\n",
    "---\n",
    "\n",
    "Nous disposons donc le système d'équations couplés suivant à discrétiser:\n",
    "\n",
    "$$\n",
    "\\left\\{\n",
    "\\begin{array}{}\n",
    "\\Delta \\omega = 0    \\hspace{3.5cm}  (*)\\\\\n",
    "\\Delta \\psi = - \\omega \\hspace{3.0cm}  (* *)\n",
    "\\end{array}\n",
    "\\right.\n",
    "$$\n",
    "\n",
    "L'équation $(*)$ n'est rien d'autre qu'une équation de Laplace tandis que l'équation $(* *)$ correspond à une équation de Poisson dont le terme de source n'est autre que la fonction de vorticité $\\omega$.\n",
    "Par conséquent, la discrétisation de nos équations sera très similaire à ce que nous avons put voir dans les notebook de ce 5ème module.\n",
    "Commençons par l'équation $(*)$.\n",
    "\n",
    "$$\n",
    "{}\n",
    "$$\n",
    "\n",
    "* Discrétisation de l'équation $(*)$:\n",
    "\n",
    "À 2 dimension, notre équation est donnée par :\n",
    "\n",
    "\\begin{equation}\n",
    "\\hspace{1.0cm} \\frac{\\partial ^2 \\omega}{\\partial x^2} + \\frac{\\partial ^2 \\omega}{\\partial y^2} = 0\n",
    "\\end{equation}\n",
    "\n",
    "Discrétisons cette dernière au moyen d'une différence centrale comme suit :\n",
    "\n",
    "\\begin{equation}\n",
    "→ \\frac{\\omega^{k}_{i+1, j}  - 2\\omega^{k}_{i,j}  + \\omega^{k}_{i-1,j} }{\\Delta x^2} + \\frac{\\omega^{k}_{i,j+1}  - 2\\omega^{k}_{i,j}  + \\omega^{k}_{i, j-1} }{\\Delta y^2} = 0\n",
    "\\end{equation}\n",
    "\n",
    "qui, lorsque $\\Delta x^2 = \\Delta y^2$ nous donne :\n",
    "\n",
    "\\begin{equation}\n",
    "→ \\omega^{k}_{i+1, j}   + \\omega^{k}_{i-1,j} + \\omega^{k}_{i,j+1}  + \\omega^{k}_{i, j-1}- 4 \\omega^{k}_{i,j} = 0\n",
    "\\end{equation}\n",
    "\n",
    "ou encore, en procédant à quelques réarrangements,\n",
    "\n",
    "\\begin{equation}\n",
    "→ \\omega^{k}_{i,j} = \\frac{1}{4} \\left(\\omega^{k}_{i,j-1} + \\omega^k_{i,j+1} + \\omega^{k}_{i-1,j} + \\omega^k_{i+1,j} \\right)\n",
    "\\end{equation}\n",
    "\n",
    "$$\n",
    "{}\n",
    "$$\n",
    "\n",
    "* Discrétisation de l'équation $(* *)$:\n",
    "\n",
    "À 2 dimension, notre équation est donnée par :\n",
    "\n",
    "\\begin{equation}\n",
    "\\frac{\\partial ^2 \\psi}{\\partial x^2} + \\frac{\\partial ^2 \\psi}{\\partial y^2} = - \\omega\n",
    "\\end{equation}\n",
    "\n",
    "Discrétisons cette équation de Poisson comme on l'a vu dans le second notebook de ce module, e.g, au moyen d'une diférence centrale pour les dérivées et avec $- \\omega$ comme terme de source :\n",
    "\n",
    "\n",
    "\\begin{equation}\n",
    "→ \\frac{\\psi_{i+1,j}^{k}-2\\psi_{i,j}^{k}+\\psi_{i-1,j}^{k}}{\\Delta x^2}+\\frac{\\psi_{i,j+1}^{k}-2 \\psi_{i,j}^{k}+\\psi_{i,j-1}^{k}}{\\Delta y^2} = -  \\omega_{i,j}^{k}\n",
    "\\end{equation}\n",
    "\n",
    "Or nous avons ici que $\\Delta x^2 = \\Delta y^2$\n",
    "\n",
    "\\begin{equation}\n",
    "→ \\frac{\\psi_{i+1,j}^{k}-2\\psi_{i,j}^{k}+\\psi_{i-1,j}^{k}}{\\Delta x^2}+\\frac{\\psi_{i,j+1}^{k}-2 \\psi_{i,j}^{k}+\\psi_{i,j-1}^{k}}{\\Delta x^2} = -  \\omega_{i,j}^{k}\n",
    "\\end{equation}\n",
    "\n",
    "On fait alors passer le delta dans le membre de droite,\n",
    "\n",
    "\\begin{equation}\n",
    "→ \\psi_{i+1,j}^{k} - 4\\psi_{i,j}^{k}+ \\psi_{i-1,j}^{k} + \\psi_{i,j+1}^{k} + \\psi_{i,j-1}^{k} = - \\omega_{i,j}^{k} \\Delta x^2\n",
    "\\end{equation}\n",
    "\n",
    "et on isole finalement $\\psi_{i,j}^{k}$,\n",
    "\n",
    "$$\n",
    "\\begin{array}{}\n",
    "→ \\psi_{i,j}^{k} = \\frac{1}{4} \\left( \\psi_{i+1,j}^{k} + \\psi_{i-1,j}^{k} + \\psi_{i,j+1}^{k} + \\psi_{i,j-1}^{k} + \\omega_{i,j}^{k} \\Delta x^2 \\right)\n",
    "\\end{array}\n",
    "$$"
   ]
  },
  {
   "cell_type": "markdown",
   "metadata": {},
   "source": [
    "---\n",
    "#### 2.2 Discrétisation des conditions aux bords :\n",
    "---\n",
    "\n",
    "Pour rappel, nous disposons des conditions aux bords (CB) de Neumann et de Dirichlet (respectivement) pour la fonction de courant $\\psi$ suivantes :\n",
    "\n",
    "$$\n",
    "\\left\\{\n",
    "\\begin{array}{}\n",
    "\\frac{\\partial \\psi}{\\partial x} = 0 \\hspace{0.5cm} \\text{ et } \\hspace{0.5cm} \\psi = 0 \\hspace{1.0cm} \\text{(bord gauche)}\\\\\n",
    "\\frac{\\partial \\psi}{\\partial x} = 0 \\hspace{0.5cm} \\text{ et } \\hspace{0.5cm} \\psi = 0 \\hspace{1.0cm} \\text{(bord droit)}\\\\\n",
    "\\frac{\\partial \\psi}{\\partial y} = 0 \\hspace{0.5cm} \\text{ et } \\hspace{0.5cm} \\psi = 0 \\hspace{1.0cm} \\text{(bord inférieur)}\\\\\n",
    "\\frac{\\partial \\psi}{\\partial y} = 1 \\hspace{0.5cm} \\text{ et } \\hspace{0.5cm} \\psi = 0 \\hspace{1.0cm} \\text{(bord supérieur)}\n",
    "\\end{array}\n",
    "\\right.\n",
    "$$\n",
    "\n",
    "$$\n",
    "{}\n",
    "$$\n",
    "\n",
    "Nous désirons alors discrétiser les conditions aux bords pour la fonctions de vorticité $\\omega$ en tenant en compte les CB pour $\\psi$.\n",
    "\n",
    "Débutons par le bord supérieur. \n",
    "\n",
    "Pour cela, développons quelque peu le raisonnement aborder dans l'introduction théorique de ce TP, en commençant par discrétiser $\\omega$ au moyen d'un différence centrale du second ordre:\n",
    "\n",
    "\\begin{equation}\n",
    "→ \\omega_j = - \\left(\\frac{\\psi_{j+1} - 2\\psi_j + \\psi_{j-1}}{\\Delta y^2}\\right)\n",
    "\\end{equation}\n",
    "\n",
    "Nous allons ensuite utiliser une discrétisation du 3e ordre le long du bord supérieur. Cette discrétisation s'opère en prenant 3 points proches du bord comme illustré sur la figure 2 ci-dessous:\n",
    "\n",
    "---\n",
    "\n",
    "![Image](./figures/bord_sup.png)\n",
    "\n",
    "---\n",
    "###### Figure 2. Esquisse des points, sélectionnés de part et d'autre du bord supérieur du domaine, utiles à la discrétisation de ce dernier.\n",
    "\n",
    "$$\n",
    "{}\n",
    "$$\n",
    "\n",
    "La fonction de courant $\\psi$ est alors développée en série de puissance en ces 3 points :\n",
    "\n",
    "$$\n",
    "\\begin{array}{}\n",
    "\\psi (y+ \\Delta y) = \\psi (y) + \\frac{\\partial \\psi}{\\partial y} \\Delta y+ \\frac{1}{2} \\frac{\\partial ^2 \\psi}{\\partial y^2} \\Delta y^2 + \\frac{1}{6} \\frac{\\partial ^3 \\psi}{\\partial y^3} \\Delta y^3 + \\mathcal{O}(\\Delta y^4) \\hspace{0.7cm} (i)\\\\\n",
    "\\psi (y- \\Delta y) = \\psi (y) - \\frac{\\partial \\psi}{\\partial y} \\Delta y+ \\frac{1}{2} \\frac{\\partial ^2 \\psi}{\\partial y^2} \\Delta y^2 - \\frac{1}{6} \\frac{\\partial ^3 \\psi}{\\partial y^3} \\Delta y^3 + \\mathcal{O}(\\Delta y^4) \\hspace{0.7cm} (ii)\\\\\n",
    "\\psi (y- 2 \\Delta y) = \\psi (y) - 2 \\frac{\\partial \\psi}{\\partial y} \\Delta y+ 2 \\frac{\\partial ^2 \\psi}{\\partial y^2} \\Delta y^2 - \\frac{4}{3} \\frac{\\partial ^3 \\psi}{\\partial y^3} \\Delta y^3 + \\mathcal{O}(\\Delta y^4) \\hspace{0.1cm} (iii)\\\\\n",
    "\\end{array}\n",
    "$$\n",
    "\n",
    "$$\n",
    "{}\n",
    "$$\n",
    "\n",
    "\n",
    "Nous multiplions ensuite (i) par a, (ii) par b et (iii) par c et nous sommons les termes en les dérivées premières, seconde et troisième en imposant que ces trois sommes valent, respectivement 1, 0 et 0 et ce afin de ne conserver au final que les dérivées premières.\n",
    "\n",
    "Nous disposons donc du système suivant à résoudre :\n",
    "\n",
    "$$\n",
    "\\left\\{\n",
    "\\begin{array}{}\n",
    "a - b - 2c = 1\\\\\n",
    "\\frac{1}{2}a + \\frac{1}{2}b + 2c =0\\\\\n",
    "\\frac{1}{6}a - \\frac{1}{6}b - \\frac{4}{3} c =0\n",
    "\\end{array}\n",
    "\\right.\n",
    "$$\n",
    "\n",
    "La résolution de ce système nous fournit alors trois coefficients qui lorsque l'on somme (i), (ii) et (iii) annule comme souhaité les termes en les dérivées seconde et troisième. Nous obtenons ainsi \n",
    "\n",
    "\\begin{equation}\n",
    "\\hspace{-1.5cm}(i) + (ii) + (iii) : \\hspace{0.5cm}\\frac{1}{3}\\psi_{j+1} - \\psi_{j-1} + \\frac{1}{6}\\psi_{j-2} = - \\frac{1}{2}\\psi_{j} + \\left. \\frac{\\partial \\psi}{\\partial y}\\right|_j \\Delta y\n",
    "\\end{equation}\n",
    "\n",
    "dès lors\n",
    "\n",
    "\\begin{equation}\n",
    "→ \\left.\\frac{\\partial \\psi}{\\partial y}\\right|_j = \\frac{2\\psi_{j+1} - 6\\psi_{j-1} + \\psi_{j-2} + 3\\psi_j}{6 \\Delta y}\n",
    "\\end{equation}\n",
    "\n",
    "Ce qui correspond bien à l'expression donnée dans la partie théorique de l'énoncé de ce TP et où \n",
    "\n",
    "$$\n",
    "\\begin{array}{}\n",
    "\\left.\\frac{\\partial \\psi}{\\partial y}\\right|_j = u_j = 1\n",
    "\\end{array}\n",
    "$$\n",
    "\n",
    "$$\n",
    "{}\n",
    "$$\n",
    "\n",
    "Isolons maintenant $\\psi_{j+1}$ (la valeur de $\\psi$ hors du domaine) pour obtenir ce dernier en fonction de points du domaine uniquement:\n",
    "\n",
    "\\begin{equation}\n",
    "\\psi_{j+1} = \\frac{6\\Delta y + 6 \\psi_{j-1} - \\psi_{j-2} - 3\\psi_j}{2}\n",
    "\\end{equation}\n",
    "\n",
    "Injectons ensuite ceci dans l'expression discrétisée de $\\omega$ pour finalement obtenir (avec $\\psi_{i,j} = 0$, notre condition au bord de Dirichlet):\n",
    "\n",
    "$$\n",
    "\\begin{array}{}\n",
    "\\omega_{i,j} = -\\frac{1}{2 \\Delta y^2} (8\\psi_{i, j-1} - \\psi_{i, j-2}) - \\frac{3}{\\Delta y} + \\mathcal{O}(\\Delta y^2)  \\hspace{1.5cm} \\text{(bord supérieur)}\n",
    "\\end{array}\n",
    "$$\n",
    "\n",
    "$$\n",
    "{}\n",
    "$$\n",
    "\n",
    "La CB du bord supérieur étant fait, nous pouvons attaquer les 3 autres bords. \n",
    "\n",
    "Brièvement, en prenant les points repris sur la figure 3, \n",
    "\n",
    "---\n",
    "\n",
    "![Image](./figures/bords.png)\n",
    "\n",
    "---\n",
    "###### Figure 3. Esquisse des points sélectionnés de part et d'autre des bords inférieur, gauche et droit du domaine, utiles à la discrétisation de ce dernier.\n",
    "\n",
    "$$\n",
    "{}\n",
    "$$\n",
    "\n",
    "et en procédant similairement à ce qui a été fait pour le bord supérieur tout en veillant à isoler le point hors du domaine qui diffère d'un bord à l'autre tout en appliquant les conditions aux bords de Neumann et de Dirichlet adéquates rappeler plus haut, nous obtenons :\n",
    "\n",
    "$$\n",
    "{}\n",
    "$$\n",
    "\n",
    "$$\n",
    "\\left\\{\n",
    "\\begin{array}{}\n",
    "\\omega_{i,j} = -\\frac{1}{2 \\Delta ^2} (8\\psi_{i, j+1} - \\psi_{i, j+2}) + \\frac{3}{\\Delta} + \\mathcal{O}(\\Delta ^2) \\hspace{1.5cm} \\text{(bord inférieur)}\\\\\n",
    "\\omega_{i,j} = -\\frac{1}{2 \\Delta ^2} (8\\psi_{i-1, j} - \\psi_{i-2, j}) - \\frac{3}{\\Delta} + \\mathcal{O}(\\Delta ^2) \\hspace{1.5cm} \\text{(bord droit)}\\\\\n",
    "\\omega_{i,j} = -\\frac{1}{2 \\Delta ^2} (8\\psi_{i+1, j} - \\psi_{i+2, j}) + \\frac{3}{\\Delta} + \\mathcal{O}(\\Delta ^2) \\hspace{1.5cm} \\text{(bord gauche)}\\\\\n",
    "\\end{array}\n",
    "\\right.\n",
    "$$"
   ]
  },
  {
   "cell_type": "markdown",
   "metadata": {},
   "source": [
    "---\n",
    "\n",
    "##### 3. Résolution du Problème.\n",
    "---\n",
    "\n",
    "Maintenant que nous disposons de tout les outils théoriques utiles, nous pouvons passer à la résolution de notre problème qui, comme annoncé dans l'introduction, sera réalisé par diverse méthodes dans le but de comparer l'efficacité de ces dernières.\n",
    "\n",
    "La première d'entre-elle n'est autre que la méthode de Jacobi. Elle sera suivie d'une version compilée d'elle même, de la méthode de Gauss-Seidel et finalement de la méthode de SOR (Successive Over-Relaxation) qui se repose toutes sur la méthode qui la précède (en suivant l'ordre d'énonciation)."
   ]
  },
  {
   "cell_type": "markdown",
   "metadata": {},
   "source": [
    "---\n",
    "\n",
    "#### 3.1 Méthode de Jacobi.\n",
    "---\n",
    "\n",
    "Commençons par importer les librairies qui nous seront utiles pour la suite."
   ]
  },
  {
   "cell_type": "code",
   "execution_count": 2,
   "metadata": {
    "collapsed": true
   },
   "outputs": [],
   "source": [
    "from mpl_toolkits.mplot3d import Axes3D\n",
    "from matplotlib import pyplot, cm\n",
    "from math import pi\n",
    "import numpy\n",
    "%matplotlib inline\n",
    "from matplotlib import rcParams\n",
    "rcParams['font.family'] = 'serif'\n",
    "rcParams['font.size'] = 16"
   ]
  },
  {
   "cell_type": "markdown",
   "metadata": {},
   "source": [
    "Nous définissons ensuite une fonction pour la norme L1 d'après l'algorithme qui nous a été donné.\n",
    "\n",
    "Une fois implémentée, cette dernière va donc nous permettre de définir un critère d'arrêt basé sur l'intervalle entre deux solutions successives égale à la précision souhaitée soit $10^{-6}$ dans ce cas-ci.\n",
    "\n",
    "En outre, cette norme nous permettra d'étudier la rapidité de convergence des diverses méthode qui seront abordées.\n",
    "\n",
    "Finalement, notons que l'utilisation de la norme L1 plutôt qu'une norme L2 (voir une norme infinie) comme nous l'avons fait tout au long des notebooks de ce module est un simple choix."
   ]
  },
  {
   "cell_type": "code",
   "execution_count": 3,
   "metadata": {
    "collapsed": true
   },
   "outputs": [],
   "source": [
    "def L1norm(new, old):\n",
    "    norm = numpy.sum(numpy.abs(new-old))\n",
    "    return norm"
   ]
  },
  {
   "cell_type": "markdown",
   "metadata": {},
   "source": [
    "Nous allons maintenant redéfinir quelque peu la fonction Jacobi que nous avons vu dans le 1er notebook en tenant compte de notre problème, ses conditions aux bords et ses conditions intiales.\n",
    "\n",
    "Le premier changement à opérer consiste à modifier la condition d'arrêt de la boucle while opérant l'algorithme de la méthode de Jacobi. En effet, la fonction Jacobi était initialement conçue pour résoudre numériquement une équation de Laplace or, comme nous l'avons mentionné précédemment, nous disposons ici d'un système d'équation couplées constitué d'une équation de Poisson pour $\\psi$ et d'une équation de Laplace pour $\\omega$.\n",
    "\n",
    "Notre nouveau critère d'arrêt doit donc se basé sur une norme calculée d'après les valeurs de $\\omega$ et sur une seconde norme calculée d'après les valeurs de $\\psi$. Les deux normes devant avoir une valeur plus petite que la précision souhaité pour satisfaire totalement à notre nouveau critère d'arrêt.  \n",
    "\n",
    "Le deuxième changement se situe au sein même de la boucle while et consiste en l'implémentation de la discrétisation des équations $(*)$ et $(* *)$ ainsi que des conditions au bords pour $\\omega$.\n",
    "\n",
    "Notons enfin que les conditions aux bords seront calculées juste avant l'implémentation de l'équation de poisson étant donné que $\\omega$ n'est autre que le terme de source de cette dernière. Il convient donc de mettre à jour les valeurs de  $\\omega$ avant de les utilisées pour le calcul de $\\psi$.\n",
    "\n",
    "Nous avons donc la fonction de Jacobi suivante.\n",
    "\n",
    "NB: La fonction *jacobi* nous retournera les 4 informations utiles, pour répondre aux questions qui nous ont été posées, à savoir: \n",
    "\n",
    "- la valeur de $\\psi$ pour tout notre domaine à la dernière itération\n",
    "- la valeur de $\\omega$ pour tout notre domaine à la dernière itération\n",
    "- le nombre d'itération nécessaire pour parvenir à satisfaire notre critère d'arrêt\n",
    "- le tableau de la norme L1 de psi pour l'étude de la convergence de la méthode"
   ]
  },
  {
   "cell_type": "code",
   "execution_count": 4,
   "metadata": {
    "collapsed": false
   },
   "outputs": [],
   "source": [
    "def jacobi(om, psi, d, l1_target):\n",
    "    '''Résoud itérativement le système d'équations formé par l'équation de\n",
    "    Laplace pour omega et l'équation de Poisson pour psi en utilisant la\n",
    "    méthode de Jacobi.\n",
    "    \n",
    "    Paramètres:\n",
    "    ----------\n",
    "    om: Tableau à 2D de float (\"nombre à virgule flottante\")\n",
    "        distribution initiale de la voriticité omega\n",
    "    psi: Tableau à 2D de float\n",
    "        distribution initiale de la fonction de courant psi\n",
    "    l1_target: float \n",
    "        Objectif pour la différence entre deux solutions consécutives\n",
    "        (critère d'arrêt)\n",
    "    d: float\n",
    "        intervalle entre deux points de notre réseau de points\n",
    "        \n",
    "    Retournes:\n",
    "    -------\n",
    "    om: Tableau à 2D de float\n",
    "        Distribution de omega après relaxation.\n",
    "    '''\n",
    "    \n",
    "    # Initialisation des variables et tableaux utiles\n",
    "    norme_om = 1\n",
    "    norme_psi = 1\n",
    "    omn = numpy.empty_like(om)     \n",
    "    psin = numpy.empty_like(psi)   \n",
    "    iterations = 0\n",
    "    l1_conv=[]\n",
    "    \n",
    "    #On lance notre boucle while avec le critère d'arrêt double pour \"l1_target\"\n",
    "    while norme_psi > l1_target and norme_om > l1_target:\n",
    "        omn = om.copy()\n",
    "        psin = psi.copy()\n",
    "        \n",
    "        # Calcul des nouvelles valeurs de omega\n",
    "        om[1:-1,1:-1] = 0.25 * (omn[1:-1,2:] + omn[1:-1, :-2]\\\n",
    "                             + omn[2:, 1:-1] + omn[:-2, 1:-1])\n",
    "    \n",
    "        \n",
    "        # On impose les conditions aux bords\n",
    "        om[-1,:] = -0.5/(d**2)*(8*psi[-2,:]-psi[-3,:])-(3/d)  # Bord supérieur\n",
    "        om[0,:] = -0.5/(d**2)*(8*psi[1,:]-psi[2,:])           # Bord inférieur\n",
    "        om[:,-1] = -0.5/(d**2)*(8*psi[:,-2]-psi[:,-3])        # Bord droit\n",
    "        om[:,0] = -0.5/(d**2)*(8*psi[:,1]-psi[:,2])           # Bord gauche\n",
    "        \n",
    "        # Calcul des nouvelles valeurs de psi\n",
    "        psi[1:-1,1:-1] = 0.25 * (psin[1:-1,2:] + psin[1:-1,:-2]\\\n",
    "                              + psin[2:,1:-1] + psin[:-2,1:-1]\\\n",
    "                              + om[1:-1,1:-1] * d**2)\n",
    "\n",
    "        #Calcul des normes et sauvegarde de la norme pour psi\n",
    "        norme_psi = L1norm(psi,psin)      # Calcul de la norme pour psi\n",
    "        norme_om  = L1norm(om,omn)        # Calcul de la norme pour omega\n",
    "        iterations += 1                   # l'itération est élevé d'une unité\n",
    "        l1_conv.append(norme_psi)         # Sauvegarde de la norme pour psi\n",
    "\n",
    "    return psi, om, iterations, l1_conv"
   ]
  },
  {
   "cell_type": "markdown",
   "metadata": {},
   "source": [
    "Enfin, nous définissons une dernière fonction qui n'est autre que la fonction \" *plot_3D* \" vue dès le premier notebook de ce module et qui va nous permettre de mieux visualiser la solution de notre problème."
   ]
  },
  {
   "cell_type": "code",
   "execution_count": 5,
   "metadata": {
    "collapsed": true
   },
   "outputs": [],
   "source": [
    "def plot_3D(x, y, p):\n",
    "    '''Créer un graphique en 3D avec les limites et l'angle de vue approprié\n",
    "\n",
    "    Paramètres:\n",
    "    ----------\n",
    "    x: Tableau de float (\"nombre à virgule flottante\")\n",
    "        Coordonnées nodales en x\n",
    "    y: Tableau de float (\"nombre à virgule flottante\")\n",
    "        Coordonnées nodales en x\n",
    "    psi: Tableau à 2D de float\n",
    "        Distribution de p calculée\n",
    "    \n",
    "    '''\n",
    "    \n",
    "    fig = pyplot.figure(figsize=(11,7), dpi=100)\n",
    "    ax = fig.gca(projection='3d')\n",
    "    X,Y = numpy.meshgrid(x,y)\n",
    "    surf = ax.plot_surface(X,Y,p[:], rstride=1, cstride=1, cmap=cm.viridis,\n",
    "            linewidth=0, antialiased=False)\n",
    "\n",
    "    ax.set_xlim(0,1)\n",
    "    ax.set_ylim(0,1)\n",
    "    ax.set_xlabel('$x$')\n",
    "    ax.set_ylabel('$y$')\n",
    "    ax.set_zlabel('$z$')\n",
    "    ax.view_init(30,45)"
   ]
  },
  {
   "cell_type": "markdown",
   "metadata": {},
   "source": [
    "Maintenant que nous disposons de tout les outils utiles à la résolution de notre problème, il ne nous reste qu'a initialiser nos paramètres et conditions initiales ainsi que les conditions aux bords pour la configuration initiale."
   ]
  },
  {
   "cell_type": "code",
   "execution_count": 6,
   "metadata": {
    "collapsed": false
   },
   "outputs": [],
   "source": [
    "#Initialisation des paramètres initiaux\n",
    "nx = 41            # Nombre de point discrétisant l'axe x\n",
    "ny = 41            # Nombre de point discrétisant l'axe y\n",
    "l = 1.             # Limite en x de notre domaine (cavité)\n",
    "h = 1.             # Limite en y de notre domaine (cavité)\n",
    "d = l/(nx-1)       # delta\n",
    "l1_target = 1e-6   # Critère d'arrêt\n",
    "\n",
    "# Conditions initiales\n",
    "psi0 = numpy.zeros((ny,nx))\n",
    "om0  = numpy.zeros((ny,nx))\n",
    "\n",
    "# Bord supérieur\n",
    "om0[-1,:] = -0.5/(d**2)*(8*psi0[-2,:]-psi0[-3,:])-(3/d) \n",
    "                                                                       \n",
    "# Bord inférieur\n",
    "om0[0,:] = -0.5/(d**2)*(8*psi0[1,:]-psi0[2,:])\n",
    "\n",
    "# Bord droit\n",
    "om0[:,-1] = -0.5/(d**2)*(8*psi0[:,-2]-psi0[:,-3])\n",
    "        \n",
    "# Bord gauche\n",
    "om0[:,0] = -0.5/(d**2)*(8*psi0[:,1]-psi0[:,2])\n",
    "\n",
    "\n",
    "# Aide au traçage\n",
    "x = numpy.linspace(0,l,nx)\n",
    "y = numpy.linspace(0,h,ny)"
   ]
  },
  {
   "cell_type": "markdown",
   "metadata": {},
   "source": [
    "Vérifions que nos conditions initiales et conditions aux bords aient correctements été implémentées à l'aide d'une figure à 3D et donc à l'aide de notre fonction \"*plot _3D*\".\n",
    "\n",
    "Pour $\\psi$ nous avons ainsi :"
   ]
  },
  {
   "cell_type": "code",
   "execution_count": 7,
   "metadata": {
    "collapsed": false
   },
   "outputs": [
    {
     "data": {
      "text/plain": [
       "<matplotlib.text.Text at 0x7fc6904972e8>"
      ]
     },
     "execution_count": 7,
     "metadata": {},
     "output_type": "execute_result"
    },
    {
     "data": {
      "image/png": "[encoded data removed]",
      "text/plain": [
       "<matplotlib.figure.Figure at 0x7fc68a478160>"
      ]
     },
     "metadata": {},
     "output_type": "display_data"
    }
   ],
   "source": [
    "plot_3D(x,y,psi0)\n",
    "pyplot.title(\"Fonction de courant $\\psi$\", fontsize = 25)"
   ]
  },
  {
   "cell_type": "markdown",
   "metadata": {},
   "source": [
    "Ce qui est conforme à nos attentes.\n",
    "Regardons alors la fonction de vorticité $\\omega$ :"
   ]
  },
  {
   "cell_type": "code",
   "execution_count": 8,
   "metadata": {
    "collapsed": false
   },
   "outputs": [
    {
     "data": {
      "text/plain": [
       "<matplotlib.text.Text at 0x7fc673f85978>"
      ]
     },
     "execution_count": 8,
     "metadata": {},
     "output_type": "execute_result"
    },
    {
     "data": {
      "image/png": "[encoded data removed]",
      "text/plain": [
       "<matplotlib.figure.Figure at 0x7fc673f44c18>"
      ]
     },
     "metadata": {},
     "output_type": "display_data"
    }
   ],
   "source": [
    "plot_3D(x,y,om0)\n",
    "pyplot.title(\"Fonction de vorticité $\\omega$\", fontsize = 25)"
   ]
  },
  {
   "cell_type": "markdown",
   "metadata": {},
   "source": [
    "Ce qui est à nouveau conforme à nos attentes. En effet prenons, par exemple, la valeur de $\\omega_z$ minimale (la composante z de $\\omega$) correspondant au niveau du bord inférieur.\n",
    "\n",
    "Etant donné que $\\psi$ est initialement nul nous aurons que \n",
    "\n",
    "$$\n",
    "\\begin{array}{}\n",
    "\\omega = -\\frac{3}{d}\n",
    "\\end{array}\n",
    "$$\n",
    "\n",
    "ce qui nous donne d'après l'expression de d : \n",
    "\n",
    "$$\n",
    "\\begin{array}{}\n",
    "d = \\frac{l}{nx-1} = 0.025\\hspace{2.0cm} \\text{avec } l = 1 \\text{ et }  nx =41\n",
    "\\end{array}\n",
    "$$\n",
    "\n",
    "→ $\\omega = -120$ ,ce qui est bien ce que l'on observe.\n",
    "\n",
    "Nos conditions initiales étant correctement été implémentée nous pouvons désormais faire appel à notre fonction \" *jacobi* \" pour résoudre notre problème."
   ]
  },
  {
   "cell_type": "code",
   "execution_count": 9,
   "metadata": {
    "collapsed": false
   },
   "outputs": [
    {
     "name": "stdout",
     "output_type": "stream",
     "text": [
      "\n",
      "→ La méthode de Jacobi prend 2771 itérations à la tolérance 1e-06\n"
     ]
    }
   ],
   "source": [
    "psi, om, iterations, l1_conv = jacobi(om0.copy(), psi0.copy(), d, l1_target)\n",
    "\n",
    "print(\"\\n→ La méthode de Jacobi prend {} itérations à la tolérance {}\".format(iterations, l1_target))"
   ]
  },
  {
   "cell_type": "markdown",
   "metadata": {},
   "source": [
    "Nous voyons dors et déjà via cette \"impression\" du nombre d'itération, que l'algorithme que nous venons d'implémenter fonctionne (cela n'implique pas pour autant que le résultat soit correcte). \n",
    "\n",
    "NB: Le nombre d'itération que nous venons de ressortir nous sera utile par la suite, lorsque nous comparerons l'efficacité des diverses méthodes que nous testerons."
   ]
  },
  {
   "cell_type": "markdown",
   "metadata": {},
   "source": [
    "Avant de calculer les diverses données nécessaires pour vérifier la bonne implémentation de la méthode Jacobi vérifions au moyen d'une figure à 2D que notre situation finale correspond bien à celle figurant sur le site :\n",
    "\n",
    "http://openedx.seas.gwu.edu/courses/GW/MAE6286/2014_fall/info"
   ]
  },
  {
   "cell_type": "code",
   "execution_count": 10,
   "metadata": {
    "collapsed": false
   },
   "outputs": [
    {
     "data": {
      "image/png": "[encoded data removed]",
      "text/plain": [
       "<matplotlib.figure.Figure at 0x7fc680f3b780>"
      ]
     },
     "metadata": {},
     "output_type": "display_data"
    }
   ],
   "source": [
    "pyplot.figure(figsize=(7,7))\n",
    "pyplot.contourf(x,y,psi,10,cmap=cm.viridis)\n",
    "pyplot.title(\"Fonction de courant $\\psi$\", fontsize = 25)\n",
    "pyplot.xlabel('$x$', fontsize=24)\n",
    "pyplot.ylabel('$y$', fontsize=24)\n",
    "pyplot.tick_params(axis='both',labelsize=20)"
   ]
  },
  {
   "cell_type": "markdown",
   "metadata": {},
   "source": [
    "Ce qui correspond exactement à la figure représentée.\n",
    "\n",
    "Que pouvons nous d'ores et déjà en déduire ? \n",
    "\n",
    "Physiquement, les contours de couleurs du graphique correspondent aux courbes de niveau de $\\psi$, et donc aux lignes de courant. Par conséquent, on en déduit que le système tourne \"par niveau\" à des vitesses différentes. En d'autres termes, le système présente un écoulement tourbillonaire où chaque \"niveau\" présente une certaine vorticité.\n",
    "\n",
    "Notons que cette notion de niveau est uniquement due au nombre de contour que nous avons demandé lors de la définition des contours dans la réalisation de la figure. Par conséquent, il est plus correcte de parler en terme de courbe que de niveau qui laisse suposé l'existence d'une couche dans laquelle les particule auraient la même vitesse.\n",
    "\n",
    "Comme mentionné à l'instant, les particules de fluides se déplace donc le long d'isocourbes. Ainsi, toutes les particules se déplaçant sur une de ces isocourbe auront, par définition, la même vitesse, la même vorticité.\n",
    "\n",
    "Notons enfin que les particules vont moins vite lorsque l'on s'approche du centre du vortex (région bleue foncée), ce que l'on peut également voir dans la vidéo d'introduction.\n",
    "\n",
    "Ceci peut s'expliquer en réfléchissant en terme de flux. En effet, une fois le système relaxé, le flux$^2$ doit-être constant dans le temps d'une isocourbe à une autre. Par conséquent, la distance que doit parcourir une particule sur une isocourbe plus éloigné du centre du vortex sera plus grande que la distance que devra parcourir une même particule sur une isocourbe plus proche du centre du vortex. On comprend alors aisément par cette différence de distance à parcourir que la vitesse variera en fonction de la proximité du centre du vortex. Elle sera moins élevé pour une particule proche du centre de ce dernier que pour une particule plus excentré.\n",
    "\n",
    "---\n",
    "\n",
    "###### [2]\n",
    "---"
   ]
  },
  {
   "cell_type": "markdown",
   "metadata": {},
   "source": [
    "Ressortons maintenant les diverses informations demandées ce qui nous permettra de vérifier une ultime fois si notre problème à correctement été implémenté et résolu.\n",
    "\n",
    "Commençons par ressortir les valeurs maximales (spécifié avec 4 décimales) de $| \\psi |$ et $| \\omega |$ à l'intérieur de la cavité pour la solution \"relaxée\".\n",
    "\n",
    "Pour se faire, nous allons parcourir l'ensemble des valeurs de psi obtenues à la dernière itération à l'aide de 2 boucle for (une première pour l'indice de ligne et une seconde pour l'indice de colonne). Un bouléen nous permettra alors de comparer deux à deux les valeurs absolues de $\\psi$ et de n'en garder que la valeur la plus élevée. Un second bouléen nous permettra alors de faire de même pour $|\\omega|$.\n",
    "\n",
    "\n",
    "Remarque : Comme à notre habitude, nous sortons l'ensemble des résultats avec le nombre de décimales désirées au moyen de la fonction proposé par numpy : $round()$."
   ]
  },
  {
   "cell_type": "code",
   "execution_count": 11,
   "metadata": {
    "collapsed": false
   },
   "outputs": [
    {
     "name": "stdout",
     "output_type": "stream",
     "text": [
      "\n",
      "→ La valeur maximale de la valeur absolue de la fonction de courant, \n",
      " psi, est : 0.0998 \n",
      "\n",
      "→ La valeur maximale de la valeur absolue de la fonction de vorticité, \n",
      " omega, est : 78.1927\n"
     ]
    }
   ],
   "source": [
    "psi_max = 0\n",
    "om_max = 0\n",
    "\n",
    "for i in range (nx):\n",
    "    for j in range (ny):\n",
    "        \n",
    "        if abs(psi[j,i]) > psi_max:      # si psi_max est strictement plus petite que la fonction de courant de l'étape n alors:\n",
    "            psi_max = abs(psi[j,i])      # notre nouvelle valeur maximale de la fonction de courant\n",
    "        \n",
    "        if abs(om[j,i]) > om_max:\n",
    "            om_max = abs(om[j,i])\n",
    "\n",
    "            \n",
    "print(\"\\n→ La valeur maximale de la valeur absolue de la fonction de courant, \\n psi, est :\",round(psi_max,4) ,\"\\n\")\n",
    "print(\"→ La valeur maximale de la valeur absolue de la fonction de vorticité, \\n omega, est :\",round(om_max,4))"
   ]
  },
  {
   "cell_type": "markdown",
   "metadata": {},
   "source": [
    "Nous constatons agréablement que nos valeurs correspondent exactement aux valeurs renseignées par le site.\n",
    "Enfin, ressortons les 6 nombres demandés via le code fournit dans l'énoncé du problème."
   ]
  },
  {
   "cell_type": "code",
   "execution_count": 12,
   "metadata": {
    "collapsed": false
   },
   "outputs": [
    {
     "name": "stdout",
     "output_type": "stream",
     "text": [
      "\n",
      "→ Le 1 er nombre recherché est : 0.0 \n",
      "\n",
      "→ Le 2 ème nombre recherché est : -0.0575 \n",
      "\n",
      "→ Le 3 ème nombre recherché est : -0.0944 \n",
      "\n",
      "→ Le 4 ème nombre recherché est : -0.0944 \n",
      "\n",
      "→ Le 5 ème nombre recherché est : -0.0575 \n",
      "\n",
      "→ Le 6 ème nombre recherché est : 0.0 \n",
      "\n"
     ]
    }
   ],
   "source": [
    "n=[]\n",
    "n= numpy.round(psi[32,::8], 4)\n",
    "\n",
    "for i in range(6):\n",
    "    if i<1:\n",
    "        print(\"\\n→ Le\", i+1,\"er nombre recherché est :\",n[i] ,\"\\n\")\n",
    "    elif i<=6:\n",
    "        print(\"→ Le\", i+1,\"ème nombre recherché est :\",n[i] ,\"\\n\")"
   ]
  },
  {
   "cell_type": "markdown",
   "metadata": {},
   "source": [
    "Ce qui correspond à nouveau aux valeurs (exactes) renseignées par le site.\n",
    "Nous pouvons donc conclure par tout ce qui précède que le problème à correctement été résolu.\n",
    "\n",
    "---\n",
    "\n",
    "Ceci ne signifie toutefois pas que le travail que nous pouvons accomplir est terminé. En effet, comme annoncé dans le début de ce notebook nous allons tenté de résoudre ce problème via quelque unes des diverses méthode de résolution numérique que nous avons vu dans ce 5ème module.\n",
    "\n",
    "La prochaine étape est donc de réalisé une version optimisée de la méthode de Jacobi en passant par des boucles et en compilant cette dernière. En outre, en plus d'accroître la vitesse de résolution de notre problème, cette version optimisée nous servira également de base pour la méthode de résolution suivante, la méthode de Gauss-Seidel."
   ]
  },
  {
   "cell_type": "markdown",
   "metadata": {},
   "source": [
    "---\n",
    "\n",
    "#### 3.2 Méthode de Jacobi compilée.\n",
    "---"
   ]
  },
  {
   "cell_type": "markdown",
   "metadata": {},
   "source": [
    "Commençons par importer les librairies utiles pour la compilation."
   ]
  },
  {
   "cell_type": "code",
   "execution_count": 13,
   "metadata": {
    "collapsed": true
   },
   "outputs": [],
   "source": [
    "import numba\n",
    "from numba import jit"
   ]
  },
  {
   "cell_type": "markdown",
   "metadata": {},
   "source": [
    "Nous allons maintenant définir deux nouvelles fonctions. \n",
    "\n",
    "La première d'entre elle réunira simplement nos conditions aux bords (CB) implémentées via des boucles. En effet, après avoir réaliser les diverses méthodes nécessitant l'emplois de boucles. Nous nous somme rendu compte que puisque les CB étaient identiques, l'emplois d'une fonction réunissant ces dernières pouvaient réduire sensiblement mais de manière assez agréable, le nombre de ligne de code facilitant ainsi la lecture des diverses fonctions utilisées."
   ]
  },
  {
   "cell_type": "code",
   "execution_count": 14,
   "metadata": {
    "collapsed": false
   },
   "outputs": [],
   "source": [
    "@jit(nopython=True)   \n",
    "def CB(psi, om):\n",
    "\n",
    "    for i in range(1,nx-1):\n",
    "        om[-1,i] = -0.5/(d**2)*(8*psi[-2,i]-psi[-3,i])-(3/d) # Bord supérieur\n",
    "        om[0,i] = -0.5/(d**2)*(8*psi[1,i]-psi[2,i])          # Bord inférieur\n",
    "\n",
    "    for j in range(1,ny-1):\n",
    "        om[j,-1] = -0.5/(d**2)*(8*psi[j,-2]-psi[j,-3])       # Bord droit\n",
    "        om[j,0] = -0.5/(d**2)*(8*psi[j,1]-psi[j,2])          # Bord gauche\n",
    "\n",
    "    return om"
   ]
  },
  {
   "cell_type": "markdown",
   "metadata": {},
   "source": [
    "La seconde fonction n'est rien d'autre que notre fonction Jacobi implémentée en terme de boucles à la manière de ce qui a été fait au cours du 3e notebook de ce module (\"*05 03 Iterate This*\").\n",
    "\n",
    "Remarques :\n",
    "* Comme nous savons que le nombre d'itération sera de 2771 (de part la résolution du problème via la méthode de Jacobi et de part ce qui à été dit dans le 3e notebook, e.g que le nombre d'itération ne change pas avec la compilation) pour cette version compilée de la méthode Jacobi nous restreignons la taille des tableaux contenant les valeurs de la norme L1 pour $\\psi$ et $\\omega$ à 3000.\n",
    "\n",
    "* Les variables \"iter_diff_psi\" et \"iter_diff_om\" associées à la valeur des normes L1 de $\\psi$ et $\\omega$ respectivement, sont initialisées à \"l1_target +1\" afin que le critère d'arrêt ne soit pas satisfait dès la première itération."
   ]
  },
  {
   "cell_type": "code",
   "execution_count": 15,
   "metadata": {
    "collapsed": false
   },
   "outputs": [],
   "source": [
    "@jit(nopython=True)\n",
    "def jacobi_compil(om, omn, psi, psin, d, l1_target):\n",
    "    '''Résoud le système d'équations formé par l'équation de\n",
    "    Laplace pour omega et l'équation de Poisson pour psi en utilisant la\n",
    "    méthode de Jacobi avec un stencil à 5 points.\n",
    "    \n",
    "    Paramètres:\n",
    "    ----------\n",
    "    om: Tableau à 2D de float (\"nombre à virgule flottante\")\n",
    "        distribution initiale de la voriticité omega\n",
    "    omn: Tableau à 2D de float\n",
    "        Tableau alloué pour la distribution précédente de om\n",
    "    psi: Tableau à 2D de float\n",
    "        distribution initiale de la fonction de courant psi\n",
    "    psin: Tableau à 2D de float\n",
    "        Tableau alloué pour la distribution précédente de psi\n",
    "    d: float\n",
    "        intervalle entre deux points de notre réseau de points\n",
    "    l1_target: float \n",
    "        Critère d'arrêt\n",
    "        \n",
    "    Retournes:\n",
    "    -------\n",
    "    om: Tableau à 2D de float\n",
    "        Distribution de omega après relaxation.\n",
    "    psi: Tableau à 2D de float\n",
    "        Distribution de psi après relaxation.\n",
    "    '''\n",
    "\n",
    "\n",
    "    omn = numpy.empty_like(om)\n",
    "    psin = numpy.empty_like(psi)\n",
    "    iterations = 0\n",
    "    iter_diff_psi = l1_target+1  # On initialise l1_diff_psi comme étant plus grand que l1_target\n",
    "    iter_diff_om = l1_target+1   # On initialise l1_diff_psi comme étant plus grand que l1_target\n",
    "    l1_diff_psi = numpy.zeros(3000)\n",
    "    l1_diff_om = numpy.zeros(3000)\n",
    "    \n",
    "    \n",
    "    while iter_diff_psi > l1_target and iter_diff_om > l1_target:\n",
    "        omn = om.copy()\n",
    "        psin = psi.copy()\n",
    "        \n",
    "        for j in range(ny):\n",
    "            for i in range(nx):\n",
    "                psin[j,i] = psi[j,i]\n",
    "                omn[j,i] = om[j,i]\n",
    "                \n",
    "        iter_diff_psi = 0.0\n",
    "        iter_diff_om = 0.0\n",
    "        \n",
    "        # On calcul nos nouvelles valeurs de omega\n",
    "        for j in range(1,ny-1):\n",
    "            for i in range(1,nx-1):\n",
    "                om[j,i] = 0.25 * (omn[j,i-1] + omn[j,i+1]\\\n",
    "                              + omn[j-1,i]  + omn[j+1,i])\n",
    "                \n",
    "        # On impose les conditions aux bords\n",
    "        CB(psi, om)   \n",
    "            \n",
    "        # On calcul nos nouvelles valeurs de psi\n",
    "        for j in range(1,ny-1):\n",
    "            for i in range(1,nx-1):\n",
    "                psi[j,i] = 0.25 * (psin[j,i-1] + psin[j,i+1]\\\n",
    "                                + psin[j-1,i]  + psin[j+1,i] + om[j,i] * d**2)\n",
    "            \n",
    "        # Calcul des normes et sauvegarde de la norme pour psi  \n",
    "        for j in range(ny):\n",
    "            for i in range(nx):\n",
    "                iter_diff_psi += abs(psi[j,i] - psin[j,i])  # Calcul de la norme pour psi\n",
    "                iter_diff_om += abs(om[j,i] - omn[j,i])     # Calcul de la norme pour omega\n",
    "        \n",
    "        l1_diff_psi[iterations] = iter_diff_psi    # Sauvegarde de la norme pour psi\n",
    "        iterations += 1                            # L'itération est élevé d'une unité\n",
    " \n",
    "    return psi, om, iterations, l1_diff_psi"
   ]
  },
  {
   "cell_type": "markdown",
   "metadata": {},
   "source": [
    "Vérifions à présent si cette \"nouvelle\" méthode à correctement été implementée. Commençons pour cela par appeler notre nouvelle fonction et vérifions si le nombre d'itération correspond à nos attentes."
   ]
  },
  {
   "cell_type": "code",
   "execution_count": 16,
   "metadata": {
    "collapsed": false
   },
   "outputs": [
    {
     "name": "stdout",
     "output_type": "stream",
     "text": [
      "\n",
      " → La méthode de Jacobi compilée prend 2771 itérations à la \n",
      " tolérance: 1e-06\n"
     ]
    }
   ],
   "source": [
    "psi, om, iterations, l1_diff_psiJ = jacobi_compil(om0.copy(), om0.copy(), psi0.copy(), psi0.copy(), d, l1_target)\n",
    "\n",
    "print(\"\\n → La méthode de Jacobi compilée prend {} itérations à la \\n tolérance: {}\".format(iterations, l1_target))"
   ]
  },
  {
   "cell_type": "markdown",
   "metadata": {},
   "source": [
    "Nous voyons ici que le nombre d'itération n'a pas changer ce qui est conforme à nos attentes.\n",
    "\n",
    "En outre, nous pouvons (pour ne vérifier que cela) vérifier que les 6 nombres demandés correspondent bien aux valeurs renseignées."
   ]
  },
  {
   "cell_type": "code",
   "execution_count": 17,
   "metadata": {
    "collapsed": false
   },
   "outputs": [
    {
     "name": "stdout",
     "output_type": "stream",
     "text": [
      "\n",
      "→ Le 1 er nombre recherché est : 0.0 \n",
      "\n",
      "→ Le 2 ème nombre recherché est : -0.0575 \n",
      "\n",
      "→ Le 3 ème nombre recherché est : -0.0944 \n",
      "\n",
      "→ Le 4 ème nombre recherché est : -0.0944 \n",
      "\n",
      "→ Le 5 ème nombre recherché est : -0.0575 \n",
      "\n",
      "→ Le 6 ème nombre recherché est : 0.0 \n",
      "\n"
     ]
    }
   ],
   "source": [
    "n=[]\n",
    "n= numpy.round(psi[32,::8], 4)\n",
    "\n",
    "for i in range(6):\n",
    "    if i<1:\n",
    "        print(\"\\n→ Le\", i+1,\"er nombre recherché est :\",n[i] ,\"\\n\")\n",
    "    elif i<=6:\n",
    "        print(\"→ Le\", i+1,\"ème nombre recherché est :\",n[i] ,\"\\n\")"
   ]
  },
  {
   "cell_type": "markdown",
   "metadata": {},
   "source": [
    "À nouveau, nous constatons agréablement que les valeurs obtenues correspondent exactement aux valeurs renseignées par le site fournit plus haut.\n",
    "Nous en concluons par conséquent que cette implémentation de la version compilée de la méthode de Jacobi à correctement été effectuée.\n",
    "\n",
    "Remarque: les performances de chacune des méthodes sera analysé dans la section 4."
   ]
  },
  {
   "cell_type": "markdown",
   "metadata": {},
   "source": [
    "---\n",
    "\n",
    "#### 3.3 Méthode Gauss-Seidel.\n",
    "---\n",
    "\n",
    "Comme annoncé, la méthode de Gauss-Seidel (G-S) est la 3ème méthode que nous allons utiliser et servira, comme la version de Jacobi compilée l'est pour G-S, de base à la 4ème et dernière méthode que nous aborderons de ce notebook, la méthode de SOR (Successive Over-Relaxation).\n",
    "\n",
    "De plus, la méthode de G-S n'est rien d'autre qu'une version améliorée de Jacobi. En effet, pour rappel, l'idée principale de la méthode de G-S est l'utilisation de valeurs de la solution mises à jours dès qu'elles sont disponibles contrairement à Jacobi où l'on attend que les valeurs de la grille entière soient mises à jour pour calculé la solution.\n",
    "\n",
    "Par conséquent, il suffit de modifier les valeurs de $\\psi$ et $\\omega$ qui sont prises pour calculé la solution a chaque étape à la manière dont cela a été fait dans le 3e notebook de ce module pour notre problème. \n",
    "\n",
    "Nous définissons ainsi la fonction suivante:"
   ]
  },
  {
   "cell_type": "code",
   "execution_count": 18,
   "metadata": {
    "collapsed": false
   },
   "outputs": [],
   "source": [
    "@jit(nopython=True)\n",
    "def gauss_seidel(om, omn, psi, psin, d, l1_target):\n",
    "    '''Résoud itérativement le système d'équations formé par l'équation de\n",
    "    Laplace pour omega et l'équation de Poisson pour psi en utilisant la\n",
    "    méthode de Gauss-Seidel avec un stencil à 5 points.\n",
    "    \n",
    "    Paramètres:\n",
    "    ----------\n",
    "    om: Tableau à 2D de float (\"nombre à virgule flottante\")\n",
    "        distribution initiale de la voriticité omega\n",
    "    omn: Tableau à 2D de float\n",
    "        Tableau alloué pour la distribution précédente de om\n",
    "    psi: Tableau à 2D de float\n",
    "        distribution initiale de la fonction de courant psi\n",
    "    psin: Tableau à 2D de float\n",
    "        Tableau alloué pour la distribution précédente de psin\n",
    "    d: float\n",
    "        intervalle entre deux points de notre réseau de points\n",
    "    l1_target: float \n",
    "        Critère d'arrêt\n",
    "        \n",
    "    Retournes:\n",
    "    -------\n",
    "    om: Tableau à 2D de float\n",
    "        Distribution de omega après relaxation.\n",
    "    psi: Tableau à 2D de float\n",
    "        Distribution de psi après relaxation.\n",
    "    '''\n",
    "\n",
    "    omn = numpy.empty_like(om)\n",
    "    psin = numpy.empty_like(psi)\n",
    "    iterations = 0\n",
    "    iter_diff_psi = l1_target+1  # On initialise l1_diff_psi comme étant plus grand que l1_target\n",
    "    iter_diff_om = l1_target+1   # On initialise l1_diff_psi comme étant plus grand que l1_target\n",
    "    l1_diff_psi = numpy.zeros(3000)\n",
    "    l1_diff_om = numpy.zeros(3000)\n",
    "    \n",
    "    \n",
    "    while iter_diff_psi > l1_target and iter_diff_om > l1_target:\n",
    "        omn = om.copy()\n",
    "        psin = psi.copy()\n",
    "        \n",
    "        for j in range(ny):\n",
    "            for i in range(nx):\n",
    "                psin[j,i] = psi[j,i]\n",
    "                omn[j,i] = om[j,i]\n",
    "                \n",
    "        iter_diff_psi = 0.0\n",
    "        iter_diff_om = 0.0\n",
    "        \n",
    "        # On calcul nos nouvelles valeurs de omega\n",
    "        for j in range(1,ny-1):\n",
    "            for i in range(1,nx-1):\n",
    "                om[j,i] = 0.25 * (om[j,i-1] + om[j,i+1]\\\n",
    "                              + om[j-1,i]  + om[j+1,i])\n",
    "                \n",
    "        # On impose les conditions aux bords\n",
    "        CB(psi, om) \n",
    "        \n",
    "        # On calcul nos nouvelles valeurs de psi\n",
    "        for j in range(1,ny-1):\n",
    "            for i in range(1,nx-1):\n",
    "                psi[j,i] = 0.25 * (psi[j,i-1] + psi[j,i+1]\\\n",
    "                                + psi[j-1,i]  + psi[j+1,i] + om[j,i] * d**2)\n",
    "\n",
    "        # Calcul des normes et sauvegarde de la norme pour psi  \n",
    "        for j in range(ny):\n",
    "            for i in range(nx):\n",
    "                iter_diff_psi += abs(psi[j,i] - psin[j,i])  # Calcul de la norme pour psi\n",
    "                iter_diff_om += abs(om[j,i] - omn[j,i])     # Calcul de la norme pour omega\n",
    "        \n",
    "        l1_diff_psi[iterations] = iter_diff_psi    # Sauvegarde de la norme pour psi\n",
    "        iterations += 1                            # L'itération est élevé d'une unité\n",
    " \n",
    "    return psi, om, iterations, l1_diff_psi"
   ]
  },
  {
   "cell_type": "markdown",
   "metadata": {},
   "source": [
    "Nous appelons ensuite notre nouvelle fonction,"
   ]
  },
  {
   "cell_type": "code",
   "execution_count": 19,
   "metadata": {
    "collapsed": false
   },
   "outputs": [
    {
     "name": "stdout",
     "output_type": "stream",
     "text": [
      "\n",
      "→ La méthode de Gauss-seidel prend 1410 itérations à la tolérance 1e-06\n"
     ]
    }
   ],
   "source": [
    "psi, om, iterations, l1_diff_psiGS = gauss_seidel(om0.copy(), om0.copy(), psi0.copy(), psi0.copy(), d, l1_target)\n",
    "\n",
    "print(\"\\n→ La méthode de Gauss-seidel prend {} itérations à la tolérance {}\".format(iterations, l1_target))"
   ]
  },
  {
   "cell_type": "markdown",
   "metadata": {},
   "source": [
    "Nous voyons ici que le nombre d'itération suit le comportement espéré, e.g à diminué par rapport à la méthode de Jacobi. Ceci nous donne d'ores et déjà un premier aperçu de l'efficacité de la méthode G-S que nous aborderons dans la section 4.\n",
    "\n",
    "Enfin, vérifions les 6 nombres usuels."
   ]
  },
  {
   "cell_type": "code",
   "execution_count": 20,
   "metadata": {
    "collapsed": false
   },
   "outputs": [
    {
     "name": "stdout",
     "output_type": "stream",
     "text": [
      "\n",
      "→ Le 1 er nombre recherché est : 0.0 \n",
      "\n",
      "→ Le 2 ème nombre recherché est : -0.0575 \n",
      "\n",
      "→ Le 3 ème nombre recherché est : -0.0944 \n",
      "\n",
      "→ Le 4 ème nombre recherché est : -0.0944 \n",
      "\n",
      "→ Le 5 ème nombre recherché est : -0.0575 \n",
      "\n",
      "→ Le 6 ème nombre recherché est : 0.0 \n",
      "\n"
     ]
    }
   ],
   "source": [
    "n=[]\n",
    "n= numpy.round(psi[32,::8], 4)\n",
    "\n",
    "for i in range(6):\n",
    "    if i<1:\n",
    "        print(\"\\n→ Le\", i+1,\"er nombre recherché est :\",n[i] ,\"\\n\")\n",
    "    elif i<=6:\n",
    "        print(\"→ Le\", i+1,\"ème nombre recherché est :\",n[i] ,\"\\n\")"
   ]
  },
  {
   "cell_type": "markdown",
   "metadata": {},
   "source": [
    "À nouveau, toutes les valeurs coïncident exactement avec les valeurs de référence. Nous pouvons dès lors affirmés que le problème à correctement été résolu.\n",
    "\n",
    "Passons à la 4e et dernière méthode, la méthode de sur-relaxation successive (SOR)."
   ]
  },
  {
   "cell_type": "markdown",
   "metadata": {},
   "source": [
    "---\n",
    "\n",
    "#### 3.4 Méthode de SOR (Successive Over-Relaxation).\n",
    "---\n",
    "\n",
    "Nous voici à la 4ème et dernière méthode que nous aborderons dans ce notebook, la méthode de SOR.\n",
    "\n",
    "Comme nous avons put le voir, la méthode de SOR améliore la méthode de G-S en utilisant, dans la mise à jour, une combinaison linéaire des solutions présentes et \"actuelles\".\n",
    "\n",
    "Ainsi en modifiant la méthode de Gauss-Seidel de manière similaire à ce qui a été fait dans le notebook 3, nous obtenons la nouvelle fonction:"
   ]
  },
  {
   "cell_type": "code",
   "execution_count": 21,
   "metadata": {
    "collapsed": false
   },
   "outputs": [],
   "source": [
    "@jit(nopython=True)\n",
    "def SOR(om, omn, psi, psin, d, l1_target, omega):\n",
    "    '''Résoud le système d'équations formé par l'équation de\n",
    "    Laplace pour omega et l'équation de Poisson pour psi en utilisant la\n",
    "    méthode de SOR avec un stencil à 5 points.\n",
    "    \n",
    "    Paramètres:\n",
    "    ----------\n",
    "    om: Tableau à 2D de float (\"nombre à virgule flottante\")\n",
    "        distribution initiale de la voriticité omega\n",
    "    omn: Tableau à 2D de float\n",
    "        Tableau alloué pour la distribution précédente de om\n",
    "    psi: Tableau à 2D de float\n",
    "        distribution initiale de la fonction de courant psi\n",
    "    psin: Tableau à 2D de float\n",
    "        Tableau alloué pour la distribution précédente de psi\n",
    "    d: float\n",
    "        intervalle entre deux points de notre réseau de points\n",
    "    l1_target: float \n",
    "        Critère d'arrêt\n",
    "    omega: float\n",
    "        Paramètre de relaxation\n",
    "        \n",
    "    Retournes:\n",
    "    -------\n",
    "    om: Tableau à 2D de float\n",
    "        Distribution de omega après relaxation.\n",
    "    psi: Tableau à 2D de float\n",
    "        Distribution de psi après relaxation.\n",
    "    '''\n",
    "\n",
    "    \n",
    "    omn = numpy.empty_like(om)\n",
    "    psid = numpy.empty_like(psi)\n",
    "    iterations = 0\n",
    "    iter_diff_psi = l1_target+1  # On initialise l1_diff_psi comme étant plus grand que l1_target\n",
    "    iter_diff_om = l1_target+1   # On initialise l1_diff_psi comme étant plus grand que l1_target\n",
    "    ny, nx = psi.shape\n",
    "    l1_diff_psi = numpy.zeros(3000)\n",
    "    l1_diff_om = numpy.zeros(3000)\n",
    "\n",
    "    \n",
    "    while iter_diff_psi > l1_target and iter_diff_om > l1_target:\n",
    "        omn = om.copy()\n",
    "        psin = psi.copy()\n",
    "        \n",
    "        for j in range(ny):\n",
    "            for i in range(nx):\n",
    "                psin[j,i] = psi[j,i]\n",
    "                omn[j,i] = om[j,i]\n",
    "                \n",
    "        iter_diff_psi = 0.0\n",
    "        iter_diff_om = 0.0\n",
    "        \n",
    "        # On calcul nos nouvelles valeurs de omega\n",
    "        for j in range(1,ny-1):\n",
    "            for i in range(1,nx-1):\n",
    "                om[j,i] = (1-omega)*om[j,i] + omega*0.25 * (om[j,i-1] + om[j,i+1]\\\n",
    "                              + om[j-1,i]  + om[j+1,i])\n",
    "\n",
    "        # On impose les conditions aux bords\n",
    "        CB(psi, om) \n",
    "            \n",
    "        # On calcul nos nouvelles valeurs de psi\n",
    "        for j in range(1,ny-1):\n",
    "            for i in range(1,nx-1):\n",
    "                psi[j,i] = (1-omega)*psi[j,i] + omega*0.25 * (psi[j,i-1] + psi[j,i+1]\\\n",
    "                                + psi[j-1,i]  + psi[j+1,i] + om[j,i] * d**2)\n",
    "\n",
    "        # Calcul des normes et sauvegarde de la norme pour psi  \n",
    "        for j in range(ny):\n",
    "            for i in range(nx):\n",
    "                iter_diff_psi += abs(psi[j,i] - psin[j,i])  # Calcul de la norme pour psi\n",
    "                iter_diff_om += abs(om[j,i] - omn[j,i])     # Calcul de la norme pour omega\n",
    "        \n",
    "        l1_diff_psi[iterations] = iter_diff_psi    # Sauvegarde de la norme pour psi\n",
    "        iterations += 1                            # L'itération est élevé d'une unité\n",
    " \n",
    "    return psi, om, iterations, l1_diff_psi"
   ]
  },
  {
   "cell_type": "markdown",
   "metadata": {},
   "source": [
    "Où, pour rappel, $\\omega$ est le paramètre de relaxation (à ne pas confondre avec la fonction de vorticité également noté par $\\omega$) dépendant de la physique du problème et qui détermine à quel point la méthode de SOR sera plus rapide que la méthode de G-S.\n",
    "\n",
    "Notons également que la méthode de SOR ne sera stable que pour des valeurs de $\\omega$ comprises entre 0 et 2 et qu'une valeur de $\\omega$ égale à 1 nous redonnera la méthode de G-S.\n",
    "\n",
    "Appelons à présent notre nouvelle fonction avec une valeur de $\\omega$ de 1.1 par exemple ."
   ]
  },
  {
   "cell_type": "code",
   "execution_count": 22,
   "metadata": {
    "collapsed": false
   },
   "outputs": [
    {
     "name": "stdout",
     "output_type": "stream",
     "text": [
      "\n",
      "→ La méthode numba SOR prend 1157 itérations à la tolérance 1e-06 \n",
      " et omega = 1.1\n"
     ]
    }
   ],
   "source": [
    "omega = 1.1\n",
    "psi, om, iterations, l1_diff_psiSOR = SOR(om0.copy(), om0.copy(), psi0.copy(), psi0.copy(), d, l1_target, omega)\n",
    "\n",
    "print(\"\\n→ La méthode numba SOR prend {} itérations à la tolérance {} \\n et omega = {}\".format(iterations, l1_target, omega))"
   ]
  },
  {
   "cell_type": "markdown",
   "metadata": {},
   "source": [
    "À nouveau, le nombre d'itération obtenus correspond tout à fait à nos attentes étant donné que la méthode de SOR demande moins d'itérations que les méthodes précédemment vues.\n",
    "\n",
    "Finalement, vérifions une dernière fois nos 6 nombres demandés."
   ]
  },
  {
   "cell_type": "code",
   "execution_count": 23,
   "metadata": {
    "collapsed": false
   },
   "outputs": [
    {
     "name": "stdout",
     "output_type": "stream",
     "text": [
      "\n",
      "→ Le 1 er nombre recherché est : 0.0 \n",
      "\n",
      "→ Le 2 ème nombre recherché est : -0.0575 \n",
      "\n",
      "→ Le 3 ème nombre recherché est : -0.0944 \n",
      "\n",
      "→ Le 4 ème nombre recherché est : -0.0944 \n",
      "\n",
      "→ Le 5 ème nombre recherché est : -0.0575 \n",
      "\n",
      "→ Le 6 ème nombre recherché est : 0.0 \n",
      "\n"
     ]
    }
   ],
   "source": [
    "n=[]\n",
    "n= numpy.round(psi[32,::8], 4)\n",
    "\n",
    "for i in range(6):\n",
    "    if i<1:\n",
    "        print(\"\\n→ Le\", i+1,\"er nombre recherché est :\",n[i] ,\"\\n\")\n",
    "    elif i<=6:\n",
    "        print(\"→ Le\", i+1,\"ème nombre recherché est :\",n[i] ,\"\\n\")"
   ]
  },
  {
   "cell_type": "markdown",
   "metadata": {},
   "source": [
    "Les valeurs obtenues coïncidant exactement avec les valeurs de référence, nous en concluons que le problème à correctement été résolu.\n",
    "\n",
    "Avant de cloturé cette large partie consacrée aux méthodes de Jacobi, Gauss-Seidel et SOR, nous pouvons tenter d'optimiser cette dernière méthode via le paramètre $\\omega$."
   ]
  },
  {
   "cell_type": "markdown",
   "metadata": {
    "collapsed": true
   },
   "source": [
    "---\n",
    "\n",
    "#### 3.5  SOR optimisé.\n",
    "---\n",
    "\n",
    "Le paramètre $\\omega$ étant dépendant du problème, nous ne pouvons pas ré-employer l'expression donné dans le notebook 3 pour en obtenir la valeur optimal ($\\omega _{opt}$).\n",
    "\n",
    "En effet, cette expression dépend$^3$ de la taille du système d'équations et de la nature de celui-ci (de la structure des coefficients de matrice, tri-diagonale par exemple, etc.). On comprend donc que l'obtention d'une expression analytique de $\\omega_{opt}$ n'est pas évidente. \n",
    "\n",
    "Cependant, à défaut d'avoir une expression analytique tentons tout de même de déterminer $\\omega _{opt}$ \"à la main\", e.g par essais successifs de valeur. \n",
    "\n",
    "Après plusieurs essais nous déterminons ainsi que la valeur optimale$^*$ de $\\omega$ est de: $\\omega_{opt} \\approx 1.218$ pour laquelle nous obtenons :\n",
    "\n",
    "$$\n",
    "{}\n",
    "$$\n",
    "\n",
    "---\n",
    "$^*$ Notons que la valeur optimale de omega peut-être rafiné à souhait. Toutefois, n'observant aucun changement dans le nombre d'itération au-delà de 3 décimales, nous avons décidé de nous restreindre à la valeur de 1.218 ."
   ]
  },
  {
   "cell_type": "code",
   "execution_count": 24,
   "metadata": {
    "collapsed": false
   },
   "outputs": [
    {
     "name": "stdout",
     "output_type": "stream",
     "text": [
      "\n",
      "→ La méthode numba SOR optimisé prend 914 itérations à la tolérance \n",
      "  1e-06 et omega = 1.218\n"
     ]
    }
   ],
   "source": [
    "omega = 1.218\n",
    "psi, om, iterations, l1_diff_psiOSOR = SOR(om0.copy(), om0.copy(), psi0.copy(), psi0.copy(), d, l1_target, omega)\n",
    "\n",
    "print(\"\\n→ La méthode numba SOR optimisé prend {} itérations à la tolérance \\n  {} et omega = {}\".format(iterations, l1_target, omega))"
   ]
  },
  {
   "cell_type": "markdown",
   "metadata": {},
   "source": [
    "Soit une réduction du nombre d'itération non négligeable.\n",
    "Nous pouvons également vérifier que les 6 nombres souhaitées n'ont pas changer vis à vis de cette nouvelle valeur de $\\omega$."
   ]
  },
  {
   "cell_type": "code",
   "execution_count": 25,
   "metadata": {
    "collapsed": false
   },
   "outputs": [
    {
     "name": "stdout",
     "output_type": "stream",
     "text": [
      "\n",
      "→ Le 1 er nombre recherché est : 0.0 \n",
      "\n",
      "→ Le 2 ème nombre recherché est : -0.0575 \n",
      "\n",
      "→ Le 3 ème nombre recherché est : -0.0944 \n",
      "\n",
      "→ Le 4 ème nombre recherché est : -0.0944 \n",
      "\n",
      "→ Le 5 ème nombre recherché est : -0.0575 \n",
      "\n",
      "→ Le 6 ème nombre recherché est : 0.0 \n",
      "\n"
     ]
    }
   ],
   "source": [
    "n=[]\n",
    "n= numpy.round(psi[32,::8], 4)\n",
    "\n",
    "for i in range(6):\n",
    "    if i<1:\n",
    "        print(\"\\n→ Le\", i+1,\"er nombre recherché est :\",n[i] ,\"\\n\")\n",
    "    elif i<=6:\n",
    "        print(\"→ Le\", i+1,\"ème nombre recherché est :\",n[i] ,\"\\n\")"
   ]
  },
  {
   "cell_type": "markdown",
   "metadata": {},
   "source": [
    "L'ensemble des valeurs étant correcte, nous pouvons conclure que la méthode de SOR à correctement été optimisée.\n",
    "\n",
    "Passons maintenant à la comparaison et à l'analyse des résultat obtenus par le biais des diverses méthodes utilisées."
   ]
  },
  {
   "cell_type": "markdown",
   "metadata": {},
   "source": [
    "---\n",
    "\n",
    "##### 4.  Comparaison et analyse des performances des méthodes de Jacobi (compilé), Gauss-Seidel et SOR (optimisé).\n",
    "---\n",
    "\n",
    "Afin de comparer le temps de calcul de chacune des méthodes abordées, nous allons faire appel à la fonctionnalité proposé par numpy : `%%timeit` qui va opéré un certain nombre de run de la fonction dont on veut connaitre le temps de calcul et moyenné ces valeurs afin d'obtenir un résultat plus précis comme on a put le voir au cours des notebooks de ce module.\n",
    "\n",
    "Appelons donc l'ensemble de nos fonctions avec cette fonctionnalité."
   ]
  },
  {
   "cell_type": "markdown",
   "metadata": {},
   "source": [
    "* Méthode de Jacobi :"
   ]
  },
  {
   "cell_type": "code",
   "execution_count": 26,
   "metadata": {
    "collapsed": false
   },
   "outputs": [
    {
     "name": "stdout",
     "output_type": "stream",
     "text": [
      "10 loops, best of 3: 187 ms per loop\n"
     ]
    }
   ],
   "source": [
    "%%timeit\n",
    "jacobi(om0.copy(), psi0.copy(), d, l1_target)"
   ]
  },
  {
   "cell_type": "markdown",
   "metadata": {},
   "source": [
    "* Méthode de Jacobi compilée :"
   ]
  },
  {
   "cell_type": "code",
   "execution_count": 27,
   "metadata": {
    "collapsed": false
   },
   "outputs": [
    {
     "name": "stdout",
     "output_type": "stream",
     "text": [
      "10 loops, best of 3: 23.4 ms per loop\n"
     ]
    }
   ],
   "source": [
    "%%timeit\n",
    "jacobi_compil(om0.copy(), om0.copy(), psi0.copy(), psi0.copy(), d, l1_target)"
   ]
  },
  {
   "cell_type": "markdown",
   "metadata": {},
   "source": [
    "* Méthode de Gauss-Seidel:"
   ]
  },
  {
   "cell_type": "code",
   "execution_count": 28,
   "metadata": {
    "collapsed": false
   },
   "outputs": [
    {
     "name": "stdout",
     "output_type": "stream",
     "text": [
      "10 loops, best of 3: 28.4 ms per loop\n"
     ]
    }
   ],
   "source": [
    "%%timeit\n",
    "gauss_seidel(om0.copy(), om0.copy(), psi0.copy(), psi0.copy(), d, l1_target)"
   ]
  },
  {
   "cell_type": "markdown",
   "metadata": {},
   "source": [
    "* Méthode de SOR:"
   ]
  },
  {
   "cell_type": "code",
   "execution_count": 29,
   "metadata": {
    "collapsed": true
   },
   "outputs": [],
   "source": [
    "omega = 1.1"
   ]
  },
  {
   "cell_type": "code",
   "execution_count": 30,
   "metadata": {
    "collapsed": false
   },
   "outputs": [
    {
     "name": "stdout",
     "output_type": "stream",
     "text": [
      "10 loops, best of 3: 28.1 ms per loop\n"
     ]
    }
   ],
   "source": [
    "%%timeit\n",
    "SOR(om0.copy(), om0.copy(), psi0.copy(), psi0.copy(), d, l1_target, omega)"
   ]
  },
  {
   "cell_type": "markdown",
   "metadata": {},
   "source": [
    "* Méthode de SOR optimisée :"
   ]
  },
  {
   "cell_type": "code",
   "execution_count": 31,
   "metadata": {
    "collapsed": true
   },
   "outputs": [],
   "source": [
    "omega = 1.218"
   ]
  },
  {
   "cell_type": "code",
   "execution_count": 32,
   "metadata": {
    "collapsed": false
   },
   "outputs": [
    {
     "name": "stdout",
     "output_type": "stream",
     "text": [
      "10 loops, best of 3: 22.4 ms per loop\n"
     ]
    }
   ],
   "source": [
    "%%timeit\n",
    "SOR(om0.copy(), om0.copy(), psi0.copy(), psi0.copy(), d, l1_target, omega)"
   ]
  },
  {
   "cell_type": "markdown",
   "metadata": {},
   "source": [
    "---\n",
    "\n",
    "Pour plus de lisibilité, nous avons regroupé l'ensemble des temps de calcul moyen obtenus (sur les ordinateurs de l'`ULB`) au cours d'un même run dans le tableau ci-dessous:"
   ]
  },
  {
   "cell_type": "markdown",
   "metadata": {},
   "source": [
    "---\n",
    "\n",
    "|    Méthodes    | Temps de calcul (ms)     | Nombre d'itérations |\n",
    "|:--------------:|:------------------------:|:-------------------:|\n",
    "|     Jacobi     |           169            |         2771        |\n",
    "| Jacobi compilé |           22.5           |         2771        |\n",
    "|      Gauss     |           29.9           |         1410        |\n",
    "|       SOR      |           27.2           |         1157        |\n",
    "| SOR optimisé   |           21.6           |          914        |\n",
    "\n",
    "---\n",
    "\n",
    "###### Figure 4. Tableau reprenant l'ensemble des temps de calcul obtenus (sur les ordinateurs de l'ULB) au cours \"d'un même run\" ainsi que le nombre d'itération de chacunes des méthodes.\n",
    "---"
   ]
  },
  {
   "cell_type": "markdown",
   "metadata": {},
   "source": [
    "Que pouvons nous dire à propos de ces résultats ? \n",
    "\n",
    "Premièrement, conformément a ce que l'on vu dans ce module, nous constatons que la méthode SOR optimisé est bien la plus performante que ce soit du point de vue de la vitesse de calcul ou du point de vue d'un nombre d'itération nécessaire pour satisfaire notre criètre d'arrêt et donc du nombre d'itération nécessaire pour converger vers la solution.\n",
    "\n",
    "Ensuite, avant de regarder un peu plus en détail les temps de calculs, notons que ces derniers dépendent également de la configuration de l'ordinateur utilisé. Toutefois, le fait qu'une méthode ai un temps de calcul inférieur(supérieur) à une autre méthode est invariant d'une configuration à une autre e.g la méthode de SOR sera toujours plus rapide que la méthode de Gauss-Seidel, etc. \n",
    "\n",
    "Ceci nous mène à la comparaison des temps de calcul de chacune des méthodes.\n",
    "Nous nous attendions ici à avoir la situation suivante pour les temps de calculs $\\tau ()$:\n",
    "\n",
    "\n",
    "$$\n",
    "\\begin{array}{}\n",
    "\\hspace{-0.2cm} \\tau \\text{(Jacobi)} < \\tau \\text{(G-S)} < \\tau \\text{(SOR)} < \\tau \\text{(Jacobi compilé)} < \\tau \\text{(SOR opt)} \\hspace{1.0cm}\n",
    "\\end{array}\n",
    "$$\n",
    "\n",
    "Ce qui est exactement ce que l'on obtiens pour le problème Stokes flow.\n",
    "Enfin, pour ce qui est du nombre d'itérations nous nous attendions d'une part a ce que la méthode de Jacobi ai le même nombre itération que sa version compilée et d'autre part a ce que le nombre d'itération décroisse avec les méthode vues. En d'autre termes, nous nous attendions a ce que la méthode SOR optimisé nécessite le moins d'itération suivi des méthodes de SOR, G-S, Jacobi compilé & Jacobi ,respectivement.\n",
    "\n",
    "C'est précisément le comportement que l'on observe. Enfin, nous pouvons une dernière fois mettre en évidence l'efficacité propre à chaque méthode en réalisant pour chacune d'entre-elle, le graphique de la norme L1 de $\\psi$ en fonction du nombre d'itération."
   ]
  },
  {
   "cell_type": "code",
   "execution_count": 33,
   "metadata": {
    "collapsed": false
   },
   "outputs": [
    {
     "data": {
      "image/png": "[encoded data removed]",
      "text/plain": [
       "<matplotlib.figure.Figure at 0x7fc690f7eef0>"
      ]
     },
     "metadata": {},
     "output_type": "display_data"
    }
   ],
   "source": [
    "pyplot.figure(figsize=(8,8))\n",
    "pyplot.xlabel(r'itérations', fontsize=22)\n",
    "pyplot.ylabel(r'norme $L_1$', fontsize=22)\n",
    "pyplot.semilogy(numpy.trim_zeros(l1_diff_psiJ,'b'),\n",
    "                'r-', lw=2, label='Jacobi')\n",
    "pyplot.semilogy(numpy.trim_zeros(l1_diff_psiGS,'b'), \n",
    "                'b-', lw=2, label='Gauss-Seidel')\n",
    "pyplot.semilogy(numpy.trim_zeros(l1_diff_psiSOR,'b'), \n",
    "                'm-', lw=2, label='SOR')\n",
    "pyplot.semilogy(numpy.trim_zeros(l1_diff_psiOSOR,'b'), \n",
    "                'g-', lw=2, label='SOR Optimisé')\n",
    "pyplot.legend(fontsize=16);"
   ]
  },
  {
   "cell_type": "markdown",
   "metadata": {
    "collapsed": true
   },
   "source": [
    "La convergence des normes L1 pour chacune des méthodes appuye à nouveau le fait que la méthode de SOR optimisée est la méthode la plus performante. \n",
    "Mais à quoi correspondent ces \"rebonds\" de la convergence ? Et pourquoi ce patern est-il présent pour les 4 méthodes? Tentons de répondre à ces questions."
   ]
  },
  {
   "cell_type": "markdown",
   "metadata": {},
   "source": [
    "---\n",
    "\n",
    "##### 5. Etude de la convergence des méthodes.\n",
    "---\n",
    "\n",
    "#### 5.1 Etude de la convergence.\n",
    "\n",
    "---\n",
    "La piste la plus vraisemblable pour expliquer le comportement de la convergence de cette dernière est liée à la physique du problème.\n",
    "Dans ce cas, les rebonds de la convergence devraient pouvoir être corrélés à l'écoulement du fluide et à sa dynamique dans notre cavité.\n",
    "\n",
    "Tentons de vérifier cette hypothèse. Pour se faire, nous allons réaliser une animation avec les variations de $\\psi$ en fonction du nombre d'itération via la méthode de Jacobi$^*$. Nous nous attendons ainsi a voir des fluctuations de psi pouvant être corrélées aux rebonds de la convergence. \n",
    "\n",
    "\n",
    "Commençons par importer la librairie utile à la réalisation de notre animation.\n",
    "\n",
    "---\n",
    "$^*$ Il s'agit ici d'un choix de travail totalement arbitraire."
   ]
  },
  {
   "cell_type": "code",
   "execution_count": 34,
   "metadata": {
    "collapsed": true
   },
   "outputs": [],
   "source": [
    "from matplotlib import animation\n",
    "from IPython.display import HTML"
   ]
  },
  {
   "cell_type": "markdown",
   "metadata": {},
   "source": [
    "Et redéfinissons quelque peu notre fonction Jacobi afin de pouvoir réaliser notre animation.\n",
    "\n",
    "Les changements à opérés sont peu nombreux et consistent simplement à définir un tableau ( *psi_ite* ) de taille égale à 2771 (soit le nombre d'itération recquit pour que le critère d'arrêt soit vérifié) et qui nous servira à stocker les valeurs de $\\psi$ à chaque itération. Ce tableau sera alors retourner par notre nouvelle fonction.\n",
    "\n",
    "Notons que nous avons également$^*$ définis deux autres tableaux à savoir \" *psi_30* \" et \" *l1_conv30* \". Ces deux derniers nous seront utiles par la suite et leur rôle sera éxpliqué en temps voulu.\n",
    "\n",
    "Retenons pour l'instant que la définition de *psi_ite* est la seule modifications que nous avons à opérer à notre fonction jacobi pour réaliser notre animation.\n",
    "\n",
    "\n",
    "---\n",
    "$*$ Définir ces deux tableaux maintenant nous permet de ne pas devoir redéfinir de nouvelle fonction par la suite ce qui constitue, comme nous nous en sommes rendu compte une fois le travail terminé, un gain notable de lisibilité de ce travail."
   ]
  },
  {
   "cell_type": "code",
   "execution_count": 35,
   "metadata": {
    "collapsed": true
   },
   "outputs": [],
   "source": [
    "def jacobi_conv(om, psi, d, l1_target):\n",
    "    '''Résoud itérativement le système d'équations formé par l'équation de\n",
    "    Laplace pour omega et l'équation de Poisson pour psi en utilisant la\n",
    "    méthode de Jacobi.\n",
    "    \n",
    "    Paramètres:\n",
    "    ----------\n",
    "    om: Tableau à 2D de float (\"nombre à virgule flottante\")\n",
    "        distribution initiale de la voriticité omega\n",
    "    psi: Tableau à 2D de float\n",
    "        distribution initiale de la fonction de courant psi\n",
    "    l1_target: float \n",
    "        Objectif pour la différence entre deux solutions consécutives\n",
    "        (critère d'arrêt)\n",
    "    d: float\n",
    "        intervalle entre deux points de notre réseau de points\n",
    "        \n",
    "    Retournes:\n",
    "    -------\n",
    "    om: Tableau à 2D de float\n",
    "        Distribution de omega après relaxation.\n",
    "    '''\n",
    "    \n",
    "    # Initialisation des variables et tableaux utiles\n",
    "    norme_om = 1\n",
    "    norme_psi = 1\n",
    "    omn = numpy.empty_like(om)     \n",
    "    psin = numpy.empty_like(psi)   \n",
    "    iterations = 0\n",
    "    l1_conv=[]\n",
    "    # On définit nos nouveaux tableaux\n",
    "    psi_ite = numpy.empty(2771,dtype=numpy.ndarray)    # Tableau utile à l'animation\n",
    "    psi_30=[]\n",
    "    l1_conv30=[]\n",
    "    \n",
    "    #On lance notre boucle while avec le critère d'arrêt double pour \"l1_target\"\n",
    "    while norme_psi > l1_target and norme_om > l1_target:\n",
    "        omn = om.copy()\n",
    "        psin = psi.copy()\n",
    "        \n",
    "        # Calcul des nouvelles valeurs de omega\n",
    "        om[1:-1,1:-1] = 0.25 * (omn[1:-1,2:] + omn[1:-1, :-2]\\\n",
    "                             + omn[2:, 1:-1] + omn[:-2, 1:-1])\n",
    "    \n",
    "        \n",
    "        # On impose les conditions aux bords\n",
    "        om[-1,:] = -0.5/(d**2)*(8*psi[-2,:]-psi[-3,:])-(3/d)  # Bord supérieur\n",
    "        om[0,:] = -0.5/(d**2)*(8*psi[1,:]-psi[2,:])           # Bord inférieur\n",
    "        om[:,-1] = -0.5/(d**2)*(8*psi[:,-2]-psi[:,-3])        # Bord droit\n",
    "        om[:,0] = -0.5/(d**2)*(8*psi[:,1]-psi[:,2])           # Bord gauche\n",
    "        \n",
    "        # Calcul des nouvelles valeurs de psi\n",
    "        psi[1:-1,1:-1] = 0.25 * (psin[1:-1,2:] + psin[1:-1,:-2]\\\n",
    "                              + psin[2:,1:-1] + psin[:-2,1:-1]\\\n",
    "                              + om[1:-1,1:-1] * d**2)\n",
    "\n",
    "        #Sauvegarde la valeur de psi\n",
    "        psi_ite[iterations] = psi.copy()    # Sauvegarde de la valeur de psi pour toute les cellules\n",
    "        psi_30.append(psi[30,30])         # Sauvegarde de la valeur de psi pour la cellule [30,30]\n",
    "        \n",
    "        \n",
    "        #Calcul des normes et sauvegarde de la norme pour psi\n",
    "        norme_psi = L1norm(psi,psin)      # Calcul de la norme pour psi\n",
    "        norme_psi30 = L1norm(psi[30,30],psin[30,30])      # Calcul de la norme pour psi\n",
    "        norme_om  = L1norm(om,omn)        # Calcul de la norme pour omega\n",
    "        iterations += 1                   # l'itération est élevé d'une unité\n",
    "        l1_conv.append(norme_psi)         # Sauvegarde de la norme pour psi\n",
    "        l1_conv30.append(norme_psi30)     # Sauvegarde de la norme pour psi[30,30]\n",
    "\n",
    "    return psi_ite, psi_30, l1_conv30"
   ]
  },
  {
   "cell_type": "markdown",
   "metadata": {},
   "source": [
    "Maintenant que notre nouvelle fonction à été définie, nous pouvons appelé cette dernière."
   ]
  },
  {
   "cell_type": "code",
   "execution_count": 36,
   "metadata": {
    "collapsed": false
   },
   "outputs": [],
   "source": [
    "l1_target =1e-6\n",
    "p, p_30, l1_conv30 = jacobi_conv(om0.copy(), psi0.copy(), d, l1_target)"
   ]
  },
  {
   "cell_type": "markdown",
   "metadata": {},
   "source": [
    "Avant de réaliser notre animation, procédons à une \"sélection\" des tableaux de valeurs de psi de manière similaire à ce qui avait été fait pour le travail personnel \"*Reaction diffusion model*\". \n",
    "\n",
    "En effet, le nombre de tableau et donc d'image à créer étant de 2771, la mémoire alloué serait relativement grande tandis que la durée de l'animation serait trop longue pour ce que nous voulons faire. Dès lors, nous avons décider de ne sélectionner qu'un tableau tout les 10 pas ce qui réduira leur nombre à 278 et nous permettra ainsi de réaliser une animation ni trop longue ni trop courte."
   ]
  },
  {
   "cell_type": "code",
   "execution_count": 37,
   "metadata": {
    "collapsed": false
   },
   "outputs": [],
   "source": [
    "p_ite = numpy.empty(278,dtype=numpy.ndarray)\n",
    "\n",
    "# Sélectionne et copie un tableau tout les 10 pas \n",
    "for i in range (2771):\n",
    "    if i in numpy.arange(0,2771,10):\n",
    "        p_ite[int(i/10)] = p[i].copy()"
   ]
  },
  {
   "cell_type": "markdown",
   "metadata": {},
   "source": [
    "Réalisons finalement notre animation ..."
   ]
  },
  {
   "cell_type": "code",
   "execution_count": 38,
   "metadata": {
    "collapsed": false
   },
   "outputs": [
    {
     "data": {
      "text/html": [
       "<video width=\"576.0\" height=\"504.0\" controls autoplay loop>\n",
       "  <source type=\"video/mp4\" src=\"data:video/mp4;base64,AAAAHGZ0eXBNNFYgAAACAGlzb21pc28yYXZjMQAAAAhmcmVlAACiRG1kYXQAAAKuBgX//6rcRem9\n",
       "5tlIt5Ys2CDZI+7veDI2NCAtIGNvcmUgMTQ4IHIyNjQzIDVjNjU3MDQgLSBILjI2NC9NUEVHLTQg\n",
       "QVZDIGNvZGVjIC0gQ29weWxlZnQgMjAwMy0yMDE1IC0gaHR0cDovL3d3dy52aWRlb2xhbi5vcmcv\n",
       "eDI2NC5odG1sIC0gb3B0aW9uczogY2FiYWM9MSByZWY9MyBkZWJsb2NrPTE6MDowIGFuYWx5c2U9\n",
       "MHgzOjB4MTEzIG1lPWhleCBzdWJtZT03IHBzeT0xIHBzeV9yZD0xLjAwOjAuMDAgbWl4ZWRfcmVm\n",
       "PTEgbWVfcmFuZ2U9MTYgY2hyb21hX21lPTEgdHJlbGxpcz0xIDh4OGRjdD0xIGNxbT0wIGRlYWR6\n",
       "b25lPTIxLDExIGZhc3RfcHNraXA9MSBjaHJvbWFfcXBfb2Zmc2V0PS0yIHRocmVhZHM9NiBsb29r\n",
       "YWhlYWRfdGhyZWFkcz0xIHNsaWNlZF90aHJlYWRzPTAgbnI9MCBkZWNpbWF0ZT0xIGludGVybGFj\n",
       "ZWQ9MCBibHVyYXlfY29tcGF0PTAgY29uc3RyYWluZWRfaW50cmE9MCBiZnJhbWVzPTMgYl9weXJh\n",
       "bWlkPTIgYl9hZGFwdD0xIGJfYmlhcz0wIGRpcmVjdD0xIHdlaWdodGI9MSBvcGVuX2dvcD0wIHdl\n",
       "aWdodHA9MiBrZXlpbnQ9MjUwIGtleWludF9taW49MjUgc2NlbmVjdXQ9NDAgaW50cmFfcmVmcmVz\n",
       "aD0wIHJjX2xvb2thaGVhZD00MCByYz1jcmYgbWJ0cmVlPTEgY3JmPTIzLjAgcWNvbXA9MC42MCBx\n",
       "cG1pbj0wIHFwbWF4PTY5IHFwc3RlcD00IGlwX3JhdGlvPTEuNDAgYXE9MToxLjAwAIAAABMYZYiE\n",
       "ACf//vWxfApqyfOKDOgyLtynrjxg2dEAC8BySbzfIRSidJ46Q3ZS7+PLDsNP7yZfJc89WUM1UL8t\n",
       "ehZjyDnvJmQlrjxUC/FyGk2lSaDqbqECFAQ136yQA6lhHjVCLNWDqps3cVQ67rWNsp9Ltg6nvOPY\n",
       "tJZZOi52vmG5RBvnM3xff/3BY/UVdTtxaCq3R10iPyHhQl91LvLA/ND5SBsvXHgrFlhTHcX9LhC0\n",
       "qrMaBmK53TarwskeVMJaRB9y612NTW+ZQHCQAGqfaLLlBEKen5cbpmEObTRW4HXb80CwFudSe4jd\n",
       "JigZNA0nrkQ9QCLUcZ4wnkbBIZI5qdJ7Ao+kOketLedDxymYFuj9oXY8qY4HFMzoIqwkBYsFVB5r\n",
       "tpfjReNFu1Ey7NAALCjUQ6T3H1iH4gnS7rxoGvxENPrRJ/W7vIF/c2mp6XCXda9mx9yErk/yBG8F\n",
       "+wEDbV8wNYckQRWU3Ijjn10I9lBloiKJxBZGyUmGw4uzN3eNkvUMwdBHMa4ZzaZj7jvNCOcQa8Jz\n",
       "K/YLoONn580pS4v5lmkvhTJPEOa0rJsM9Fb9MtKwS+F4+5G/DCgqQfLnYFGk57+O1IAMsBtpBTBJ\n",
       "kNtW/6RddXiq9uiQUhWil4cpd34OQJQqG96S/GNk57QuxcfZrXHILlLhaKvIfEDobWXRdgE1Ab0v\n",
       "XPVYkpObYweb8Vq7XMi3Hg/J+X576sePS5cpRywaZ+UmcuWdvlo8V+M4JzXOsZnSIsxb8wRjrrdd\n",
       "oO9uF8n7uR3uwLdXDPDr/k6HqpIYcZRBor0D+uzJj20eFltOwU1hRC4FquWerCERn3jMf/NRL3ka\n",
       "dA5UyRyjSZ3GM+BJuhdCxvlfAqNa1zWFf3LUZ0EaJHUNPSken+eWzMpi7hY4a7HIkka5IP1UaC9f\n",
       "X8fEZ74xD8AiavmuG4aydb37pFWASjxyuBRk5GnaRtOP+lz8oYUcZAASnwrCVXOAynrW9ysN3OT8\n",
       "8O0/UjkHfRqxAmCYLBOLXHQOk01PieSKiQ6aoVyKZBexWbdA5qwDw+YTdoGURyO6extVrv5cYDnq\n",
       "+1qskIM3/rwgQgbyLxKKhUzC9v/p1SC32Fkx//+Vc92GADPwjI0Y9hVTMFoUtPVjPmTkHlA4cm6H\n",
       "ZYetYC97X1FTleVGnKmlWvBDEwysKlmHVlSLh7vj8E4AzlGj4KeU6XmvzxohQnYUUjC2GuXjmLaG\n",
       "zpYsm/Dw4vuXX1+HTl9hHscFIA7IhUM6474zSU9g1W57HAaLwAK1hlkyrG7m6bAgjGa7RGTX6J6t\n",
       "MxomNDlifJePUY6EIfZC9cm1OwCF6ehxZcjHwg4K6zQ7EaSWq0yZjNthWRrh4FRce+QEAuFbhtqX\n",
       "hCEdryzPbtopsmvAXaYeB3+qZvEJuky1shsXQEEDlvKVdgCGvgi47sTz8MEYDCqIxodGPWq6v2Fg\n",
       "f5zJlK7ETsw0gmehCK8zFmQDmC9FR4Rb/Gm2ZuwL3EGaqvNsxj+6Lu6NIfzLVxTNzPJi7y/sUWE3\n",
       "9GNQ3NVN8UKG4CzkOQvrQOcBYa6j/+uqJGgNEnCq6IJTRSijgaciSD70wNpRIz0o4CmZ7ueaTvmG\n",
       "Mi9P71JezsIfO8fpz6NX3nvgWAzKUf0r8p/+gSGP0FntaIDAu4l3QBqnMEB64I8FbP3CEyqlRcXw\n",
       "JUU3fmwwR6JOzCKYmVLxdqACJnBkEdmwF04iYo0rN5cdBCThu4+pyQSRwmqqa8pY+7s/+LUI5Wbj\n",
       "k7z6ACp3o9NsWsE85l9SuLN0po2dbFb7ASscN/c07Q8C+Ucv41ns4vqD7QXr5wJKkr4MUgnJFX/M\n",
       "oxukTBMvcCDVaQg8J4zVRqEpm5lT/Q5tWFO6kSHDw9p/eP9tQ4ceosISeAUXkEAGazmBDwIcG2VO\n",
       "uxZMZRjedYM/Vc/87ricpY7roknPkzQIJN0yXQmmJS1t7nDOPXpxKxJfJb8ZwdyA5Pyt4T7EoJ46\n",
       "T2AsLlf9pLIc6TkIzJHMx6xZIX/6a/C8BjmzJySU2nGQtcw2XWN/zQQUpel5+sTOFowduIR25fFb\n",
       "fXNCGaq2B4DqX6rAiF7wRVZ1EZEQSLVY4bzt+4CBy4B2QEjOgc9O2kCQiy0t5tIqYXgYaxmJRYNg\n",
       "DhBepL+/OzHw21yXPowN8goJ4pydw0xYiluprmyrX220ZkneVah7sEFVGO+QcwpARc+A9305SDOp\n",
       "mwm0QL9bbt01SeEUsRGSUbk/oxP2q5kPIQgjy2K2cL1NsbIK5Eo3RqP458Lor2VYEYmzFJ4+iqjm\n",
       "WYbMP7Wi/VSws0lPhVNhNfQLhqvF3W76eRabM305FEKsZTukv11ZqQ1tHk3n2+8GJFwNOG8NsllO\n",
       "IXhZ3sEyDv8vxZ7k+Bidir4I7fUUSGek4zxRogW/upD6fg0Jp9Bp24DIq88sWuOGiU+nYdWJ2Usi\n",
       "X/IGK5qiBD8MPLtgbEcAL5FWfXkBkw42WHnzL2eH8oGRi7G8BXHerAJNq/xWuUALscncsTU4Nocb\n",
       "RLVBo1upErEGTvUGsVST5X9r1wGLT3gUNCtq4SmdqUN5uQmPYtIw9NwqzlV0QfzY5nprr+62buOp\n",
       "EAzY6WAsb3/XiMj+kMNO0oXc0Ck8lB9h8ZuTYXydbl5IdKHChrOd37j46Go8Uwf+LscddONXLBKM\n",
       "PcIcGODZ9WP1AV+nP4n2DL67P2rZKxagLdN4qX7+9zY0zcWJHOG1oPlmLDigmuM7I/NVXC0tj9ih\n",
       "dyMVkXqPF7XuaEqrzjim3/ftDV/KiVOov7ym8FURJSkf6lI24cAvxW8IVICrUPxoDrfJK8nQ1LVq\n",
       "hoHhHrYQ53IAWPfBqyUmDa19A7ZwEbp62dflTKA1pRFXGvonOKwRqffJcTGM3csOF3Os74wSQYJv\n",
       "cgiYM82ZQ2cICg01p90PpAbxsDMljA3Cyn8GWrGL5qK9hI3l8ZAxB9c8XnRRAXvPDVQPLGEj31L/\n",
       "ZjfPOV6fZzpvo3UJbWlms57kzI9/iqnZvjRSrXRsqEmKeExEeja0hh8hnLuiv1p1liDc+BKepO6o\n",
       "thkJSGTue26ZRe5NQFdyOXIGq7hjo0R87g6exV8mN1FuC0fNX8/JRd/yOcsjiMVo0m5t3UCOPjHs\n",
       "+a1Im5T1qVZEUmbIea/f0HW5qiVlea4eWfeIjy6CRAmCc93YtQ4wCRCH+Fk70KVYObm/1P74exak\n",
       "wFcoT2eeVuiwd05Pfk/TZlXoA6Xj74DtAD8J2prwKaAVa7awHfELgPIG4KyNf/Lr4wtvO+SIk5qi\n",
       "Jgchk/YKU3vdCJzQ4xjIgtBYGUCAjBO4sm+8H2rlLt3wyDAidxHWJjpNsJ+gl0s/3a+jBgK9wn8P\n",
       "FQR3flzLP/PYiHGBrcjcJY3hgNQ25+9wGcPCEYjn5KzfHivgZHnBRDPUDdvVojtKSZ3jgADNfoN4\n",
       "T4BJ2gkrn29QxP3TdjcsIyzdaPvJS2C0Tsvhn42/7DGdk6EpFCMA+mpENBNOsGLC/4O7xQzzJomQ\n",
       "6lvMiXZ7SaW7gWchseneuEYmKTzGEnj0SOTdd8U4hDCgWsJTk+4v7ny7MleL9ZB1VwHfGUyH0T7Q\n",
       "LMPdkgBtdfzduPoAvp6PRj7wRyQJVVm+C01uxDS75Ml3VhIzSAF46EqKfcpisDfdp5JKu7R/jZ3g\n",
       "Ii2i40z4jyn+LpCaxP2AHTqkdnJBXJKYKt9QklVLUDHfL6gBi0YXrdXptnmdbUyK/vdrMxJddFfZ\n",
       "4/Q4cO5cx5Xy6ZvPYfy6V6tygQqfr9t/lMphW3BUpSCfkRLTfNldbi4zY+6M1d5nEQ0lYCZcNAl5\n",
       "9vYcbUUBBtC4yuYip6k+NR9v1ItRJf7n24XM8UCcnaiLiSX0dHtU2Gx7te6l8b3wAB0hYgzHBTVk\n",
       "AvhC6+R1s5B9UIkqjAOQF4j+G+O6vGOOBk6gDzIbDDM3wPkx7R0w/aBr2vWujD9nkwwWBAtwt0J1\n",
       "5lqPE/blswAH3VVoGT66FKJedX/cXGCaRdTPlcAErDo7OZQTcY5oZUoSqgD/Kc5nitdnS8a0GwB9\n",
       "yFyD3BrsrJudaFAPhbvjM9FmyZNCsiS9OBgjNsRCv6AeBQBVgca66uv2dN628C+wN6PpMmxuiAoQ\n",
       "F9WuZKF+UVkQQOG15SYBekldk/FB3XiPfASUmqzxmx+KTLkhiu2qFPMYibW/ZKh2jVRgD0LocpCH\n",
       "ztAgvuhf9LoohA8Lo2ADM0GwcqUzBGPRk00d1+bUjq3gcOeENK7riISgC180w1gtqYCnVisYs3TH\n",
       "VPzi56Qo4GHQbIstw3+IlL7ImT5xllg/kjnx17kTifj8cO010PwcaOnv9jt6bhEWxuB2TNTcuam2\n",
       "GCgL3/rWs9P/Tw5c8Mq3BQy3pM+B9dOThAw7ZM9vPnbwmc+WwwOPmYlyxSKhjZHtBXDbFiWD32XX\n",
       "ZiJStj1pqGC/KUP77ENk0ei6NMWo+tOTiwZgdkKc/wzdOGooWNQLP6thg5nIzmUJh2cdzU6hBXvS\n",
       "8L7QIxjVFvIw8mz/9JO9Soy5K6cZuA1QBnSmtoWx///npOir8MbJETr8YNyjaLKqXH82amjJ9/J4\n",
       "4Ad+KDXi+9BP//7CLJ8z1NWlL464ZQKr7wW2uGCMGiorMRCOsrIUAjjAALPfu0HAemzurvU+AHnx\n",
       "jPA5rbg9y2IkRLAMrGE0IWmYYYqDfxDu4nxk1VHbm27iDfrv5081Mszgjp2pEuFsYVUPp+fm7ZXI\n",
       "QzOTcUHJyLD3Ng7oJhOVGjtLDiH7T4k4/5PUGXIsL77DalgwYDbdBcbCdh014ZqjpyacyKSVfrpo\n",
       "uk/AyCL4Cw+lXECloOdRMQzP37NYPtdwpz/uaoU3eoQCXMikSj5Cwn0iI2Ux+JBVzcO/Mh550yOd\n",
       "6B6rTcrWkPWsynx1Yxhjak/m/qOrBMseM0Lf7UgJKXly15VHekxCTiURU4hGIJzpBW5olojTncpM\n",
       "+2f1FzlCqVT4Ds4YpJ6kuSqILUUfNTGMumkrkhEC6R78tx83FR25skOTk36Tgpi8QctF/9NNOsY7\n",
       "ulgZS/1l4kJuKQp4Wp1/tJnoAn06l6/aRz4fA7M7GyQDpOwAqX1kBKLop1QxRnM5CnBazszt3DSu\n",
       "4p14Il6qsG6h01DJZ9hsyKPnaDSBY/cGIEJ54cWIBtLmfkpJJe5k6VF2a3RkcI+3sfJIvHGmdAj9\n",
       "8isIHLa+lI94J8nx9ostkkNAHYkd6TgWnFRfGiaHq301fF5/IzhQOyaEhz9PrSWZPTbV8N/mtSig\n",
       "jxKB6PWQYPPgfzG+xkAhkZdglEqeBonM/I8subTqeY8kqGMINDhzxmOUeHFxj7eoa6dnbJWuNSPn\n",
       "W+3fCPvpfsl07KmNOTQgnA8cMALwcN2P+95z1l7WGaRpDaLZVzTAUx7uf6lEb/uNZC2+I0+8CReE\n",
       "Mg452GyQ+S+3dFdXYxjZNzymEU1cvOrQ0hFbtMxXBVLCr4ANREC9M+tKnU4m+Q8zhInHXqODhQPR\n",
       "BYVKidjTNzczRIJZZ22oo6zI6X8Jv0YiE5jraFfdZIoahvLCWVxSn/SwuTwzZpQcs2OHoHwwP4IN\n",
       "9DToG6xXwkPsdLP1jaWNya9lARGPO7sdZzASOj4XePxTnaWT1WiYQ0oItMnYwqBSYjIXxHJZjKp9\n",
       "BdxlfQweyRj4m+fMYiQq/n6f7rBKyQ9YQl3d5YNBB0QBeV////+oIsrU6JmgdYl+bk2s8FLPus7I\n",
       "8b5Cch8CssJtm+3j3S0aEHF1ijJsvlNroBjVcqVhg6K9kdDRcgZEWtn3uypqnC7sP0T4zaDrmgAC\n",
       "Bqt+lcsbAHHA5BnPBQfNp3Z4b+3qIpLbb9jRCDhkyNjajQaA1dea8RAOt11uLeTUKtteXyZ6jh5s\n",
       "F+cjsdtJPZ++gV2iQXPg7JVU125BsPJLkY3zUmSK5nVgMYJQpOHne8Vpvi4SPZyAFhS6xudnmg/i\n",
       "3JPtN3QZs5/Kt065s/71srLyzNucVl6BVY/MU7ZKX0cEZL0+ypZgEtuk6g55GuIw909i2zpYznWZ\n",
       "H3CBjZopCnpjsAIAf/0qRm4nrDQ2ljWEUeJOQXFwpWVclS1QdoiTJO/OQzRw33+fAt24O97PNLKn\n",
       "4rsTtlqvur6GkaFAa+nCi4icS97yX5lYJfzz/EXQF//syhk+A/v6tO+SADso2HmkW9o1SvIf2bN1\n",
       "My16NazvxTX9nDZZzOZjVl3pwd+aAs/OCHcNYyJX9O87UNgWmk2+bRR0jQjv0omoX42KbuuVnghj\n",
       "7sKU7cQtf1gRJklPIIM71U/mtD2LI/rr1AHtpesHN96FLXTihmQl4W62usJUSvznnU6JzWoZC12F\n",
       "EreP6C9vwqKfUydm9RjFEuk8i1Kaju4SQ0OVExrDtSzW5YKDfAhmwupWMv5GV6f5HP+1PbshBgrY\n",
       "5Kkt/qOVRdOChXQ7KT/c/GO+EoEbx8Ua5jlwGTQi2mVQKRRCD85p4ABHyIyWrTWLEoZ8TzDsPnY0\n",
       "YKAXaUcAiZaX9aqa4hLiPa+nX+f6AABk/PY/rUAAAAMAAAMAAAMBXQAAAetBmiFsQn/+FcmgATjH\n",
       "M4EOgrEygCI/KO9Zgv0ZBwOzG4JElf/nZra1FRhof/1kXKtbzByB2UVjydUSZOROiUkcP4AAAAMA\n",
       "AAMAAD1qCy8jH/Th+BKjlRKixwHnqdFPJDiIt+34AABTWfIFodeONtfNz5m81mP9WxPaNB8b/O9P\n",
       "xE1U3HdTUJ1ewZHNGt8M3dIVlIQlM/qVIGIgOn0uvMjtH7Cumt2JDubujKtLXRsfFV4X9/dlxUBD\n",
       "S0lkoOUyZ7wg0CtdOm6CgaYwPx7mHWZnRvOLAS+/Jy98S0ShpvAb6cs/d3wrHvbiOcv7491pdI2Z\n",
       "YAVTNXhPWoFZhFbbdaBCxiHRZj+3X3HMyIm+5z62D5C9fUiVMwqARER+dA0HCIfQ8EWYhtnyWaMg\n",
       "UeuPCgwM9Vn52igIYJOcQ+iYpOQk+uJ+Wy7hbB7GWD0PcweOBjbrX3NsViMf7xv1Q5xhvgrT66S5\n",
       "ZiBXBUkDY+9KnVO0WccoImON5Qs7LikWB5tNvmbtT653uDxz5DD1tauLvhMYWOun0WKwbBNRpOSG\n",
       "IvQtOHT1oZKg1Xco1oQBucU3nV+BoOTkXkm3YKTLL47mrBuqFNHMNT92tyrlIAwivfwaYX58Xm0U\n",
       "9y/ydMLS/4rBTehS/qeQ0DgZAx9coAAAAbFBmkI8IZMphCf//fEAAyfmfhTdzrvklEoD1RiTIr4U\n",
       "QudZMOa+OoL4KkT05KrK3GOm5K0R7BB1TAMrSEp3Epz7U6e4Pw6qodWM1Avuv8PQ9akFXogbFD30\n",
       "BAqjOm0MXdK4qZGr5rvyfpsXcYdjBxhbXcjPmcCW6bpObTpOb8qj3+nhA9nZwaIAZuN483eoa7FG\n",
       "NENrNocKZYCLI6JzGsf8pqWJu5bpndjGY0TKALi1/swYfUYWm0rTGB+O6Ogh5KqD8UIx+JQH47t7\n",
       "5lY3KWk0tyiDt7yayuJlynzHhAwGZjcPQQQJr/cT+o+xNeCC09M2lT3dn7WNoAlu557dIeoyChfK\n",
       "kbvFLYGOKGjo/MovNELZQ+KLi3wRY1GB/P+SIZe5BP76JFq5nPMFadQ5lKZB2Ido+lbSEdCwvvSZ\n",
       "jQBdIuGn988xoPgugQ8tEGcOOW8WHTh5maNIRvzqdrFN3lGjUYGECzv0DrD7tF1OxVC9GBGf+gPf\n",
       "exa3YYnfEPJUBSDoOsf/LUw7c0gmp8VHxCYFYjLuct5hp+34o8nSMcYIU/gukfrxUonpeIy7D9F4\n",
       "TgztAAABy0GaY0nhDyZTAhP//fEAAAMAAFr+G6Smqel2w5EfHjASpnZ3jOfv7C73qRSjh1Uqg/xL\n",
       "aHlk02D0sSavd2jnceYVRG+GiA8cMb9tko1AB1pF1WH9HppOnxPLF1X+cR5BWaTxJtQIDiFTIwWn\n",
       "5Sm53qoB33OHQkR0uWPJY/1fMrBQ33n1zlbqrJsAWVpYXvY6efD71LyrqDPz29rEzomSNI3rH2Yv\n",
       "l9inm+Mom0AF0l51sEGNNZPLI0Sr97FN0IdpUJNBwmjXAI6bAGd7TnOhtRqN4pVm2//189vfuk0q\n",
       "BKHQ7MvWPVXi57S1o0ao/WP6/RKyLrwsfqpfpDqxSCz1ZT1W3eh/a8i2mgPkVX9hpKnnXxFbaGm8\n",
       "yfRjeT93id4jCOSbtknXhvbclq6gTfDETHFfclzkXILwWZefs9THX051bt9beLxgLJORkgoLdY4h\n",
       "YTrseDinv8pxJ2fBXvy77U5ZiNSeIHNj8x9erFDLLByy+Uf0MKIKuEPSYAuoPt3nEn+cRVlYZ+ZU\n",
       "Yk6w9/vwlcnycT22eAhAiO4g/5L8e9smfiJad49DKM3fxXbTCDJWkkMxcWBrwH1iMtQgziURblzl\n",
       "HjV9+7iVgEvmAgAAAX5BmoRJ4Q8mUwIT//3xAAADAAH8m50vn5CBa2oV5OjECq3BNZVoyOBFrn7S\n",
       "Mm/+W5jo+CrBi0exsUzyJ47cPaZbdWcn8JU8DJ17qeWo57aqcu+nWCTDu4KhbGAfydRbHZJHltXc\n",
       "n8U62l4F8bJVJTAOjfuMDxJ1xWNIj4aVK5DdtVeEfnNtmiROuB/IaVFWEJweJ3Fate16ydk4f/d0\n",
       "An+ggw6e9zxul2tXf66JRp+KUI4WyIs6FKLrUWS+3ydTGpHsAEghRbfN4MI9WU83x1InBdMXiD3o\n",
       "Y1T0ymmGtf4HpNvoyZWdkT+LVQP43zuBLpv/9LGoKXA/a8FmKM///nXdKzVggw+AsCan2kG7kopG\n",
       "phq6dOmCivESQL8YHGvdKtxJNw2SfQ4oqZdO7ozN72eIll11DLN/XhVIx8ZUqQigLaNwIGLnocWW\n",
       "CI93U2ZPAqNSEiMAtryeUDvqlrlzoZUaipOxiplHWj5vepAIKpKQo6ZNdyKBxE1fHubF5PmBAAAB\n",
       "n0GapUnhDyZTAhP//fEAAAMAAjo7aXMa4iR+yBjdm2uXurBlsxh8KOLNSaINjXGsbkaD6hrKLmCK\n",
       "IpoPvSTpPTdtqb8Khz5d93qmx40lo5tZ4U6SbpHy+LhHbSAAqwrb3o2NXjJW10pQUzyODj/2+8qW\n",
       "Yh1UD6Mj+/qOkVa88Bo7vpSClAr5tBYdB3giUaM/DwaU81hWzwAa5XOnG70s0Sb5QbE+IkajktDl\n",
       "dO4wFiqcNODMUNmAF43K7e3+FHxsR1XpN//aIyIx9MGJtvxhP3Boxybd2uj8ikiA9unp0Q18TdYT\n",
       "9lniSsn2FEeE1TdklbH8QsmkRKh3ZpJ1v/9uirKT/3h4hkbPn4QU8lCT5MSntL1R4w9ObD9QIy1s\n",
       "JKn3+HeURiGPuTWM4tPHtB+bf+0qoP7LMO/OAz5KuF3cqAKqhmOcYS1YcVojRnmYM5FYCae5R5Mb\n",
       "w60D1n8oIRk/+GnhZHEJOwky75vwD4jokeywmcELSCsmO8lwcZ7hCFWw+fudnbKsTbLKex3MzZUd\n",
       "QpWLdUtW8shaMb2PfJ/c6ZkAAAGhQZrGSeEPJlMCFf/+OEAAAAUcp9GFPVNumlS0JJ+0NttZzHVD\n",
       "4EsQ66AAAAfqm98cvIyEQ5eA2c/17Y/PEY8eX2Bb4eDYsx58+H1EbWFeS65p1QYZaTCVRf+SKaiE\n",
       "KhTMnGAvhs/uOtOok649AC4TWrUBhFs7cqnMGMLlRLZLTQptpHLstBFcKx6hhj48kaqJvj2MsSod\n",
       "CLCZ3UM/WLgDRU/6jux7aVwRMK6muXg95QlHufl2XH4jkvJ4Sg+ovx0ADTNkWHP0Ch85dRTPRvt3\n",
       "JITF2+G5Um64A3dtx4c9xwvqyJT1Y7O1U4nEtKG0UD9gNqunwd5NQCC+z3wTeGlK9YVzv2nel37Q\n",
       "QnmIuETLQyF5BQZ6rBDLfr0ucsr/8E1XPz+9olHPBxxJ1teeJrvs+Ih9wNnPVftiL8inL4d2zUZr\n",
       "b/I0pb+K1XnehniGD3x50ACle1yPgMj+FF9BBJ88x7Huca7Ql9FHeLmSSzAu0xtzDjAaUmz7kSBv\n",
       "bbnNQyd52QT0tuh6gVarnUADhW104yvu9YR1As1tc+I0vlERdvnFAAACUEGa6EnhDyZTBRE8K//+\n",
       "OEAAAA4tmvnQEZq7MYixdS+ZWAbHqk4OZoe/2D+FI1leRmZAoiju8g5Q8TEmYnFL/hGIAFgd+/dG\n",
       "LnH4Wu8hNt9VVZvM0UUsSQcBM6Yu9t8LqTzm/zE+sSsyfOshz6gb+w5yPlby+a5HGn2ghAeE56fR\n",
       "9ieqHawazRFpEqYBdWkzTUHu0oQrgYP5LCuRdwnBeGJ8N6weIVwPdn7g9O8w//Sy5iPQLImFZxYx\n",
       "q9zHMapS4xXdw7bXnIcrgwQOrbuMLCZZAAopbGXHKe9If7cl/uqgS339roeCE6sw2Gq7AK/pQUFy\n",
       "1v71g5fNgshkSUyXeskpKNyaNxDQ6gfPV/ad0MyAJtm8Kh/4C5jLegTh9mSVoA7NEuvvPL/BpVyg\n",
       "maL8YsuiktBdliHKvE9k8tZOQh0vaE10W8d2Ss/oFzjRzHrvs/RN8GE/YLB89QZsDmx173NfpwLN\n",
       "00FdsDG1Wfc2XB5p27oy1cRXN/ZFobV6gwV3ErW/DybWSCPYo/xMJe1WWyuj9Tq82Cfkz8ox/X9t\n",
       "edf/5DXnc5+vzis6e6GkeBS7SPCthsnElMCC3d0mV78vHNj3EeFrGJF1XN87CIKGRaS5IdfARiCk\n",
       "Z/j1aqXfkCEpwKSkjxz1H2gKXXhEcpNf0GeY5P6cnJxJlKW+ZJYvr3kws0PYm/gTvA/tIQ2/CQrF\n",
       "0w3K8AA9HLE6TaalkdAdgoKqlf0RU5mGxAL5In6jHl9lRVnIXAXGx8hHYZkOOf/WkEgD8q6paQQK\n",
       "JpDzQoW97d0AAACdAZ8Hakb/AD99FvgWLEUA6wEEqaH7O+c5k6V4gDdkp8WgWMCSqWEugd3tyugC\n",
       "raHARpOkpa1j2wlRHboh5f7RQIyov19pneF4wv97MsSmouz5J29+fnrE7S8PTYgTbVMgIJXPYh6f\n",
       "+l8Ym4yZJ5B4AZoqCwx8+Y1MUEseFSVJI1u1MG5Jt6lCteGNamAzQxt4wBSN990yNX15yjIJOAAA\n",
       "AipBmwpJ4Q8mUwU8K//+OEAAAFZKUsrDNlaTs9ApXXKhY0d7WzhDZwQkKvLUEASBF2D5lzf/u208\n",
       "g8GVGEaQhxJsINRSWb85arVBA0I7TDphDudSF2bKIVLOUz0IkETknydL77WDWrlBYCo5IMNBDA0+\n",
       "Wz5jaFzh2ACPkLFYgOl+egi0k6iY9WzseKmw9/AYtRzh+MQhFhSXYZ7TL9qRi2TmjCsTnyHc2kDx\n",
       "dccyxfFkv/kSwJEpBTWONebNfKcGf1idn7VBudthPE8M4bc7O6l3bQ/UT3w9SuaAuVMMvLF21TyW\n",
       "PEYu4heQaA7rSEQpiJo0nKWykIGVZPTGkw0t/rUqcRUOweoE0lV5beUzE9sziBhlOkQF5LdQ/e6Z\n",
       "SEdOWslvZzW5SY2QGAwOii3H0s6uYFYas5vrWMEnA9e2V7PEzxObiQnT5IbfcblVw4H1HMfseW8h\n",
       "tcYnxRh2+9+0tBtztxjselyP6UEmUCY3t7AlvTXcfJWjyLphTlI6jXCIRaUfEx3HfplvRB4WQVxq\n",
       "NsuFolX6Lmo2UNpmo0shG33PT7cQkZ6Z8pL28iACmt8hoeXgYC9c1D4sAPTod/B91NFW1tEpxetN\n",
       "5lIunOc5QtKkC3/Dspe4aN8GxU5aQASrooAPvP/TpA2RSfkAc/vz1G+8ycHuWlGotIiKjlwOS88P\n",
       "nRWA9r6ICQ4xHtYg9RfgbQSRRudmSk5Pj8y9lpdahzmGqXHoQOmZ6y+S6AAAAJoBnylqRv8AP30W\n",
       "+BYsRQDrI4mubs4pJQVIQv9XtasjUnd9IJfH1ALzJNrk0Ak2KZ0rje4J6nOwtC5kWUxyTvAK9DOD\n",
       "kKUgCcvZqaloYa4w65rQ0mFFKUhQvFg9IYfCpB85PBFNAzJMXgJ/iAR5v69odcIEgW8keTkDpzDM\n",
       "Gt17TXhmDFGECkRqqj4zygyI1qHkQzAqHdjocMDTAAACOEGbLEnhDyZTBTwr//44QAAA18H0LxEr\n",
       "YBbv/5yd2LIqL4Fg9WASq1SPfnJ4Ygyx4e24hYzaoH5Xe5EyaKy1ZUQLyxmHPOS/83GuqfqCPjtG\n",
       "lKc53htWRYKa4GJBoddEichNAZ2NFkdNMahNajN0/107Vr8HnsmI2ocHa2k4LzQtxaSjV4FrJi5e\n",
       "Q2Z9WDQwH2CViWOiA4nBqlTpdkpm9xHK84INrmLm8gz6SbkwFrxNPV+C++6p+vKjfvibh0mHvxlJ\n",
       "tcexsmPRaAODGEKGACS7O0DlUac+lK4gq545coWsODPQpPu5PO1pUfWsL2W0uhUIZqR9JyXI1wjH\n",
       "f8jjJBDa2Dyet8eyUz/zUQH5lGcMpCLsJmz1otWwmUJgixAW5BOESmrVZ9DPCfIkd+uVXG+A5Cj+\n",
       "ZjbegLGJYR503/9bIHK9DGc1RQT53xPbgDUnXuVg4K7itA048bg7rLPiZ8PfGQY3P/Tsecw7JJPE\n",
       "3DWBixnqWCF9wH4QCfzTbJtF+0YsbIeveuagIJzQqRQe8y0V1JrcOFrD/4AM/Pl1+nrylGqhfrFl\n",
       "hrZxgdegJkd0TiMpZZ03MPypDRlLg9WG6gj+ldoVXK4uEFYg9vuSYt0ecqoiurrutx+2EPkXh748\n",
       "Qf1paNI5aTfZHAxAXvB/WJ+et6bG25WOZ0sSmcz1dh3zamgoMCs1SD3KY0kzKe821TxCYou7UonY\n",
       "XJill4MzD3RyP+gwIRrnlcFDOXIMtLzf7KrRc+FGZCgAAACtAZ9Lakb/AD99FvgWLEUA61+bFEgI\n",
       "M6wCevSy1k9maGcX7MEVl/xezl2Dtg1Tnu7OhshyglmOoEVwBcSRGiICFqOHv1PPbAT9CI16a4T+\n",
       "i2eYj1p9ZtBHK1YGEAefVNlvBm2Us5e+yfImKbLZN5ui18WNG0xa5VHB/vF1qoqnHJgfnVWLD9op\n",
       "SW6OwZ07krHEQ6etoXi+qYoQN87fnTqQBoPLTcVJGs52WtVgtQQAAAI3QZtOSeEPJlMFPCv//jhA\n",
       "AAUhzyrkUCH6ypaj/UQIyV0JzRHiKqZJPGNm3ASH2vuETPP5DCYZNoyLq/iOKzGsdAiA4pQwvgDu\n",
       "QIvh6pDig7zSbdpkPfzb4KeoplTRtRo6ynWaNlaqRIvZAuTcg2zFYQan8diJhVwKpPiF95GeI1Xe\n",
       "OIAYvki4c5FZ5hM9gwIN3JEzZuRPTJWqm5NhIJqaT6B++5PL/5PIB+du0ghZpNnaYkgPnABSfwef\n",
       "SQWh/0ZgGvbqFjVHdxRaI0Dj74YGk3KRQg6Kxkl41sIPlIDyxjeQXsni2ehomnRdAK0QUTyJV1v0\n",
       "Bi35tb9FSFkBeO4qnmbNGarSXBEUfXEqcsf6UmV0gSQbPAbtladJzhxrgykcLtC1Yv67ZyybX15y\n",
       "kJaF5/3i6jC0g/aebMXFbwmeSOTyUp8zlkSz8PSahDzCOf/BracU5Mg2vUCbdiUs88iCqDzWpcRX\n",
       "p4iUlkwadbdHI4jNjhsO+zVN4orvgEWqstrtP9RmtZ7us/kLNNQNg4ixhKQ7b6GgKBpODMdp/z9H\n",
       "JF0d5m1oVijJu8obMFxJz3bnwmD0UOB0v9D3Qy2KQL3bma+hXc4Gb7MjO73UUCDMfSFA/hyb36B9\n",
       "OuK085tEajNeP78b/5N+NTFfEDRO2aA+SIDBooj9bQpy78Gv7/n1mXA+OE+x9hkMvNIsyAF5sTo3\n",
       "jg1e9BdgGjgT1PQn6EMaaPAWU/Fxma6JYlSQAHMhfKY9YKQHFWbhAAAASgGfbWpG/wA/fRb4FixF\n",
       "AOvhVySxBoC48onLpzCNc3BNXyXgQIQ/m4sk896NQYoe88Z4hHb/LzTWhmLXPhlb6iY0gkOqduUz\n",
       "Rh/hAAACT0GbcEnhDyZTBTwr//44QAAM3B8ykRMNvwJWXIhQzdzVlpJ0f7fqmg7Af9b+fVaX1u0W\n",
       "e1fG+hfG1FrK99IVw2F1gbdt/8zBDcFFk9gBKi9/LoZWaknFbK91eSTJ5jPDdQ2VxXfkAO4oiXvE\n",
       "HPORlSg5DxC3qZQkOLBr+lsKBeE/K5MvRkdCTifoaLCY5iH4K+0LN58TrC9xYjKd1P/klscGow1g\n",
       "ftApQQQGWN8TIQ8sqDGKhW3rcFq4vhPmAMkt46a0kQEKeGLOVdtozv2mkuHRGkaPs7mSasyTdNQw\n",
       "2V7oU5GTYV/NYKlV9rCwidQJMPyguL6jRS77oXOg+Zz47fTtNF/u06A55oJqNyYj7wYvFjO9acJP\n",
       "x4T9A6LL9RMRw/qYlour13pEDgNQYEaBW1WVYwkk0b/Y3ts4jkc+dVmmX1+plrUYB3OvfzhlZiFo\n",
       "X6zwOcHUmo1kABD2kLHKTMjidA43R2qk5qS15JNO0MgKUOHX5WtdsHeJW0NXVDx6f1UFt0zpqeuh\n",
       "x1JguqkSR/Tgcq5Nz9gge6LpeMdJvU9vsL4LQD14S+onZ0AX+vhoUaPC5tFig79fF0BfMF+8FNF/\n",
       "eeFLluIH267umknHJYwSmi3nKovGAYhUU6Vc//5iW6JbgCX/VtdmqiemB0FBLp5M6Yl2tvtJRRXH\n",
       "ba4zqKScdQElzEbglVhjkrSMyeaSKId+CeeXDvOvzMFnchV8mkxetuGJJptwdvdHhJuQYoa9VHeD\n",
       "y0fAbPaTnFVGfjU9xxFk9CvlauDGCThZtBTZoQAAAIABn49qRv8AP30W+BYsRQDtaX4ZQD7Yng1Z\n",
       "FBV5f3J0+5SkD9LHKfQUWSHSkvDQgC7EQQc3mauWcosPMX+8L80YWC+BZ5FJcHXEjBSsU6jZkMZu\n",
       "HlJARJ8yUy3sft2gGEbS2zz9A5e0kyWPTi1o5dJoJaNbBpmbgEvVRE1G8hwMCAAAAldBm5JJ4Q8m\n",
       "UwU8L//+jLAACIA46VpTbN/D5r8EggBBVvAs+lPRSNNN/AjOGlwLEO38RYmkGLCpgu0dwlodg54P\n",
       "T04jipfgIzBcqydEgs2nksNen61Qkpb6iIkuA9vCuuBZRCgnGIL+1q4GXvZSAsrLDKPev58l0A8O\n",
       "wc7CVpDRxInbmyI/ocf/d2AeiNf5eSZHufV8WAc13KLPiqheMAgs7tHcVABjC6IWnMhvBluFMcaI\n",
       "ztG8MklonZk8TPv4Skq6N0jWwcy6382l3feM15yJrZU7N6lSkEgQxguWnUhFBE7YBZ4UrEWewiCv\n",
       "u8EE87PXPnFUbWFSk7QVnQlVR2oVXqNPsaLS0JTzcyYlJ/DwNR2fWcuYeDPa9EDqzsZRjMnUvHtZ\n",
       "XeaH6o/7jaW2TLljribZjPNKGYuXvfavRhxj7JyYjBtCdXQpQ6sz3phUghwsBzMhuaQXlSi6LxLc\n",
       "Vqi+zN5DAqfh5mMLk1oZUVbRE4ZSdLAV8KxVN4pzFB/GPXPimBjE9jHpCClSdwfKDEUtvK3494oY\n",
       "h9DzTkny56Py4mE3JiWYdIxCEhEImeRQYzYSn/LI0g0Hpq3+dkrYEM2CfrzwW9p4nbor0PrGc3F8\n",
       "kUBMUoyUXvetGawY0BcsHl9HQDuAVOqX1v4fchatp5i3QvbF86KErTIsJOh9VONi7djM6//YL/MZ\n",
       "5DObH8e51VBDMrYs9XPYfcvmkqwMN7A1Gaam6vpX7JIbKTNeKSI7aDCXwp47jQXFpEdiJwk8GFxJ\n",
       "CmD7+lqj8coNajKW+MU7tS0SYABDwAAAAIkBn7FqRv8AP30W+BYsRQD5Gl3bL8WcPrgAAA3OQms4\n",
       "zW7DnOpDeeoQnjr+0bO5IlIs4hGEMgAoYq0T/2L2YRgZm1OF+D9ep3uMxhL1rL9DPi29kX4x3RD/\n",
       "gASTCrIDHaFrU12YaaDk+3uUfkZEPylmEaMnk4P9RPEJkPfkNWdCE5gQEd7ntE3JOQAAAstBm7ZJ\n",
       "4Q8mUwIX//6MsAAykn9ANs7zvRd934YDHyuR0sqehtjAEEAE2e64qeZj4/KVdqEApvFWCCk+BmG7\n",
       "F7wNZQch7qlI+G3IfroV/2NRx6RzkgS8TViFQ5xxWfPHdbD3jxx7h5aP4+Xwt3KwplAX4hYZWfqQ\n",
       "sbJM0y+or8z8VXpBsPo4bJJMhcnguJUPApesG8Y9qO+s+02SMj7zW6VK19YtUTJeKjyUx/oKRSZn\n",
       "tgX3hsd/hyiL39eKmskxR+g/TW3dzdJFmtidZolnoP9ES0tWDz32vV2t8HLQanBdhcQH7UIdk+hJ\n",
       "k28wWiDXuu+Z+6ligwx4ECrqwi53rgujUg2b279mnjKxoOsnG4YrMjyLZ0GZlqVlPHHp8Su1+iIZ\n",
       "gIDFrODaUcPSE+NcY4Fh1XCjl9vfTuVp3+f8P5Ws6c6zAtzfQfDNH14ElesFM85LXHXByomR5oF5\n",
       "ZWXvjyfPneN0vtfFa0cKEJy/1kje+cXxzqGwivByj1UP+3kd+c1ynNMlJLH8AhKCM3ww0QHKypLA\n",
       "6fJbeJDXAKjBm7BcudkzridhE5oF0S813lp098+HoTLHipw69xbYay9J6S+/cyR+nqmlidVvGUaF\n",
       "mMD8ry5xbiYQh/lyRNt0+l9VtaXmwZF61sohqnKRHsb/7f+DPQH15fuwG5mqdtf2uSIQ9ShUF9EK\n",
       "F1vaujqrt3M+ar1Bfg0FkXtoVOMZ8xTSEa3hNtBFVHp2iYRAw161ClLhKhKlxD/VsAEY/eKx5fLD\n",
       "Gyz+9jsQ8Lh1PZEDF7WX7K0z57z6BHBX4xr5EBwhmAs1hUfT/byx8EBba0cu6QOWoJnjT29vWN2H\n",
       "GEuEtYkJehwo8AiH8AndB0P4tp8NUjj1w1CGUE6g/4vld7bIiC0AqNMZrLLnI1SYV/gQmtF/MuLx\n",
       "75GQiyLw7LX7WWBBH7fy1oHFM5OlL++Ta9OAAAAAwkGf1EURPH8AM4YkPRDfATXzzZis7mymTLGH\n",
       "yXiuxvyRb0u9S944j+uwAzLaB5irf6fTxnTyVaTdYk2EDrYXfporRs+O2SIARMo0/Qz/5k+QBnUX\n",
       "2FFQJDHbZBgONtNYnzddbJsvoolfpZ3ymELMxLr0LSJ/Tk9fyKhGDFR6843zgHs0ri10CQd51i6L\n",
       "Bjy4CmeqtHeCkkXwWKNgNHzo1O+4xUL8bWpMtwBouVPcz5MbWHO20fUWIAAovsB335V7kIPyAAAA\n",
       "ZwGf83RG/wAM3Ns6rrNoAKu1Ee+2FmsN5yvuyxuu4abbheW5F4ZqE4nayz4Cp5ueEUI2RqoWVQsG\n",
       "L6M/wATcyHNvOJCdEYvZ0G2Q0jfDW1IkTQW8aiuIMzKD4+GDstI0c2OV1cYOwScAAABNAZ/1akb/\n",
       "AA1+35ioX+NjlBjdkLQvPK0ttXtA7Xdh6Yf1yNoO4FYL4GSFd9ZYElEzzuWUtKNUcYrbx37aNpQ6\n",
       "XqQMW+1y+eh1K80RFFAAAAK7QZv6SahBaJlMCF///oywAHzK+8TV01fhTLuSSzPp+uuwAA7u5/el\n",
       "p+1Cwn7d/ZVngxPr3nP2UWdCEOx+ZIW4si6FnmlnLOp5cCQ34xaDhfaPcDaSJ6t0PaLcIZLQX58P\n",
       "BgQgDncv1CAnOfgaPTCZzmt1BM7m2rwxZ6ZDuT4J3CSh3dKvVA3qr4rRoDjNoTLyIzjZR4gC6GIo\n",
       "ClR70kICRaVPl+4zLYHjd0fyQnQ5CXjPcUGGaiOZrkiz9XGLBON/Vsla3wa/xTooJ8V6Cc9eJTnK\n",
       "Vwh+hPquDLmONbtX45GRHoQ1iE6LFSeZ7AAuq0m7qxofOeEK5GezBQvmKvIPU5ddgNR08EN0rxAL\n",
       "a36cD+TF/yAio4Gx5uMgAg6LWyVHA4JuTEwQ+CZU2m/gc9OuNbdJJluo6/g6wQRccV8DGGQ0lu8z\n",
       "zd5K8AZwGXPTDbliU8pf2pac/wW+Ta/Zmom7iYIxzXUTFQL0y2X5B5mUiOvg7LfuZNVh9ceMpJon\n",
       "ZebsDKBR5AJhQGATjMhE9UTYdzTydiVRhvox612tjzilLYXWkM+QWqsZcnjZdtOJuXEz92mr+KmO\n",
       "hi/gia8e4zqQuG0VGekEPNimysjSVYFz76tdpocD7C82QCZBwoRgaVU0OO9JKoyR3NxApYE8ynyE\n",
       "wPDfKKYMGuGDU/EpUPttS+6M8W+1Ly5S5U0yqER1uYZY97KEgkA3Du4ihmU4hpMhOqjK7P0SpHcD\n",
       "9IabDeIewMZJla5AwI2hTMQNbei00mGfC7HhPXpnBvKwlS6ePzqmF1gEXkOCzAY9HRn+HaQT/nA3\n",
       "7x6ssLBXehmCg4NG13QlAHLE+SkpYqySDPXmczCESC6jglQOzrJGyUQF6bPojLVUKRoKTI2QKpz1\n",
       "4QZGJ3i8bDTMngEVH7UWXi5vUcaj2Eq6MbGXKIj5ys7BAAAAgEGeGEURLH8AP4/SmlFzOuylzQAB\n",
       "1XldyWRjiCXERBCD4XI8dMhsnh5leyl8DS/gNYQZB6LxI41EeYqmPI0a4YFcfb4gJFmmywqCk/Wf\n",
       "CNzFsx+Fvf+SZ0eAdx04PywC2807YAum97tFKzHvOKv4ADjU8to9x83l3LXOVIp3tHExAAAAUwGe\n",
       "N3RG/wAghypoSxzNhjMyHchHzAJAKzW8qTKCtochxJISkDMYIyfZpuhAQtcAHYeZhuf6pGHqz7PN\n",
       "5g3EvNTHUbLOjG7TPlq3CHLXFfqb08LaAAAAlwGeOWpG/wBRyrvhnu0DY72FlDgs48X7jP6/aHCe\n",
       "Sa+nbA7NTrrgHn3D/DXSf2d4Kfy08ywk9E1Xfu2OTvWnjesIWr40mpNhFJJNXyrayzHGv2SGNICJ\n",
       "9HfWKJi4AJQYn+OhqTPzp5FIGAIEdQ8fXM4R/nK0BDJl62l7PihhTEB6nZBNXVon9plxL7MSxvMA\n",
       "VUFOejDxJi0AAAKdQZo+SahBbJlMCF///oywAIgcDGUDpOBVicSPBBkm2XujRTMmuN4soeRvkq04\n",
       "2Q4zIIogaNlVgz0QM6L+VazonwEyri6UUIN5zThhnL/sXB9/ifSPhqneKEEvvnSRYN6wmAlbIYGs\n",
       "PHLMF52h5/jDpJZ2wjWOdpzEuv2OA5UZ6GaYYQ+kvUAeSHySI02NVCTedbuDSHiH17/YthAeQm9E\n",
       "7bQILIBSa7QiHw8q0qR/vfVhVJnUUrIEZQROjrLSNhlra8v2/V2KDfO7RrOeNzURVje37gD1JMwE\n",
       "oxyh5RedJsbV09L7ugY3EnLN32sZBOZR/jsasvLORzevPf7M6xjNCfijRMlflwT3BHSwr15zMKJ+\n",
       "6EXqT/YJYMLSGjjvfQ602rTF44+mVrSVZnrT2RFUTi4yomOxX54aW4HTth8ZJytb8oL52XyyXlBe\n",
       "SjYQ34eMtM9mi2RecG6Lw3Svajgl/CZHFH6vZr8n7Chw9/qqCBMhW8xodeBRiz19cbjtykOOBufo\n",
       "9u/z33x9t6Jrwq+dXbRRgLWIkN4UtBBwY5uRo+x52DOJl+nygRsYkpl2GtJt/RNfkW+I/wgFbEzu\n",
       "Cmo4kLiimTW/fi/3/RrHnA19bu0nmg+3MPPaCQjeLvkvPj9y2h4+iXFWIjEFehCLW3vz9uAewV09\n",
       "hS+Uj/APrtD0A8umDLfPbzlfxBmWPu1skKbXnPufGypfdzg1bx/EkaDJ07KTJXuv9t8HA10iAWRe\n",
       "SBGDUY/03YekCEKdOijsEv/3pUqUbZQ1l7BWBWVXKDmFEzDJtpdG6Att+g9TM/vaAMk2l2mIEbnL\n",
       "tKC+k9wHcHS5EjUBBaXGbIzdb+CGrIjZamkPEchPv3W8dBagvkfiDv+txMfylGj/KYIh0/S/AAAA\n",
       "V0GeXEUVLH8ARWOV6D9+oNyeCdOzgSaJJwW7ROJ/omSMN7jnnWfV03659z8Yky6lr9svkaJ+AGMb\n",
       "RSKMN7TMGloBWxn/h2cABwDM0ecMpMdi2d2KoeiWjQAAAGoBnnt0Rv8AVj0v8Z4g63nvpALsIJMH\n",
       "v1wRtjxEZyneqmUrFyZsHbDzag/iNaghBKQLjDOT6MYB+DXKnF4SoILg+TmCmFN6T+DjOQCCxxJQ\n",
       "Qc/le1JT/Ibi0gXMG8fO4ODrmzl11x/DdCthAAAAVAGefWpG/wA+M7Z4gmhr4YLYO7r2W3FzG1IO\n",
       "BCqFaUHWnbSA3a0vvbT5prWUiDYpZR8AuwJC1JbT5/2mFrD2XLEpGk+0X0l0BSl0JMlZIdaNop+T\n",
       "gAAAAltBmmJJqEFsmUwIX//+jLAAjBwMaC2BYyfIJwDoynp6CNTYztKNm4H3o2mdSdvEeicHXilr\n",
       "bvH1uMyFutHRLKgWdWuptihn2a66o+Oc1jwfZzRgEjt9VW3FZ5E9vGETgATLtc5wDiLQwMqPJRO+\n",
       "dGMz1oX559gyLJRs2e7gfBehKo7ik4e42G11bVgP3DSzb/ScjxgLj7XQyLfd2zzs6c2sIX8/gWmS\n",
       "PuTDhTZbevthd/5Xzd0A4tzLWfe/kErvpMOh85rsoFdSdezHgO8UBJO47VUcZo5FLSMyy3bWc9+w\n",
       "lQTSLAQWBZ9e+g5KKrlDEOy3Xg5yaBrFxw76iWVbGNm+mwf/gdyGAow7jSA459qhmXbz9jdinZax\n",
       "6pkcSVPLBcmSOAI1dGc8UH5HBAbGH/WO5N8RuJpKkmd4Yf6UzEmHHkXHV35x2GDALQ79BHM4XyBz\n",
       "NsoG/bFRZrkuWzeQZvVUisHG7OL4m99LXDYPdo3m5O7ZTIt58uAntqjNr75Sj3HCN9nhA+1DaJyV\n",
       "T+UWQOBexQldN6b1K6UiLMw1nFyUcLDSMsnYBUfvClbGranvlgOqyjldJx+c217Sr8SFp3nO2Kro\n",
       "x9AnWSJMH1Vuw478F6R+Eu/qMl5TaEjaqKmb5oCJ7kWmfBlXXLOZrZ1a4qPMdegu4nhfApSVzC0s\n",
       "XTtBv6qSDWypFWbmbyxyD3R6TfCHfWd1OacmFQd0AZnjFcOJthSvW4ZfRrZP8bvj2KLTsqI4Gplq\n",
       "MPpTP/RQ+US3ExsixcsK5l+vm1k3FwIu6EbTRIrrUBWssbKDjEAAAABYQZ6ARRUsfwBHZUv+whTN\n",
       "lgMiFWtMPKDHOFKIN5S4i12YIkzh6VeItpOkaIIOY2nmYCevuugxY/irqNYuVrCgYymNAEsqoOjc\n",
       "EGm8JR0WGUOKiNnkvrAUkQAAAGwBnr90Rv8AWr6QViwXChG4x4ZkUcMx4MNXHXYTd6S+qeqxJeNb\n",
       "xey0gBc9iFatQlND/nbExOJ6U9JS0Ntq7BmZkjWVd8SiXqHZpOHAGS38mD5SKyLtXm0CpQMSgME6\n",
       "lM+FYVqKJTHwq0OpBewAAABaAZ6hakb/AFQMzD3wN2Ln+kiDOMyym5PZmqUoJlrDGico55aSAj2c\n",
       "E3CvGX1yV8dwcVipZIJonyrNTOx/p7uLgC+OBfNGkwmHhr8XiAkQqUHLUo/mxw3BWIDdAAACQ0Ga\n",
       "pkmoQWyZTAhf//6MsACQHAxoK6hMBm4/k8YDy8Ze2ArXNWNt/+u+OKINd8N+lLSfydu7NzSgFMKt\n",
       "goAiylAcuJkabACWCOjG7BcgQhB5d8oVlEEiBDNo6GV9LKtFvzQj78zeDme4AhgqGtg14NCWjXTD\n",
       "++fBT8foPG5Y4yxSijqgG/BTiogQ8sBj9NlbRKgBLfFmgjWHN7DB4w+neUHiYybpAC5F92u257Ae\n",
       "7aSIE9TetXuZnFZs0MU8UKQHFOW9sBSkH9BXD7jZGOD5b6w4xfcE0LjzNP1dOxb0+easoHPsBNOD\n",
       "xpiO+VfW3LYi+D9vyYCGexvsPfHTsUUPdvv7T1gce5KIexYW/mU6l7zOwoeEd8bVmvFGbycBkzs+\n",
       "sc4mIrIAqiz0tQnXlLR0zY0XK0N7/bW2hmGhwSGNKAztAsFT58NdrEOQwWotwxxi7pQArH8cBp0u\n",
       "KPMx1gQFOgL8aXVNgw6UuvgzIhbc/GcWWy0vWJRS019+0KUUteItJYYWnyAvaEht8H3WMkuCVkVj\n",
       "Q9VU/dARHTmLcBL6aPapXvdQWQXWKJdYdQzga148bu49ZWt3Nk1wNS3msUdBVSmxJvz8lbaz3grX\n",
       "x66pm7FPmojTmpogpGNpJACLNDlnU5Cuat+DuzXdvORuEjBbko0DFfR06DMbkbk9snIhJde9ScdB\n",
       "ZnpjwVzWZ+P8w4Oi7HguEADpp/Qswy6wmgv0nuTMymmQC+qazFN0oF+EaZcamdHp9YSLqBu6ijns\n",
       "GES3c4I0cAAAAERBnsRFFSx/AElkujQ8NpKvQr8myWHLPwefdBQq2xANkvgZSSdALOIApkm8o/XK\n",
       "AV8GamKueh0D85vcyvm+r+BGYMALKQAAAG0BnuN0Rv8AXP4w6JGoc21uREkhqlxI33p2gPTw8D9q\n",
       "AFyW2f/g98AOavY9NWaneimWCjtYt2GKRInq8Lms/fK1m1izBgzBdpv+2fRqOka6DHLbbJRHw8jO\n",
       "Nq1VY4l6xtGxgy6TXevPRBZhyhyxAAAAYAGe5WpG/wAfuiuloABCzaBOG8SFRhyOBsiZXAf15ZIT\n",
       "+xTxqoOoE+n6YeqksYYESuS26lc6ExZyzUfO2leQbDqvCdll8GcnUHopM7d5DrNusJaD8YOu2YTG\n",
       "h8AdSVipgQAAAktBmupJqEFsmUwIX//+jLAAiAM2ktJLUM+Z3CbpNzst/kleVKBU2EQkO4tV5/Cv\n",
       "j+OC/FMDjQ8U72cecOW71ONK+qu6JD70guBoiCdIc1tPsJUcmespS7pwVuJiGRzyJjhwFcTn9Tta\n",
       "YTannv5xDV4mmHdrk/0QX1gpXT9pc1I9IOE4rJUkaPCCK/fXAf0EMezhTgnjo8XAzs2QeNrAaWEE\n",
       "bza2MoHJffDs4mSLOuPiKTIAfAKvkR1HO9oOG8d/Dp9zQTKOEb66qmAQ3uo/4fdafxFG3vzD/r61\n",
       "l7NdQMjuE6rh0D3R8NGnZxDN179b3QqLfpDAZ4GFRgMkhwukyo+b9j75GPZgT7UGjzA3ig96Lg/V\n",
       "5nVdunfvimGzCYpyKX+xdCFYUzDiHH5LRfZsXXLbC+jSle+shpPSpbPdXuaJpb9lN+tTn6QQJ/q3\n",
       "UrIKjSs1FPl9D9fdmNNv91Ma94Mlq8EZEdXCFqPb2a0+Uq8s72IZNykQunCEHhc9mPUfogEgbfQv\n",
       "pCVy1fLt0BwlA464o/M6v7aETfbGbuEj9vy+wxntP+SQ+v8PHpfApKnN4etjwvQ0JQWlhs2BpMyJ\n",
       "ejl5Xxzu87nh2ddMscXUEgjQX4hVG9VJzY0FpbFs3o0+J4Op9V7cYXoBAC9T94dbYkh7EfthBBnP\n",
       "kzwQj7od7ic3n2DSvcPnHS7isf0CkrZI7XWcHdCH1G7/KKQ9VMQE6Y+PPf/sVB7W6xS3DLGNStZn\n",
       "xxFFqNdYc9w5OoU1xe18VkTnmoAaIY8ClHF2mQAAAFNBnwhFFSx/AEVlZ9tx/wsBD4jANhfEKZax\n",
       "fsLAemaCojEDBQJTzkX7zzYdsDUY5+PjBPQT3lh8UsCZomFjMX8QElUWYgDhCj7Xh4pUii6rcUCi\n",
       "ggAAAHABnyd0Rv8AS0/Mp2wYYkHW2ZgHh2OqF2agMC24RBIjleoBPk60FRCVqnV2P0aEU8ZBrPeM\n",
       "g7dHCrZmEG/sMduSARzuTfRlzgZLOoiTwvx/fDK/jLr1/zhpbPnqvCgVs8Ueo8nMoJZM9/RS0myo\n",
       "HZEnAAAAbwGfKWpG/wBUCsfT+Lga3L7orufTX2R8oQceDS66sdglUTwCUITtKkOFg9AsvVrND0D7\n",
       "giFIySKGw/HanKs1gIFvhu+KyFeQumPCB1ao2QsU26u46iGtym+Bw++M81smyMR516uS6vxze/dp\n",
       "BZoBUwAAAlVBmy5JqEFsmUwIX//+jLAAlAMOks09q9oLcu7chaGE2lJrILDnSfaDB3Zpq6FWzydW\n",
       "aow3ENNHV/qfew8YT7aZtNHXg3n5Jx0kJN42uuwLwjRHLwTAoLzXOoWF3Ak4/Nga2KzPYcKNhxmn\n",
       "6sRIHsFRR55MKE1aP+OyyoZgt4DTlosZNhkKEzc6R5Vb2j6sIiveJyqr0ori8b0jnFTOJPtEuGe7\n",
       "C/xt9GkjjBjjqx0oQVNgMmIZfczymOV/EMMey2VTSaAiCFCTbHfpW/AEopiGt2sA8dIxf4m7JHN2\n",
       "Zc25IjvQa4eQyZ1WWvBNg+900xqXwhuAjIyIl02KbJB62a/HDYlwDFZfjXfzLS+niIGCowaRDRNT\n",
       "rfLZ3p1DkVgMD5wiDuIgPsQBUC4osHQhlilw0r8OnofU63L06iRo200/egfayukesHVdJWwSCcOH\n",
       "J+fkry25u/WuMzozq7olozReXSEPjryuO5be1raAJl3XhI6OCxjCAon/p3te6RNM65c17EZtKJJs\n",
       "qZyYNitYOZUg07E+iIDZUANVGJrEDStN1/lyyfuK1+wRj9ZM488w3YfuWC79/eMULTTBE8E/8LJn\n",
       "kankki5QNO6VnJfLUh3pQdlsei8fB9aIOiFjW0zkG531B/rOhsQcngh2tfyeo49umClZp5hJ89xG\n",
       "MYjckLDGTYCRm54G495EBTGEq8sT/FWnHx59/WDHgGA1HXtgXy43WLnuS81fW4dxyTWgvcnANUHX\n",
       "1pUwUb8at4Du5+jFKl9qB7ldNQuVmuGHClvnEAnYhaqBIIAAAABwQZ9MRRUsfwBLZK7QPDsZCN8z\n",
       "XkBK72hylKziCiaJGLpuJDpGCVxm7KgEJPhwdWhUlIEJNmbCzj5FEXstQ+R52HO7nN8p6JEWRosf\n",
       "KfEP5GGA0AmqLgMLKoxmzClDkYLawxoevg0NjsaVnDKFvTiLgAAAAHEBn2t0Rv8AH7T26gnEhDnl\n",
       "0RkXTFolk3UQfj1Mom2kgXokq/a3MMyTEMAHaHvDAXVxc4i2aLo2Pd8YQBlUxBlZWiGNHCOOvk71\n",
       "NT07vus5BfdWL6SbAc+sgp0WoRTzqVZfJWrN1caKX2mQzF9E/wCXgQAAAGoBn21qRv8AG54nTHKG\n",
       "VPrBql+kbefbIfuKeskoShkdzF30U3wATfNUagfypdBOPSgEBLUN+3ggLIpqfbgwQtEx33GjWgUV\n",
       "gLEmsds1ljoEoqmzOz4ARNK/pqLYpMa+FOihSNn/TIjHvrMfAAACJ0GbckmoQWyZTAhf//6MsACE\n",
       "HLkYPNWHjJWOhhFZ5d/MC6iDK8DFoWuw3da6fib3S2KrBg33q5kHfeZI5wTr0SbiNsQOXyK4erg3\n",
       "iliSUQm9zE7WiOlANLU6HBiLfkI9rI4LLf8VDEm5o8Ivg6+TYhGjUeItogLX/XEt/z5wof3cJTTg\n",
       "IXL3SFowm0/GRrGqUN6sKhbxUu7aVHSSnjRVHQXheSUEWQ+yuuJGUje9a4IQHK0M3/mJElE4seVZ\n",
       "vtl76AvzJSfN6Y4wiAZbGt6P27fDK5h4lIRlLBF5XfrkEWAkrcGj4sv4OVsREEt++wb0keDN484r\n",
       "hv1hgZg2N1Bh+Yygeb+GxUmkPmAvJBK7zdSETHl6qZSdLPOpQRzZjCBF/pN+L8sPBOey5EuXvUbJ\n",
       "rF3UnMsCPa41zeLnqjnl4/hWmikXhIfz0g0ozzlAiNI95quhcz9ryw4RLjP/U4zm60/IAFIzJNsm\n",
       "jd4kaNl5S4Dt3wHOli+lklaw+QvpGFELDx33rrw8KV2iTAcx8V94VAdWBs2CMRZ8H7QXpvH3ayBZ\n",
       "6DIi741R/QR71Br6AQdz+bCE3cX27lCZ0LTcFn4BMBdDpDKrRPAH39D8iMNU2E/hQsWS/Rr1x6pu\n",
       "SeHM1WFrOU/JCnWKbgjwzKN5shXqE9Vz8zi4wn8Bizi6ZrA+RrN4pifrFukeHWGcoqgEbRNYFOY9\n",
       "7tLHImTrUh/GR5FIslU3ARxxwVx9AAAAT0GfkEUVLH8AQ2UnTkYumrdSSQucxLLFSuFzZRVZxveO\n",
       "GqXgO0Zj2i++LjyJ30Jg87glP35pl0Sd5N6sdO5KRgOI6TXtFP0zLqjCp6XINSAAAABaAZ+vdEb/\n",
       "AAls2bwSVRfTSTlH5ZCSvOC5fYAJvG4o6C6Joh4gFCapT9/fTMP7yWgwXfF6hZQMQII9u6GsJ9oo\n",
       "wgQ1icrtgvUQrlyOwDtjr4Bn8PSyB7qxTooIAAAAWQGfsWpG/wANzuHWdOkiPgx05LMgBk6rf4Zt\n",
       "igkYc6+lgVQegcQKY+Sibf0nhEo3RbPr5J/YKuICRZMus/2717c6X/S6N0Ef+bbs1iKeluEqi/uq\n",
       "ezAQlIStAAABx0GbtkmoQWyZTAhf//6MsACAG9M85jgduRzXsoGgoCSACPAmfbILwrHtBTO1LBgf\n",
       "doxPzoD5NoNQJK/PkVZimVqIjJvXmPazJhoqOJVx7O9JhswnRj/2K64zlNux8/UU86QkQAKhqoxf\n",
       "wWOB70ewUIngNo4yl8d5iNkg7yjLLWEFHBhetJNjwUPGlml9wtoQb0v9cvZPuU2hLJxHL9zMMZIz\n",
       "tljj/6DH9TjmDB1fs0/c3tmqEtsb7/2aUtlXn7gUDJaisQKNwtYFTR4h+Tk+kpzoZ7a6eyEmfCYA\n",
       "dvF5zdrh74RHQZ+502NjKjcfXYKoh3VJP5DJNN7N3D8bPFz3Z6/V+fq9LmUxWpFXuwl5BuUeGFoG\n",
       "XW99q6VsRMIjhr0Il/zWZUG1vOOX2BByAsWwx/BxmJtyc9WvRaNwL2fijF9JZHss7iKPYX9sd2A0\n",
       "EdAmHYUFsn5IEYn8Ghw6adWAtBMOq2JBW2EJBPI1o5GKIlQzM/rHTe8t5Tq5NZD5biGUBLt0KXYU\n",
       "Jh1J4V2+VA/wyHLrg+BheA+z/t9awsALXdKhfHl8gFu174l+aerR9Wv4NLd84+mJKL6BfMFz9FYP\n",
       "rEadf9Aki1nHAAAAU0Gf1EUVLH8ANf/PpbkwRIIvoWxqriUJgDA0lD7pO9+YPGgCByVLXe0gHXfn\n",
       "jV1QSpK817Ax9B0DmEcVtW4PKIAuOIb9Bk2MYRsUgoZYlsEBdQkfAAAAOwGf83RG/wAZuj63kvyO\n",
       "9EzrA7/53ViqOGKgL5ixUpCtjsvyBV9JJvRMg27vUFsgiEOrNHD7/fgCXs3pAAAASQGf9WpG/wBU\n",
       "DBEAvlfUvQre3R/ZWy/tDx31SqKGSsa+nG11vfG11wAdfe8ybRbC3bJ58fGXH47AFUKDbjxoaKwN\n",
       "5QF8cYA+UkAAAAGqQZv6SahBbJlMCF///oywAGoqzgD8nkwty4AfizOXyPP0H/PEOE0w1Y6V0DDf\n",
       "5Yl5e9l43nw363a5pWegGd9dFsBGr7ImnPn2VUzgYkPlf+tZjrRAE2Jr+EEoh0sTJU2K07q7PjbM\n",
       "CONfpGFBlbcJ2P94Yf6uDTfI//nK8nkhJvtLCZrIxnl1cfAuReSoV4e2Pgvje/vOBTy+E2lJ/gl2\n",
       "TRoc9s16bhoY8oSxEUVYnTDpkB+KwQPoUz8QJgFvJEDPy2+nabOOPHgf/7aXttTLQ81TCG7RyHQz\n",
       "NSPT9i8p7ANjjpjGLJ4KIk9mc2oeSU7aHoJO+wMEMZe47AWC9HTzdrfv5zi6XvHEEb5v0E2g7kCy\n",
       "JQJRmDiILGpkXDbyQofWbNeymI2wYyAih/0dzBCAZF4smEVx0iQukUE/R0vDqHEeo0qdaXhvEJEI\n",
       "gc+B46sLpOg9JvYvFBN9QKadQqMHsx1f4sb2QPZcfRIMKkdXrNRWesJMtR2tgnDX1TdqBY4CVtHK\n",
       "mQCSsktknqIQT4bmcDskp0dEYEkSN5USoGntr9CqkfCOsSo39fVRAAAAV0GeGEUVLH8ALo/GS8LH\n",
       "dRFM8Af6+raKyMwCQMAK2h9nplSt1N1bMTABwvXBKHemqR0xNdVHV/z0QENyj1Vk5pfmt4hwAaIU\n",
       "1d3vuSHLnvlmxuSB9Zr0gQAAABYBnjd0Rv8ABNUIdvpXMisKxT5cV5UvAAAAIQGeOWpG/wAAsRhn\n",
       "a1pNTH8InspF9C1xueDyaM5PLHiHzQAAARBBmj5JqEFsmUwIX//+jLAAaiVXQPmXF6JV+NrbPWu4\n",
       "YgXf9JllkHXV3jHGmczOLPPixVlo8BSUNnzrb5GsR1pvWLPoC3NEY78H6CEfx0DsYLE9gUZQ8xo+\n",
       "LxFApQCsR7cIXbMLvy2CAV7/g22Z9hzuMs/lrHawOPEmNuENuTqqfNb9T9bQzW6CiRZ26rx07oBl\n",
       "YAVR5GlIaf9U7syBmt6u0cDJkeoP7zPCtA37O+2xEhCnjD/dzhZyjuKhvFGqCk9hn/WRQ75kGGpA\n",
       "XxLXweQk2BS8+2M6IokE96K0RKveY6jiKvIz21R01l1Y+6y9kHpgfxNT/Yh+1a4w7lCUuoIMU7qD\n",
       "JnQ4UKJ0adNE/xQNgAAAACVBnlxFFSx/AC6PxkpGWo4NcAiMt9X5oLYdj68Ga0FxTYUmkEPBAAAA\n",
       "FAGee3RG/wAAAwC5++IALtpwQHiZAAAAFQGefWpG/wAB5ZqR89ggANmzDNZ+4AAAAJRBmmJJqEFs\n",
       "mUwIX//+jLAAlPwTrhvoo+XCJZRaoF6jPDK0fRq3cl4lgypVf7GfaelLvsxnETo6b8hWCZMN/F8f\n",
       "7hqfBbInAY+OS1O6/kDOPAO+P5AhTsau4rgY96pjfuZT9mfTVOg0cPNN2bpixN9eESLvz78E2t1i\n",
       "4JMeFCiuRblcBb76tWzk4dmP8ly56TmxYFlAAAAAJUGegEUVLH8AS35PhaKhh89IevUVN1zYFAAn\n",
       "xczEAGXUybAcV8EAAAATAZ6/dEb/AAX69MgAAEJHhVR9WAAAABEBnqFqRv8AAAMAAAMAWvHnawAA\n",
       "AL1BmqZJqEFsmUwIX//+jLAAkATNZPS4ephA4ziyYyiHOMNjn2pBFSAJnhQPWmLBu6eC813hlY1J\n",
       "JuPITtB+Dwh3Sz7OOo9i0ZXbKr1okFY1zuRB5qTGxLSvMUqmxd52Ail+iQ/xXk51VmcTzBcHVbbA\n",
       "KQD/X/zqo1b17+vILCg35qvc4UB6QE84bVTxo6JuOQM8H4PPl8sCP/9GtVSz2bF/jdfQl7Gy6bSW\n",
       "URA5u7gQBoFVXTYsrEzktlIwmYAAAAAeQZ7ERRUsfwAuj8ZKNK+K/9yxg6IcQvs560MovAbNAAAA\n",
       "GwGe43RG/wBa/LdAExflRMZgFJ/ASRbSNphdwQAAABEBnuVqRv8AAAMAAAMAWvHnawAAAM1BmupJ\n",
       "qEFsmUwIX//+jLAAgB1UevwsS97GCjUCmt2ffL9dAAk/VSiCJLgHU/9RwDQPylBmKnrt1C6E+2vw\n",
       "fkvUlMv7ed2Rlhveki7nUEHLe56t95bKz/0/8HTiT/RRTLZ2u+eKpXF1R9nGen29ejvWK+nyFp01\n",
       "ekYEYxT7Sh08FMQzieig7bifKZk7I3oC8ko7DuhzylVWNSD9dYX1tw/W010y6o+litGmerVCEP4M\n",
       "PIZQUy28yNNH1Vvf2IqoUXZHCRLao/q8Lz0i4J2BAAAAKkGfCEUVLH8ALo/GSjY+DQe8X16G7C9Q\n",
       "93WLZoBgA/xmwgaKe9oPcT5gQAAAABMBnyd0Rv8AAI6hDsAANQ9FWPiYAAAAEQGfKWpG/wAAAwAA\n",
       "AwBa8edrAAABIEGbLkmoQWyZTAhf//6MsAA3lWitTUlqHbEzFPKajHtnjzU6MOB7rgBdUWjVn/c9\n",
       "it42Z2WgzeTZweqNDb5UFNd83Uws65IkLzba7DlwgsscPS3pqGDJ7ioQJFuRB7iEMwbx4Y1Dt6Tn\n",
       "0Ntprbond+JubWPp2HnxihVOhF9vPzhugjLNDki0TSTwEQNkFxG6TLJeQpx1WvLNg46BGy/hBgBp\n",
       "9a/bYV9ajDk7omVra5VTi8Z/Zxh2uYcVs14APvDLb2G0Cm5mqzWwH+/GfTjmPS9jToQ9uEcsP2bo\n",
       "HsbMKs+2dx1rh9LM7vf4PxqxQl2DKxPe/2VzllQeDici22Mj/8/rB26CVFb19W7+5Hxn8x6SB/io\n",
       "1GrdtdzdAjMybRAQMAAAADVBn0xFFSx/AC6PxkpEeqYlsE/kS3X8OENdg43UP4I8MoAODtIX+NaD\n",
       "FDCnaigljoyHFwyW0AAAABMBn2t0Rv8AAAMAAAMAWr5Kq2DrAAAAEQGfbWpG/wAAAwAAAwBa8edr\n",
       "AAABZkGbckmoQWyZTAhf//6MsAB3S/R9xfhQEUiGrqOsW8s/4ur4Pl8co/uXE3+AnnEKeyWbti+s\n",
       "1RD6LV+yRZqloluOH2etzO7bWnfa2pjbfdFGj7Hvw42v0+Xn51aoAc/+J8B0qMUAu/tqdKTM+ICR\n",
       "HgfLGPYGTlHZ2zjCzCz+FV2Be2tsIKQt7erRlFvSIO8f402uWvdl7UUWQa9Mk8QZLdyk7JZNa8iO\n",
       "s0dGfTXt+Lnnglv1EtphWq0/MX0gA5wga5adX8LqhQ1jGxU5r/6FWA13pvE4hbIcMCmmz+mMl0vd\n",
       "myuCH4O4kwZzMfTq9oum0wd0nbTQR67iRh/M0i0AhPtOLqXkAbpeYM91SwTmP9I6T6xbltxJD7gY\n",
       "tSlqT3Ydxv2ibjepsNWEH8g5w6feOr6XJip0X64X7ZgYEDAw6sytkwIpyl0Stt/yPzyWt+k18X56\n",
       "1ACdvsp01Pcmu4ruCWQzmskpnOUAAAAiQZ+QRRUsfwAuj8ZKMBfGO9zD1Ac81J5czQ95HGIWpVuB\n",
       "NwAAABoBn690Rv8AACDDydzrVamf9ML9YFGfbHqB6wAAABEBn7FqRv8AAAMAAAMAWvHnawAAAW5B\n",
       "m7ZJqEFsmUwIX//+jLAAahZslmN2PKKx/gmNlBTOg7YgSnHfoDAeCjTAY9R+d2B03YVTzbqccvqS\n",
       "ck1B0zcIdJSot19PKuTa9dNgkAPKVsucR+k5Yz+z5GH1ruFlfY8RwqmOVhPx5tc6FW082y91NMNk\n",
       "vlQCnKqImvNk15wqwBJt/qqUG4LLPjpbq3LtxZXYFoM+IMc6I3Q+dYiR4cirTdrp03l6j7uyZjos\n",
       "Y2CLKyYsyf+vPj0otzWgyw1x6mrePSEFrvx+4jrF0HmAk9xG5c6YehEnVgISXDWfgKxlWXHJSlnY\n",
       "PpzpAyC4bTuQnguDsqH6hI8Y55P2/hh70W5cSgFvaSxMKucGDfQs6IJs+3qibuycwdrCfD9OIWLu\n",
       "KTZBdTQMOa7NoOON7danEvPIwMcZpCivw3bJeEjZ07hcBU72G13RiADrcxzjpUkq8Ovnz5ITOVx8\n",
       "zU3CuPcywwwxd3fwENhdhScTXJSABvQAAAA0QZ/URRUsfwAuj8ZOQUJWuE+yniAFncy6KJ8vkacg\n",
       "oOnkn/TjtFx80J3JFkoEM3npYsVvwAAAABoBn/N0Rv8AAA3NHBSvbspmKyM6H7l8UiBvQQAAABMB\n",
       "n/VqRv8AF+khkAAAIT1DL1usAAABX0Gb+kmoQWyZTAhf//6MsAA7/reMxKVZ3IxEcAVE4zq32IEK\n",
       "8Ig3Of15oFKJzEVohe7/mEVaFr+baqlABxPIjXHLZerQHWdVKjYFP95m/dq8xzHMiPG3b9hdQ1fO\n",
       "Ef8WXpQge3Fmy62U+cx3ZlZqMXWLvtoz8hmi0zQfDvFs00pN/nmkK/A35f52x65mxOMgkAKm/MUG\n",
       "AahQF0K2o3V9y/45Fa5rkyPdLy67U0qY6G0Lgzr2fPl/MRiOpvqwkvvFEQbMh5QlXmK7oW4aiJ9F\n",
       "phwRL/ZUrfzAW8HBRPhhqnoI2OAU/z/4+BrTGDfTiQIxOqqDXVNKSAWKzdIAU48zAQzqy8lGaSGt\n",
       "EhZ84k8K5TeVT23nx4VIr6VpVogjkASUxzJAOiLXURUqbowK7JOifjwsrPmwoDYS8Zs7InJsh2bG\n",
       "dqGbUZHaY4tBBNEWJrcWNsxd9dJ6EeWrfJ0KCcbZCQAAACdBnhhFFSx/AC6PxkotPWt9UXR3kh6A\n",
       "fecU0PN0AnikL1NuzqmTEfEAAAAUAZ43dEb/AABLh42DOAAl9wGPLvgAAAARAZ45akb/AAADAAAD\n",
       "AFrx52sAAAFIQZo+SahBbJlMCF///oywADZKW14Dr7Wj6Eg1NZsotQbGob0v4SNBQFkWxCvqnGxQ\n",
       "yo5L7sl3cJ0uJtAQJgwX9q1MVYg+8pjWs4V3Al9BgQzu8TPQMBarsQRPOT2dO3JbNSH/Ux7kOBSn\n",
       "a5Qp1mm/IRXKuBQ1zfyA5KlJysjJNAGXuPfLorTFYwsiHstb5bbvywUqaxsuzGGzVOBFPIzrU9eK\n",
       "nan25+mS4A6Q7hlCVZXYOFG5EYQaWgrFEx4YdIoWibQj8JycYHyB8lViXnCCB0nB3ScnkZQ99pWn\n",
       "1qO1G9GT8/nq0WVP6EN84kKRUe4+qAofbTsV1VpEl1oL5/8hHs6MoF30k7+x5C8MYq0Axwpc6VmR\n",
       "AsAQYb5Nq6JEvSNcsHVMiDLpEdcZEQxK5TFhC8GZKc53En4WURHR8QEukWfML9FguqgakAAAAChB\n",
       "nlxFFSx/AC6Pxk1WF4zgDcox5rMM6tWW5EFJTPL2D1A1wCf7EikhAAAAFwGee3RG/wANNemQkQpB\n",
       "zpgk9gBbU6elAAAAEgGefWpG/wAABWiqRAAMqxntwAAAAXdBmmJJqEFsmUwIX//+jLAAjPzUBc01\n",
       "mylA1v4tJxxBVl0DEQRDVSDZyAgCwUra3xM7c9ZKIn2LfzD3G5gCMV5Av1pczuXNTwkoGZC268qI\n",
       "0K8l5UtD8K4Gaolh/uKTyaP+sq4+GYazwDRRBu90ZA/IOB6Lq+qYX7in+22Q9+DzfQsFpAAYZUYQ\n",
       "T1xFrOvb8ZFiFqwZ+eDTPeRZdzo6uyE8B2H4JPvvebNfTPr6bF2jh4H3e3FjFN9hbLZygI+9PI4i\n",
       "ZTk242gqcubbsV84CaS8b5lsZ0Jc4VqaeO55nGRZMgqFj1mA+0U4TByCSHUUQFsUOG474b5XZEOU\n",
       "FCB/NPL/33VhAxn3S3Ta54ROJOGNt1y+umcZ7472UUCMYEW2hTLkXtQkHwmDURjXfjTHXC6IaZyR\n",
       "mSLlDGW2A8+lFA6lCtSi4D7bDUpyim4c/J27UlgcvxBNW2ORuPBAuJJjdOtUaHlyraFbU9ABsm1e\n",
       "vSWOEQgj+AqAz4AAAABBQZ6ARRUsfwAuj8ZKMBfGvvYcEC9APVjNw4726is2DkRMp74bedv1SXLY\n",
       "E2GbUnurjQli165KSCAD7X+35iazTFkAAAARAZ6/dEb/AAADAAADAFq98pcAAAARAZ6hakb/AAAD\n",
       "AAADAFrx52sAAAFoQZqmSahBbJlMCF///oywAH19yKQRJbAOGjXlv2YcdDn4BxJh9Qiooahax8UF\n",
       "JVppkyBHo4cZeng+QdCPNG8PUfX3BIGJD7s9M2qjnFioMwXP8LdULq4lRKcrYshGfkMnuqtPDvln\n",
       "Z2uvxYrupds+5sVxM2Bqn8RjJxD+07DNq5xzoab/ICkP9FM+rKZ318qfWMcl5P3nqD5e1nWFAx4K\n",
       "vqTlbDf0JKF8cGNKajH533e6T7S6uT6KSKwxSqtTv46/bg/nqMXTWp6Ies9vR16n7TknZS3zk0Wa\n",
       "NNr0fTAIkQGzqAFL46gKL4mkq9Ht8CAayafPtraRxxEThfgVeYHSVySUsZEcqu9FFKPijkQW2ByV\n",
       "XlfE6OSF5Nju9XiY5zZ7oHSO+eSWnaRQ4C5bqNqNnqTtKLjo+JZ0iM6wynr5aW/Grw5CMU5uilep\n",
       "+uoYdIgzkBPKiamY3uBtt79vE50EeSBpZCg/RKowAAAAJ0GexEUVLH8ALo/GSi09axXB6ADg4mh4\n",
       "bJgOFUuDB5MwY1jqRoGNaQAAABYBnuN0Rv8AAAMB27E7AUnR9LCCXH7hAAAAEQGe5WpG/wAAAwAA\n",
       "AwBa8edrAAABH0Ga6kmoQWyZTAhf//6MsACA/Nbt+minjkhd5Dhj13qdNbEjJzNXieCF1sTDGAPW\n",
       "FwpuGi59Ve2QxcIT2mdN7n8LJ96gwjUpMuiJvuCvqwvv9usfjeHkJusnxYODBPGqwABMts7pl4i9\n",
       "D/k3SumqrXXj5JCAonR4MKtYMFzyEqoellJzcQAzMinWv4DVaejx2SlI4n8jsKxkLR8rfTL+TyzT\n",
       "sQdl9PbA77YHddIY3SN39M5bm0tqeewp5ivtMdct0a5uLfOfksV8WEv1x+xsigXz8HMuFK1rdiaI\n",
       "xPBpYb2FAosDf+SuNxkLbfW6h3yDFcurYFH/h6cX9sYUgVAcMv7qRgHBCPLAO6uUlmtHeYp+adye\n",
       "/gBO2otjNEMLTiLhAAAAKEGfCEUVLH8ALo/GSkW6kjVgFKNDKQhvLSHCb3p0NfF3pjRoq93ARcAA\n",
       "AAAVAZ8ndEb/AATYeRAAASAcRLCCXH7gAAAAEwGfKWpG/wAAAwAAAwHQeOkdAbcAAADwQZsuSahB\n",
       "bJlMCF///oywADAS4hwda3Yqo9059VAE6Srqg2AnW8p//QNpjvXRTCJBXPewH/L8R7/Vz+WBFKv/\n",
       "4x+uZtRu6UPjUxbDJgKfFtO63smFUH8Ah9QXDLcdn6K0ebaflRbCVxfmH5SdYeS00q5lYxLi6iwl\n",
       "Pr0c8THB4qK1o/zriJNomMObcbrjy94J+mozjjGrxUVyhyymkGnAmlxnuPk0HNwNB6X57PghNOv4\n",
       "8xVSGJKxtGHiiXTAVELfKHNrkshQrFS/PyhDzm6m1x3fFlcy28XAkbJoVPmboI4S1EiriVK8SLv5\n",
       "NClnaU3AAAAAGkGfTEUVLH8ALo/GSi09auiABuwbxywv9QfMAAAAEwGfa3RG/wAAAwAAAwHPU3hu\n",
       "1N8AAAATAZ9takb/AAADAAADAdB46R0BtwAAAUFBm3JJqEFsmUwIX//+jLAANQ6oIhG75YLNSBpE\n",
       "CjN7zg3h/EKnlpHjBEb1q+aNi75LtLYUbmoZxka/npTmusIYuFZNOPh8Nqw9N2x6Onq+hGRGhNBo\n",
       "3fzKChUs4pB+qdrzCm1zjbtc7blntnBHJew5Z/Qbmwl/smar4mcWDq+Q8sXNl9I73Yn5FPdIFORH\n",
       "wqkNcTiBc4atKq3T81+lWv+r299FjxKNaXx0JKiVmR5Mu+Gpz41RDi6Y/ONpviXfh0259C7J9W0V\n",
       "xsK+faO/eFyeQEQHGHxpSQlK35jsBurO0VQ/xhzekGsz+r3KhXeKtDkuukidJ4SUAGX+zRsT2A9/\n",
       "g1xaNkNMmZxKsJ6J79gL9g8uKvYtNWb+OkOf6BJmIKdvTtkFLBKSkTW23csmNutUWZZ3dtfvbLMy\n",
       "RdqB6jktoYsAAAAiQZ+QRRUsfwAuj8ZKLWvEaufIA0sMKAtnTHKgEaUlTIDPgAAAABEBn690Rv8A\n",
       "AAMAAAMAWr3ylwAAABEBn7FqRv8AAAMAAAMAWvHnawAAAM1Bm7ZJqEFsmUwIX//+jLAACEB2rATn\n",
       "9jf9WdhY7l+UTd61GA5pO+Mo9mR9VPXOXcowh/VF9i74N1oDcEcxdRtZhgyJmy+LQPFjn99vBk6R\n",
       "5HlOv1p82v0ZOnfGOPQEFfVzLz1JR5BF5iYXzGkq5U1NNkX14bj7Jx8jIKAB4QvY+yvX0z6kQX2t\n",
       "Mr0r0SA/jLZECFNhDeZWi6vPCrH44tLgS28UoqiG/90QB8m0j2uNl+P0C7XOT7iQzPtok8pLOCSn\n",
       "+J0GpAfyAk1DTNFtAAAAHEGf1EUVLH8ALo/GSi09a1c48AAd8P8RDquAz4AAAAARAZ/zdEb/AAAD\n",
       "AAADAFq98pcAAAARAZ/1akb/AAADAAADAFrx52sAAACzQZv6SahBbJlMCF///oywAClOylfhTlkU\n",
       "IITU7/yqNARMmWNzuCJja81YVODY+5A0E2tGe8HTDWV9jiD3RnyyjoIhm2h6/We7TloROGKZSrf/\n",
       "91uNAi8sWV4LzIEi3s6pZewi5t89VsvzJuLlO+FAh5yNVB84wIb+3LTxXU4G38NnU9uXH6esKlvM\n",
       "4FpacgoIQ1UYgHujU/rGvZ4D2tiWZa8FLYNs09b5Sh0GzOU0fq18LuEAAAAcQZ4YRRUsfwAuj8ZK\n",
       "MBVi3ROuAB/Q/xEOq4DPgQAAABEBnjd0Rv8AAAMAAAMAWr3ylwAAABEBnjlqRv8AAAMAAAMAWvHn\n",
       "awAAAHRBmj5JqEFsmUwIX//+jLAAKT9mvRQDaH/y6/ImQchyQl3Vaa4u/6Ev516ItBQQMB8ytzWH\n",
       "cFRdSJ807MNg38ohWb2U6OAvP350u6otF9aJERXbMxy92LsYJQlZ3KHzss+UXFgnKBPh5HOw795e\n",
       "gmnPXuxJwAAAABpBnlxFFSx/AC6PxkotPWrogAbsG8csL/UHzQAAABEBnnt0Rv8AAAMAAAMAWr3y\n",
       "lwAAABEBnn1qRv8AAAMAAAMAWvHnawAAAGFBmmJJqEFsmUwIX//+jLAAA5H/+Rqw3JMakZ+0sgP8\n",
       "pwO4OdXCP7grCWoq2o7ZcXj3lnPHYgKMTGYMt73Pnvtu9+i9EWfQUwjU+stPigHiBDrCD7zT2hkW\n",
       "CiWxh9auLWS8AAAAGkGegEUVLH8ALo/GSi09auiABuwbxywv9QfNAAAAEQGev3RG/wAAAwAAAwBa\n",
       "vfKXAAAAEQGeoWpG/wAAAwAAAwBa8edrAAAAaUGapkmoQWyZTAhf//6MsAApOKgkx2fgkNwZEzdZ\n",
       "GZUN5qGDC7PGoPm63FF476bbrfdO9T57ylW8nJs5y6kg6QfX3sR2frEk09Jx3rWHQ/hobZgqoFqV\n",
       "S1qkM1EiKhii/+2dkbmiO8AKSAAAABpBnsRFFSx/AC6PxkotPWrogAbsG8csL/UHzQAAABEBnuN0\n",
       "Rv8AAAMAAAMAWr3ylwAAABEBnuVqRv8AAAMAAAMAWvHnawAAAFhBmupJqEFsmUwIX//+jLAAADpB\n",
       "HQIwKx9+kh3Iul502Y4c9xQRiB6Ag0Vg8AdoV1PBKFrkOdjviYUxhx7u80vygjUBo8TN1cHC9stz\n",
       "/U7hAPkPmXyYkAzJAAAAGkGfCEUVLH8ALo/GSi09auiABuwbxywv9QfMAAAAEQGfJ3RG/wAAAwAA\n",
       "AwBavfKXAAAAEQGfKWpG/wAAAwAAAwBa8edrAAAAU0GbLkmoQWyZTAhf//6MsAAAahnBg4+oCKG5\n",
       "SeHHUof0kT+xbrjbxMvhw0kSbpLiznECnbNgxLgad+TddZs2YCsym8v/oL2D8YLrS9kVOdlBvnll\n",
       "AAAAGkGfTEUVLH8ALo/GSi09auiABuwbxywv9QfMAAAAEQGfa3RG/wAAAwAAAwBavfKXAAAAEQGf\n",
       "bWpG/wAAAwAAAwBa8edrAAAARkGbckmoQWyZTAhf//6MsAAAYB1QRCNMGXQMd+pefc3ANUZvkhWw\n",
       "TjyVMCHT6GD4O/Cj/D7dBC80apxgVSt0zsH1zUI3JW0AAAAaQZ+QRRUsfwAuj8ZKLT1q6IAG7BvH\n",
       "LC/1B8wAAAARAZ+vdEb/AAADAAADAFq98pcAAAARAZ+xakb/AAADAAADAFrx52sAAABPQZu2SahB\n",
       "bJlMCF///oywABbah+Qox6Tg1gs9V5EIe7NoJl+wbPqm6azI/TQGqk9NWXOp9RDI52x5Qmyxc5HI\n",
       "/HpOvyejQ6MCuQg1EAACDgAAABtBn9RFFSx/AC6PxkotdCKYpdwANoJVIh1XAZ8AAAARAZ/zdEb/\n",
       "AAADAAADAFq98pcAAAARAZ/1akb/AAADAAADAFrx52sAAABgQZv6SahBbJlMCF///oywABb07ndo\n",
       "E7ICb1nKsiOPaiuCsTDOyfRv2SJAlzTi+uRoG2HqXlx++HD5HO2Y1e4YYorIuhRYfmCOGNe3c1gB\n",
       "mICqEiPsK49UKKt2Ufq1yoLvAAAAGkGeGEUVLH8ALo/GSi09auiABuwbxywv9QfNAAAAEQGeN3RG\n",
       "/wAAAwAAAwBavfKXAAAAEQGeOWpG/wAAAwAAAwBa8edrAAAAUkGaPkmoQWyZTAhf//6MsAAHo5RX\n",
       "OPesmWg+iATBWnsUdQaUgmIfwIFuQaWe+HWir02gPSSlL0RUhMQC6azKVykcwznZSfgka3OBYTPB\n",
       "lwAAk4AAAAAaQZ5cRRUsfwAuj8ZKLT1q6IAG7BvHLC/1B80AAAARAZ57dEb/AAADAAADAFq98pcA\n",
       "AAARAZ59akb/AAADAAADAFrx52sAAABmQZpiSahBbJlMCF///oywAAkFIijyh654xlqpHkRiHcBO\n",
       "67B4HuP0afXCPsjRvO8qMBkZYhXKRz46SdCyh6boksqNsmBdWCNSE6cQaYXdpl9JoNu4E2+qEqaW\n",
       "EQ7g18sdeyYIGA6YAAAAGkGegEUVLH8ALo/GSi09auiABuwbxywv9QfNAAAAEQGev3RG/wAAAwAA\n",
       "AwBavfKXAAAAEQGeoWpG/wAAAwAAAwBa8edrAAAAiEGapkmoQWyZTAhf//6MsAAHo2Y0w9ZcO/0N\n",
       "sWQpJw92W4G2iNWf/lNpjf21s/IbqIi2aEq3bgd1kfUDcU/OHnWOp3rRjPPjWyOzuQG2Xc5ULWeS\n",
       "AcH2WqIwNVtD44yay6Nk8q5bAnmQ95pjEQLin/tOL0HPrVKODp1J91ss1TiIOZF3Bs4OKuAAAAAa\n",
       "QZ7ERRUsfwAuj8ZKLT1q6IAG7BvHLC/1B80AAAARAZ7jdEb/AAADAAADAFq98pcAAAARAZ7lakb/\n",
       "AAADAAADAFrx52sAAABmQZrqSahBbJlMCF///oywAA7pcrJy4ZJytGg/TRsRtDNRIGfuxV+zm7hz\n",
       "AvGndpWtyoK4Pf+t6mI3cQwRiKuA0Sd9KVULWGELGOS1poCbmHDi0Y49LtLzH767hNzFZpCxI0BE\n",
       "QNmBAAAAGkGfCEUVLH8ALo/GSi09auiABuwbxywv9QfMAAAAEQGfJ3RG/wAAAwAAAwBavfKXAAAA\n",
       "EQGfKWpG/wAAAwAAAwBa8edrAAAATEGbLkmoQWyZTAhf//6MsAAmBznvJPsa1cGmi2gEq+x0LqX9\n",
       "/F07yNSI0sbQOPn45Jc05pkYQrgeVd60kjCKJkxGKkwm8Zvbq9gAIeAAAAAaQZ9MRRUsfwAuj8ZK\n",
       "LT1q6IAG7BvHLC/1B8wAAAARAZ9rdEb/AAADAAADAFq98pcAAAARAZ9takb/AAADAAADAFrx52sA\n",
       "AABUQZtySahBbJlMCF///oywAAefksKACVgwC7KT+xvccfVP0XC4elT0H+rLyfFgd0x2FvNVLb9H\n",
       "w5SfvOZtb4bC+ABLktdfIG08vJhfdfoNHP9F0gG9AAAAGkGfkEUVLH8ALo/GSi09auiABuwbxywv\n",
       "9QfMAAAAEQGfr3RG/wAAAwAAAwBavfKXAAAAEQGfsWpG/wAAAwAAAwBa8edrAAAAd0GbtkmoQWyZ\n",
       "TAhf//6MsAABba8OfJ550jFsUOpsQjbm76thnSTjJTabLy8i5+mtSESdhug7KEVwYHwBqO7UTyyd\n",
       "SlzS1PDUGckbEvhimGur4ZU40a++bqRDDp6+nrok6xTQJ8nyUmjEg24EFCV4AczspN6W9LKAAAAA\n",
       "GkGf1EUVLH8ALo/GSi09auiABuwbxywv9QfMAAAAEQGf83RG/wAAAwAAAwBavfKXAAAAEQGf9WpG\n",
       "/wAAAwAAAwBa8edrAAAAXEGb+kmoQWyZTAhf//6MsAAIgAxtaQcz4ng54VANIg+qytbGnaqEu13B\n",
       "fcA1BZgJqlARs+dvp+Kly8d8dnkuSv9wqVbI56pAky1BTkavzyXDx6Vnja0QF2uIAD/BAAAAGkGe\n",
       "GEUVLH8ALo/GSi09auiABuwbxywv9QfNAAAAEQGeN3RG/wAAAwAAAwBavfKXAAAAEQGeOWpG/wAA\n",
       "AwAAAwBa8edrAAAAXEGaPkmoQWyZTAhf//6MsAADUgaB+IhGwzqa/7f8dRUxa3tz+ea/M9sVBeax\n",
       "bsmKQFWQFYF7GQWYsN/C9v94QbQMZiJS7DzW+ea42ubNYZKm5X5LLB9AKGfqaO6AAAAAGkGeXEUV\n",
       "LH8ALo/GSi09auiABuwbxywv9QfNAAAAEQGee3RG/wAAAwAAAwBavfKXAAAAEQGefWpG/wAAAwAA\n",
       "AwBa8edrAAAAWkGaYkmoQWyZTAhf//6MsAADUOqCILEWxku6bXJ9ewhhRrDFSUhtx9BtATfzdCD5\n",
       "q6vz8dAQFdWpXC0BuxK/W5WktZh0mwnfgMmSpeA1BFVSXqdxi48MP6QI+AAAABpBnoBFFSx/AC6P\n",
       "xkotPWrogAbsG8csL/UHzQAAABEBnr90Rv8AAAMAAAMAWr3ylwAAABEBnqFqRv8AAAMAAAMAWvHn\n",
       "awAAAFJBmqZJqEFsmUwIX//+jLAAA1DqgiEZy3q6w1D2ArOXgjvINhxQ5DOIC9olJjPoajihx/ZU\n",
       "dGljdjib7kqzYUhGwT5LehuhMvp1Kz6KRYhIAAR8AAAAGkGexEUVLH8ALo/GSi09auiABuwbxywv\n",
       "9QfNAAAAEQGe43RG/wAAAwAAAwBavfKXAAAAEQGe5WpG/wAAAwAAAwBa8edrAAAATEGa6kmoQWyZ\n",
       "TAhf//6MsAADUOqCIMtLe0htFZcIFgcmSWTnKcikBvLa4yK4X8oJXa8DTu9kCQYlLBLHj02gaNGy\n",
       "MuFZmMPHgtAwA/0AAAAaQZ8IRRUsfwAuj8ZKLT1q6IAG7BvHLC/1B8wAAAARAZ8ndEb/AAADAAAD\n",
       "AFq98pcAAAARAZ8pakb/AAADAAADAFrx52sAAABeQZsuSahBbJlMCF///oywAANQ6oIhGdAYAzMJ\n",
       "hxN0NflXFsOVF2+K3hblod0QTyuPk7y66QoCp59/z5YrVvnIWgaPVaAclZb11ddZm9TqinwfGFX+\n",
       "aQLRJjOAW3zpLwAAABpBn0xFFSx/AC6PxkotPWrogAbsG8csL/UHzAAAABEBn2t0Rv8AAAMAAAMA\n",
       "Wr3ylwAAABEBn21qRv8AAAMAAAMAWvHnawAAADlBm3JJqEFsmUwIX//+jLAAAJAO4JGLG7a13OOo\n",
       "N+Yn3M8CJKqcSAYTxAif8/Xq5G5AuGyUiA81wdMAAAAaQZ+QRRUsfwAuj8ZKLT1q6IAG7BvHLC/1\n",
       "B8wAAAARAZ+vdEb/AAADAAADAFq98pcAAAARAZ+xakb/AAADAAADAFrx52sAAABJQZu2SahBbJlM\n",
       "CF///oywAAAl+UhR7yQh9qewigjgIvvJAeQGpGxBFdSNUVvSyTDNRI9pUmLLEeowOWdrQHxK18wp\n",
       "GRN5AABiwAAAABpBn9RFFSx/AC6PxkotPWrogAbsG8csL/UHzAAAABEBn/N0Rv8AAAMAAAMAWr3y\n",
       "lwAAABEBn/VqRv8AAAMAAAMAWvHnawAAAD1Bm/pJqEFsmUwIX//+jLAAAHq+dhUGOkJNB5fYeaC5\n",
       "Z//e3UJ25PYrNC+RVokwGQnQ3ZdPnckt3enjwC2hAAAAGkGeGEUVLH8ALo/GSi09auiABuwbxywv\n",
       "9QfNAAAAEQGeN3RG/wAAAwAAAwBavfKXAAAAEQGeOWpG/wAAAwAAAwBa8edrAAAAREGaPkmoQWyZ\n",
       "TAhf//6MsAAAJflIUfKzZCB2QkU8AQgBAdX+/I0Jyu+ixOMeICnfGrLUwqPUaSZO73v5vZwghfzq\n",
       "EK+AAAAAGkGeXEUVLH8ALo/GSi09auiABuwbxywv9QfNAAAAEQGee3RG/wAAAwAAAwBavfKXAAAA\n",
       "EQGefWpG/wAAAwAAAwBa8edrAAAAQ0GaYkmoQWyZTAhf//6MsAAAJflIUfKzZCB2QkU8AQgBBEn/\n",
       "BU0Jyu5kBOHxIBW/GwIUc6ZykN8paP3QQSXtNAAAk4AAAAAaQZ6ARRUsfwAuj8ZKLT1q6IAG7BvH\n",
       "LC/1B80AAAARAZ6/dEb/AAADAAADAFq98pcAAAARAZ6hakb/AAADAAADAFrx52sAAABVQZqmSahB\n",
       "bJlMCF///oywAANQ6oIgsRakj9B2D/mEeuP7vrD2h71hq/QCoBumbrfDsXgjQ3awOzNUgFIStAQZ\n",
       "94qp+hTj8uqmqwzCZI9uUwwyNRMF3AAAABpBnsRFFSx/AC6PxkotPWrogAbsG8csL/UHzQAAABEB\n",
       "nuN0Rv8AAAMAAAMAWr3ylwAAABEBnuVqRv8AAAMAAAMAWvHnawAAAEFBmupJqEFsmUwIX//+jLAA\n",
       "AJAO4JGLJi5N71WVJVOEQMsgMklleTsr3pty6bAYlQMtezywycjmMv56U+8TvABDwQAAABpBnwhF\n",
       "FSx/AC6PxkotPWrogAbsG8csL/UHzAAAABEBnyd0Rv8AAAMAAAMAWr3ylwAAABEBnylqRv8AAAMA\n",
       "AAMAWvHnawAAAElBmy5JqEFsmUwIX//+jLAAAC8e8reJqM/G5bmH6BLEwlPINXORqEGVLUfvVQA/\n",
       "bLCxAALuLtFCl5umd7wrPfpC3/0qih9wAAJuAAAAGkGfTEUVLH8ALo/GSi09auiABuwbxywv9QfM\n",
       "AAAAEQGfa3RG/wAAAwAAAwBavfKXAAAAEQGfbWpG/wAAAwAAAwBa8edrAAAAOEGbckmoQWyZTAhf\n",
       "//6MsAACksyiZZVsDpAILcOmD6lxry3uCrAX1rCxHTADtac4tWDIeERUEAflAAAAGkGfkEUVLH8A\n",
       "Lo/GSi09auiABuwbxywv9QfMAAAAEQGfr3RG/wAAAwAAAwBavfKXAAAAEQGfsWpG/wAAAwAAAwBa\n",
       "8edrAAAARUGbtkmoQWyZTAhf//6MsAAUDFQRB/0lBQWBSjlZhsv06+eZhP8PNmwzTSbIVii2ZEQy\n",
       "li1jM33Mk9ZhePj8erBMKLKhQQAAABpBn9RFFSx/AC6PxkotPWrogAbsG8csL/UHzAAAABEBn/N0\n",
       "Rv8AAAMAAAMAWr3ylwAAABEBn/VqRv8AAAMAAAMAWvHnawAAABZBm/lJqEFsmUwI3/pYAAADAAAD\n",
       "AAIXAAAAGUGeGEI//wAuj8ZKLT1q6IAG7BvHLC/1B80AAAARAZ43aRG/AAADAAADAFq98pcAAB91\n",
       "ZYiCAA7//vdOvwKbRZdqA5JXCqCfD4OksSYYeh9oXRU/0YAhxBddrZS9k7FDvjpAR+kpmBeP7ZnU\n",
       "iurRedjr7UNl6CY1ilGVdbUTJEhhCUUd8alrRk5HT4kjj1arm7ew6njx3LPaRwcWOokyhdQibhmd\n",
       "g/uAYqPnBYC0K3VrZWmqpPXqeOCnuGuvfl1BFzvpz0BzEfJGgg9+OASRO2W7t03oUVtmav08jE1F\n",
       "vlJjFM7cW0Okeb0KwZeRV7tlSTm79emk7jPhFjr8/8lSwWHO3KemF3RnZ80K9NSkBn/qk4qZVL8F\n",
       "QMOftEZ0B2H9c8xqZxTLh2I4AYQMkYO0j2JQPpSW1P/DlPgM/39VZOu4UFz3M8CLtmSn/yKTwlFN\n",
       "+UMHYefxy7BS8oATunAXmXEdJpuG4pRLUhn8qBdnqMq6ZpaCVFmF+IEJylmfLAqvX2sZG8S9ZbGj\n",
       "c+sEh7yLFXNzUJXT8RDIuABD12hlDG/XdA8IyUh1wQ8NhWghhQoRvA3sBEK2fOJvaBfrz2oznhef\n",
       "XQj2UGW6TDcySyHZpMNhxdmdP5+M/MsCD1j474lxXmzXHeaZ69AqoJzK/YLoONoKP8TXaeFOoxb+\n",
       "ysynTG0uKFG4kfuh7aDtdhGuS18MKCpCCbJ1QaTnv47UgXSsds3imCTIbauBXQ2jo6+B98SIXeWf\n",
       "hyl3fg5AlCpQeJL8Y2TntC7F29mtuxlATGOtq8h9fyLtZdF2ATUBvTGYKQ1VpPpe7FRiPVa5kW48\n",
       "H5PzArfVmnIhlSvRnXI9ysP6yzt8tHivxsip+51jM6RFmLfrh0LjmkwVV54WCmJUMizGbq4Z4dgI\n",
       "rcLBPI79SJV4Qa+mzSub2hcE2X5tQKsMyEJ1ejrQcC2o5hjnNzqU/WEXYenl5l12gN1YfETI8pqy\n",
       "tENVIsmJSq+tF+krEjpWy3vpT3UuH05pwY3C9hUJ0zx8mDqofq4lvd09pR+pUopd6nJIZ+lziC5m\n",
       "4vuPVdHmlkZ0Fkj+mTHA1+Q/kaESIALEv2JLGvwsmZuM8eDxZOZVjamYC3KKqotpHdK4jNS9Gl9H\n",
       "Vt4I8AhqOm5sqZMxCLvzuB4b67PGQcDaXAtqkbqqFeuHWLgW+NtdhSxOYyOltPdZTEMPsv7IP9Is\n",
       "MGg4jrVfn1EXvr1WzFWxy83vw10f+EludEDy1A3aCZ+w7v9kLyrLv38nSROHQa/ME5kwJ05T3BsX\n",
       "uJPV65FWZ7wp4GxTIe/2CY9heauHYXvLUKupRXBdDpPNJsnFOi7S4xdMtqJ0iJ45U330Mm7g7jFP\n",
       "zbT3xhcgFRfSNL39dvjHnIcq4ugbKRCTD0l3kJtXlLh9f8WxpGFLiIUt5U9s/kxeaIvhQioz7GUj\n",
       "EWsYzEAbnrKLpV8c5yk3wpOt3p3kDFzMchxyQa0g4WrWGWU9C9aqgzCW9BK3yRM1MUKpsHM3VPoL\n",
       "N8U0EaZrGwOF2rGI+kfjG00Pxp8hc7IgLUQORojuGboYYDb2P8e//eL9nJ+csAm5RLYMf1tiN2c8\n",
       "JFa2b0VbG8cOnVra3s6UjXmHcdhBHEJmbDIcXz8P8zhHwMcaltJcYkCViLw4VWvsNgcFxqrP8N/N\n",
       "MOtOHu+K2LKEDaccJTK6f0I3+3v/ZqYb9zNbzxqtz5z/ntcS1pxSpf9EzKcbKYBKpTCthNKBAC1C\n",
       "TwoGALqdk3pQpf//5JE+ZP0q3jh2n2IWVAsj31xGBMfTxcDkfsYLVczwH94fKCvtY0jtfhpC/O6j\n",
       "95cg3WD7OpVsFIVEsO+8U3A6uxh+4Rs9ZOL/oltgln1eWfUt0SOfeYBVg7hb7eS4tAyfTkzfPq4H\n",
       "sXZtmf1I82YIrzaGtUHlsq/cORXQS4/q9dqc+nb902Kia38OiT4FbjeGV2KPmGYF5C31T0R3Xo9C\n",
       "qva45lZy/dqVDCahRN3X2gnexIcNul2ACPeSVDzd1jiuYGakdoYWgC+Cv77l3uAaonuLmdvJ0u5h\n",
       "ArQHD4U7J+047eG6OK68dV+Mz8fTYlUeNhz8QJuCUXPOYU/3zng8HwFpxx/FLRX0acxJ+bn8Zpx8\n",
       "39Ugijg8zZmUErE3fm9zP5HNbajv5NMW5rGsPhKEdX1twVOh9SM0mJ28pJBd10B6hN3FUtLVW+c1\n",
       "Meugpg256rO6fJIPbzW2BJaMlAqPKdv71aBvPFQMHGA7jqyqTH2Wz07O+yR+b/3NFBRfTedTgM4M\n",
       "T7u+Otc67yy9PVJHu7t0+53iTKonssQ7mz8YQbk4PdV3rRLw8K4hdNtQJy5MgZaxA/l7QZofCMIn\n",
       "SRxKffjK/cgF+U5gJAKyqXDzdXr2w+hyriexj0lAYbUUUf4XWifOVUDZDbB0TzpO1vKv4WjTRnoq\n",
       "jM/1E1rqftYfnmOeF6kepRXAdg3fOflaRpMV1ITYngR8Y4j8NWk2AwbD/SsFEFtR1+T6QXyqpSdc\n",
       "zPUVVt9geMMx/RRCNGJBeOZQJIV/AC3Q8TTdwTKB1Sd/RsBA0QvGsQCKxylc+Ku3e86BlWiGjlfw\n",
       "S35OVLGk9zV1jyW5mB2Gat2wixYmCS1UuY89meNxEo8zL9oBqzX4X3ri19Ec7AVReaz6S3drwT56\n",
       "5HLuFO5OVx5AaAHKOtbiJ6joA6UPV/6Xexht12DpAumnAdSEBJ0HKJw48kpHmIUM0+LpgNx2zTOu\n",
       "RsCgZJgmctuSoiv8431LRd8wcyrQiCe32hmEHO01q9p+zl/otEwXNaRQK/2jUlAwqy/gdJpzN2Jg\n",
       "DyJX+XO3oB1LKrVEx2hbZ4yeuEwXClOv8XJMV5MmtHTuy6qQVhI74M7HqX2ZTc4DjKqWfWTH6fTP\n",
       "zES9/58wFOs8SiSUIhOBqaTLcsR0iyBBfaddGTEPP/nuTITZVgNqjtOHVLClObMo/YA+E/G5nfg0\n",
       "X2w2CQoZT921N3gUrccKu246MwNYUnTl7IOtR8+vdMiOGvongiUnhgAXw4I2oKnDDp1TDx8q/MxB\n",
       "+X85XbIcHiMf1HykRHvwALz7zGqf0ZX/vATbH3jLvmI/8o+n2BoK5h91217esD9+8pw8cdwjWegu\n",
       "/f6fsFljUIZWEBFwoVko9RWb3usrclGaIrxV0eZRV885XJr/pU9zQ2e601lSWhrQ+InSAFiK/TVf\n",
       "U/Md+XBfii9jNGE6rAV1YxgXXN2q4RPjsX3Om8fkSzbZP9WpYoviCHsU+ANX28NnWSy5Lh7D4ikU\n",
       "u9pNlCTNHyp+GfN7rVAmWbovJWudO5ZUy56GVItoxqPAhVY5eSJ4kP08qpGTQ8lo/wvXEjHjtYS2\n",
       "JY/appULmyCi9YPD0JD2lAXyAgvyO7VpKj/WOeVnPsaKpQjh+2LDi5tB6R1aO0TCQZxDWCvcn+6b\n",
       "3QhlRgfD6yCT6E8lJ7vwNYJqOVATbtpHMYYggEIEUkHi+ClSb/Zo+y2O5irkoTLm+JJd+4gUDa7M\n",
       "YMTaxwulRvPq4tCS5g3ZJsKp7dMVg3LGtWYuKWYE773YaMZE7Vc/RX9OPqyA7lQP2/qLZVfVa7o8\n",
       "1BFpq2geksV+q2VWJUlDSPJdPZnDBttLkJ6Urzh/Nlh0doXZIzMEZE7jQ2CerzFi8Hn/+xDh64Sb\n",
       "JF1B1gW+m8Yao4t1zJc+PRjjGF34xYdo9lsGiWwzWZT4jZU+z5PtDTAzrhc468JMVMGAHIswvCon\n",
       "DE87zP7MC0MuTvEaNXVL/b0B7Q/j16SwpUJC2iZMHpNHzT7H/WJGJ674jT9EXloFRtk+bt3IiNyR\n",
       "pMsG9G+vswzc6QWwu8P9//bBt1e9jLlLWvTPRYvVq8Ne5JsC+cqoWNCVxtpQH8dwIoyiZNupEzjO\n",
       "dQ5wjqZoUdW9YRvazBcQfT/3ABkSkWsZBOCqDdNPwjShBCoZAjjFfHihLDkXb7eNE6FtyvWU/td/\n",
       "9V4EGCDtWJKeQkkHBb45Dmck+b+VDTMeoIyiHMC+llu8lG/AjsJyAIz1/pCKlMZ6YPQB5RLV/HXy\n",
       "GYncSms3spWcS99VIKyX/Pgi+zwIrKjc/RQvWtzSVymcosvf3fErZJDyPjF4wEhAiXdL9hzkkcAB\n",
       "Iacq54QDsL8aG7e5gpAfoRqRh8tYPhPZpOmIWzBNINilp8sBadNgKt/VehwgrAp0SZeu7n/p4F8X\n",
       "OOrcPB09ffSKWdid34mlmOenCMAO8iQ+fiTxxPtFb46iz3JPrTv31WLUUUxitMjyH7E63hN13miV\n",
       "uq2Nnvm4EUpOlQpgHvSh9rF+WErXGnoX35zNVhnTz/z7iSq2Gl5KNQwdpM7TTmVpMoqb+uvlHY4W\n",
       "ohTKiE5BJc+vSxh1EMJj/ChKLbnwsgsGwDT2dNdxGWHOHWsCvId+loDu8enE4uc9Wfp2ryrDpxMm\n",
       "D565Fss+T1TAisAr1/RAcdbTEbWunrpSTOFcJmQHK4yKhAAGMdSmlHVbSSon1f9lqSM1/uZDM5X/\n",
       "8Yo2eU76cSlmR+HJd/vvAhliOL2jTXRp6ZXGLYwC/xb3S9vb/QCZjuJIJnnDMh5fRLuIl5ln8RHG\n",
       "18KtnN5Nqiobf/EPwG+BN3YGUR9HTXQyqTyyQ+wLp2lqhgKvQZ+cU4PCpyiCX24x89O0rkvycCBb\n",
       "tQqXLowdIggqN/cha6yGWrAekBr1qmgIMncSqdUQ6w1xsnXj5isUKRN3rtAX0NRbISOn4lomsKl6\n",
       "gp2/Koxj2XlLyNZTvv7Woi5Lc96iYOIpuvukUdR5v8oDdAL+RJ+wzy4SkddauTFQgAE/wFhgX54Y\n",
       "9/+bvhyn0v0AsABeI5dVgAYClacSrsKDJq03xHFb3/renqIHREIHCcc+vTKa2KDBY1GajvILi99x\n",
       "HHBZ9/pVg9DDMaOK0L4e2omQI7W8mt2U1iw3kI2YwmOGqPikC43yDIuaUaYRWoePa4gMSU0wcL26\n",
       "TKZ4wzsURJcQC227J1xQ5QE/hzlgwgcj5cHVGYMATvQYm1xLXocO+W8EgU1GY4nUVTHWqhsuAZ0P\n",
       "fReRlWNrjTruxLDbekDBQHuvwQPZflEvspEJGU9FdePTw/edJiI2HC4FU5we+Pq0Dilspfm/XR5J\n",
       "WPC0gRbgAM3CphmNlIyW9K72UFOvJI6rwZfQHCd2pbRnhfSmhNgY9dEFeQ0R2mWVx5jQfto6aGy5\n",
       "n1PKRHc5UaHllS1E9KmRW5QXpXhGegkxXlgAh/mBfUfkfLlAM+VPdY+WordCSZAtSRBOhxlM8eub\n",
       "b7qxcNDCvfyXlLaaoX/mCMX9YnbbM1ywgbWX8gb15RqeHB9N/v9deP3/dpXfc6xsC7sdJHCFXSfa\n",
       "SeXZ6fdKsYi1E9bMHp4SMkTwmn01PIknCz+lP4dOSgrARR4xBOc6e7Zn9nJrn4aFqxCwJqcJ9Xx4\n",
       "06u66Wdh+/82JfBVmNG/gYCMpLJZPJdedUgfsl6kDE7M+WHL97kQbkz0CEV0FrFL59wWe+J3jerH\n",
       "LWEwdF5T71KCB0H5c4qf+cBJyNIiC8kG0K+AsWDZWxYYZUL4WnqCQCv5heXma9CGjgG5wzFtxogQ\n",
       "ewhTEs/2pgfzMZNvOUazhM6Jny+itmRLIgeS38L6LsTwQMkJCELvEjf0zCmOcFrqS2dnCPy2SYND\n",
       "e4HX8pfeThMHKsbMPv4eM68kp2KJ2vhtlx5FqiHCRQu6/R/D+lPdOu8qdWptROYBfyeVSKrnNBjA\n",
       "7cSg9gA5YsFszeBaBvfP5RHpgME9nE2gA36wdA0FkSCJbNkvuYpIonjfwXxNXkp11AXioLuTE8sN\n",
       "QLpuE2s5vWGn/G+y95Vmn0x342XcYyMPRqjblYYZdfgpfg0oB0sYAdW4N7j4QAFEFo6/YE+lol25\n",
       "DT1NF4E1MjRXTA+W8sikZs4lWfO0Hck4XrcesPdKTXX540MFsxgAfD7D9ae8cK7CJVm2CqgKA0wt\n",
       "0DBAtfSu4K5RfP/DAqNG6oZR7P0sfRtvhAd8CuGovbO9W4gf2kS0/ca0BXFMWxrpxY71ukDHQqJu\n",
       "0V+5FtwOV49ZxYYKJyHU1SWguvHmReiuFWitLHEtGajAHYoMzpu18rUmqws7FV6aLtc2d/GY52QX\n",
       "I4qpy3XNdy/JljjE7ltLEB1QnPu157wHyzqpDg/b+yIN0bIbdB8av6TvoU4WiL4oXQ5H4tnUYflq\n",
       "knALR0VYXDqi1GFFKDJFNv7hf8G2weKYbc7dw1JQmG/dOieFwgzSa9l9Ck+Yuqp/WqaFCIEXV59f\n",
       "KU+JdM0Flal/rw/ON7/a14fhbf7cM/BQe6ooFWSe/YpA3T90X2AYRjoiiTnopbIbzmvp+8u+pHAe\n",
       "TzZbz4tAweedaphFkmJHKzTR6Kh7kjBajiK/xQwAVKMbgnLRFrx7QPpYssO1xVwKqYVrKY8ROgow\n",
       "r4kKCk3sxeXZakAtWFbIhQD00hUOFsHp7wR6X8gdjw/78Nki2rMQ705p5M38zh0HMhnXvjN29h6G\n",
       "pWfkO2tED5Z6jUvlmLMd9eRgr0hlPt2kZLt403p/8c+NTbo1G+ZQgCYG6XnBz5yzNYcATqPyASs7\n",
       "rCOQ/dohZL/65mllZYVeLPTneMlK9xb7gDX8D2192UWYuMyLtPWgFOl6YOtsCX9foCMU+as0eq5N\n",
       "Yh24vNbjYRXRTKpkkWZ1Mv7jbhROYuK838RoDI4d+FV2/vQEItck1TU0ugBQmrnhMW5C+AP7EBN5\n",
       "oeJMAMrW1F++u1HVY9GPbU0Zs0qvNm1n4ecTizFJZbuwoDplpE+rCQ5mJrp9+C4EoicTy+P51Yaa\n",
       "5lgDVZW0sarIPCVYtvzlgkh4gqp55Xj9x6MPGxZdYIHNSCyNpobk9J4XIonX+92XODiwGnmmdla5\n",
       "qMnMz2m+GtqsbBdduvkS9En7+ErCdDLPg+BcLH7GlgH7RV+JekJvjLjAJiykRHXqqaAaEdCIQnqj\n",
       "4cjXj7JNesZVEC/U4uyhQ09Z9sGNZbp715Ki+40SUea6qGwTwIVtQpYLFyKaRHzlEhuFJrBD9NQG\n",
       "BFZIl2fRU1cdz1yWpZPF76hnIqtvaoadwhPfpHNFKpwAWkbmhMPM+LkEzkb6dZosaG+6yqP9ackP\n",
       "xzb27jXHdhjuLX3b696paDSLSIgeqOclUxYw8bnlILYRp52zhwOwx10rl4BM6I+f3tiumoeN9/2u\n",
       "nhD8OC4rwugm76YHT348BiW5wqjnsjp8RS061E5C5AdPpf7LWe7Fw+/xMCErZk4p5GpXqOawGX6v\n",
       "kbLKIQB5BSV9CvTdzMHPifHBpZ02OBXQmPMEy9JFZATQ0CwChPhHsjleH0VMyh1J7X8b29qlV1Un\n",
       "qChhtg5Zq64NGRQQZZxg9zKjFf0Zm01ElLrx3wQiM6pAaOmkLk5xM7ek4omxayfCPwzfkpcAF/Lz\n",
       "OcuzU0/Om1xRulmPDkum7jL41azs4idX2TuWOg3QnFubMLqfvEJ+HoG7lYJjN9uLDWTMNxruAfqC\n",
       "n7yE0Z06/yDMUa8zKFtdwuZu9ZIB2skJKnZtPhybkPJPmMoTd+x1EJRYd0N7LM0FlEu0YUYBuael\n",
       "0WuW8pIj7NJ8WsEpcqSh7G3JfAQvwzo74u/lpe82Vn4L7afPpR/Ql+aG6uO4yNx5MOMZ2JrpDapG\n",
       "TjnT4C3bltn/TnrhgcGkwQ9GfPr30zI/I5mB1pPFfTwgLbAnme/DDJ00hQyT89TN0mD2panasibL\n",
       "4pw+LTZWJtzVEqOWPiSsb5d0ypkUc7JM9qf7UOhOJsDb4wy+Q6eEDhitjUrZVGZpA/mGHb7qSQOp\n",
       "SWJgM4fKMTnB/4Ux7FvCF6Io901XiDQZ0l7yIpgBLG34+RNmGqWimzb8ARG4Win17xB1hskxni/D\n",
       "YoeAruFUe37IYbNXh0eP7CH29WeNyzSQwanXf3VqoxYw2Dv+itlgCvwEickfTrREvbd+yLsutWIc\n",
       "tb+aOT6Q99n8PtK+754Fk4c4XR3kpEaNrYovCd0qFAtViYGVtGlg2GCf1yQnqLT9JiQIGqzh9DZW\n",
       "h62PI4J4heEYAI8UlaAK6TQndGOvcmoZpGaBwb9DVaP5mMxiUiE2+BNA6T7O7jMCkUrv7Pm4dbPN\n",
       "l0Nyw+/kGgyyVlW5fHZAsXG0oarkjnSnzz5FHFc8gId4366e9PMpFGPFRm7di2oHZxS17knpO6iB\n",
       "tcs/TpYU6EpggagVGuRvZBwk72TnizGFXbq/5ebJTGVscfIekfgLYYN9rBKYIQrlwKbpsUBGw3Wt\n",
       "0XbB/fdKL9cryf7izhfv+t8/A6m6liF1CXshetZy69uqa9GCpqzkwE21SMgnocj76XyF74/Ryraa\n",
       "7j4NqxHQ4WEAC2VqYN3I4DwjrfJe2TeOBxFiVpgfJkV+i6eayHoUPU3uOLfH9Jis5uTSNirzA5Sh\n",
       "A/Pp9lo9OnSVeIMpIlWAurR06E64YdeeTyTS+aLhya83Rd526nHSORM72WK2zy7SZVsUZXQ4AA83\n",
       "LQfrXdbF7mxq+roryQDDghtiMWs/Ii1tkoEoangUrzUcjWZeglKZMrfZFw02h9LTDyPadpIUbbjF\n",
       "fF6oX1vMQwzvfFvyDksUMfm7LXIVXLcwp8uul352N2dG9rmMElcL63E6MCFHIaCwpMy2cBXRU4e7\n",
       "cvseeymPI/9cYwwLxVxogjg+JWkzGf/r37HJ5OrVQva/7JozklRBXCX29B5BlAIfEVABclk8QYLP\n",
       "Pwgj8bYEtFR1KTBUnYNMozRRrmCa8yjBV0l+hpEg3kLm/3CT1ombAA6hMScYp/4bCqwmcNz9/i7Z\n",
       "shu7YBzFMRwzzVjnscD7+pqd+jerHDRrYs1rGMMLeyVIgrfrmQNYjfkHERk1jKFmXa/3mLsxrmEw\n",
       "Qq2GTTFc1lzyDq83l0+j3QDtI7Ouu3QjjLz5AEAntAeE/fYRP4tMnJGgjW2hnIHSjRSiG3x7/iA8\n",
       "IG0bLIc4PYBAoN3JKWAttYw9RkFj8J2UNRyeWy0bCHt8rQ/yOdJpQPLWpNKqZ8alhzfzJ+OzJAok\n",
       "pY+9aL7cG0ke9HuuiX9HzXKZJ2AIWy0Hw+qqr6varNkd8/AAhggP2Exl/yYrBJs9rcIVBT78fpmz\n",
       "yreN/MRoUECQVEiteHyHBvmTWnh3A+L0zhW+HVhlJCipInXmLOUa739lvQi/65bP9ZEHXryzBt27\n",
       "lmsCob30OPaTkkP/npSwv/3boKR2iqbZEh9sWGhbXc2oouvBundxR5HIa1dl1uJxE4peXUarxCb2\n",
       "vNAVByjBBe+b1eSXHyqznz0zAjklrogC1fnXry5JZ3e4u/HF3cU5AJ95ISfoylzHXbwZS1tWoH0x\n",
       "ngcx6L0oEMML4EZOWw0cCGtpeZSTUeXTvEBXVyEM+zJSbdo2B1E3CjTsbaiqzrYLS4Xdz9Ys3QIP\n",
       "MEjpq7Yu9T6KNjdMKb3Qg295TnY2LKM5BsoleGaLy3961z/BMlCra2QD2hOegU7uw261GAHlvYHa\n",
       "hJTdBc8IoF8fh7shs2V0Ol+1zFT6jgi4GcEe/XKdQfgbxsvEu2Re+qNnzooor7WTCABbH5JNr+Oo\n",
       "Rp5Ze4n6tC5CX6VM9HLeMqNEENoNgkNwSwRxBmClq6/xbSxTsGHojSRkO5g8g9vayQtSne7iueZB\n",
       "a1hqcfjkrmFDuVUgVaWmbtr18YQb9yXPocEYRgQSZGXUQxdtDs6FajK9uVvFTQHx2GRpsEKj14QA\n",
       "RxJ/Zzo/KSpkBmlCAnTJBfxuoI2tA2G9Pld26J4KseV8o6qD7HYl3/oZTVJ+BNRfNHkStfrcuQxp\n",
       "iGWdlyZ5NT9hfHBEavpWOEbvNnevwW+NMB1UPvcjwn4f/ROCkEH0fkICrA8YcNv7gw0Q5i1z2DJx\n",
       "rKV6hwmd2uJpKJlzMbV8DKpEMKb4ZCTC0yJDR2xZSVlnrM05tKC+v+BdiOoGwP6o3IndL3T3cshN\n",
       "oAeIIqRkX3Bs1V9Ehqh/jvwE9vAgQrNfQf1T2bAcar2AsIrztBxYXvB/CMV6b2XdXWPxWMr8OJuU\n",
       "/YI6vOj6zLQsaUeKTIOY2HBrzHEJsN0P1zaVyHJ/x5p4ACxlp/c/Y1+WlmkMxIQy5qXFhUFX9s7T\n",
       "pxGrcEtQWrVaHBS+NAkH1Fc2xLjgoDoXq6yHXEkpDA+r8Mvm2kb7Z4ELoNC5SlGTmwtiuPdX1mwB\n",
       "hTb3+ZQtdi1s9fezUwQTurwJMa+0T+Fz1FraUO+KtYG023HMDLQzRNBZp+LF1zOi+N+O85k804rX\n",
       "G9dPRyWKcUOjhKxTfubQmonAZVhNuwn7TgLLAvQrLirw4vK4mBrzNd9va+dE4jZn8PPDeIqEQsEC\n",
       "aYbJwE6H+1q0wm+sBX99AdC5dGojKYgmU0W2kpgi6b1ELExZfr+aDaPQyVmXOKc4jjmQ20chSOvq\n",
       "BN8TxmrgqTJ4QEfcOuWTvvLegZiN0e8z/4QzSNfFlDbyFqGU/09I2B33TWgtKaPZFhdwT12TGkdr\n",
       "+ykoLAVc1Z6im+l79EHc3AoxhNw62AioMACAZ9z8YCUzsWcuGMa8f2GcW4x7jEBjvhpTn9C64SeS\n",
       "9y04Ye15ARC+sn8brbA6wdIHAHXCy9WFWV69VxhOXfYtPGm8l5f5y4ReQmESn/tfWGbAht2vYlRp\n",
       "s8xuerufyYebutwcApJflslovoFDk06qeoLpmbtRQVKw7qK3g+WzuKG8RxOoGNJW9t/7r4vdw/sj\n",
       "OiWW2mxvWU3Gm3IHfMK27jZto4qMWwOpPUQxJNtsT4poRZvfHwUj9bWFe9YaJWz+l2tsLyBUGYOI\n",
       "Rh5ipY+FGJ8Iz2VHQ0ROX+jpVdquIykxEzFMJFba+SckkZJ8g28jb5t2HylOGjs2xzvjjK2AabjK\n",
       "4oAAPvdtY4CAAAADAAAEbQAAAQpBmiRsQv/+gOw5oArU8x3Z2n3ffRwj0i1S15hmjdrn4HIxrwni\n",
       "5rouOWETlbPEHIhWLQhiK8vevPUE7c+ShuirYzVkmw2fshaa/wIpwJ9Bhc7VKJFlDHp3LSPti6zo\n",
       "alAxqKae/c9SS2n+0A9o1iouvDlcu5klPfQHjimW0Py2vV25J5ukh71DJkInqVLN1CtvsbdP+kQ3\n",
       "gcZi9Q9WgN2xEzINF6bwF7gQEgq71skM2xEeooTWNR2kyyGgmsId6SdOKKizYxI6qRkkEZyqIeXW\n",
       "6c72cHj1CEzAlZb9phNpQxT2tSXRFnrs6ieWfD1emVH3yut4R9pMjR9hgQmZA099K5zjuUS/emya\n",
       "UwAAAD9BnkJ4j/9BPpR7aA4BGr8tqAzOHbprOIDDwCL+gDJACjpxigLF8CIggMzUxDEqPS1eFen+\n",
       "wcFBEJfI6RAGiykAAAApAZ5hdEb/AiZ+Ri2ZVd1uO5feNarsZFC+DoYWCDEAAAMAlJDo2+HjLaEA\n",
       "AAAZAZ5jakb/Aifq7NvdtzRDrAAAAwBNUPQMjAAAAHhBmmhJqEFomUwIX//+jLADaet257iHAU91\n",
       "kS1KSYyiggC1VJkt61rj7nev7QEcuWAL9RKbFL6z6+O8DUHGbSPDggPmsCZCLTpNM/SCTufsuxiQ\n",
       "BNUE4NIB+ph+1aPdslayQrRsOWZ/rT8pskOv5T3CO0TN4k3s2TAAAAAcQZ6GRREsfwG59sZRSkhA\n",
       "qtYHORgwQAAAGMAwIQAAABgBnqV0Rv8CJ2ce2jfpSO8QRzAAAKuzJUAAAAASAZ6nakb/AibsmeJ0\n",
       "AAADAAoJAAAALUGarEmoQWyZTAhX//44QAGvh+PVDQtR+bAEtKZq+kCInKLr+FTCfsiwGgABxwAA\n",
       "ABBBnspFFSx/AAADAAADAAJfAAAADwGe6XRG/wAAAwAAAwADAwAAAA8BnutqRv8AAAMAAAMAAwMA\n",
       "AAAdQZrwSahBbJlMCFf//jhAAAADACS0sepgD0qX3YsAAAAQQZ8ORRUsfwAAAwAAAwACXgAAAA8B\n",
       "ny10Rv8AAAMAAAMAAwIAAAAPAZ8vakb/AAADAAADAAMDAAAAGEGbNEmoQWyZTAhX//44QAAAAwAA\n",
       "AwAR8AAAABBBn1JFFSx/AAADAAADAAJeAAAADwGfcXRG/wAAAwAAAwADAwAAAA8Bn3NqRv8AAAMA\n",
       "AAMAAwMAAAAYQZt4SahBbJlMCEf//eEAAAMAAAMAAEXBAAAAEEGflkUVLH8AAAMAAAMAAl4AAAAP\n",
       "AZ+1dEb/AAADAAADAAMCAAAADwGft2pG/wAAAwAAAwADAwAAABdBm7pJqEFsmUwUTG/6WAAAAwAA\n",
       "AwACFgAAAA8Bn9lqRv8AAAMAAAMAAwIAAA//bW9vdgAAAGxtdmhkAAAAAAAAAAAAAAAAAAAD6AAA\n",
       "EDsAAQAAAQAAAAAAAAAAAAAAAAEAAAAAAAAAAAAAAAAAAAABAAAAAAAAAAAAAAAAAABAAAAAAAAA\n",
       "AAAAAAAAAAAAAAAAAAAAAAAAAAAAAAAAAgAADyl0cmFrAAAAXHRraGQAAAADAAAAAAAAAAAAAAAB\n",
       "AAAAAAAAEDsAAAAAAAAAAAAAAAAAAAAAAAEAAAAAAAAAAAAAAAAAAAABAAAAAAAAAAAAAAAAAABA\n",
       "AAAAAkAAAAH4AAAAAAAkZWR0cwAAABxlbHN0AAAAAAAAAAEAABA7AAABgAABAAAAAA6hbWRpYQAA\n",
       "ACBtZGhkAAAAAAAAAAAAAAAAAAAyAAAAz8BVxAAAAAAALWhkbHIAAAAAAAAAAHZpZGUAAAAAAAAA\n",
       "AAAAAABWaWRlb0hhbmRsZXIAAAAOTG1pbmYAAAAUdm1oZAAAAAEAAAAAAAAAAAAAACRkaW5mAAAA\n",
       "HGRyZWYAAAAAAAAAAQAAAAx1cmwgAAAAAQAADgxzdGJsAAAAtHN0c2QAAAAAAAAAAQAAAKRhdmMx\n",
       "AAAAAAAAAAEAAAAAAAAAAAAAAAAAAAAAAkAB+ABIAAAASAAAAAAAAAABAAAAAAAAAAAAAAAAAAAA\n",
       "AAAAAAAAAAAAAAAAAAAAAAAAGP//AAAAMmF2Y0MBZAAf/+EAGWdkAB+s2UCQEH5YQAAAAwDAAABk\n",
       "A8YMZYABAAZo6+PLIsAAAAAcdXVpZGtoQPJfJE/FujmlG88DI/MAAAAAAAAAGHN0dHMAAAAAAAAA\n",
       "AQAAARUAAADAAAAAGHN0c3MAAAAAAAAAAgAAAAEAAAD7AAAIiGN0dHMAAAAAAAABDwAAAAcAAAGA\n",
       "AAAAAQAAAkAAAAABAAAAwAAAAAEAAAJAAAAAAQAAAMAAAAABAAACQAAAAAEAAADAAAAAAQAAAkAA\n",
       "AAABAAAAwAAAAAEAAAJAAAAAAQAAAMAAAAABAAACQAAAAAEAAADAAAAAAQAAA8AAAAABAAABgAAA\n",
       "AAEAAAAAAAAAAQAAAMAAAAABAAADwAAAAAEAAAGAAAAAAQAAAAAAAAABAAAAwAAAAAEAAAPAAAAA\n",
       "AQAAAYAAAAABAAAAAAAAAAEAAADAAAAAAQAAA8AAAAABAAABgAAAAAEAAAAAAAAAAQAAAMAAAAAB\n",
       "AAADwAAAAAEAAAGAAAAAAQAAAAAAAAABAAAAwAAAAAEAAAPAAAAAAQAAAYAAAAABAAAAAAAAAAEA\n",
       "AADAAAAAAQAAA8AAAAABAAABgAAAAAEAAAAAAAAAAQAAAMAAAAABAAADwAAAAAEAAAGAAAAAAQAA\n",
       "AAAAAAABAAAAwAAAAAEAAAPAAAAAAQAAAYAAAAABAAAAAAAAAAEAAADAAAAAAQAAA8AAAAABAAAB\n",
       "gAAAAAEAAAAAAAAAAQAAAMAAAAABAAADwAAAAAEAAAGAAAAAAQAAAAAAAAABAAAAwAAAAAEAAAPA\n",
       "AAAAAQAAAYAAAAABAAAAAAAAAAEAAADAAAAAAQAAA8AAAAABAAABgAAAAAEAAAAAAAAAAQAAAMAA\n",
       "AAABAAADwAAAAAEAAAGAAAAAAQAAAAAAAAABAAAAwAAAAAEAAAPAAAAAAQAAAYAAAAABAAAAAAAA\n",
       "AAEAAADAAAAAAQAAA8AAAAABAAABgAAAAAEAAAAAAAAAAQAAAMAAAAABAAADwAAAAAEAAAGAAAAA\n",
       "AQAAAAAAAAABAAAAwAAAAAEAAAPAAAAAAQAAAYAAAAABAAAAAAAAAAEAAADAAAAAAQAAA8AAAAAB\n",
       "AAABgAAAAAEAAAAAAAAAAQAAAMAAAAABAAADwAAAAAEAAAGAAAAAAQAAAAAAAAABAAAAwAAAAAEA\n",
       "AAPAAAAAAQAAAYAAAAABAAAAAAAAAAEAAADAAAAAAQAAA8AAAAABAAABgAAAAAEAAAAAAAAAAQAA\n",
       "AMAAAAABAAADwAAAAAEAAAGAAAAAAQAAAAAAAAABAAAAwAAAAAEAAAPAAAAAAQAAAYAAAAABAAAA\n",
       "AAAAAAEAAADAAAAAAQAAA8AAAAABAAABgAAAAAEAAAAAAAAAAQAAAMAAAAABAAADwAAAAAEAAAGA\n",
       "AAAAAQAAAAAAAAABAAAAwAAAAAEAAAPAAAAAAQAAAYAAAAABAAAAAAAAAAEAAADAAAAAAQAAA8AA\n",
       "AAABAAABgAAAAAEAAAAAAAAAAQAAAMAAAAABAAADwAAAAAEAAAGAAAAAAQAAAAAAAAABAAAAwAAA\n",
       "AAEAAAPAAAAAAQAAAYAAAAABAAAAAAAAAAEAAADAAAAAAQAAA8AAAAABAAABgAAAAAEAAAAAAAAA\n",
       "AQAAAMAAAAABAAADwAAAAAEAAAGAAAAAAQAAAAAAAAABAAAAwAAAAAEAAAPAAAAAAQAAAYAAAAAB\n",
       "AAAAAAAAAAEAAADAAAAAAQAAA8AAAAABAAABgAAAAAEAAAAAAAAAAQAAAMAAAAABAAADwAAAAAEA\n",
       "AAGAAAAAAQAAAAAAAAABAAAAwAAAAAEAAAPAAAAAAQAAAYAAAAABAAAAAAAAAAEAAADAAAAAAQAA\n",
       "A8AAAAABAAABgAAAAAEAAAAAAAAAAQAAAMAAAAABAAADwAAAAAEAAAGAAAAAAQAAAAAAAAABAAAA\n",
       "wAAAAAEAAAPAAAAAAQAAAYAAAAABAAAAAAAAAAEAAADAAAAAAQAAA8AAAAABAAABgAAAAAEAAAAA\n",
       "AAAAAQAAAMAAAAABAAADwAAAAAEAAAGAAAAAAQAAAAAAAAABAAAAwAAAAAEAAAPAAAAAAQAAAYAA\n",
       "AAABAAAAAAAAAAEAAADAAAAAAQAAA8AAAAABAAABgAAAAAEAAAAAAAAAAQAAAMAAAAABAAADwAAA\n",
       "AAEAAAGAAAAAAQAAAAAAAAABAAAAwAAAAAEAAAPAAAAAAQAAAYAAAAABAAAAAAAAAAEAAADAAAAA\n",
       "AQAAA8AAAAABAAABgAAAAAEAAAAAAAAAAQAAAMAAAAABAAADwAAAAAEAAAGAAAAAAQAAAAAAAAAB\n",
       "AAAAwAAAAAEAAAPAAAAAAQAAAYAAAAABAAAAAAAAAAEAAADAAAAAAQAAA8AAAAABAAABgAAAAAEA\n",
       "AAAAAAAAAQAAAMAAAAABAAADwAAAAAEAAAGAAAAAAQAAAAAAAAABAAAAwAAAAAEAAAPAAAAAAQAA\n",
       "AYAAAAABAAAAAAAAAAEAAADAAAAAAQAAA8AAAAABAAABgAAAAAEAAAAAAAAAAQAAAMAAAAABAAAD\n",
       "wAAAAAEAAAGAAAAAAQAAAAAAAAABAAAAwAAAAAEAAAPAAAAAAQAAAYAAAAABAAAAAAAAAAEAAADA\n",
       "AAAAAQAAA8AAAAABAAABgAAAAAEAAAAAAAAAAQAAAMAAAAABAAADwAAAAAEAAAGAAAAAAQAAAAAA\n",
       "AAABAAAAwAAAAAEAAAPAAAAAAQAAAYAAAAABAAAAAAAAAAEAAADAAAAAAQAAAwAAAAABAAABgAAA\n",
       "AAEAAAAAAAAAAQAAAYAAAAABAAADwAAAAAEAAAGAAAAAAQAAAAAAAAABAAAAwAAAAAEAAAPAAAAA\n",
       "AQAAAYAAAAABAAAAAAAAAAEAAADAAAAAAQAAA8AAAAABAAABgAAAAAEAAAAAAAAAAQAAAMAAAAAB\n",
       "AAADwAAAAAEAAAGAAAAAAQAAAAAAAAABAAAAwAAAAAEAAAPAAAAAAQAAAYAAAAABAAAAAAAAAAEA\n",
       "AADAAAAAAQAAA8AAAAABAAABgAAAAAEAAAAAAAAAAQAAAMAAAAABAAACQAAAAAEAAADAAAAAHHN0\n",
       "c2MAAAAAAAAAAQAAAAEAAAEVAAAAAQAABGhzdHN6AAAAAAAAAAAAAAEVAAAVzgAAAe8AAAG1AAAB\n",
       "zwAAAYIAAAGjAAABpQAAAlQAAAChAAACLgAAAJ4AAAI8AAAAsQAAAjsAAABOAAACUwAAAIQAAAJb\n",
       "AAAAjQAAAs8AAADGAAAAawAAAFEAAAK/AAAAhAAAAFcAAACbAAACoQAAAFsAAABuAAAAWAAAAl8A\n",
       "AABcAAAAcAAAAF4AAAJHAAAASAAAAHEAAABkAAACTwAAAFcAAAB0AAAAcwAAAlkAAAB0AAAAdQAA\n",
       "AG4AAAIrAAAAUwAAAF4AAABdAAABywAAAFcAAAA/AAAATQAAAa4AAABbAAAAGgAAACUAAAEUAAAA\n",
       "KQAAABgAAAAZAAAAmAAAACkAAAAXAAAAFQAAAMEAAAAiAAAAHwAAABUAAADRAAAALgAAABcAAAAV\n",
       "AAABJAAAADkAAAAXAAAAFQAAAWoAAAAmAAAAHgAAABUAAAFyAAAAOAAAAB4AAAAXAAABYwAAACsA\n",
       "AAAYAAAAFQAAAUwAAAAsAAAAGwAAABYAAAF7AAAARQAAABUAAAAVAAABbAAAACsAAAAaAAAAFQAA\n",
       "ASMAAAAsAAAAGQAAABcAAAD0AAAAHgAAABcAAAAXAAABRQAAACYAAAAVAAAAFQAAANEAAAAgAAAA\n",
       "FQAAABUAAAC3AAAAIAAAABUAAAAVAAAAeAAAAB4AAAAVAAAAFQAAAGUAAAAeAAAAFQAAABUAAABt\n",
       "AAAAHgAAABUAAAAVAAAAXAAAAB4AAAAVAAAAFQAAAFcAAAAeAAAAFQAAABUAAABKAAAAHgAAABUA\n",
       "AAAVAAAAUwAAAB8AAAAVAAAAFQAAAGQAAAAeAAAAFQAAABUAAABWAAAAHgAAABUAAAAVAAAAagAA\n",
       "AB4AAAAVAAAAFQAAAIwAAAAeAAAAFQAAABUAAABqAAAAHgAAABUAAAAVAAAAUAAAAB4AAAAVAAAA\n",
       "FQAAAFgAAAAeAAAAFQAAABUAAAB7AAAAHgAAABUAAAAVAAAAYAAAAB4AAAAVAAAAFQAAAGAAAAAe\n",
       "AAAAFQAAABUAAABeAAAAHgAAABUAAAAVAAAAVgAAAB4AAAAVAAAAFQAAAFAAAAAeAAAAFQAAABUA\n",
       "AABiAAAAHgAAABUAAAAVAAAAPQAAAB4AAAAVAAAAFQAAAE0AAAAeAAAAFQAAABUAAABBAAAAHgAA\n",
       "ABUAAAAVAAAASAAAAB4AAAAVAAAAFQAAAEcAAAAeAAAAFQAAABUAAABZAAAAHgAAABUAAAAVAAAA\n",
       "RQAAAB4AAAAVAAAAFQAAAE0AAAAeAAAAFQAAABUAAAA8AAAAHgAAABUAAAAVAAAASQAAAB4AAAAV\n",
       "AAAAFQAAABoAAAAdAAAAFQAAH3kAAAEOAAAAQwAAAC0AAAAdAAAAfAAAACAAAAAcAAAAFgAAADEA\n",
       "AAAUAAAAEwAAABMAAAAhAAAAFAAAABMAAAATAAAAHAAAABQAAAATAAAAEwAAABwAAAAUAAAAEwAA\n",
       "ABMAAAAbAAAAEwAAABRzdGNvAAAAAAAAAAEAAAAsAAAAYnVkdGEAAABabWV0YQAAAAAAAAAhaGRs\n",
       "cgAAAAAAAAAAbWRpcmFwcGwAAAAAAAAAAAAAAAAtaWxzdAAAACWpdG9vAAAAHWRhdGEAAAABAAAA\n",
       "AExhdmY1Ni40MC4xMDE=\n",
       "\">\n",
       "  Your browser does not support the video tag.\n",
       "</video>"
      ],
      "text/plain": [
       "<IPython.core.display.HTML object>"
      ]
     },
     "execution_count": 38,
     "metadata": {},
     "output_type": "execute_result"
    }
   ],
   "source": [
    "fig = pyplot.figure(figsize=(8,7));\n",
    "pyplot.title(\"Evolution de la valeur de $\\psi$ dans notre domaine \\n\", fontsize = 18)\n",
    "ims = []\n",
    "\n",
    "\n",
    "for i in range(277):\n",
    "    im = pyplot.imshow(p_ite[i], cmap= cm.viridis, animated=True)\n",
    "    ims.append([im])\n",
    "\n",
    "pyplot.close()    \n",
    "anim = animation.ArtistAnimation(fig, ims, interval=15, blit=True)\n",
    "HTML(anim.to_html5_video())"
   ]
  },
  {
   "cell_type": "markdown",
   "metadata": {},
   "source": [
    "... qui s'avère assez décevante ! En effet, hormis la première fluctuation/oscillation aucune autre d'entre-elle n'est observable étant donné leur faible amplitude comme on pouvait s'y attendre si on avait regardé d'un peu plus prêt l'ordre de grandeur de la norme L1.\n",
    "\n",
    "Il nous faut donc adopter une approche légèrement différente. Cette nouvelle approche que nous allons adopter consiste, non plus à regarder l'évolution de $\\psi$ dans tout notre domaine mais uniquement au sein d'une seule cellule. Nous réaliserons alors un graphique de cette évolution que nous tenterons de corrélé à nos rebonds de convergence.\n",
    "\n",
    "C'est ici que le 2ème des 3 tableaux que nous avons définit dans notre nouvelle fonction jacobi, à savoir \" *psi_30* \", intervient. Ce nouveau tableau contiendra donc les valeurs de $\\psi$ de la cellule [30,30] pour toute les itérations et sera retourner par notre fonction.\n",
    "\n",
    "Notons qu'il n'est pas nécessaire de rappeler notre fonction car, lors du précédent appel, les valeurs de $\\psi$ correspondant à la cellule [30,30] ont déjà été extraites.\n",
    "\n",
    "$\n",
    "{}\n",
    "$\n",
    "\n",
    "Commençons donc tout d'abord par extraire l'itération à laquelle le premier rebond de la convergence intervient et ce au moyen d'un boléen qui va comparer les valeurs successives de la norme L1 de psi. L'arrêt de ce dernier sera alors forcer (au moyen d'un \"break\") dès qu'une valeur de la norme est plus grande que celle qui la précède. En d'autre mot, le boléen s'arrêtera \"dès que la valeur de la norme réaugmente\"."
   ]
  },
  {
   "cell_type": "code",
   "execution_count": 39,
   "metadata": {
    "collapsed": false
   },
   "outputs": [
    {
     "name": "stdout",
     "output_type": "stream",
     "text": [
      "\n",
      "→ L'itération recherchée est l'itération 633 \n",
      "\n"
     ]
    }
   ],
   "source": [
    "for i in range(2771):\n",
    "    if i>1 and l1_conv[i]<l1_conv[i+1]:\n",
    "        j=i\n",
    "        normeL1=l1_conv[i]\n",
    "        print(\"\\n→ L'itération recherchée est l'itération\", i,\"\\n\")\n",
    "        break\n",
    "        "
   ]
  },
  {
   "cell_type": "markdown",
   "metadata": {},
   "source": [
    "Maintenant que nous disposons de l'itération à laquelle intervient le rebond, nous pouvons alors passer à la réalisation de notre graphique."
   ]
  },
  {
   "cell_type": "code",
   "execution_count": 40,
   "metadata": {
    "collapsed": false
   },
   "outputs": [
    {
     "data": {
      "image/png": "[encoded data removed]",
      "text/plain": [
       "<matplotlib.figure.Figure at 0x7fc670b853c8>"
      ]
     },
     "metadata": {},
     "output_type": "display_data"
    }
   ],
   "source": [
    "xsi = numpy.linspace(0,2771,len(p_30))\n",
    "\n",
    "pyplot.figure(figsize=(8,5))\n",
    "pyplot.grid(True) \n",
    "pyplot.xlabel(\"Itérations\", fontsize=20)\n",
    "pyplot.ylabel(\"Norme L1 de $|\\psi| [30,30]$\", fontsize=20)\n",
    "pyplot.plot(xsi,numpy.abs(p_30), color='b', ls='-', lw=2)\n",
    "pyplot.xlim(.0,2800) \n",
    "pyplot.ylim(.0,.08);"
   ]
  },
  {
   "cell_type": "markdown",
   "metadata": {},
   "source": [
    "À nouveau, nous ne pouvons voir que la première fluctuation mais pas les autres. Toutefois nous pouvons tenter de changer d'échelle par une série de zoom successif en resserant les valeurs en ordonnée. Nous obtenons ainsi,"
   ]
  },
  {
   "cell_type": "code",
   "execution_count": 41,
   "metadata": {
    "collapsed": false
   },
   "outputs": [
    {
     "data": {
      "image/png": "[encoded data removed]",
      "text/plain": [
       "<matplotlib.figure.Figure at 0x7fc670f0b630>"
      ]
     },
     "metadata": {},
     "output_type": "display_data"
    }
   ],
   "source": [
    "fig = pyplot.figure(figsize = (25, 20))\n",
    "fig.subplots_adjust(left = 0.1, bottom = 0.3,\n",
    "                       right = 1, top = 0.7, wspace = .5, hspace = .5) \n",
    "\n",
    "# Graphique 1\n",
    "ax = fig.add_subplot(131)\n",
    "pyplot.title(\"Aucun zoom \\n\", fontsize = 60)\n",
    "pyplot.ylabel('$\\psi$', fontsize=60)\n",
    "pyplot.xlabel(\"$itérations$\", fontsize=60)\n",
    "ax.set_ylim(0,0.1)\n",
    "ax.set_xlim(0,2800)\n",
    "line, = ax.plot(xsi, numpy.abs(p_30), 'r-', lw=5)\n",
    "pyplot.tick_params(axis='both', labelsize=25)\n",
    "\n",
    "\n",
    "# Graphique 2\n",
    "ax = fig.add_subplot(132)\n",
    "pyplot.title(\"1er zoom \\n\", fontsize = 60)\n",
    "pyplot.ylabel('$\\psi$', fontsize=60)\n",
    "pyplot.xlabel(\"$itérations$\", fontsize=60)\n",
    "\n",
    "ax.set_ylim(0.060,0.070)\n",
    "ax.set_xlim(0,2800)\n",
    "line, = ax.plot(xsi, numpy.abs(p_30), 'r-', lw=5)\n",
    "pyplot.tick_params(axis='both', labelsize=25)\n",
    "\n",
    "\n",
    "# Graphique 3\n",
    "ax = fig.add_subplot(133)\n",
    "pyplot.title(\"2e zoom \\n\", fontsize = 60)\n",
    "pyplot.ylabel('$\\psi$', fontsize=60)\n",
    "pyplot.xlabel(\"$itérations$\", fontsize=60)\n",
    "line, = ax.plot(xsi, numpy.abs(p_30), 'r-', lw=5)\n",
    "#réglage des pointillés reliant l'axe\n",
    "pyplot.plot([633,633],[0,0.06940], color ='k', linewidth=2.5, linestyle=\"--\")\n",
    "#réglage du point\n",
    "pyplot.scatter([633,],[0.06940,], 200, color ='k')\n",
    "#réglage flèche et texte\n",
    "ax.annotate(\"Pas de corrélation\", xy=(633,0.06940), xytext=(1500, 0.06940),\n",
    "            fontsize=30, arrowprops=dict(arrowstyle=\"->\",\n",
    "            connectionstyle=\"arc3,rad=.2\"),)\n",
    "ax.set_ylim(0.067,0.070)\n",
    "ax.set_xlim(0,2800)\n",
    "line, = ax.plot(xsi, numpy.abs(p_30), 'r-', lw=5)\n",
    "pyplot.tick_params(axis='both', labelsize=25)\n",
    "\n",
    "pyplot.show()"
   ]
  },
  {
   "cell_type": "markdown",
   "metadata": {},
   "source": [
    "Bien que cette série de zoom successif nous ai permis de mettre en évidence d'autres fluctuations, nous constatons malheureusement que la première d'entre-elle n'est d'ores et déjà pas corrélé au nombre d'itération correspondant au rebond de la convergence de part le marqueur légèrement décallé par rapport au maximum du pic.\n",
    "\n",
    "Toutefois, si nous réfléchissons quelque peu à l'origine du nombre d'itération obtenue plus haut, nous pouvons entrevoir d'où vient ce décallage/ cette différence d'itération. En effet le nombre d'itération obtenu correspond au rebond de la norme L1. Or pour une itération, la norme L1 est le fruit d'une \"moyenne\". Par conséquent, si nous voulons réaliser notre correlation il faut calculer la norme L1 pour la cellule [30,30] uniquement. D'où la définitions de notre 3ème et dernier tableaux \" *l1_conv30* \" mentionné plus haut."
   ]
  },
  {
   "cell_type": "markdown",
   "metadata": {},
   "source": [
    "##### Etape 2"
   ]
  },
  {
   "cell_type": "code",
   "execution_count": null,
   "metadata": {
    "collapsed": true
   },
   "outputs": [],
   "source": []
  },
  {
   "cell_type": "code",
   "execution_count": 42,
   "metadata": {
    "collapsed": false
   },
   "outputs": [],
   "source": [
    "l1_target =1e-6\n",
    "p, p_30, l1_conv30 = jacobi_conv(om0.copy(), psi0.copy(), d, l1_target)"
   ]
  },
  {
   "cell_type": "code",
   "execution_count": 43,
   "metadata": {
    "collapsed": false
   },
   "outputs": [
    {
     "data": {
      "image/png": "[encoded data removed]",
      "text/plain": [
       "<matplotlib.figure.Figure at 0x7fc670eedc88>"
      ]
     },
     "metadata": {},
     "output_type": "display_data"
    }
   ],
   "source": [
    "pyplot.figure(figsize=(8,8))\n",
    "pyplot.grid(True)\n",
    "pyplot.xlabel(r'iterations', fontsize=18)\n",
    "pyplot.ylabel(r'Norme $L_1$', fontsize=18)\n",
    "pyplot.semilogy(numpy.trim_zeros(l1_conv30,'b'),\n",
    "                'b-', lw=2, label='Jacobi')\n",
    "\n",
    "pyplot.legend(fontsize=16);"
   ]
  },
  {
   "cell_type": "code",
   "execution_count": 45,
   "metadata": {
    "collapsed": false
   },
   "outputs": [
    {
     "name": "stdout",
     "output_type": "stream",
     "text": [
      "\n",
      "→ La valeur du 1 er minimum est 1.35825457687e-08 et intervient \n",
      " à l'itération : 575 \n",
      "\n",
      "→ La valeur du 2 ème minimum est 7.5941308797e-10 et intervient \n",
      " à l'itération : 1332 \n",
      "\n",
      "→ La valeur du 3 ème minimum est 8.1143120001e-11 et intervient \n",
      " à l'itération : 2065 \n",
      "\n"
     ]
    }
   ],
   "source": [
    "mini=[]\n",
    "mini_ite=[]\n",
    "\n",
    "for i in range(2770):\n",
    "    if l1_conv30[i]<l1_conv30[i+1]\\\n",
    "    and l1_conv30[i]<l1_conv30[i+2]\\\n",
    "    and l1_conv30[i]<l1_conv30[i-1]\\\n",
    "    and l1_conv30[i]<l1_conv30[i-2]:        \n",
    "        mini.append(l1_conv30[i])\n",
    "        mini_ite.append(i) \n",
    "        \n",
    "for i in range (3):\n",
    "    if i<1 :\n",
    "        print(\"\\n→ La valeur du\", i+1,\"er minimum est\", mini[i],\"et intervient \\n à l'itération :\", mini_ite[i],\"\\n\")\n",
    "    else:\n",
    "        print(\"→ La valeur du\", i+1,\"ème minimum est\", mini[i],\"et intervient \\n à l'itération :\", mini_ite[i],\"\\n\")"
   ]
  },
  {
   "cell_type": "code",
   "execution_count": 46,
   "metadata": {
    "collapsed": false
   },
   "outputs": [
    {
     "ename": "NameError",
     "evalue": "name 'pevol' is not defined",
     "output_type": "error",
     "traceback": [
      "\u001b[1;31m---------------------------------------------------------------------------\u001b[0m",
      "\u001b[1;31mNameError\u001b[0m                                 Traceback (most recent call last)",
      "\u001b[1;32m<ipython-input-46-826beb39ace6>\u001b[0m in \u001b[0;36m<module>\u001b[1;34m()\u001b[0m\n\u001b[0;32m      8\u001b[0m \u001b[0mpyplot\u001b[0m\u001b[1;33m.\u001b[0m\u001b[0mylabel\u001b[0m\u001b[1;33m(\u001b[0m\u001b[1;34m'$\\psi$'\u001b[0m\u001b[1;33m,\u001b[0m \u001b[0mfontsize\u001b[0m\u001b[1;33m=\u001b[0m\u001b[1;36m60\u001b[0m\u001b[1;33m)\u001b[0m\u001b[1;33m\u001b[0m\u001b[0m\n\u001b[0;32m      9\u001b[0m \u001b[0mpyplot\u001b[0m\u001b[1;33m.\u001b[0m\u001b[0mxlabel\u001b[0m\u001b[1;33m(\u001b[0m\u001b[1;34m\"$itérations$\"\u001b[0m\u001b[1;33m,\u001b[0m \u001b[0mfontsize\u001b[0m\u001b[1;33m=\u001b[0m\u001b[1;36m60\u001b[0m\u001b[1;33m)\u001b[0m\u001b[1;33m\u001b[0m\u001b[0m\n\u001b[1;32m---> 10\u001b[1;33m \u001b[0mline\u001b[0m\u001b[1;33m,\u001b[0m \u001b[1;33m=\u001b[0m \u001b[0max\u001b[0m\u001b[1;33m.\u001b[0m\u001b[0mplot\u001b[0m\u001b[1;33m(\u001b[0m\u001b[0mxsi\u001b[0m\u001b[1;33m,\u001b[0m \u001b[0mnumpy\u001b[0m\u001b[1;33m.\u001b[0m\u001b[0mabs\u001b[0m\u001b[1;33m(\u001b[0m\u001b[0mpevol\u001b[0m\u001b[1;33m)\u001b[0m\u001b[1;33m,\u001b[0m \u001b[1;34m'r-'\u001b[0m\u001b[1;33m,\u001b[0m \u001b[0mlw\u001b[0m\u001b[1;33m=\u001b[0m\u001b[1;36m5\u001b[0m\u001b[1;33m)\u001b[0m\u001b[1;33m\u001b[0m\u001b[0m\n\u001b[0m\u001b[0;32m     11\u001b[0m \u001b[0max\u001b[0m\u001b[1;33m.\u001b[0m\u001b[0mset_ylim\u001b[0m\u001b[1;33m(\u001b[0m\u001b[1;36m0\u001b[0m\u001b[1;33m,\u001b[0m\u001b[1;36m0.1\u001b[0m\u001b[1;33m)\u001b[0m\u001b[1;33m\u001b[0m\u001b[0m\n\u001b[0;32m     12\u001b[0m \u001b[0max\u001b[0m\u001b[1;33m.\u001b[0m\u001b[0mset_xlim\u001b[0m\u001b[1;33m(\u001b[0m\u001b[1;36m0\u001b[0m\u001b[1;33m,\u001b[0m\u001b[1;36m2800\u001b[0m\u001b[1;33m)\u001b[0m\u001b[1;33m\u001b[0m\u001b[0m\n",
      "\u001b[1;31mNameError\u001b[0m: name 'pevol' is not defined"
     ]
    },
    {
     "data": {
      "image/png": "[encoded data removed]",
      "text/plain": [
       "<matplotlib.figure.Figure at 0x7fc670c55710>"
      ]
     },
     "metadata": {},
     "output_type": "display_data"
    }
   ],
   "source": [
    "fig = pyplot.figure(figsize = (30, 30))\n",
    "fig.subplots_adjust(left = 0.1, bottom = 0.3,\n",
    "                       right = 1, top = 0.7, wspace = .5, hspace = .5) \n",
    "\n",
    "# Graphique 1\n",
    "ax = fig.add_subplot(131)\n",
    "pyplot.title(\"Aucun zoom \\n\", fontsize = 60)\n",
    "pyplot.ylabel('$\\psi$', fontsize=60)\n",
    "pyplot.xlabel(\"$itérations$\", fontsize=60)\n",
    "line, = ax.plot(xsi, numpy.abs(pevol), 'r-', lw=5)\n",
    "ax.set_ylim(0,0.1)\n",
    "ax.set_xlim(0,2800)\n",
    "pyplot.grid(True)\n",
    "pyplot.tick_params(axis='both', labelsize=32)\n",
    "\n",
    "\n",
    "#Graphique 2\n",
    "ax = fig.add_subplot(132)\n",
    "pyplot.title(\"1er zoom \\n\", fontsize = 60)\n",
    "pyplot.ylabel('$\\psi$', fontsize=60)\n",
    "pyplot.xlabel(\"$itérations$\", fontsize=60)\n",
    "line, = ax.plot(xsi, numpy.abs(pevol), 'r-', lw=5)\n",
    "ax.set_ylim(0.060,0.070)\n",
    "ax.set_xlim(0,2800)\n",
    "pyplot.tick_params(axis='both', labelsize=32)\n",
    "\n",
    "\n",
    "#Graphique 3\n",
    "ax = fig.add_subplot(133)\n",
    "pyplot.title(\"2e zoom \\n\", fontsize = 60)\n",
    "pyplot.ylabel('$\\psi$', fontsize=60)\n",
    "pyplot.xlabel(\"$itérations$\", fontsize=60)\n",
    "line, = ax.plot(xsi, numpy.abs(pevol), 'r-', lw=5)\n",
    "#réglage pointiller reliant l'axe\n",
    "pyplot.plot([mini_ite[0],mini_ite[0]],[0,0.06939], color ='k', linewidth=4, linestyle=\"--\")\n",
    "#réglage point\n",
    "pyplot.scatter([mini_ite[0],],[0.06939,], 200, color ='k')\n",
    "#réglage flèche et texte\n",
    "ax.annotate(\"1ère corrélation\", xy=(mini_ite[0],0.06939), xytext=(1500, 0.06970),\n",
    "            fontsize=40, arrowprops=dict(arrowstyle=\"->\",\n",
    "            connectionstyle=\"arc3,rad=-.2\"),)\n",
    "ax.set_ylim(0.067,0.070)\n",
    "ax.set_xlim(0,2800)\n",
    "pyplot.tick_params(axis='both', labelsize=32)\n",
    "\n",
    "\n",
    "pyplot.show()"
   ]
  },
  {
   "cell_type": "markdown",
   "metadata": {},
   "source": [
    "Cherchons la seconde corrélation"
   ]
  },
  {
   "cell_type": "code",
   "execution_count": null,
   "metadata": {
    "collapsed": false
   },
   "outputs": [],
   "source": [
    "fig = pyplot.figure(figsize = (30, 25))\n",
    "fig.subplots_adjust(left = 0.1, bottom = 0.3,\n",
    "                       right = 1, top = 0.7, wspace = .5, hspace = .5) \n",
    "\n",
    "# Graphique 1\n",
    "ax = fig.add_subplot(131)\n",
    "pyplot.title(\"1er zoom \\n\", fontsize = 60)\n",
    "pyplot.ylabel('$\\psi$', fontsize=60)\n",
    "pyplot.xlabel(\"$itérations$\", fontsize=60)\n",
    "line, = ax.plot(xsi, numpy.abs(pevol), 'b-', lw=5)\n",
    "ax.set_ylim(0.0670,0.0675)\n",
    "ax.set_xlim(0,2800)\n",
    "pyplot.tick_params(axis='both', labelsize=32)\n",
    "\n",
    "\n",
    "# Graphique 2\n",
    "ax = fig.add_subplot(132)\n",
    "pyplot.title(\"2e zoom \\n\", fontsize = 60)\n",
    "pyplot.ylabel('$\\psi$', fontsize=60)\n",
    "pyplot.xlabel(\"$itérations$\", fontsize=60)\n",
    "line, = ax.plot(xsi, numpy.abs(pevol), 'b-', lw=5)\n",
    "ax.set_ylim(0.0673,0.0675)\n",
    "ax.set_xlim(0,2800)\n",
    "pyplot.tick_params(axis='both', labelsize=32)\n",
    "\n",
    "\n",
    "# Graphique 3\n",
    "ax = fig.add_subplot(133)\n",
    "pyplot.title(\"3e zoom \\n\", fontsize = 60)\n",
    "pyplot.ylabel('$\\psi$', fontsize=60)\n",
    "pyplot.xlabel(\"$itérations$\", fontsize=60)\n",
    "line, = ax.plot(xsi, numpy.abs(pevol), 'b-', lw=5)\n",
    "#réglage pointiller reliant l'axe\n",
    "pyplot.plot([mini_ite[1],mini_ite[1]],[0,0.0673155], color ='k', linewidth=4, linestyle=\"--\")\n",
    "#réglage point\n",
    "pyplot.scatter([mini_ite[1],],[0.0673155,], 200, color ='k')\n",
    "#réglage flèche et texte\n",
    "ax.annotate(\"2e corrélation\", xy=(mini_ite[1],0.0673155), xytext=(1700, 0.0673375),\n",
    "            fontsize=40, arrowprops=dict(arrowstyle=\"->\",\n",
    "            connectionstyle=\"arc3,rad=-.5\"),)\n",
    "ax.set_ylim(0.06730,0.06743)\n",
    "ax.set_xlim(0,2800)\n",
    "pyplot.tick_params(axis='both', labelsize=32)\n",
    "\n",
    "\n",
    "pyplot.show()"
   ]
  },
  {
   "cell_type": "code",
   "execution_count": null,
   "metadata": {
    "collapsed": false
   },
   "outputs": [],
   "source": [
    "fig = pyplot.figure(figsize = (30, 25))\n",
    "fig.subplots_adjust(left = 0.1, bottom = 0.3,\n",
    "                       right = 1, top = 0.7, wspace = .5, hspace = .5) \n",
    "\n",
    "# Graphique 1\n",
    "ax = fig.add_subplot(131)\n",
    "pyplot.title(\"1er zoom \\n\", fontsize = 60)\n",
    "pyplot.ylabel('$\\psi$', fontsize=60)\n",
    "pyplot.xlabel(\"$itérations$\", fontsize=60)\n",
    "line, = ax.plot(xsi, numpy.abs(pevol), 'm-', lw=5)\n",
    "ax.set_ylim(0.06740,0.067435)\n",
    "ax.set_xlim(0,2800)\n",
    "pyplot.tick_params(axis='both', labelsize=32)\n",
    "\n",
    "\n",
    "# Graphique 2\n",
    "ax = fig.add_subplot(132)\n",
    "pyplot.title(\"2e zoom \\n\", fontsize = 60)\n",
    "pyplot.ylabel('$\\psi$', fontsize=60)\n",
    "pyplot.xlabel(\"$itérations$\", fontsize=60)\n",
    "line, = ax.plot(xsi, numpy.abs(pevol), 'm-', lw=5)\n",
    "ax.set_ylim(0.0674185,0.0674260)\n",
    "ax.set_xlim(0,2800)\n",
    "pyplot.tick_params(axis='both', labelsize=32)\n",
    "\n",
    "\n",
    "# Graphique 3\n",
    "ax = fig.add_subplot(133)\n",
    "pyplot.title(\"3e zoom \\n\", fontsize = 60)\n",
    "pyplot.ylabel('$\\psi$', fontsize=60)\n",
    "pyplot.xlabel(\"$itérations$\", fontsize=60)\n",
    "line, = ax.plot(xsi, numpy.abs(pevol), 'm-', lw=5)\n",
    "#réglage pointiller reliant l'axe\n",
    "pyplot.plot([mini_ite[2],mini_ite[2]],[0,0.0674254], color ='k', linewidth=4, linestyle=\"--\")\n",
    "#réglage point\n",
    "pyplot.scatter([mini_ite[2],],[0.0674254,], 200, color ='k')\n",
    "#réglage flèche et texte\n",
    "ax.annotate(\"3e corrélation\", xy=(mini_ite[2],0.0674254), xytext=(1850, 0.0674275),\n",
    "            fontsize=40, arrowprops=dict(arrowstyle=\"->\",\n",
    "            connectionstyle=\"arc3,rad=-.5\"),)\n",
    "ax.set_ylim(0.0674200,0.0674300)\n",
    "ax.set_xlim(0,2800)\n",
    "pyplot.tick_params(axis='both', labelsize=32)\n",
    "\n",
    "\n",
    "pyplot.show()"
   ]
  },
  {
   "cell_type": "markdown",
   "metadata": {},
   "source": [
    "##### Bonus "
   ]
  },
  {
   "cell_type": "code",
   "execution_count": null,
   "metadata": {
    "collapsed": false
   },
   "outputs": [],
   "source": [
    "@jit(nopython=True)\n",
    "def CBH(psi, om):\n",
    "\n",
    "    for i in range(1,nx-1):\n",
    "        om[-1,i] = (-0.5/(d**2))*(8*psi[-2,i]-psi[-3,i])+ ((7*psi[-1,i])/(2*d**2))              # Bord supérieur\n",
    "        om[0,i] = (-0.5/(d**2))*(8*psi[1,i]-psi[2,i])# Bord inférieur\n",
    "\n",
    "    for j in range(1,ny-1):\n",
    "        om[j,-1] = (-0.5/(d**2))*(8*psi[j,-2]-psi[j,-3])+ ((3*l)/d) +((7*psi[j,-1])/(2*d**2))   # Bord droit     \n",
    "        om[j,0] = (-0.5/(d**2))*(8*psi[j,1]-psi[j,2])+ ((3*l)/d) + ((7*psi[j,0])/(2*d**2))  # Bord gauche\n",
    "\n",
    "    return om"
   ]
  },
  {
   "cell_type": "code",
   "execution_count": null,
   "metadata": {
    "collapsed": false
   },
   "outputs": [],
   "source": [
    "#Initialisation des paramètres initiaux\n",
    "nx = 41            # Nombre de point discrétisant l'axe x\n",
    "ny = 41            # Nombre de point discrétisant l'axe y\n",
    "l = 1.             # Limite en x de notre domaine (cavité)\n",
    "h = 1.             # Limite en y de notre domaine (cavité)\n",
    "d = l/(nx-1)       # delta\n",
    "l1_target = 1e-6   # Critère d'arrêt\n",
    "\n",
    "# Conditions initiales\n",
    "psi0 = numpy.zeros((ny,nx))\n",
    "om0  = numpy.zeros((ny,nx))\n",
    "\n",
    "# Aide au traçage\n",
    "x = numpy.linspace(0,l,nx)\n",
    "y = numpy.linspace(0,h,ny)\n",
    "\n",
    "for i in range (nx):\n",
    "    psi0[i,0] = y[i]*l     # Bord gauche\n",
    "    psi0[i,-1] = y[i]*l    # Bord droit\n",
    "    psi0[0,i] = 0          # Bord inférieur\n",
    "    psi0[-1,i] = l         # Bord supérieur\n",
    "\n",
    "CBH(psi0, om0)"
   ]
  },
  {
   "cell_type": "code",
   "execution_count": null,
   "metadata": {
    "collapsed": false
   },
   "outputs": [],
   "source": [
    "plot_3D(x,y,psi0)\n",
    "pyplot.title(\"Fonction de courant $\\psi$\", fontsize = 25)"
   ]
  },
  {
   "cell_type": "code",
   "execution_count": null,
   "metadata": {
    "collapsed": false
   },
   "outputs": [],
   "source": [
    "plot_3D(x,y,om0)\n",
    "pyplot.title(\"Fonction de vorticité $\\omega$\", fontsize = 25)"
   ]
  },
  {
   "cell_type": "code",
   "execution_count": null,
   "metadata": {
    "collapsed": false
   },
   "outputs": [],
   "source": [
    "print(y[20])\n",
    "print(x[15])"
   ]
  },
  {
   "cell_type": "code",
   "execution_count": null,
   "metadata": {
    "collapsed": false
   },
   "outputs": [],
   "source": [
    "@jit(nopython=True)\n",
    "def OSOR(om, omn, psi, psin, d, l1_target, omega):\n",
    "    '''Résoud le système d'équations formé par l'équation de\n",
    "    Laplace pour omega et l'équation de Poisson pour psi en utilisant la\n",
    "    méthode de Jacobi avec un stencil à 5 points.\n",
    "    \n",
    "    Paramètres:\n",
    "    ----------\n",
    "    om: Tableau à 2D de float (\"nombre à virgule flottante\")\n",
    "        distribution initiale de la voriticité omega\n",
    "    omn: Tableau à 2D de float\n",
    "        Tableau alloué pour la distribution précédente de om\n",
    "    psi: Tableau à 2D de float\n",
    "        distribution initiale de la fonction de courant psi\n",
    "    psin: Tableau à 2D de float\n",
    "        Tableau alloué pour la distribution précédente de psi\n",
    "    d: float\n",
    "        intervalle entre deux points de notre réseau de points\n",
    "    l1_target: float \n",
    "        Critère d'arrêt\n",
    "        \n",
    "    Retournes:\n",
    "    -------\n",
    "    om: Tableau à 2D de float\n",
    "        Distribution de omega après relaxation.\n",
    "    psi: Tableau à 2D de float\n",
    "        Distribution de psi après relaxation.\n",
    "    '''\n",
    "\n",
    "\n",
    "    omn = numpy.empty_like(om)\n",
    "    psin = numpy.empty_like(psi)\n",
    "    iterations = 0\n",
    "    iter_diff_psi = l1_target+1 #init iter_diff to be larger than l1_target\n",
    "    iter_diff_om = l1_target+1 #init iter_diff to be larger than l1_target\n",
    "    ny, nx = psi.shape\n",
    "    l1_diff_psi = numpy.zeros(4000)\n",
    "    l1_diff_om = numpy.zeros(4000)\n",
    "    \n",
    "    \n",
    "    while iter_diff_psi > l1_target and iter_diff_om > l1_target:\n",
    "        omn = om.copy()\n",
    "        psin = psi.copy()\n",
    "        \n",
    "        for j in range(ny):\n",
    "            for i in range(nx):\n",
    "                psin[j,i] = psi[j,i]\n",
    "                omn[j,i] = om[j,i]\n",
    "                \n",
    "        iter_diff_psi = 0.0\n",
    "        iter_diff_om = 0.0\n",
    "        \n",
    "        # On calcul nos nouvelles valeurs de omega\n",
    "        for j in range(1,ny-1):\n",
    "            for i in range(1,nx-1):\n",
    "                om[j,i] = (1-omega)*om[j,i] + omega*0.25 * (om[j,i-1] + om[j,i+1]\\\n",
    "                              + om[j-1,i]  + om[j+1,i])\n",
    "\n",
    "        # On impose les conditions aux bords\n",
    "        CBH(psi, om) \n",
    "            \n",
    "        # On calcul nos nouvelles valeurs de psi\n",
    "        for j in range(1,ny-1):\n",
    "            for i in range(1,nx-1):\n",
    "                psi[j,i] = (1-omega)*psi[j,i] + omega*0.25 * (psi[j,i-1] + psi[j,i+1]\\\n",
    "                                + psi[j-1,i]  + psi[j+1,i] + om[j,i] * d**2)\n",
    "            \n",
    "        # Calcul des normes et sauvegarde de la norme pour psi  \n",
    "        for j in range(ny):\n",
    "            for i in range(nx):\n",
    "                iter_diff_psi += abs(psi[j,i] - psin[j,i])  # Calcul de la norme pour psi\n",
    "                iter_diff_om += abs(om[j,i] - omn[j,i])     # Calcul de la norme pour omega\n",
    "        \n",
    "        l1_diff_psi[iterations] = iter_diff_psi    # Sauvegarde de la norme pour psi\n",
    "        iterations += 1                            # L'itération est élevé d'une unité\n",
    " \n",
    "    return psi, om, iterations, l1_diff_psi"
   ]
  },
  {
   "cell_type": "code",
   "execution_count": null,
   "metadata": {
    "collapsed": false
   },
   "outputs": [],
   "source": [
    "psih, om, iterations, l1_diff_psiOS = OSOR(om0.copy(), om0.copy(), psi0.copy(), psi0.copy(), d, l1_target, omega)\n",
    "print(\"\\n→ La méthode de SOR amélioré prend {} itérations à la tolérance {}\".format(iterations, l1_target))"
   ]
  },
  {
   "cell_type": "code",
   "execution_count": null,
   "metadata": {
    "collapsed": false
   },
   "outputs": [],
   "source": [
    "print(psih[-1,:])"
   ]
  },
  {
   "cell_type": "code",
   "execution_count": null,
   "metadata": {
    "collapsed": false
   },
   "outputs": [],
   "source": [
    "pyplot.figure(figsize=(7,7))\n",
    "pyplot.contourf(x,y,psih,20,cmap=cm.viridis)\n",
    "pyplot.title(\"Fonction de courant $\\psi$\", fontsize = 25)\n",
    "pyplot.xlabel('$x$', fontsize=24)\n",
    "pyplot.ylabel('$y$', fontsize=24)\n",
    "pyplot.tick_params(axis='both',labelsize=20)"
   ]
  },
  {
   "cell_type": "markdown",
   "metadata": {},
   "source": [
    "---\n",
    "\n",
    "##### 7. Sources.\n",
    "---\n",
    "\n",
    "[1] Cours de physique générale III (PHYS-F-201), \" deuxième partie : milieux continus \", présenté par M. Nicolas CHAMEL (2014-2015) \n",
    "\n",
    "[2] Méthode SPH : http://onlinelibrary.wiley.com/doi/10.1002/fld.4196/full\n",
    "\n",
    "[3]https://epiportal.com/Ebooks/Numerical%20Methods%20for%20Engineers%20and%20Scientists.pdf"
   ]
  },
  {
   "cell_type": "markdown",
   "metadata": {},
   "source": [
    "---\n",
    "###### La cellule ci-dessous charge le style du notebook."
   ]
  },
  {
   "cell_type": "code",
   "execution_count": null,
   "metadata": {
    "collapsed": false
   },
   "outputs": [],
   "source": [
    "from IPython.core.display import HTML\n",
    "css_file = '../styles/numericalmoocstyle.css'\n",
    "HTML(open(css_file, \"r\").read())"
   ]
  },
  {
   "cell_type": "code",
   "execution_count": null,
   "metadata": {
    "collapsed": true
   },
   "outputs": [],
   "source": []
  }
 ],
 "metadata": {
  "anaconda-cloud": {},
  "kernelspec": {
   "display_name": "Python [Root]",
   "language": "python",
   "name": "Python [Root]"
  },
  "language_info": {
   "codemirror_mode": {
    "name": "ipython",
    "version": 3
   },
   "file_extension": ".py",
   "mimetype": "text/x-python",
   "name": "python",
   "nbconvert_exporter": "python",
   "pygments_lexer": "ipython3",
   "version": "3.4.5"
  }
 },
 "nbformat": 4,
 "nbformat_minor": 0
}
