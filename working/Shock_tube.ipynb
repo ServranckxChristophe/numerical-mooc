{
 "cells": [
  {
   "cell_type": "markdown",
   "metadata": {},
   "source": [
    "\n",
    "## TP 3 : Sods Shock Tube.\n",
    "\n",
    "---\n",
    "\n",
    "Binôme : Khaled Ibrahim & Servranckx Christophe.\n",
    "\n",
    "---\n",
    "\n",
    "Pour ce 3ème travail personnel nous allons nous intéresser au problème du \"tube à chocs\". \n",
    "\n",
    "Brièvement, il s'agit d'un tube contenant un gaz et séparé en 2 régions par un diaphragme infiniment mince. Le gaz contenu dans ces deux régions étant initialement à des pressions différentes, la rupture instantanée du diaphragme aura pour conséquence de généré une onde de choc (à 1 dimension) à l'intérieur du tube. \n",
    "\n",
    "L'objectif de ce travail personnel est alors de calculer la pression, la densité et la vitesse du gaz compressible au travers du tube à chocs et ce pour un instant qui succède la rupture du diaphragme. Pour se faire nous utiliserons la méthode de Richtmyer introduite dans la partie théorique de l'énoncé de ce travail personnel."
   ]
  },
  {
   "cell_type": "markdown",
   "metadata": {},
   "source": [
    "---\n",
    "##### 1. Rappel & développement théorique:\n",
    "\n",
    "---\n",
    "\n",
    "#### 1.1 Les équations d'Euler.\n",
    "---\n",
    "\n",
    "Comme annoncé dans l'énoncé du problème, les équations d'Euler gouverne le mouvement d'un fluide non-visqueux. Par conséquent elles vont nous permettrent de décrire l'écoullement à 1 dimension du gaz dans le tube à chocs lorsque le diaphragme est rompu.\n",
    "\n",
    "Les équations d'Euler sont ainsi constituées des équations suivantes :\n",
    "\n",
    "$$\n",
    "\\left\\{\n",
    "    \\begin{array}{lll}\n",
    "        &\\frac{\\partial \\rho}{\\partial t} + \\frac{\\partial}{\\partial x}(\\rho u) = 0 & \\mbox{(conservation de la masse)}\\\\\n",
    "        &\\frac{\\partial}{\\partial t}(\\rho u) + \\frac{\\partial}{\\partial x} (\\rho u^2 + p) = 0 & \\mbox{(conservation de la QDM)}\\\\\n",
    "        &\\frac{\\partial}{\\partial t}(\\rho e_T) + \\frac{\\partial}{\\partial x} (\\rho u e_T +p u)= 0 & \\mbox{(conservation de l'énergie)}\n",
    "    \\end{array}\n",
    "\\right.\n",
    "$$\n",
    "\n",
    "où \n",
    "\n",
    "$$\n",
    "    \\begin{array}{ll}\n",
    "        \\mbox{QDM signifie \"quantité de mouvements\"}\\\\\n",
    "        e_T = e+u^2/2 \\mbox{, est l'énergie totale par unité de masse}\\\\\n",
    "        \\rho \\mbox{, est la ddensité du fluide}\\\\\n",
    "        u \\mbox{, est la vitesse du fluide}\\\\\n",
    "        p \\mbox{, est la pression du fluide}\\\\\n",
    "    \\end{array}\n",
    "$$\n",
    "\n",
    "Les équations d'Euler, sous la forme conservative (fournissant des résultats plus précis), peuvent alors être écritent sous forme vectorielle comme suit :\n",
    "\n",
    "\n",
    "\\begin{equation}\n",
    "\\frac{\\partial }{\\partial t} \\overline{\\mathbf{u}} + \\frac{\\partial }{\\partial x} \\overline{\\mathbf{f}} = 0\n",
    "\\end{equation}\n",
    "avec $\\overline{\\mathbf{u}}$ le vecteur des variables conservées et $\\overline{\\mathbf{f}}$ le vecteur de flux, donnés par :\n",
    "\n",
    "\\begin{align}\n",
    "\\overline{\\mathbf{u}} & = \\begin{pmatrix} \\rho \\\\ \\rho u \\\\ \\rho e_T \\end{pmatrix} & \\overline{\\mathbf{f}} & = \\begin{pmatrix} \\rho u \\\\ \\rho u^2 + p \\\\ (\\rho e_T + p) u  \\end{pmatrix}.\n",
    "\\end{align}\n",
    "\n",
    "Mais comme on à put le remarquer nous disposons ici de 3 équations pour 4 inconnues. En introduisant alors l'équation d'état qu'est l'équation des gaz idéaux, nous pouvons obtenir une équation supplémentaire avec l'équation pour la pression suivante :\n",
    "\n",
    "\\begin{equation}\n",
    "p = (\\gamma -1)\\left(\\rho e_T - \\frac{\\rho u^2}{2}\\right)\n",
    "\\end{equation}\n",
    "où $\\gamma^{1} = 1.4$\n",
    "\n",
    "En outre, en exprimant la pression en terme du vecteur des variables conservées $\\overline{\\mathbf{u}}$ :\n",
    "\n",
    "$$p = (\\gamma -1)\\left(u_3 - \\frac{1}{2} \\frac{u^2_2}{u_1} \\right)$$\n",
    "\n",
    "et en remarquant que $\\overline{\\mathbf{f}}$ est une fonction de $\\overline{\\mathbf{u}}$ et que nous pouvons alors également exprimer $\\overline{\\mathbf{f}}$ en terme de $$ \\overline{\\mathbf{u}} = \n",
    "\\left[ \\begin{array}{c}\n",
    "u_1 \\\\\n",
    "u_2 \\\\\n",
    "u_3 \\\\ \n",
    "\\end{array} \\right] =\n",
    "\\left[ \\begin{array}{c}\n",
    "\\rho \\\\\n",
    "\\rho u \\\\\n",
    "\\rho e_T \\\\ \n",
    "\\end{array} \\right]$$,\n",
    "\n",
    "\n",
    "$$→ \\overline{\\mathbf{f}} = \\left[ \\begin{array}{c}\n",
    "f_1 \\\\\n",
    "f_2 \\\\\n",
    "f_3 \\\\ \\end{array} \\right] =\n",
    "\\left[ \\begin{array}{c}\n",
    "u_2\\\\\n",
    "\\frac{u^2_2}{u_1} + (\\gamma -1)\\left(u_3 - \\frac{1}{2} \\frac{u^2_2}{u_1} \\right) \\\\\n",
    "\\left(u_3 + (\\gamma -1)\\left(u_3 - \\frac{1}{2} \\frac{u^2_2}{u_1}\\right) \\right) \\frac{u_2}{u_1}\\\\ \\end{array}\n",
    "\\right]$$\n",
    "\n",
    "qui est facilement résolvable."
   ]
  },
  {
   "cell_type": "code",
   "execution_count": 3,
   "metadata": {
    "collapsed": true
   },
   "outputs": [],
   "source": [
    "%matplotlib inline\n",
    "import numpy \n",
    "from matplotlib import pyplot\n",
    "from matplotlib import rcParams\n",
    "rcParams['font.family'] = 'serif'\n",
    "rcParams['font.size'] = 16"
   ]
  },
  {
   "cell_type": "code",
   "execution_count": 4,
   "metadata": {
    "collapsed": true
   },
   "outputs": [],
   "source": [
    "nx = 81\n",
    "dx = .25\n",
    "dt = .0002\n",
    "gamma = 1.4\n",
    "\n",
    "x = numpy.linspace(-10,10,nx)"
   ]
  },
  {
   "cell_type": "code",
   "execution_count": 5,
   "metadata": {
    "collapsed": true
   },
   "outputs": [],
   "source": [
    "# Conditions initiales à gauche du diaphragme\n",
    "rho_L = 1\n",
    "u_L   = 0\n",
    "p_L   = 100\n",
    "\n",
    "# Conditions initiale à droite du diaphragme\n",
    "rho_R = .125\n",
    "u_R   = 0\n",
    "p_R   = 10"
   ]
  },
  {
   "cell_type": "code",
   "execution_count": 43,
   "metadata": {
    "collapsed": false
   },
   "outputs": [],
   "source": [
    "#pyplot.subplot(211)\n",
    "#pyplot.plot(x, u1, \"b-\", linewidth=1)\n",
    "#pyplot.ylabel('Densité $(kg/m^{3})$')\n",
    "#pyplot.xlabel('position $(m)$')\n",
    "#pyplot.ylim(0,1.2)\n",
    "\n",
    "#pyplot.subplot(212)\n",
    "#pyplot.plot(x, u2, \"b-\", linewidth=1)\n",
    "#pyplot.ylabel('vitesse $(m/s)$')\n",
    "#pyplot.xlabel('position $(m)$')\n",
    "\n",
    "#pyplot.subplot(211)\n",
    "#pyplot.plot(x, u3, \"b-\", linewidth=1)\n",
    "#pyplot.ylabel('pression $(kN/m^{2})$')\n",
    "#pyplot.xlabel('position $(m)$')\n",
    "#pyplot.ylim(-1,105)"
   ]
  },
  {
   "cell_type": "markdown",
   "metadata": {},
   "source": [
    "expli u3 est la pression au temps t = 0"
   ]
  },
  {
   "cell_type": "code",
   "execution_count": 39,
   "metadata": {
    "collapsed": false
   },
   "outputs": [
    {
     "data": {
      "image/png": "[encoded data removed]",
      "text/plain": [
       "<matplotlib.figure.Figure at 0x7f4d0acaf898>"
      ]
     },
     "metadata": {},
     "output_type": "display_data"
    },
    {
     "data": {
      "image/png": "[encoded data removed]",
      "text/plain": [
       "<matplotlib.figure.Figure at 0x7f4d0ae38860>"
      ]
     },
     "metadata": {},
     "output_type": "display_data"
    },
    {
     "data": {
      "image/png": "[encoded data removed]",
      "text/plain": [
       "<matplotlib.figure.Figure at 0x7f4d0aec5438>"
      ]
     },
     "metadata": {},
     "output_type": "display_data"
    }
   ],
   "source": [
    "x1 = numpy.ones(nx)\n",
    "    \n",
    "u1 = x1*rho_L                      # densité à gauche du diaphragme\n",
    "u1[int((nx-1)/2):] = rho_R         # densité à droite du diaphragme\n",
    "u2 = x1*u_L                        # vitesse à gauche du diaphragme\n",
    "u2[int((nx-1)/2):] = u_R           # vitesse à droite du diaphragme\n",
    "u3 = x1*p_L                        # pression à gauche du diaphragme\n",
    "u3[int((nx-1)/2):] = p_R           # pression à droite du diaphragme\n",
    "\n",
    "pyplot.figure(figsize=(8,5))\n",
    "pyplot.plot(x, u1, 'b', ls='-', lw=1)\n",
    "pyplot.ylim(0,1.2);    \n",
    "pyplot.ylabel('Densité $(kg/m^{3})$',fontsize = 22)\n",
    "pyplot.xlabel('position $(m)$',fontsize = 22)\n",
    "pyplot.tick_params(axis='both', labelsize=20)\n",
    "\n",
    "pyplot.figure(figsize=(8,5))\n",
    "pyplot.plot(x, u2,'b-', ls='-', lw=1)\n",
    "pyplot.ylabel('vitesse $(m/s)$',fontsize = 22)\n",
    "pyplot.xlabel('position $(m)$',fontsize = 22)\n",
    "pyplot.tick_params(axis='both', labelsize=20)\n",
    "\n",
    "pyplot.figure(figsize=(8,5))\n",
    "pyplot.plot(x, u3,'b-', ls='-', lw=1)\n",
    "pyplot.ylim(5,105); \n",
    "pyplot.ylabel('pression $(kN/m^{2})$',fontsize = 22)\n",
    "pyplot.xlabel('position $(m)$',fontsize = 22)\n",
    "pyplot.tick_params(axis='both', labelsize=20)"
   ]
  },
  {
   "cell_type": "markdown",
   "metadata": {},
   "source": [
    "Création de la fonction pour les conditions initiales."
   ]
  },
  {
   "cell_type": "code",
   "execution_count": 40,
   "metadata": {
    "collapsed": true
   },
   "outputs": [],
   "source": [
    "def condition_ini(nx, rho_L, rho_R, u_L, u_R, p_L, p_R):\n",
    "    \"\"\"Définit les conditions initiales pour le problème du tube à chocs\n",
    "\n",
    "    Paramètres\n",
    "    ----------\n",
    "    nx        : int\n",
    "        Nombre de point de la grille en x\n",
    "    rho_L : float\n",
    "        densité du gaz à gauche du diaphragme \n",
    "    u_L : float\n",
    "        vitesse du gaz à gauche du diaphragme \n",
    "    p_L : float\n",
    "        pression du gaz à gauche du diaphragme \n",
    "    rho_R : float\n",
    "        densité du gaz à droite du diaphragme \n",
    "    u_R : float\n",
    "        vitesse du gaz à droite du diaphragme\n",
    "    p_R : float\n",
    "        pression du gaz à droite du diaphragme\n",
    "\n",
    "    Returns\n",
    "    -------\n",
    "    u: tableau de floats\n",
    "       Tableau avec les valeurs initiales de densité, pression et vitesse du gaz\n",
    "    \"\"\"    \n",
    "    \n",
    "    x1 = numpy.ones(nx)\n",
    "    \n",
    "    u1 = x1*rho_L                      # densité à gauche du diaphragme\n",
    "    u1[int((nx-1)/2):] = rho_R         # densité à droite du diaphragme\n",
    "    u2 = x1*u_L                        # vitesse à gauche du diaphragme\n",
    "    u2[int((nx-1)/2):] = u_R           # vitesse à droite du diaphragme\n",
    "    u3 = x1*p_L                        # pression à gauche du diaphragme\n",
    "    u3[int((nx-1)/2):] = p_R           # pression à droite du diaphragme"
   ]
  },
  {
   "cell_type": "code",
   "execution_count": 41,
   "metadata": {
    "collapsed": false
   },
   "outputs": [],
   "source": [
    "condition_ini(nx, rho_L, rho_R, u_L, u_R, p_L, p_R)"
   ]
  },
  {
   "cell_type": "code",
   "execution_count": null,
   "metadata": {
    "collapsed": true
   },
   "outputs": [],
   "source": [
    "rho =\n",
    "u   = \n",
    "e_t =\n",
    "\n",
    "\n",
    "u = numpy.empty((nt,3))\n",
    "u = numpy.array([rho,rho*u,rho*e_T])\n",
    "\n",
    "\n"
   ]
  },
  {
   "cell_type": "code",
   "execution_count": null,
   "metadata": {
    "collapsed": true
   },
   "outputs": [],
   "source": [
    "def flux(u):\n",
    "\n",
    "    \"\"\"Calcul du vecteur flux\n",
    "\n",
    "    Paramètres\n",
    "    ----------\n",
    "    u1  : float\n",
    "        rho\n",
    "    u2  : float\n",
    "        rho*u\n",
    "    u3  : float\n",
    "        rho*e_T\n",
    "        \n",
    "    Returns\n",
    "    -------\n",
    "        F : tableau\n",
    "        tableau avec le vecteur flux pour tout point x\n",
    "    \"\"\"\n",
    "    \n",
    "    u1 = u[0]\n",
    "    u2 = u[1]\n",
    "    u3 = u[2]\n",
    "    \n",
    "    return numpy.array([u2,(u2**2/u1)+(gamma-1)*(u3-0.5*(u2**2/u1)),\\\\\n",
    "                        (u3+((gamma-1)*(u3-0.5*(u2**2/u1))))*(u2/u1)])"
   ]
  },
  {
   "cell_type": "code",
   "execution_count": null,
   "metadata": {
    "collapsed": true
   },
   "outputs": [],
   "source": [
    "def maccormack(rho, nt, dt, dx, u_max, rho_max):\n",
    "    \"\"\" Computes the solution with MacCormack scheme\n",
    "    \n",
    "    Parameters\n",
    "    ----------\n",
    "    rho    : array of floats\n",
    "            Density at current time-step\n",
    "    nt     : int\n",
    "            Number of time steps\n",
    "    dt     : float\n",
    "            Time-step size\n",
    "    dx     : float\n",
    "            Mesh spacing\n",
    "    rho_max: float\n",
    "            Maximum allowed car density\n",
    "    u_max  : float\n",
    "            Speed limit\n",
    "    \n",
    "    Returns\n",
    "    -------\n",
    "    rho_n : array of floats\n",
    "            Density after nt time steps at every point x\n",
    "    \"\"\"\n",
    "    \n",
    "    rho_n = numpy.zeros((nt,len(rho)))\n",
    "    rho_star = numpy.empty_like(rho)\n",
    "    rho_n[:,:] = rho.copy()\n",
    "    rho_star = rho.copy()\n",
    "    \n",
    "    for t in range(1,nt):\n",
    "        F = flux(u_max, rho_max, rho)\n",
    "        u_star[:-1] = rho[:-1] - dt/dx * (F[1:]-F[:-1])\n",
    "        Fstar = flux(u_max, rho_max, u_star)\n",
    "        rho_n[t,1:] = .5 * (rho[1:]+rho_star[1:] - dt/dx * (Fstar[1:] - Fstar[:-1]))\n",
    "        rho = rho_n[t].copy()\n",
    "        \n",
    "    return rho_n"
   ]
  },
  {
   "cell_type": "code",
   "execution_count": null,
   "metadata": {
    "collapsed": true
   },
   "outputs": [],
   "source": [
    "def maccormack(rho, nt, dt, dx, u_max, rho_max):\n",
    "    \"\"\" Computes the solution with MacCormack scheme\n",
    "    \n",
    "    Parameters\n",
    "    ----------\n",
    "    rho    : array of floats\n",
    "            Density at current time-step\n",
    "    nt     : int\n",
    "            Number of time steps\n",
    "    dt     : float\n",
    "            Time-step size\n",
    "    dx     : float\n",
    "            Mesh spacing\n",
    "    rho_max: float\n",
    "            Maximum allowed car density\n",
    "    u_max  : float\n",
    "            Speed limit\n",
    "    \n",
    "    Returns\n",
    "    -------\n",
    "    rho_n : array of floats\n",
    "            Density after nt time steps at every point x\n",
    "    \"\"\"\n",
    "    \n",
    "    rho_n = numpy.zeros((nt,len(rho)))\n",
    "    rho_star = numpy.empty_like(rho)\n",
    "    rho_n[:,:] = rho.copy()\n",
    "    rho_star = rho.copy()\n",
    "    \n",
    "    for t in range(1,nt):\n",
    "        F = computeF(u_max, rho_max, rho)\n",
    "        rho_star[:-1] = rho[:-1] - dt/dx * (F[1:]-F[:-1])\n",
    "        Fstar = computeF(u_max, rho_max, rho_star)\n",
    "        rho_n[t,1:] = .5 * (rho[1:]+rho_star[1:] - dt/dx * (Fstar[1:] - Fstar[:-1]))\n",
    "        rho = rho_n[t].copy()\n",
    "        \n",
    "    return rho_n"
   ]
  },
  {
   "cell_type": "markdown",
   "metadata": {},
   "source": [
    "---\n",
    "##### x. Sources:\n",
    "\n",
    "---"
   ]
  },
  {
   "cell_type": "markdown",
   "metadata": {},
   "source": [
    "---\n",
    "\n",
    "###### The cell below loads the style of the notebook."
   ]
  },
  {
   "cell_type": "code",
   "execution_count": 2,
   "metadata": {
    "collapsed": false
   },
   "outputs": [
    {
     "data": {
      "text/html": [
       "<link href='http://fonts.googleapis.com/css?family=Alegreya+Sans:100,300,400,500,700,800,900,100italic,300italic,400italic,500italic,700italic,800italic,900italic' rel='stylesheet' type='text/css'>\n",
       "<link href='http://fonts.googleapis.com/css?family=Arvo:400,700,400italic' rel='stylesheet' type='text/css'>\n",
       "<link href='http://fonts.googleapis.com/css?family=PT+Mono' rel='stylesheet' type='text/css'>\n",
       "<link href='http://fonts.googleapis.com/css?family=Shadows+Into+Light' rel='stylesheet' type='text/css'>\n",
       "<link href='http://fonts.googleapis.com/css?family=Nixie+One' rel='stylesheet' type='text/css'>\n",
       "<link href='https://fonts.googleapis.com/css?family=Source+Code+Pro' rel='stylesheet' type='text/css'>\n",
       "<style>\n",
       "\n",
       "@font-face {\n",
       "    font-family: \"Computer Modern\";\n",
       "    src: url('http://mirrors.ctan.org/fonts/cm-unicode/fonts/otf/cmunss.otf');\n",
       "}\n",
       "\n",
       "#notebook_panel { /* main background */\n",
       "    background: rgb(245,245,245);\n",
       "}\n",
       "\n",
       "div.cell { /* set cell width */\n",
       "    width: 750px;\n",
       "}\n",
       "\n",
       "div #notebook { /* centre the content */\n",
       "    background: #fff; /* white background for content */\n",
       "    width: 1000px;\n",
       "    margin: auto;\n",
       "    padding-left: 0em;\n",
       "}\n",
       "\n",
       "#notebook li { /* More space between bullet points */\n",
       "    margin-top:0.8em;\n",
       "}\n",
       "\n",
       "/* draw border around running cells */\n",
       "div.cell.border-box-sizing.code_cell.running { \n",
       "    border: 1px solid #111;\n",
       "}\n",
       "\n",
       "/* Put a solid color box around each cell and its output, visually linking them*/\n",
       "div.cell.code_cell {\n",
       "    background-color: rgb(256,256,256); \n",
       "    border-radius: 0px; \n",
       "    padding: 0.5em;\n",
       "    margin-left:1em;\n",
       "    margin-top: 1em;\n",
       "}\n",
       "\n",
       "div.text_cell_render{\n",
       "    font-family: 'Alegreya Sans' sans-serif;\n",
       "    line-height: 140%;\n",
       "    font-size: 125%;\n",
       "    font-weight: 400;\n",
       "    width:600px;\n",
       "    margin-left:auto;\n",
       "    margin-right:auto;\n",
       "}\n",
       "\n",
       "\n",
       "/* Formatting for header cells */\n",
       ".text_cell_render h1 {\n",
       "    font-family: 'Nixie One', serif;\n",
       "    font-style:regular;\n",
       "    font-weight: 400;    \n",
       "    font-size: 45pt;\n",
       "    line-height: 100%;\n",
       "    color: rgb(0,51,102);\n",
       "    margin-bottom: 0.5em;\n",
       "    margin-top: 0.5em;\n",
       "    display: block;\n",
       "}\n",
       "\n",
       ".text_cell_render h2 {\n",
       "    font-family: 'Nixie One', serif;\n",
       "    font-weight: 400;\n",
       "    font-size: 30pt;\n",
       "    line-height: 100%;\n",
       "    color: rgb(0,51,102);\n",
       "    margin-bottom: 0.1em;\n",
       "    margin-top: 0.3em;\n",
       "    display: block;\n",
       "}\t\n",
       "\n",
       ".text_cell_render h3 {\n",
       "    font-family: 'Nixie One', serif;\n",
       "    margin-top:16px;\n",
       "    font-size: 22pt;\n",
       "    font-weight: 600;\n",
       "    margin-bottom: 3px;\n",
       "    font-style: regular;\n",
       "    color: rgb(102,102,0);\n",
       "}\n",
       "\n",
       ".text_cell_render h4 {    /*Use this for captions*/\n",
       "    font-family: 'Nixie One', serif;\n",
       "    font-size: 14pt;\n",
       "    text-align: center;\n",
       "    margin-top: 0em;\n",
       "    margin-bottom: 2em;\n",
       "    font-style: regular;\n",
       "}\n",
       "\n",
       ".text_cell_render h5 {  /*Use this for small titles*/\n",
       "    font-family: 'Nixie One', sans-serif;\n",
       "    font-weight: 400;\n",
       "    font-size: 16pt;\n",
       "    color: rgb(163,0,0);\n",
       "    font-style: italic;\n",
       "    margin-bottom: .1em;\n",
       "    margin-top: 0.8em;\n",
       "    display: block;\n",
       "}\n",
       "\n",
       ".text_cell_render h6 { /*use this for copyright note*/\n",
       "    font-family: 'PT Mono', sans-serif;\n",
       "    font-weight: 300;\n",
       "    font-size: 9pt;\n",
       "    line-height: 100%;\n",
       "    color: grey;\n",
       "    margin-bottom: 1px;\n",
       "    margin-top: 1px;\n",
       "}\n",
       "\n",
       ".CodeMirror{\n",
       "    font-family: \"Source Code Pro\";\n",
       "    font-size: 90%;\n",
       "}\n",
       "\n",
       ".alert-box {\n",
       "    padding:10px 10px 10px 36px;\n",
       "    margin:5px;\n",
       "}\n",
       "\n",
       ".success {\n",
       "    color:#666600;\n",
       "    background:rgb(240,242,229);\n",
       "}\n",
       "</style>\n",
       "<script>\n",
       "    MathJax.Hub.Config({\n",
       "                        TeX: {\n",
       "                           extensions: [\"AMSmath.js\"],\n",
       "                           equationNumbers: { autoNumber: \"AMS\", useLabelIds: true}\n",
       "                           },\n",
       "                tex2jax: {\n",
       "                    inlineMath: [ ['$','$'], [\"\\\\(\",\"\\\\)\"] ],\n",
       "                    displayMath: [ ['$$','$$'], [\"\\\\[\",\"\\\\]\"] ]\n",
       "                },\n",
       "                displayAlign: 'center', // Change this to 'center' to center equations.\n",
       "                \"HTML-CSS\": {\n",
       "                    styles: {'.MathJax_Display': {\"margin\": 4}}\n",
       "                }\n",
       "        });\n",
       "</script>\n"
      ],
      "text/plain": [
       "<IPython.core.display.HTML object>"
      ]
     },
     "execution_count": 2,
     "metadata": {},
     "output_type": "execute_result"
    }
   ],
   "source": [
    "from IPython.core.display import HTML\n",
    "css_file = '../styles/numericalmoocstyle.css'\n",
    "HTML(open(css_file, \"r\").read())"
   ]
  }
 ],
 "metadata": {
  "anaconda-cloud": {},
  "kernelspec": {
   "display_name": "Python [Root]",
   "language": "python",
   "name": "Python [Root]"
  },
  "language_info": {
   "codemirror_mode": {
    "name": "ipython",
    "version": 3
   },
   "file_extension": ".py",
   "mimetype": "text/x-python",
   "name": "python",
   "nbconvert_exporter": "python",
   "pygments_lexer": "ipython3",
   "version": "3.4.5"
  }
 },
 "nbformat": 4,
 "nbformat_minor": 0
}
