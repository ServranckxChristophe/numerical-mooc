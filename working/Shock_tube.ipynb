{
 "cells": [
  {
   "cell_type": "markdown",
   "metadata": {},
   "source": [
    "\n",
    "## TP 3 : Sods Shock Tube.\n",
    "\n",
    "---\n",
    "\n",
    "Binôme : Khaled Ibrahim & Servranckx Christophe.\n",
    "\n",
    "---\n",
    "\n",
    "Pour ce 3ème travail personnel nous allons nous intéresser au problème du \"tube à chocs\". \n",
    "\n",
    "Brièvement, il s'agit d'un tube contenant un gaz et séparé en 2 régions par un diaphragme infiniment mince. Le gaz contenu dans ces deux régions étant initialement à des pressions différentes, la rupture instantanée du diaphragme aura pour conséquence de généré une onde de choc (à 1 dimension) à l'intérieur du tube. \n",
    "\n",
    "L'objectif de ce travail personnel est alors de calculer la pression, la densité et la vitesse du gaz compressible au travers du tube à chocs et ce pour un instant qui succède la rupture du diaphragme. Pour se faire nous utiliserons la méthode de Richtmyer introduite dans la partie théorique de l'énoncé de ce travail personnel."
   ]
  },
  {
   "cell_type": "markdown",
   "metadata": {},
   "source": [
    "---\n",
    "##### 1. Rappel & développement théorique:\n",
    "\n",
    "---\n",
    "\n",
    "#### 1.1 Les équations d'Euler.\n",
    "---\n",
    "\n",
    "Comme annoncé dans l'énoncé du problème, les équations d'Euler gouverne le mouvement d'un fluide non-visqueux. Par conséquent elles vont nous permettrent de décrire l'écoullement à 1 dimension du gaz dans le tube à chocs lorsque le diaphragme est rompu.\n",
    "\n",
    "Les équations d'Euler sont ainsi constituées des équations suivantes :\n",
    "\n",
    "$$\n",
    "\\left\\{\n",
    "    \\begin{array}{lll}\n",
    "        &\\frac{\\partial \\rho}{\\partial t} + \\frac{\\partial}{\\partial x}(\\rho u) = 0 & \\mbox{(conservation de la masse)}\\\\\n",
    "        &\\frac{\\partial}{\\partial t}(\\rho u) + \\frac{\\partial}{\\partial x} (\\rho u^2 + p) = 0 & \\mbox{(conservation de la QDM)}\\\\\n",
    "        &\\frac{\\partial}{\\partial t}(\\rho e_T) + \\frac{\\partial}{\\partial x} (\\rho u e_T +p u)= 0 & \\mbox{(conservation de l'énergie)}\n",
    "    \\end{array}\n",
    "\\right.\n",
    "$$\n",
    "\n",
    "où \n",
    "\n",
    "$$\n",
    "    \\begin{array}{ll}\n",
    "        \\mbox{QDM signifie \"quantité de mouvements\"}\\\\\n",
    "        e_T = e+u^2/2 \\mbox{, est l'énergie totale par unité de masse}\\\\\n",
    "        \\rho \\mbox{, est la ddensité du fluide}\\\\\n",
    "        u \\mbox{, est la vitesse du fluide}\\\\\n",
    "        p \\mbox{, est la pression du fluide}\\\\\n",
    "    \\end{array}\n",
    "$$\n",
    "\n",
    "Les équations d'Euler, sous la forme conservative (fournissant des résultats plus précis), peuvent alors être écritent sous forme vectorielle comme suit :\n",
    "\n",
    "\n",
    "\\begin{equation}\n",
    "\\frac{\\partial }{\\partial t} \\overline{\\mathbf{u}} + \\frac{\\partial }{\\partial x} \\overline{\\mathbf{f}} = 0\n",
    "\\end{equation}\n",
    "avec $\\overline{\\mathbf{u}}$ le vecteur des variables conservées et $\\overline{\\mathbf{f}}$ le vecteur de flux, donnés par :\n",
    "\n",
    "\\begin{align}\n",
    "\\overline{\\mathbf{u}} & = \\begin{pmatrix} \\rho \\\\ \\rho u \\\\ \\rho e_T \\end{pmatrix} & \\overline{\\mathbf{f}} & = \\begin{pmatrix} \\rho u \\\\ \\rho u^2 + p \\\\ (\\rho e_T + p) u  \\end{pmatrix}.\n",
    "\\end{align}\n",
    "\n",
    "Mais comme on à put le remarquer nous disposons ici de 3 équations pour 4 inconnues. En introduisant alors l'équation d'état qu'est l'équation des gaz idéaux, nous pouvons obtenir une équation supplémentaire avec l'équation pour la pression suivante :\n",
    "\n",
    "\\begin{equation}\n",
    "p = (\\gamma -1)\\left(\\rho e_T - \\frac{\\rho u^2}{2}\\right)\n",
    "\\end{equation}\n",
    "où $\\gamma^{1} = 1.4$\n",
    "\n",
    "En outre, en exprimant la pression en terme du vecteur des variables conservées $\\overline{\\mathbf{u}}$ :\n",
    "\n",
    "$$p = (\\gamma -1)\\left(u_3 - \\frac{1}{2} \\frac{u^2_2}{u_1} \\right)$$\n",
    "\n",
    "et en remarquant que $\\overline{\\mathbf{f}}$ est une fonction de $\\overline{\\mathbf{u}}$ et que nous pouvons alors également exprimer $\\overline{\\mathbf{f}}$ en terme de $$ \\overline{\\mathbf{u}} = \n",
    "\\left[ \\begin{array}{c}\n",
    "u_1 \\\\\n",
    "u_2 \\\\\n",
    "u_3 \\\\ \n",
    "\\end{array} \\right] =\n",
    "\\left[ \\begin{array}{c}\n",
    "\\rho \\\\\n",
    "\\rho u \\\\\n",
    "\\rho e_T \\\\ \n",
    "\\end{array} \\right]$$,\n",
    "\n",
    "\n",
    "$$→ \\overline{\\mathbf{f}} = \\left[ \\begin{array}{c}\n",
    "f_1 \\\\\n",
    "f_2 \\\\\n",
    "f_3 \\\\ \\end{array} \\right] =\n",
    "\\left[ \\begin{array}{c}\n",
    "u_2\\\\\n",
    "\\frac{u^2_2}{u_1} + (\\gamma -1)\\left(u_3 - \\frac{1}{2} \\frac{u^2_2}{u_1} \\right) \\\\\n",
    "\\left(u_3 + (\\gamma -1)\\left(u_3 - \\frac{1}{2} \\frac{u^2_2}{u_1}\\right) \\right) \\frac{u_2}{u_1}\\\\ \\end{array}\n",
    "\\right]$$\n",
    "\n",
    "qui est facilement résolvable."
   ]
  },
  {
   "cell_type": "code",
   "execution_count": 1,
   "metadata": {
    "collapsed": true
   },
   "outputs": [],
   "source": [
    "%matplotlib inline\n",
    "import numpy \n",
    "from matplotlib import pyplot\n",
    "from matplotlib import rcParams\n",
    "rcParams['font.family'] = 'serif'\n",
    "rcParams['font.size'] = 16"
   ]
  },
  {
   "cell_type": "code",
   "execution_count": 2,
   "metadata": {
    "collapsed": true
   },
   "outputs": [],
   "source": [
    "# On définit notre grille spatiale\n",
    "nx = 81\n",
    "x = numpy.linspace(-10,10,nx)\n",
    "\n",
    "# Conditions initiales à gauche du diaphragme\n",
    "rho_L = 1\n",
    "u_L   = 0\n",
    "p_L   = 100000\n",
    "\n",
    "# Conditions initiale à droite du diaphragme\n",
    "rho_R = .125\n",
    "u_R   = 0\n",
    "p_R   = 10000"
   ]
  },
  {
   "cell_type": "markdown",
   "metadata": {},
   "source": [
    "expli u3 est la pression au temps t = 0"
   ]
  },
  {
   "cell_type": "code",
   "execution_count": 3,
   "metadata": {
    "collapsed": false
   },
   "outputs": [],
   "source": [
    "x1 = numpy.ones(nx)\n",
    "    \n",
    "u1 = x1*rho_L                      # densité à gauche du diaphragme\n",
    "u1[int((nx-1)/2):] = rho_R         # densité à droite du diaphragme\n",
    "u2 = x1*u_L                        # vitesse à gauche du diaphragme\n",
    "u2[int((nx-1)/2):] = u_R           # vitesse à droite du diaphragme\n",
    "u3 = x1*p_L                        # pression à gauche du diaphragme\n",
    "u3[int((nx-1)/2):] = p_R           # pression à droite du diaphragme"
   ]
  },
  {
   "cell_type": "code",
   "execution_count": 4,
   "metadata": {
    "collapsed": false
   },
   "outputs": [
    {
     "data": {
      "image/png": "[encoded data removed]",
      "text/plain": [
       "<matplotlib.figure.Figure at 0x7fbdc08daf98>"
      ]
     },
     "metadata": {},
     "output_type": "display_data"
    }
   ],
   "source": [
    "figure = pyplot.figure(figsize = (25, 30))\n",
    "figure.subplots_adjust(left = 0.3, bottom = 0.3,\n",
    "                       right = 0.7, top = 0.7, wspace = 0, hspace = .5)\n",
    "\n",
    "pyplot.subplot(3, 1, 1)\n",
    "pyplot.title('Densité en fonction de la position dans le tube.', fontsize=26)\n",
    "pyplot.plot(x, u1, 'b-')\n",
    "pyplot.ylabel('Densité $(kg/m^{3})$',fontsize=24)\n",
    "pyplot.ylim(0,1.2)\n",
    "pyplot.xlabel('position $(m)$',fontsize=24)\n",
    "pyplot.tick_params(axis='both', labelsize=20)\n",
    "\n",
    "\n",
    "pyplot.subplot(3, 1, 2)\n",
    "pyplot.title('vitesse en fonction de la position dans le tube.', fontsize=26)\n",
    "pyplot.plot(x, u2, 'b-')\n",
    "pyplot.ylabel('Vitesse $(m/s)$',fontsize=24)\n",
    "pyplot.xlabel('position $(m)$',fontsize=24)\n",
    "pyplot.tick_params(axis='both', labelsize=20)\n",
    "\n",
    "pyplot.subplot(3, 1, 3)\n",
    "pyplot.title('Pression en fonction de la position dans le tube.',fontsize=26)\n",
    "pyplot.plot(x, u3, 'b-')\n",
    "pyplot.ylabel('pression $(kN/m^{2})$',fontsize=24)\n",
    "pyplot.ylim(5,105)\n",
    "pyplot.xlabel('position $(m)$',fontsize=24)\n",
    "pyplot.tick_params(axis='both', labelsize=20)"
   ]
  },
  {
   "cell_type": "markdown",
   "metadata": {},
   "source": [
    "Création de la fonction flux"
   ]
  },
  {
   "cell_type": "code",
   "execution_count": 5,
   "metadata": {
    "collapsed": true
   },
   "outputs": [],
   "source": [
    "def flux(u):\n",
    "\n",
    "    \"\"\"Calcul du vecteur flux\n",
    "\n",
    "    Paramètres\n",
    "    ----------\n",
    "    u[0]  : tableau de floats\n",
    "        rho\n",
    "    u[1]  : tableaux de floats\n",
    "        rho*u\n",
    "    u[2]  : tableau de floats\n",
    "        rho*e_T\n",
    "        \n",
    "    Returns\n",
    "    -------\n",
    "        F : tableau\n",
    "        tableau avec le vecteur flux pour tout point x\n",
    "    \"\"\"\n",
    "\n",
    "    return numpy.array([u[1,:],(u[1,:]**2/u[0,:])+((gamma-1)*(u[2,:]-(0.5*(u[1,:]**2/u[0,:])))),\n",
    "            (u[2,:]+((gamma-1)*(u[2,:]-0.5*(u[1,:]**2/u[0,:]))))*(u[1,:]/u[0,:])])"
   ]
  },
  {
   "cell_type": "markdown",
   "metadata": {},
   "source": [
    "commentaire sur u3 qui n'est pas la pression mais ..."
   ]
  },
  {
   "cell_type": "code",
   "execution_count": 6,
   "metadata": {
    "collapsed": false
   },
   "outputs": [],
   "source": [
    "gamma = 1.4\n",
    "\n",
    "x1 = numpy.ones(nx)\n",
    "    \n",
    "u1 = x1*rho_L                        # densité à gauche du diaphragme\n",
    "u1[int((nx-1)/2):] = rho_R           # densité à droite du diaphragme\n",
    "\n",
    "u2 = x1*rho_L*u_L                    # vitesse*densité à gauche du diaphragme\n",
    "u2[int((nx-1)/2):] = rho_R*u_R       # vitesse*densité à droite du diaphragme\n",
    "\n",
    "u3 = x1*p_L/(gamma-1)                # rho*e_T à gauche du diaphragme\n",
    "u3[int((nx-1)/2):] = p_R/(gamma-1)   # rho*e_T à droite du diaphragme\n",
    "\n",
    "u = numpy.empty((3,nx))\n",
    "u = numpy.array([u1,u2,u3])"
   ]
  },
  {
   "cell_type": "code",
   "execution_count": 7,
   "metadata": {
    "collapsed": true
   },
   "outputs": [],
   "source": [
    "t_sim = 0.01\n",
    "dx = 0.25\n",
    "dt = 0.0002\n",
    "nt= int(t_sim/dt)+1\n",
    "\n",
    "u_n = numpy.zeros((nt,len(u),nx))\n",
    "u_n[:,:,:nx] = u.copy()\n",
    "u_star = numpy.empty_like(u)\n",
    "u_star = u.copy()\n",
    "\n",
    "for t in range(1,nt):\n",
    "    F = flux(u)\n",
    "    u_star[:,1:] = 0.5 * (u[:,1:]+u[:,:-1] - dt/dx * (F[:,1:] - F[:,:-1]))\n",
    "    Fstar = flux(u_star)\n",
    "    u_n[t,:,:-1] = u[:,:-1] - dt/dx * (Fstar[:,1:]-Fstar[:,:-1])\n",
    "    u = u_n[t,:,:].copy()"
   ]
  },
  {
   "cell_type": "code",
   "execution_count": 8,
   "metadata": {
    "collapsed": false
   },
   "outputs": [
    {
     "name": "stdout",
     "output_type": "stream",
     "text": [
      "0.374691402648\n",
      "292.611471527\n",
      "292.611471527\n",
      "30250.8901676\n"
     ]
    },
    {
     "name": "stderr",
     "output_type": "stream",
     "text": [
      "/serveur/logiciels/anaconda3/lib/python3.4/site-packages/ipykernel/__main__.py:8: VisibleDeprecationWarning: using a non-integer number instead of an integer will result in an error in the future\n",
      "/serveur/logiciels/anaconda3/lib/python3.4/site-packages/ipykernel/__main__.py:9: VisibleDeprecationWarning: using a non-integer number instead of an integer will result in an error in the future\n",
      "/serveur/logiciels/anaconda3/lib/python3.4/site-packages/ipykernel/__main__.py:10: VisibleDeprecationWarning: using a non-integer number instead of an integer will result in an error in the future\n",
      "/serveur/logiciels/anaconda3/lib/python3.4/site-packages/ipykernel/__main__.py:11: VisibleDeprecationWarning: using a non-integer number instead of an integer will result in an error in the future\n"
     ]
    }
   ],
   "source": [
    "z = numpy.empty_like(u)\n",
    "\n",
    "#z[1] = u_n[1]/u_n[0]\n",
    "#print(z[1])\n",
    "\n",
    "indx=(12.5/dx)\n",
    "\n",
    "print(u_n[nt-1,0,indx])\n",
    "print(u_n[nt-1,1,indx]/u_n[nt-1,0,indx])\n",
    "print (u[1,indx]/u[0,indx])\n",
    "print((gamma-1)*(u[2,indx]-0.5*u[1,indx]**2/u[0,indx]))\n",
    "#print(u_n[1,indx]/u_n[0,indx])"
   ]
  },
  {
   "cell_type": "code",
   "execution_count": 9,
   "metadata": {
    "collapsed": true
   },
   "outputs": [],
   "source": [
    "def Richtmyer(u, nt, dt, dx, u1, u2, u3):\n",
    "    \"\"\" Calcul la solution avec la méthode de Richtmyer\n",
    "    \n",
    "    Paramètres\n",
    "    ----------\n",
    "    u1    : tableau de floats\n",
    "            Densité au pas de temps correspondant\n",
    "    u2    : tableau de floats\n",
    "            Densité au pas de temps correspondant\n",
    "    u3    : tableau de floats\n",
    "            Densité au pas de temps correspondant\n",
    "    nt     : int\n",
    "            Nombre de pas de temps\n",
    "    dt     : float\n",
    "            Taille des pas de temps\n",
    "    dx     : float\n",
    "            réseau d'espace\n",
    "    \n",
    "    Returns\n",
    "    -------\n",
    "    rho_n : array of floats\n",
    "            Density after nt time steps at every point x\n",
    "    \"\"\"\n",
    "   "
   ]
  },
  {
   "cell_type": "markdown",
   "metadata": {},
   "source": [
    "---\n",
    "##### x. Sources:\n",
    "\n",
    "---"
   ]
  },
  {
   "cell_type": "markdown",
   "metadata": {},
   "source": [
    "---\n",
    "\n",
    "###### The cell below loads the style of the notebook."
   ]
  },
  {
   "cell_type": "code",
   "execution_count": 10,
   "metadata": {
    "collapsed": false
   },
   "outputs": [
    {
     "data": {
      "text/html": [
       "<link href='http://fonts.googleapis.com/css?family=Alegreya+Sans:100,300,400,500,700,800,900,100italic,300italic,400italic,500italic,700italic,800italic,900italic' rel='stylesheet' type='text/css'>\n",
       "<link href='http://fonts.googleapis.com/css?family=Arvo:400,700,400italic' rel='stylesheet' type='text/css'>\n",
       "<link href='http://fonts.googleapis.com/css?family=PT+Mono' rel='stylesheet' type='text/css'>\n",
       "<link href='http://fonts.googleapis.com/css?family=Shadows+Into+Light' rel='stylesheet' type='text/css'>\n",
       "<link href='http://fonts.googleapis.com/css?family=Nixie+One' rel='stylesheet' type='text/css'>\n",
       "<link href='https://fonts.googleapis.com/css?family=Source+Code+Pro' rel='stylesheet' type='text/css'>\n",
       "<style>\n",
       "\n",
       "@font-face {\n",
       "    font-family: \"Computer Modern\";\n",
       "    src: url('http://mirrors.ctan.org/fonts/cm-unicode/fonts/otf/cmunss.otf');\n",
       "}\n",
       "\n",
       "#notebook_panel { /* main background */\n",
       "    background: rgb(245,245,245);\n",
       "}\n",
       "\n",
       "div.cell { /* set cell width */\n",
       "    width: 750px;\n",
       "}\n",
       "\n",
       "div #notebook { /* centre the content */\n",
       "    background: #fff; /* white background for content */\n",
       "    width: 1000px;\n",
       "    margin: auto;\n",
       "    padding-left: 0em;\n",
       "}\n",
       "\n",
       "#notebook li { /* More space between bullet points */\n",
       "    margin-top:0.8em;\n",
       "}\n",
       "\n",
       "/* draw border around running cells */\n",
       "div.cell.border-box-sizing.code_cell.running { \n",
       "    border: 1px solid #111;\n",
       "}\n",
       "\n",
       "/* Put a solid color box around each cell and its output, visually linking them*/\n",
       "div.cell.code_cell {\n",
       "    background-color: rgb(256,256,256); \n",
       "    border-radius: 0px; \n",
       "    padding: 0.5em;\n",
       "    margin-left:1em;\n",
       "    margin-top: 1em;\n",
       "}\n",
       "\n",
       "div.text_cell_render{\n",
       "    font-family: 'Alegreya Sans' sans-serif;\n",
       "    line-height: 140%;\n",
       "    font-size: 125%;\n",
       "    font-weight: 400;\n",
       "    width:600px;\n",
       "    margin-left:auto;\n",
       "    margin-right:auto;\n",
       "}\n",
       "\n",
       "\n",
       "/* Formatting for header cells */\n",
       ".text_cell_render h1 {\n",
       "    font-family: 'Nixie One', serif;\n",
       "    font-style:regular;\n",
       "    font-weight: 400;    \n",
       "    font-size: 45pt;\n",
       "    line-height: 100%;\n",
       "    color: rgb(0,51,102);\n",
       "    margin-bottom: 0.5em;\n",
       "    margin-top: 0.5em;\n",
       "    display: block;\n",
       "}\n",
       "\n",
       ".text_cell_render h2 {\n",
       "    font-family: 'Nixie One', serif;\n",
       "    font-weight: 400;\n",
       "    font-size: 30pt;\n",
       "    line-height: 100%;\n",
       "    color: rgb(0,51,102);\n",
       "    margin-bottom: 0.1em;\n",
       "    margin-top: 0.3em;\n",
       "    display: block;\n",
       "}\t\n",
       "\n",
       ".text_cell_render h3 {\n",
       "    font-family: 'Nixie One', serif;\n",
       "    margin-top:16px;\n",
       "    font-size: 22pt;\n",
       "    font-weight: 600;\n",
       "    margin-bottom: 3px;\n",
       "    font-style: regular;\n",
       "    color: rgb(102,102,0);\n",
       "}\n",
       "\n",
       ".text_cell_render h4 {    /*Use this for captions*/\n",
       "    font-family: 'Nixie One', serif;\n",
       "    font-size: 14pt;\n",
       "    text-align: center;\n",
       "    margin-top: 0em;\n",
       "    margin-bottom: 2em;\n",
       "    font-style: regular;\n",
       "}\n",
       "\n",
       ".text_cell_render h5 {  /*Use this for small titles*/\n",
       "    font-family: 'Nixie One', sans-serif;\n",
       "    font-weight: 400;\n",
       "    font-size: 16pt;\n",
       "    color: rgb(163,0,0);\n",
       "    font-style: italic;\n",
       "    margin-bottom: .1em;\n",
       "    margin-top: 0.8em;\n",
       "    display: block;\n",
       "}\n",
       "\n",
       ".text_cell_render h6 { /*use this for copyright note*/\n",
       "    font-family: 'PT Mono', sans-serif;\n",
       "    font-weight: 300;\n",
       "    font-size: 9pt;\n",
       "    line-height: 100%;\n",
       "    color: grey;\n",
       "    margin-bottom: 1px;\n",
       "    margin-top: 1px;\n",
       "}\n",
       "\n",
       ".CodeMirror{\n",
       "    font-family: \"Source Code Pro\";\n",
       "    font-size: 90%;\n",
       "}\n",
       "\n",
       ".alert-box {\n",
       "    padding:10px 10px 10px 36px;\n",
       "    margin:5px;\n",
       "}\n",
       "\n",
       ".success {\n",
       "    color:#666600;\n",
       "    background:rgb(240,242,229);\n",
       "}\n",
       "</style>\n",
       "<script>\n",
       "    MathJax.Hub.Config({\n",
       "                        TeX: {\n",
       "                           extensions: [\"AMSmath.js\"],\n",
       "                           equationNumbers: { autoNumber: \"AMS\", useLabelIds: true}\n",
       "                           },\n",
       "                tex2jax: {\n",
       "                    inlineMath: [ ['$','$'], [\"\\\\(\",\"\\\\)\"] ],\n",
       "                    displayMath: [ ['$$','$$'], [\"\\\\[\",\"\\\\]\"] ]\n",
       "                },\n",
       "                displayAlign: 'center', // Change this to 'center' to center equations.\n",
       "                \"HTML-CSS\": {\n",
       "                    styles: {'.MathJax_Display': {\"margin\": 4}}\n",
       "                }\n",
       "        });\n",
       "</script>\n"
      ],
      "text/plain": [
       "<IPython.core.display.HTML object>"
      ]
     },
     "execution_count": 10,
     "metadata": {},
     "output_type": "execute_result"
    }
   ],
   "source": [
    "from IPython.core.display import HTML\n",
    "css_file = '../styles/numericalmoocstyle.css'\n",
    "HTML(open(css_file, \"r\").read())"
   ]
  },
  {
   "cell_type": "code",
   "execution_count": null,
   "metadata": {
    "collapsed": true
   },
   "outputs": [],
   "source": []
  }
 ],
 "metadata": {
  "anaconda-cloud": {},
  "kernelspec": {
   "display_name": "Python [Root]",
   "language": "python",
   "name": "Python [Root]"
  },
  "language_info": {
   "codemirror_mode": {
    "name": "ipython",
    "version": 3
   },
   "file_extension": ".py",
   "mimetype": "text/x-python",
   "name": "python",
   "nbconvert_exporter": "python",
   "pygments_lexer": "ipython3",
   "version": "3.4.5"
  }
 },
 "nbformat": 4,
 "nbformat_minor": 0
}
