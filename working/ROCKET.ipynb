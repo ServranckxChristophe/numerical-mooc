{
 "cells": [
  {
   "cell_type": "markdown",
   "metadata": {},
   "source": [
    "#### Résolution du challenge \"Rocket\"."
   ]
  },
  {
   "cell_type": "markdown",
   "metadata": {},
   "source": [
    "Le but ici est d'étudier et de fournir divers données sur la trajectoire de vol d'une fusée, i.e sa vitesse à un instant donné, etc. \n",
    "\n",
    "Pour se faire nous allons, dans un premier temps, étudier les équations de mouvement (1) et (2) de la fusée ainsi que l'équation de variation de la masse de propergol fournies ci-dessus. Ensuite, nous allons utiliser la méthode d'Euler pour calculer et obtenir les divers renseignements recherchés."
   ]
  },
  {
   "cell_type": "markdown",
   "metadata": {},
   "source": [
    "##### 1. Etude des équations du mouvement de la fusée.\n",
    "\n",
    "Commençons par rappeler les équations du mouvement de la fusée. Ces équations sont données par :\n",
    "\n",
    "\\begin{align}\n",
    "\\frac{dh}{dt} &= v\\\\\n",
    "(m_s+m_p) \\frac{dv}{dt}& = -(m_s+m_p)g + \\dot{m}_pv_e - \\frac{1}{2}\\rho v|v|AC_D\n",
    "\\end{align}\n",
    "\n",
    "Ces deux équations sont 2 EDO du premier ordre. Appliquons le raisonnement vu tout au long de ce $1^{er}$ module afin de pouvoir appliquer la méthode d'Euler. Pour se faire, commençons par écrire plus succinctement les dérivées par rapport au temps par des primes et faisons passer le terme $(m_s+m_p)$ du côté droit de l'égalité de l'équation (4), nous obtenons :\n",
    "\n",
    "\\begin{align}\n",
    "h' &= v\\\\\n",
    "v' &= -g + \\frac{v_e}{m_s+m_p}\\dot{m}_p - \\frac{\\rho v|v|AC_D}{2 (m_s+m_p)}\n",
    "\\end{align}\n",
    "\n",
    "\n",
    "Avant de poursuivre, notons que nous pouvons représenter ceci sous forme vectorielle comme nous l'avons vu au cours de ce module. Notre système se représente donc comme suit :\n",
    "$$u'(t) = f(u)$$\n",
    "\n",
    "où\n",
    "\n",
    "\\begin{align}\n",
    "u & = \\begin{pmatrix} h  \\\\ v \\\\\\end{pmatrix} & f(u) & = \\begin{pmatrix} v \\\\ \\frac{v_e}{m_s+m_p}\\dot{m}_p - \\frac{\\rho v|v|AC_D}{2 (m_s+m_p)} - g  \\end{pmatrix}.\n",
    "\\end{align}\n",
    "\n",
    "Cette forme vectorielle présente l'avantage de représenter clairement ce qui devra être coder et comment ceci devra être fait. En effet, ces vecteurs correspondront tout simplement aux colonnes d'un tableau. En outre, f(u) sera une fonction définie et appelée au cours de la méthode d'Euler.  \n",
    "\n",
    "\n",
    "\n",
    "Poursuivons la réécriture de notre système en remplaçant chacune des dérivée temporelle par une forme approximée. Nous aurons ainsi, par exemple, pour h' :\n",
    "\n",
    "\\begin{align}\n",
    "h'(t) \\approx \\frac{h^{n+1}-h^n}{\\Delta t}\n",
    "\\end{align}\n",
    "où n représente la $n^{e}$ valeur dans l'itération temporelle. Nos deux équations deviennent ainsi :\n",
    "\n",
    "\\begin{align}\n",
    "\\frac{h^{n+1}-h^n}{\\Delta t} &= v^n\\\\\n",
    "\\frac{v^{n+1}-v^n}{\\Delta t} &= \\frac{v_e}{m_s+m_p}\\dot{m}_p - \\frac{\\rho v^n|v^n|AC_D}{2 (m_s+m_p)} - g\n",
    "\\end{align}\n",
    "\n",
    "\n",
    "Enfin, dans le but d'évaluer l'état à $t^{n+1}$ (donc pour h par exemple, on veut évaluer l'état $h^{n+1}$), on va évaluer toutes les données de notre système et ce à chaque itération $t^{n}$. Pour cela, il suffit d'isoler l'état n+1 dans chacune de nos équations ce qui nous donne :\n",
    "\n",
    "\n",
    "\\begin{align}\n",
    "h^{n+1} &= {h^n} + \\Delta{t} v^n\\\\\n",
    "v^{n+1} &= {v^n} + \\Delta{t} (\\frac{v_e}{m_s+m_p}\\dot{m}_p - \\frac{\\rho v^n|v^n|AC_D}{2 (m_s+m_p)} - g)\n",
    "\\end{align}\n",
    "\n",
    "Ce qui nous donne finalement un système de deux EDO discrétisées sur lequel on va pouvoir appliqué la méthode d'Euler."
   ]
  },
  {
   "cell_type": "markdown",
   "metadata": {},
   "source": [
    "##### 2. Variation de la quantité de propergol au cours du vol.\n",
    "\n",
    "\n",
    "D'autre part, la masse de $propergol^1$ évolue tout au long de la trajectoire selon:\n",
    "\\begin{align}\n",
    "m_p = m_{po} - \\int^t_0 \\dot{m}_p d\\tau\n",
    "\\end{align}\n",
    "\n",
    "\n",
    "Nous pouvons modifier quelque peu cette dernière équation afin de pouvoir l'utiliser dans notre résolution numérique du problème. En approximant $l'intégrale^{2}$ par une somme pour N très grand, nous avons :\n",
    "\n",
    "$$\\int^t_0 \\dot{m}_p d\\tau \\approx \\sum_{n=0}^N (m_p (t_n) - m_p (t_{n-1}))$$\n",
    "\n",
    "Ainsi, l'équation (3) devient par l'approximation :\n",
    "\n",
    "\\begin{align}\n",
    "→ m_p = m_{po} - \\sum_{n=0}^N (m_p (t_n) - m_p (t_{n-1}))\n",
    "\\end{align}\n",
    "\n",
    "Il ne reste à présent qu'a déterminer la variation de la masse de propergol, $\\dot{m}_p$, tout au long du vol. A partir du  graphique on à immédiatement que :\n",
    "\n",
    "$$\n",
    "\\dot{m}_p = \\left\\{ \n",
    "\\begin{aligned} \n",
    "\\mbox{20  kg $s^{-1}$ si t} \\in \\mbox{ [ } 0,5 ] s\\\\\n",
    "\\mbox{0 kg $s^{-1}$ si t} \\in \\mbox{]} 5,+ \\infty]s\n",
    "\\end{aligned}\n",
    "\\right.\n",
    "$$"
   ]
  },
  {
   "cell_type": "markdown",
   "metadata": {},
   "source": [
    "###### [1] Le propergol est un mélange de comburants (des oxydants) et de combustible (des réducteurs) présents séparément avant la combustion. Le propergol, parfois assimilé aux ergols (il s'agit également d'un mélange comburants-combustible), est utilisé comme carburant dans les systèmes propulsifs à réaction comme les fusées.\n",
    "\n",
    "###### [2] Cette méthode d'approximation a été vue au cours \" Calcul Différentiel et Intégrale \" présenté par monsieur Joel Fine et Denis Bonheur, dans le cadre d'une première approche de la démonstration du \"théorème fondamental de l'analyse\"."
   ]
  },
  {
   "cell_type": "markdown",
   "metadata": {},
   "source": [
    "##### 3. Résolution du problème.\n",
    "\n",
    "\\begin{equation}\n",
    "\\left\\{\n",
    "\\begin{aligned}\n",
    "m_p &= m_{po} - \\sum_{n=0}^N (m_p (t_n) - m_p (t_{n-1}))\\\\\n",
    "h^{n+1} &= {h^n} + \\Delta{t} v\\\\\n",
    "v^{n+1} &= {v^n} + \\Delta{t} (\\frac{v_e}{m_s+m_p}\\dot{m}_p -                   \\frac{\\rho v|v|AC_D}{2 (m_s+m_p)} - g)\\\\\n",
    "\\end{aligned}\n",
    "\\right.\n",
    "\\end{equation}"
   ]
  },
  {
   "cell_type": "code",
   "execution_count": 79,
   "metadata": {
    "collapsed": true
   },
   "outputs": [],
   "source": [
    "import numpy\n",
    "from matplotlib import pyplot\n",
    "%matplotlib inline"
   ]
  },
  {
   "cell_type": "code",
   "execution_count": 80,
   "metadata": {
    "collapsed": true
   },
   "outputs": [],
   "source": [
    "def f(u):\n",
    "    \"\"\"Returns the right-hand side of the phugoid system of equations.\n",
    "    \n",
    "    Parameters\n",
    "    ----------\n",
    "    u : array of float\n",
    "        array containing the solution at time n.\n",
    "        \n",
    "    Returns\n",
    "    -------\n",
    "    dudt : array of float\n",
    "        array containing the RHS given u.\n",
    "    \"\"\"\n",
    "    \n",
    "    h = u[0]\n",
    "    v = u[1]\n",
    "    return numpy.array([v,\n",
    "                ((v_e*m_p_dot)/(m_s+m_p)) - ((rho*v*abs(v)*A*C_D)/(2*(m_s+m_p)))-g])"
   ]
  },
  {
   "cell_type": "code",
   "execution_count": 81,
   "metadata": {
    "collapsed": true
   },
   "outputs": [],
   "source": [
    "def euler_step(u, f, dt):\n",
    "    \"\"\"Returns the solution at the next time-step using Euler's method.\n",
    "    \n",
    "    Parameters\n",
    "    ----------\n",
    "    u : array of float\n",
    "        solution at the previous time-step.\n",
    "    f : function\n",
    "        function to compute the right hand-side of the system of equation.\n",
    "    dt : float\n",
    "        time-increment.\n",
    "    \n",
    "    Returns\n",
    "    -------\n",
    "    u_n_plus_1 : array of float\n",
    "        approximate solution at the next time step.\n",
    "    \"\"\"\n",
    "    \n",
    "    return u + dt * f(u)"
   ]
  },
  {
   "cell_type": "code",
   "execution_count": 82,
   "metadata": {
    "collapsed": true
   },
   "outputs": [],
   "source": [
    "# Paramètres du modèle:\n",
    "\n",
    "m_s = 50.0   # poids de la carcasse de la fusée en kg\n",
    "g  = 9.81    # gravité en m s^{-2}\n",
    "rho = 1.091  # densité moyenne de l'air en kg m^3\n",
    "r  = 0.5     # rayon de la section transversale maximale de la fusée\n",
    "A  = numpy.pi*r**2 # supericie de section transversale maximale de la fusée\n",
    "v_e = 325.0  # vitesse d'échappement en m s\n",
    "C_D = 0.15   # coefficient de traînée\n",
    "m_p0 = 100   # poids initiale (t = 0) de propergol de la fusée\n",
    "\n",
    "# Conditions initiales:\n",
    "\n",
    "v0 = 0       # vitesse initiale de la fusée\n",
    "h0 = 0       # altitude initiale de la fusée"
   ]
  },
  {
   "cell_type": "code",
   "execution_count": 83,
   "metadata": {
    "collapsed": false
   },
   "outputs": [],
   "source": [
    "# Discrétisation du temps\n",
    "\n",
    "T = 50.0\n",
    "dt = 0.1\n",
    "N = int(T/dt)+1\n",
    "t = numpy.linspace(0.0, T, N)\n",
    "\n",
    "\n",
    "u = numpy.empty((N, 2))      # Initialise le tableau de solution pour chaque dt\n",
    "u[0] = numpy.array([h0,v0])  # remplit le 1er élément avec les CI\n",
    "\n",
    "\n",
    "# time loop - Méthode d'Euler\n",
    "for n in range(N-1): \n",
    "    if t[n] < 5 :\n",
    "        m_p_dot = 20\n",
    "        m_p_inst= m_p_dot*t[n]\n",
    "        m_p = m_p0 - m_p_inst\n",
    "        u[n+1] = euler_step(u[n], f, dt)\n",
    "\n",
    "    else :\n",
    "        m_p_dot = 0\n",
    "        m_p = 0\n",
    "        u[n+1] = euler_step(u[n], f, dt)\n",
    "\n",
    "#En prenant u[n+1], on s'assure ainsi de conserver les valeurs ini pour n=0.\n",
    "#On commence ainsi à u[1] (pour n=0) et on termine à u[N] (n=N-1).\n",
    "#En prenant donc comme dernier step N-1 on termine bien avec N step"
   ]
  },
  {
   "cell_type": "code",
   "execution_count": 84,
   "metadata": {
    "collapsed": false
   },
   "outputs": [],
   "source": [
    "g=u[:,0]\n",
    "k=u[:,1]"
   ]
  },
  {
   "cell_type": "code",
   "execution_count": 85,
   "metadata": {
    "collapsed": false
   },
   "outputs": [],
   "source": [
    "# get the index of element of y where altitude becomes negative\n",
    "\n",
    "idx_negative_h = numpy.where(u[:,0]<0.0)[0]  # création d'un liste d'indice correspondant aux valeurs négatives de y\n",
    "if len(idx_negative_h)==0:       # si la liste créer est de longueur nulle alors :\n",
    "    idx_ground_h = N-1           # Alors l'indice \"recherché\" correspond au dernier élément de la liste          \n",
    "else:\n",
    "    idx_ground_h = idx_negative_h[0]    # dans le cas contraire l'indice recherché correspond au premier élément qui compose notre nouvelle liste\n",
    "\n",
    "\n",
    "\n",
    "\n",
    "\n",
    "idx_negative_v = numpy.where(u[:,1]<0.0)[0]  # création d'un liste d'indice correspondant aux valeurs négatives de y\n",
    "if len(idx_negative_v)==0:       # si la liste créer est de longueur nulle alors :\n",
    "    idx_ground_v = N-1           # Alors l'indice \"recherché\" correspond au dernier élément de la liste          \n",
    "else:\n",
    "    idx_ground_v = idx_negative_v[1]    # dans le cas contraire l'indice recherché correspond au premier élément qui compose notre nouvelle liste\n"
   ]
  },
  {
   "cell_type": "code",
   "execution_count": 86,
   "metadata": {
    "collapsed": false
   },
   "outputs": [
    {
     "data": {
      "text/plain": [
       "[<matplotlib.lines.Line2D at 0x7fb4d6f6f898>]"
      ]
     },
     "execution_count": 86,
     "metadata": {},
     "output_type": "execute_result"
    },
    {
     "data": {
      "image/png": "[encoded data removed]",
      "text/plain": [
       "<matplotlib.figure.Figure at 0x7fb4d6c00400>"
      ]
     },
     "metadata": {},
     "output_type": "display_data"
    }
   ],
   "source": [
    "pyplot.figure(figsize=(10,5))\n",
    "pyplot.grid(True) \n",
    "pyplot.xlim(0.0,110) \n",
    "pyplot.xlabel('$t$')\n",
    "pyplot.ylabel('$h$')\n",
    "pyplot.plot(t[:idx_ground_h],g[:idx_ground_h], color='k', ls='-', lw=2)"
   ]
  },
  {
   "cell_type": "code",
   "execution_count": 87,
   "metadata": {
    "collapsed": false
   },
   "outputs": [
    {
     "data": {
      "image/png": "[encoded data removed]",
      "text/plain": [
       "<matplotlib.figure.Figure at 0x7fb4d6cbce80>"
      ]
     },
     "metadata": {},
     "output_type": "display_data"
    }
   ],
   "source": [
    "pyplot.figure(figsize=(10,5))   # initialise la taille du plot (\"l'échelle d'affichage\")\n",
    "pyplot.xlim(0.0,110) \n",
    "pyplot.ylim(-150,250)             # limites du plot de l'axe y\n",
    "pyplot.tick_params(axis='both', labelsize=14) # règle la taille de la police pour les graduations\n",
    "pyplot.xlabel('t', fontsize=14) # nom de l'axe x & taille de la police\n",
    "pyplot.ylabel('v', fontsize=14) # nom de l'axe y & taille de la police\n",
    "pyplot.plot(t, k, 'k-');\n",
    "pyplot.grid(True)"
   ]
  },
  {
   "cell_type": "code",
   "execution_count": 92,
   "metadata": {
    "collapsed": false
   },
   "outputs": [
    {
     "name": "stdout",
     "output_type": "stream",
     "text": [
      "36.0\n"
     ]
    }
   ],
   "source": [
    "#Masse de carburant restant à t= 3,2 s.\n",
    "\n",
    "\n",
    "for n in range(N-1): \n",
    "    if t[n] == 3.2 :\n",
    "        m_p_dot = 20\n",
    "        m_p_inst= m_p_dot*t[n]\n",
    "        m_p = m_p0 - m_p_inst\n",
    "\n",
    "print(m_p)"
   ]
  },
  {
   "cell_type": "code",
   "execution_count": 89,
   "metadata": {
    "collapsed": false
   },
   "outputs": [
    {
     "name": "stdout",
     "output_type": "stream",
     "text": [
      "Altitude maximale atteinte par la fusée :\n",
      "1334.18294543\n",
      "232.106133413\n"
     ]
    }
   ],
   "source": [
    "# Vitesse et altitude maximale atteinte en vol. \n",
    "\n",
    "h_max = max(g[:idx_ground_h])\n",
    "v_max = max(k)\n",
    "\n",
    "print(\"Altitude maximale atteinte par la fusée :\")\n",
    "print(h_max)\n",
    "print(v_max)\n"
   ]
  },
  {
   "cell_type": "code",
   "execution_count": 90,
   "metadata": {
    "collapsed": false
   },
   "outputs": [
    {
     "name": "stdout",
     "output_type": "stream",
     "text": [
      "1334.18294543\n",
      "15.7\n"
     ]
    }
   ],
   "source": [
    "# Temps correspond à l'altitude maximale atteinte par la fusée.\n",
    "\n",
    "hm=0\n",
    "t_max_h=0\n",
    "for n in range (N-1):\n",
    "    if g[n] > hm :\n",
    "        hm = g[n]\n",
    "        t_max_h = t[n]\n",
    "print(hm)\n",
    "print(t_max_h)\n",
    "\n",
    "        "
   ]
  },
  {
   "cell_type": "code",
   "execution_count": 91,
   "metadata": {
    "collapsed": false
   },
   "outputs": [
    {
     "name": "stdout",
     "output_type": "stream",
     "text": [
      "232.106133413\n",
      "523.522834292\n",
      "5.0\n"
     ]
    }
   ],
   "source": [
    "# Temps correspond à la vitesse maximale.\n",
    "\n",
    "vm=0\n",
    "h_vmax=0\n",
    "for n in range (N-1):\n",
    "    if k[n] > vm:\n",
    "        vm = k[n]\n",
    "        h_vmax = g[n]\n",
    "        \n",
    "        t_max = t[n]\n",
    "        \n",
    "print(vm)\n",
    "print(h_vmax)\n",
    "print(t_max)\n",
    "\n"
   ]
  },
  {
   "cell_type": "code",
   "execution_count": null,
   "metadata": {
    "collapsed": true
   },
   "outputs": [],
   "source": []
  },
  {
   "cell_type": "markdown",
   "metadata": {},
   "source": [
    "---\n",
    "\n",
    "###### The cell below loads the style of the notebook."
   ]
  },
  {
   "cell_type": "code",
   "execution_count": 12,
   "metadata": {
    "collapsed": false
   },
   "outputs": [
    {
     "data": {
      "text/html": [
       "<link href='http://fonts.googleapis.com/css?family=Alegreya+Sans:100,300,400,500,700,800,900,100italic,300italic,400italic,500italic,700italic,800italic,900italic' rel='stylesheet' type='text/css'>\n",
       "<link href='http://fonts.googleapis.com/css?family=Arvo:400,700,400italic' rel='stylesheet' type='text/css'>\n",
       "<link href='http://fonts.googleapis.com/css?family=PT+Mono' rel='stylesheet' type='text/css'>\n",
       "<link href='http://fonts.googleapis.com/css?family=Shadows+Into+Light' rel='stylesheet' type='text/css'>\n",
       "<link href='http://fonts.googleapis.com/css?family=Nixie+One' rel='stylesheet' type='text/css'>\n",
       "<link href='https://fonts.googleapis.com/css?family=Source+Code+Pro' rel='stylesheet' type='text/css'>\n",
       "<style>\n",
       "\n",
       "@font-face {\n",
       "    font-family: \"Computer Modern\";\n",
       "    src: url('http://mirrors.ctan.org/fonts/cm-unicode/fonts/otf/cmunss.otf');\n",
       "}\n",
       "\n",
       "#notebook_panel { /* main background */\n",
       "    background: rgb(245,245,245);\n",
       "}\n",
       "\n",
       "div.cell { /* set cell width */\n",
       "    width: 750px;\n",
       "}\n",
       "\n",
       "div #notebook { /* centre the content */\n",
       "    background: #fff; /* white background for content */\n",
       "    width: 1000px;\n",
       "    margin: auto;\n",
       "    padding-left: 0em;\n",
       "}\n",
       "\n",
       "#notebook li { /* More space between bullet points */\n",
       "    margin-top:0.8em;\n",
       "}\n",
       "\n",
       "/* draw border around running cells */\n",
       "div.cell.border-box-sizing.code_cell.running { \n",
       "    border: 1px solid #111;\n",
       "}\n",
       "\n",
       "/* Put a solid color box around each cell and its output, visually linking them*/\n",
       "div.cell.code_cell {\n",
       "    background-color: rgb(256,256,256); \n",
       "    border-radius: 0px; \n",
       "    padding: 0.5em;\n",
       "    margin-left:1em;\n",
       "    margin-top: 1em;\n",
       "}\n",
       "\n",
       "div.text_cell_render{\n",
       "    font-family: 'Alegreya Sans' sans-serif;\n",
       "    line-height: 140%;\n",
       "    font-size: 125%;\n",
       "    font-weight: 400;\n",
       "    width:600px;\n",
       "    margin-left:auto;\n",
       "    margin-right:auto;\n",
       "}\n",
       "\n",
       "\n",
       "/* Formatting for header cells */\n",
       ".text_cell_render h1 {\n",
       "    font-family: 'Nixie One', serif;\n",
       "    font-style:regular;\n",
       "    font-weight: 400;    \n",
       "    font-size: 45pt;\n",
       "    line-height: 100%;\n",
       "    color: rgb(0,51,102);\n",
       "    margin-bottom: 0.5em;\n",
       "    margin-top: 0.5em;\n",
       "    display: block;\n",
       "}\n",
       "\n",
       ".text_cell_render h2 {\n",
       "    font-family: 'Nixie One', serif;\n",
       "    font-weight: 400;\n",
       "    font-size: 30pt;\n",
       "    line-height: 100%;\n",
       "    color: rgb(0,51,102);\n",
       "    margin-bottom: 0.1em;\n",
       "    margin-top: 0.3em;\n",
       "    display: block;\n",
       "}\t\n",
       "\n",
       ".text_cell_render h3 {\n",
       "    font-family: 'Nixie One', serif;\n",
       "    margin-top:16px;\n",
       "    font-size: 22pt;\n",
       "    font-weight: 600;\n",
       "    margin-bottom: 3px;\n",
       "    font-style: regular;\n",
       "    color: rgb(102,102,0);\n",
       "}\n",
       "\n",
       ".text_cell_render h4 {    /*Use this for captions*/\n",
       "    font-family: 'Nixie One', serif;\n",
       "    font-size: 14pt;\n",
       "    text-align: center;\n",
       "    margin-top: 0em;\n",
       "    margin-bottom: 2em;\n",
       "    font-style: regular;\n",
       "}\n",
       "\n",
       ".text_cell_render h5 {  /*Use this for small titles*/\n",
       "    font-family: 'Nixie One', sans-serif;\n",
       "    font-weight: 400;\n",
       "    font-size: 16pt;\n",
       "    color: rgb(163,0,0);\n",
       "    font-style: italic;\n",
       "    margin-bottom: .1em;\n",
       "    margin-top: 0.8em;\n",
       "    display: block;\n",
       "}\n",
       "\n",
       ".text_cell_render h6 { /*use this for copyright note*/\n",
       "    font-family: 'PT Mono', sans-serif;\n",
       "    font-weight: 300;\n",
       "    font-size: 9pt;\n",
       "    line-height: 100%;\n",
       "    color: grey;\n",
       "    margin-bottom: 1px;\n",
       "    margin-top: 1px;\n",
       "}\n",
       "\n",
       ".CodeMirror{\n",
       "    font-family: \"Source Code Pro\";\n",
       "    font-size: 90%;\n",
       "}\n",
       "\n",
       ".alert-box {\n",
       "    padding:10px 10px 10px 36px;\n",
       "    margin:5px;\n",
       "}\n",
       "\n",
       ".success {\n",
       "    color:#666600;\n",
       "    background:rgb(240,242,229);\n",
       "}\n",
       "</style>\n",
       "<script>\n",
       "    MathJax.Hub.Config({\n",
       "                        TeX: {\n",
       "                           extensions: [\"AMSmath.js\"],\n",
       "                           equationNumbers: { autoNumber: \"AMS\", useLabelIds: true}\n",
       "                           },\n",
       "                tex2jax: {\n",
       "                    inlineMath: [ ['$','$'], [\"\\\\(\",\"\\\\)\"] ],\n",
       "                    displayMath: [ ['$$','$$'], [\"\\\\[\",\"\\\\]\"] ]\n",
       "                },\n",
       "                displayAlign: 'center', // Change this to 'center' to center equations.\n",
       "                \"HTML-CSS\": {\n",
       "                    styles: {'.MathJax_Display': {\"margin\": 4}}\n",
       "                }\n",
       "        });\n",
       "</script>\n"
      ],
      "text/plain": [
       "<IPython.core.display.HTML object>"
      ]
     },
     "execution_count": 12,
     "metadata": {},
     "output_type": "execute_result"
    }
   ],
   "source": [
    "from IPython.core.display import HTML\n",
    "css_file = '../styles/numericalmoocstyle.css'\n",
    "HTML(open(css_file, \"r\").read())"
   ]
  },
  {
   "cell_type": "code",
   "execution_count": null,
   "metadata": {
    "collapsed": true
   },
   "outputs": [],
   "source": []
  }
 ],
 "metadata": {
  "anaconda-cloud": {},
  "kernelspec": {
   "display_name": "Python [Root]",
   "language": "python",
   "name": "Python [Root]"
  },
  "language_info": {
   "codemirror_mode": {
    "name": "ipython",
    "version": 3
   },
   "file_extension": ".py",
   "mimetype": "text/x-python",
   "name": "python",
   "nbconvert_exporter": "python",
   "pygments_lexer": "ipython3",
   "version": "3.4.5"
  }
 },
 "nbformat": 4,
 "nbformat_minor": 0
}
